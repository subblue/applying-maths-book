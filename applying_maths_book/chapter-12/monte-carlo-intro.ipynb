{
 "cells": [
  {
   "cell_type": "markdown",
   "id": "3dc779b6",
   "metadata": {},
   "source": [
    "# 12. Monte Carlo Methods"
   ]
  },
  {
   "cell_type": "markdown",
   "id": "98e61757",
   "metadata": {},
   "source": [
    "Numerically solving integrals or differential equations using a Monte Carlo method is done by repeatedly guessing the random values of one or more variables, for example, $x$ in $f(x)$ and assessing the result against some criteria. This method differs from other numerical calculations, which proceed by smoothly varying $x$ from start to finish. Although a Monte Carlo method uses random or 'stochastic' values, this is always done according to some algebraic formula or algorithm. However, whatever the exact method used, efficient or not, the final answer is only achieved after averaging many guesses and is therefore only an approximation to the true value.\n",
    "\n",
    "The Monte Carlo methods fall into two broad areas; the first is the use of random numbers with a formula to perform integrations or solve differential equations; the second is the use of random numbers to *simulate* physical processes at an elementary or molecular level, usually because these processes are too difficult to solve in any other way."
   ]
  }
 ],
 "metadata": {
  "kernelspec": {
   "display_name": "Python 3 (ipykernel)",
   "language": "python",
   "name": "python3"
  },
  "language_info": {
   "codemirror_mode": {
    "name": "ipython",
    "version": 3
   },
   "file_extension": ".py",
   "mimetype": "text/x-python",
   "name": "python",
   "nbconvert_exporter": "python",
   "pygments_lexer": "ipython3",
   "version": "3.9.6"
  }
 },
 "nbformat": 4,
 "nbformat_minor": 5
}
