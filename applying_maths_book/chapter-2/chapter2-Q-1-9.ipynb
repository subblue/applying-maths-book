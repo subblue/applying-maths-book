{
 "cells": [
  {
   "cell_type": "markdown",
   "metadata": {},
   "source": [
    "# Questions 1 - 9"
   ]
  },
  {
   "cell_type": "markdown",
   "metadata": {},
   "source": [
    "These questions examine various properties of complex numbers.\n",
    "\n",
    "## Q1  \n",
    "If $z_1 =2+i$  and $z_2 =-1-3i/2$\n",
    "calculate\n",
    "(a) $z_1 + z_2$ \n",
    "(b) $z_1 - z_2$  \n",
    "(c) $-iz_1z_2$\n",
    "\n",
    "## Q2\n",
    "(a) If $i^2=-1$, what are $i^3,\\;i^4,\\;i^5$, and $i^6$?\n",
    "\n",
    "(b) What relationship links positive powers of i?\n",
    "\n",
    "## Q3\n",
    "If $z = a - ib$ what is $i^3z$?\n",
    "\n",
    "## Q4\n",
    "If $z=3+4i$ find $z^2$ and the modulus and argument of $z^2$.\n",
    "\n",
    "## Q5\n",
    "Calculate $z = (2 - 5i)(3 + i) + 3i$, and find the modulus and argument of the result.\n",
    "\n",
    "## Q6\n",
    "Express the number $\\displaystyle \\frac{5 - i}{2-3i}$ in the form $z = a + bi$ and find its modulus and argument.\n",
    "\n",
    "## Q7\n",
    "Simplify $z = (2 - 5i)(3 + i)/(3 - i)$ and find the modulus and argument of the result.\n",
    "\n",
    "## Q8\n",
    "Find the modulus and argument of\n",
    "\n",
    "(a) $\\cos(\\theta) - i \\sin(\\theta)$, \n",
    "   \n",
    "(b) $1-i\\tan(\\theta)$, where $0 \\lt \\theta \\lt \\pi/2$ in both cases.\n",
    "\n",
    "## Q9\n",
    "If $w=z^2$ and $z=x+iy$ and $w=u+it$, find $u$ and $t$."
   ]
  },
  {
   "cell_type": "code",
   "execution_count": null,
   "metadata": {},
   "outputs": [],
   "source": []
  }
 ],
 "metadata": {
  "kernelspec": {
   "display_name": "Python 3 (ipykernel)",
   "language": "python",
   "name": "python3"
  },
  "language_info": {
   "codemirror_mode": {
    "name": "ipython",
    "version": 3
   },
   "file_extension": ".py",
   "mimetype": "text/x-python",
   "name": "python",
   "nbconvert_exporter": "python",
   "pygments_lexer": "ipython3",
   "version": "3.9.12"
  }
 },
 "nbformat": 4,
 "nbformat_minor": 2
}
