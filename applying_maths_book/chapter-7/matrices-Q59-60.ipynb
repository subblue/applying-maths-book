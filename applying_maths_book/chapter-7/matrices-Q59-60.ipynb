{
 "cells": [
  {
   "cell_type": "markdown",
   "metadata": {},
   "source": [
    "# Questions 59 - 62"
   ]
  },
  {
   "cell_type": "markdown",
   "metadata": {},
   "source": [
    "## Q59 XeF$_4$ moments of inertia.\n",
    "Calculate the moments of inertia of the planar molecule XeF$_4$ \n",
    "\n",
    "(a) about the C$_4$ symmetry axis and \n",
    "\n",
    "(b) about a diagonal and also about an edge. \n",
    "\n",
    "Assume each bond length is $2 \\unicode{x212B}$ .\n",
    "\n",
    "![Drawing](matrices-fig67.png)\n",
    "\n",
    "Figure 67 XeF$_4$ and two rotation axes.\n",
    "______\n",
    "\n",
    "## Q60 Loop of wire\n",
    "A circular loop of wire is formed by n rigidly connected masses with radius $R$ of total mass $M$. Explain the different values obtained for the moment of inertia,\n",
    "\n",
    "(a) About an axis z, through the centre of the loop, \n",
    "\n",
    "(b) about a diameter,\n",
    "\n",
    "(c)  About an edge and parallel to $z$.\n",
    "\n",
    "The difference in moments of inertia, is illustrated in Figure 68, and in the right-hand diagram where the loop rotates about an edge.\n",
    "\n",
    "**Strategy:** For a planar body to simplify the calculation, use the perpendicular axes theorem $I_z = I_x + I_y$ and by symmetry $I_x = I_y$.\n",
    "\n",
    "![Drawing](matrices-fig68.png)\n",
    "\n",
    "Figure 68 Rotation of a loop about different axes.\n"
   ]
  },
  {
   "cell_type": "code",
   "execution_count": null,
   "metadata": {},
   "outputs": [],
   "source": []
  }
 ],
 "metadata": {
  "kernelspec": {
   "display_name": "Python 3 (ipykernel)",
   "language": "python",
   "name": "python3"
  },
  "language_info": {
   "codemirror_mode": {
    "name": "ipython",
    "version": 3
   },
   "file_extension": ".py",
   "mimetype": "text/x-python",
   "name": "python",
   "nbconvert_exporter": "python",
   "pygments_lexer": "ipython3",
   "version": "3.9.6"
  }
 },
 "nbformat": 4,
 "nbformat_minor": 2
}
