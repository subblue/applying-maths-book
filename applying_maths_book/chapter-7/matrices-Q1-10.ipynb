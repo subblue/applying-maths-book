{
 "cells": [
  {
   "cell_type": "markdown",
   "metadata": {},
   "source": [
    "# Questions  1 - 10"
   ]
  },
  {
   "cell_type": "markdown",
   "metadata": {},
   "source": [
    "## Q1 Lorenz determinant\n",
    "Evaluate the Lorentz determinant $\\displaystyle \\;d\\begin{vmatrix} 1 & -v \\\\ \\displaystyle -\\frac{v}{c} & 1 \\\\ \\end{vmatrix}$  \n",
    "\n",
    "where $c$ is the speed of light and $v$ the velocity of a body and $d=c/\\sqrt{c^2-v^2}$.\n",
    "\n",
    "## Q2 Zero determinant\n",
    "Show that $\\displaystyle \\qquad \\begin{vmatrix} 0 & y & z \\\\ x & 0 &-z \\\\x & y & 0 \\end{vmatrix}=0$\n",
    "\n",
    "## Q3 Characteristic polynomial\n",
    "Determine the characteristic polynomial of $\\displaystyle \\quad \\begin{vmatrix} x & a & b \\\\ a & x & b \\\\a & b & x \\end{vmatrix}\\quad$ and solve it for $x$.\n",
    "\n",
    "## Q4 Cofactor\n",
    "Calculate the cofactor of the $(2, 3)$ element of $\\displaystyle \\quad \\begin{vmatrix} a & b & x \\\\ c & d & 1 \\\\e & f & y \\end{vmatrix}$.\n",
    "\n",
    "## Q5 Zero determinant\n",
    "(a) Use Python to calculate the determinant of the first $16$ numbers starting at $1$. Explain why the determinant is zero. Construct the matrix explicitly then repeat the calculation using a procedure containing two 'for'  loops\n",
    "\n",
    "(b) Change the matrix, using your procedure, to calculate the determinant of the cube of each of the first $49$ numbers starting at $1$.\n",
    "\n",
    "**Strategy:** Use the Python method in the text to define a matrix. In part (a) the matrix is small enough to be written by hand. In (b) we could also do this by hand but it is easier to use two loops, one for rows the other for columns which enables us to make a matrix of any size.\n",
    "\n",
    "## Q6 Prime number determinant\n",
    "Calculate the determinant of the first sixteen _prime_ numbers.\n",
    "\n",
    "**Strategy:** Find out how to calculate the prime numbers. The rest of the calculation is essentially the same as  previous questions.\n",
    "\n",
    "## Q7 Linear polyene\n",
    "In a linear polyene, the only interactions lie on the diagonal and 1 element to the right or left of this, a tri-diagonal form, but in the cyclic polyenes the first atom has to interact with the last in the ring, atom $1$ with atom $6$ in benzene for example. Modify Algorithm 1 and construct the Huckel matrix for any cyclic polyene.\n",
    "\n",
    "(a) Calculate the MO energies for benzene and cyclo-octatetraene assuming that $x=(\\alpha-E)/\\beta$.\n",
    "\n",
    "(b) Sketch and label the energy levels.\n",
    "\n",
    "**Strategy:** Work out what it means to form a ring by adding extra matrix elements to the Huckel MO matrix.\n",
    "\n",
    "\n",
    "## Q8 Fulvalene, azulene and naphthalene energies.\n",
    "\n",
    "Fulvalene, azulene and naphthalene have the structure \n",
    "\n",
    "![Drawing](matrices-fulvalene.png)\n",
    "\n",
    "**(a)** For fulvalene Write down the Huckel matrix in terms of $x$ and calculate the energies. Recall that only adjacent atoms are connected in the matrix. What is the stabilization energy on forming $\\pi$ bonds and is this molecule more or less stable than benzene? In the structure the right-hand most carbon is labelled as number one.\n",
    "\n",
    "**(b)** Azulene, a structural isomer of naphthalene is blue, naphthalene is not. Show that a Huckel MO calculation is consistent with this observation. \n",
    "\n",
    "**Strategy:** The only difference here compared to previous calculations is that the atoms are joined in a different order. The matrix elements corresponding to these atoms must each contain $1$.\n",
    "\n",
    "## Q9 Na$_3$\n",
    "\n",
    "The molecule Na$_3$ exists as a covalently bound molecule in the vapour phase and its spectroscopy has been studied.\n",
    "\n",
    "(a) Using Huckel theory, work out if the linear or triangular arrangement of atoms is the most stable.\n",
    "\n",
    "(b) which arrangement of atoms is most stable in Na$_3^+$?\n",
    "\n",
    "(c) Calculate the energy, as the bond is opened from a triangular to straight form, assuming a very crude model in which the overlap on the outside two atoms varies as $\\beta e^{-r/d}$ where $r$ is their separation assuming that the bond length is $d$. The overlap $\\beta$ accounts for the interaction at the normal bond length, and the exponential describes just how the overlap decreases as the atoms separate.\n",
    "\n",
    "**Strategy:** The molecule has three s electrons that can become involved in bonding. The reference energy, without forming an MO, is the self-energy $\\alpha$ of the three electrons. In (c) the $\\beta$ is changed due to the separation of two of the atoms as they move round in a circle from the bent to straight form. Use the cosine rule to work out how the distance $r$ varies with bond angle $\\theta$. It is not obvious which energy levels are lowest, so plot all three to determine this and then calculate the total energy. Use values $\\alpha = 0;\\; \\beta = -1$ to observe the trend with bond angle. The value of $\\alpha$ does not matter, because every energy contains a term $+\\alpha$. The value of $\\beta$ should be negative; the exact value does not matter as only trends are sought in this crude model.\n",
    "\n",
    "## Q10 Polyene energy recursion formula\n",
    "\n",
    "(a) Show that the characteristic equation for the Huckel energy of the nth linear polyene's molecular orbitals can be written as the recursion formula $f_n(x) = xf_{n-1}(x) - f_{n-2}(x)$ where $f_{n-1}$ is the equation for the $(n - 1)^{th}$ polyene. The $n^{th}$ polyene has a characteristic equation found evaluating the $n \\times n$ determinant\n",
    "\n",
    "$$\\displaystyle f_n(x)=\\begin{vmatrix} x & 1 & 0 & \\\\ 1 & x & 1 & \\\\ 0 & 1 &\\ddots & \\cdots\\\\ & &  \\vdots & \\ddots \\end{vmatrix} $$\n",
    "\n",
    "and when $n = 1$, corresponding to a single carbon atom, let $f_1(x) = x$.\n",
    "\n",
    "**Strategy:** A recursive function is one that depends upon previous functions of the same type, and by knowing only a few initial values, perhaps only one or two, all the others can be determined. Many types of polynomials, such as Hermites, can be defined recursively; see Chapter 1. It is necessary, therefore, to work out a few examples, in this case two initial values, and then by induction find a formula relating $f_n$ to $f_{n-1}$ and $f_{n-2}$ from which all the remaining formulae can be obtained. The subscript $n$ indicates the index of the function.\n",
    "\n",
    "![Drawing](matrices-fig6.png)\n",
    "\n",
    "Figure 6. Linear polyenes"
   ]
  },
  {
   "cell_type": "code",
   "execution_count": null,
   "metadata": {},
   "outputs": [],
   "source": []
  }
 ],
 "metadata": {
  "kernelspec": {
   "display_name": "Python 3 (ipykernel)",
   "language": "python",
   "name": "python3"
  },
  "language_info": {
   "codemirror_mode": {
    "name": "ipython",
    "version": 3
   },
   "file_extension": ".py",
   "mimetype": "text/x-python",
   "name": "python",
   "nbconvert_exporter": "python",
   "pygments_lexer": "ipython3",
   "version": "3.9.6"
  }
 },
 "nbformat": 4,
 "nbformat_minor": 2
}
