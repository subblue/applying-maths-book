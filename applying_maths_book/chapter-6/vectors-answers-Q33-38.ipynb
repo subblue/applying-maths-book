{
 "cells": [
  {
   "cell_type": "markdown",
   "metadata": {},
   "source": [
    "## Solutions Q33 - 38"
   ]
  },
  {
   "cell_type": "code",
   "execution_count": 1,
   "metadata": {},
   "outputs": [],
   "source": [
    "# import all python add-ons etc that will be needed later on\n",
    "%matplotlib inline\n",
    "import numpy as np\n",
    "import matplotlib.pyplot as plt\n",
    "from sympy import *\n",
    "init_printing()                      # allows printing of SymPy results in typeset maths format\n",
    "plt.rcParams.update({'font.size': 16})  # set font size for plots"
   ]
  },
  {
   "cell_type": "markdown",
   "metadata": {},
   "source": [
    "### Q33 answer\n",
    "It turns out that the determinant is the product of the diagonal terms only because of the position of the zeros. Consequently, only two multiplications are needed. Python/Sympy gives:"
   ]
  },
  {
   "cell_type": "code",
   "execution_count": 2,
   "metadata": {},
   "outputs": [
    {
     "data": {
      "text/latex": [
       "$\\displaystyle \\left[\\begin{matrix}a & 0 & 0\\\\b \\cos{\\left(\\gamma \\right)} & b \\sin{\\left(\\gamma \\right)} & 0\\\\c \\cos{\\left(\\beta \\right)} & \\frac{c \\left(\\cos{\\left(\\alpha \\right)} - \\cos{\\left(\\beta \\right)} \\cos{\\left(\\gamma \\right)}\\right)}{\\sin{\\left(\\gamma \\right)}} & c \\sqrt{- \\frac{\\left(\\cos{\\left(\\alpha \\right)} - \\cos{\\left(\\beta \\right)} \\cos{\\left(\\gamma \\right)}\\right)^{2}}{\\sin^{2}{\\left(\\gamma \\right)}} + \\sin^{2}{\\left(\\beta \\right)}}\\end{matrix}\\right]$"
      ],
      "text/plain": [
       "⎡   a                  0                                      0               \n",
       "⎢                                                                             \n",
       "⎢b⋅cos(γ)           b⋅sin(γ)                                  0               \n",
       "⎢                                                                             \n",
       "⎢                                              _______________________________\n",
       "⎢                                             ╱                           2   \n",
       "⎢          c⋅(cos(α) - cos(β)⋅cos(γ))        ╱    (cos(α) - cos(β)⋅cos(γ))    \n",
       "⎢c⋅cos(β)  ──────────────────────────  c⋅   ╱   - ───────────────────────── + \n",
       "⎢                    sin(γ)                ╱                  2               \n",
       "⎣                                        ╲╱                sin (γ)            \n",
       "\n",
       "        ⎤\n",
       "        ⎥\n",
       "        ⎥\n",
       "        ⎥\n",
       "________⎥\n",
       "        ⎥\n",
       "   2    ⎥\n",
       "sin (β) ⎥\n",
       "        ⎥\n",
       "        ⎦"
      ]
     },
     "execution_count": 2,
     "metadata": {},
     "output_type": "execute_result"
    }
   ],
   "source": [
    "alpha,beta,gamma,a,b,c=symbols('alpha,beta,gamma,a,b,c')\n",
    "\n",
    "n2=(cos(alpha)-cos(gamma)*cos(beta))/sin(gamma)\n",
    "M = Matrix([[a,0,0],[b*cos(gamma),b*sin(gamma),0],[c*cos(beta),c*n2,c*sqrt(sin(beta)**2-n2**2)]])\n",
    "M"
   ]
  },
  {
   "cell_type": "code",
   "execution_count": 3,
   "metadata": {},
   "outputs": [
    {
     "data": {
      "image/png": "[encoded data removed]",
      "text/latex": [
       "$\\displaystyle a b c \\sqrt{\\sin^{2}{\\left(\\beta \\right)} - \\frac{\\cos^{2}{\\left(\\alpha \\right)}}{\\sin^{2}{\\left(\\gamma \\right)}} + \\frac{2 \\cos{\\left(\\alpha \\right)} \\cos{\\left(\\beta \\right)} \\cos{\\left(\\gamma \\right)}}{\\sin^{2}{\\left(\\gamma \\right)}} - \\frac{\\cos^{2}{\\left(\\beta \\right)} \\cos^{2}{\\left(\\gamma \\right)}}{\\sin^{2}{\\left(\\gamma \\right)}}} \\sin{\\left(\\gamma \\right)}$"
      ],
      "text/plain": [
       "            ______________________________________________________________    \n",
       "           ╱              2                                  2       2        \n",
       "          ╱     2      cos (α)   2⋅cos(α)⋅cos(β)⋅cos(γ)   cos (β)⋅cos (γ)     \n",
       "a⋅b⋅c⋅   ╱   sin (β) - ─────── + ────────────────────── - ─────────────── ⋅sin\n",
       "        ╱                 2                2                     2            \n",
       "      ╲╱               sin (γ)          sin (γ)               sin (γ)         \n",
       "\n",
       "   \n",
       "   \n",
       "   \n",
       "(γ)\n",
       "   \n",
       "   "
      ]
     },
     "execution_count": 3,
     "metadata": {},
     "output_type": "execute_result"
    }
   ],
   "source": [
    "M.det() "
   ]
  },
  {
   "cell_type": "markdown",
   "metadata": {},
   "source": [
    "This last equation can be simplified further by cancelling the sine terms to give the simpler form\n",
    "\n",
    "$$\\displaystyle V = abc\\sqrt{1 - \\cos^2(\\beta)(1+ \\cos^2(\\gamma)) - \\cos^2(\\alpha) + 2\\cos(\\alpha) \\cos(\\beta) \\cos(\\gamma) }$$\n",
    "\n",
    "### Q34 answer\n",
    "$n_2$ is zero when $\\cos(\\alpha) - \\cos(\\gamma)\\cos(\\beta) = 0$ which occurs when $\\alpha = \\beta = \\pi/2$ or $\\alpha=\\gamma =\\pi/2$, which occurs in a monoclinic crystal, or when all three angles are $90^\\text{o}$ as in cubic, tetragonal, or orthorhombic crystals.\n",
    "\n",
    "\n",
    "### Q35 answer\n",
    "Equation 21 is simplified when $\\alpha=\\gamma=\\pi/2$ because the cosines of these angles are zero; therefore, \n",
    "\n",
    "$$\\displaystyle v^2 = v_1^2a^2 + v_2^2b^2 + v_3^2c^2 + 2v_1v_3ac \\cos(\\beta)$$\n",
    "\n",
    "where $v_1, v_2, v_3$ are the normalized components of the bond vector along the $\\vec a, \\vec b, \\vec c$ vectors respectively, and these define the unit cell axes whose lengths are $a, b, c$. The bond length is the positive square root of $v^2$.\n",
    "\n",
    "Converting to $xyz$ axes gives,\n",
    "\n",
    "$$\\displaystyle \\begin{bmatrix}v_1&v_2&v_3\\end{bmatrix}\\begin{bmatrix}a&0&0\\\\ 0&b&0\\\\c\\cos(\\beta)& 0 & c\\sin(\\beta)\\end{bmatrix}$$\n",
    "\n",
    "which by matrix multiplication is\n",
    "\n",
    "$$\\displaystyle \\vec d=\\begin{bmatrix}v_1a+v_3c\\cos(\\beta)& v_2b& v_3c\\sin(\\beta)\\end{bmatrix}$$\n",
    "\n",
    "The dot product is the square of the bond length and is $\\vec d\\cdot\\vec d $. Using Sympy to do the algebra "
   ]
  },
  {
   "cell_type": "code",
   "execution_count": 4,
   "metadata": {},
   "outputs": [],
   "source": [
    "alpha,beta,gamma,a,b,c,v1,v2,v3 = symbols('alpha,beta,gamma,a,b,c,v1,v2,v3')\n",
    "v  = Matrix([[v1,v2,v3]])\n",
    "M  = Matrix( [ [a,0,0],[0,b,0],[ c*cos(beta),0,c*sin(beta)] ] )"
   ]
  },
  {
   "cell_type": "code",
   "execution_count": 5,
   "metadata": {},
   "outputs": [
    {
     "data": {
      "text/latex": [
       "$\\displaystyle \\left[\\begin{matrix}a v_{1} + c v_{3} \\cos{\\left(\\beta \\right)} & b v_{2} & c v_{3} \\sin{\\left(\\beta \\right)}\\end{matrix}\\right]$"
      ],
      "text/plain": [
       "[a⋅v₁ + c⋅v₃⋅cos(β)  b⋅v₂  c⋅v₃⋅sin(β)]"
      ]
     },
     "execution_count": 5,
     "metadata": {},
     "output_type": "execute_result"
    }
   ],
   "source": [
    "d = v*M  # matrix multiply in Sympy is *\n",
    "d"
   ]
  },
  {
   "cell_type": "code",
   "execution_count": 6,
   "metadata": {},
   "outputs": [],
   "source": [
    "lensqrd = d*d.T  # .T is transpose to get row column multiplication"
   ]
  },
  {
   "cell_type": "code",
   "execution_count": 7,
   "metadata": {},
   "outputs": [
    {
     "data": {
      "text/latex": [
       "$\\displaystyle \\left[\\begin{matrix}a^{2} v_{1}^{2} + 2 a c v_{1} v_{3} \\cos{\\left(\\beta \\right)} + b^{2} v_{2}^{2} + c^{2} v_{3}^{2}\\end{matrix}\\right]$"
      ],
      "text/plain": [
       "⎡ 2   2                         2   2    2   2⎤\n",
       "⎣a ⋅v₁  + 2⋅a⋅c⋅v₁⋅v₃⋅cos(β) + b ⋅v₂  + c ⋅v₃ ⎦"
      ]
     },
     "execution_count": 7,
     "metadata": {},
     "output_type": "execute_result"
    }
   ],
   "source": [
    "simplify(expand(lensqrd))"
   ]
  },
  {
   "cell_type": "markdown",
   "metadata": {},
   "source": [
    "which is the same as equation 21 when $\\alpha=\\gamma=\\pi/2$.\n",
    "\n",
    "### Q36 answer\n",
    "(a) A simple basis set for the cubic ($a=b=c$) crystal (or orthorhombic $a\\ne b\\ne c$ or tetragonal ($a=b\\ne c$) ) is \n",
    "\n",
    "$$\\begin{bmatrix}a&0&0\\end{bmatrix}, \\begin{bmatrix} 0 & b & 0 \\end{bmatrix}, \\begin{bmatrix} 0 & 0 &c\\end{bmatrix}$$\n",
    "\n",
    "such that any point is a multiple of $a, b, c$. If the line $1-4$ is $\\vec v_1$, and $2-4,\\; \\vec v_2$, then the angle $\\theta$ is calculated using $\\vec v_1\\cdot\\vec v_2 = |\\vec v_1 ||\\vec v_2 |\\cos(\\theta)$. With the vectors represented as matrices;\n",
    "\n",
    "$$\\displaystyle \\vec v_1\\cdot\\vec v_2=\\begin{bmatrix}-a/3 &-b & c\\end{bmatrix}\\begin{bmatrix}a-a/3\\\\-b\\\\-c\\end{bmatrix}=-\\frac{2}{9}a^2 + b^2  + c^2 $$\n",
    "\n",
    "The length of each vector is $|\\vec v_1\\cdot\\vec v_1|=\\sqrt{a^2/9+b^2+c^2},\\;|\\vec v_22\\cdot\\vec v_2|=\\sqrt{4a^2/9+b^2+c^2}$. The angle between them is found from the cosine\n",
    "\n",
    "$$\\displaystyle \\cos(\\theta)= \\frac{-2a^2/9 + b^2  + c^2}{\\sqrt{a^2/9+b^2+c^2}\\sqrt{4a^2/9+b^2+c^2}}$$\n",
    "\n",
    "If the crystal is cubic $a=b=c$ and so $\\displaystyle \\cos(\\theta)= \\frac{-2/9 + 2}{\\sqrt{1/9+2}\\sqrt{4/9+2}}$ hence $\\theta=38.5^\\text{o}$. This result can be generalized to find any similar angle.\n",
    "\n",
    "(b) The distance $1 \\to 2$ in the hexagonal crystal shown, can be found using the cosine rule and is $3\\sqrt{3a}$ if the length of each side is $a$. Calculate the same distance using vectors, and then the distance $1-3$ and angle $2-1-3$.\n",
    "\n",
    "We let $\\vec u$ and $\\vec v$ be two unit vectors along the two sides of the hexagon as shown in the figure. The transformation into $x-y$ coordinates of a point $\\alpha\\vec u, \\beta\\vec v$ can be found using matrix equation 31 with $\\theta = 60^\\text{o}, \\;a = b$ and $c = 0$ and thereby reducing it to a $2 \\times 2$ matrix,\n",
    "\n",
    "$$\\displaystyle \\begin{bmatrix} x&y\\end{bmatrix} =\\begin{bmatrix} \\alpha&\\beta\\end{bmatrix}\\begin{bmatrix}a& 0\\\\a\\cos(\\alpha) & a\\sin(\\alpha) \\end{bmatrix}$$\n",
    "\n",
    "The point 2 is at $(3a, 3a)$ in the $u-v$ basis set, so that its $x$ and $y$ coordinates are $x = a/2$ and $y = (3a/2)\\sqrt{3}$. Next, with point 1 as the origin, the $1-2$ vector equals $\\begin{bmatrix}9a/2 &3a\\sqrt{3}/2\\end{bmatrix}$ and its length is the square root of its dot product. The dot product is  $\\displaystyle \\begin{bmatrix}9a/2 &3 a\\sqrt{3}/2\\end{bmatrix}\\begin{bmatrix} 9a/2 \\\\ 3a\\sqrt{3}/2 \\end{bmatrix}= 27a^2$ making the length $3a\\sqrt(3)$. This can be see from figure 24 to be three times the length of the small triangle in the bottom-right of each hexagon between 1 and 2.\n",
    "\n",
    "By a similar calculation, the length 1-3 is $2a\\sqrt{7}$. The angle 2-1-3 ($\\phi$) is found using the dot product of the two vectors 1-3 and 1-2 which is $\\displaystyle 3a^2\\begin{bmatrix}3/2& \\sqrt{3}/2\\end{bmatrix}\\begin{bmatrix}4\\\\ 2\\sqrt{3}\\end{bmatrix}=27a^2$. Using $\\cos(\\phi)=27/(\\sqrt{28}\\sqrt{27})$ the angle is $10.9^\\text{o}$. This can also be checked using geometry, because the angle 1-2-3 is a right angle and the length 1-3 is known. Point 4 has coordinates $(1, 4)$ and is at a distance $a\\sqrt{21}$ from the origin. The angle 2-1-4 is $19.1^\\text{o}$. The calculation with point 5 produces the same results as for point 4 because points 4 and 5 are symmetrical about point 2.\n",
    "\n",
    "### Q37 answer\n",
    "The Python code to calculate the C–N1 bond length (in angstrom) is somewhat simpler than described in the text. The components of the positional vectors are multiplied by $a, b$, and $c$ to put them into angstrom. A function is defined to calculate the bond length; equation 24. The absolute value of the square root is taken to ensure that it is always positive.  Notice that the dot product is calculated using equation 20 because the axes are not all at right angles."
   ]
  },
  {
   "cell_type": "code",
   "execution_count": 13,
   "metadata": {},
   "outputs": [
    {
     "name": "stdout",
     "output_type": "stream",
     "text": [
      "length N1-C /nm =   0.1346\n",
      "length N2-C /nm =   0.1323\n",
      "length N1-N3 /nm =   0.1322\n",
      "angle N1-C-N2  = 127.3354\n",
      "angle N3-N1-C  = 116.2433\n"
     ]
    }
   ],
   "source": [
    "# Tetrazene bond lengths and angles.\n",
    "a = 5.23\n",
    "b = 5.79  \n",
    "c = 6.63 \n",
    "N1 = np.array([  0.1834*a, -0.1669*b, -0.0015*c ]) \n",
    "C  = np.array([  0.2546*a,  0.0153*b,  0.1380*c ]) \n",
    "N2 = np.array([  0.0849*a,  0.1795*b,  0.1486*c ])\n",
    "N3 = np.array([ -0.0849*a, -0.1795*b, -0.1486*c ]) \n",
    "               \n",
    "alpha = np.pi/2 \n",
    "beta = 115.5*np.pi/180 \n",
    "gama = np.pi/2\n",
    "\n",
    "bond_length = lambda delta : np.abs(np.sqrt( delta[0]**2+ delta[1]**2+ delta[2]**2\\\n",
    "                                         + 2*delta[0]*delta[2]*np.cos(beta ) ) )  # lambda function \n",
    "\n",
    "print('{:s}{:8.4f}'.format('length N1-C /nm = ',bond_length(N1-C)/10 ) )\n",
    "print('{:s}{:8.4f}'.format('length N2-C /nm = ',bond_length(N2-C)/10 ) )\n",
    "print('{:s}{:8.4f}'.format('length N1-N3 /nm = ',bond_length(N1-N3)/10 ) )\n",
    "\n",
    "dot_prod = lambda u,v,beta: u[0]*v[0]+u[1]*v[1]+u[2]*v[2]+(u[0]*v[2]+u[2]*v[0])*np.cos(beta) # function\n",
    "\n",
    "angle = lambda u,v,beta: np.arccos(dot_prod(u,v,beta)/(bond_length(u)*bond_length(v))) # function \n",
    "\n",
    "print('{:s}{:8.4f}'.format('angle N1-C-N2  = ',angle(C-N1,C-N2,beta)*180/np.pi ) )\n",
    "print('{:s}{:8.4f}'.format('angle N3-N1-C  = ',angle(N1-N3,N1-C,beta)*180/np.pi ) )"
   ]
  },
  {
   "cell_type": "markdown",
   "metadata": {},
   "source": [
    "The carbon between the two adjacent nitrogen atoms has a bond angle of $127.34^\\text{o}$ and the N3-N1-C angle $116.24^\\text{o}$; both substantially different to the nominal sp$^2$ hybrid angle of $120^\\text{o}$.\n",
    "\n",
    "### Q38 answer\n",
    "The equations to use are 32 and 33. Using the data, and Python from the previous question to define the atom and crystal coordinates, the calculation proceeds as follows. Note that an atom's coordinates now lack multiplication by $a, b$ and $c$ because these are included in the matrix $M$. Angstrom units are used."
   ]
  },
  {
   "cell_type": "code",
   "execution_count": 9,
   "metadata": {},
   "outputs": [],
   "source": [
    "# Bond lengths and angles using a matrix method.\n",
    "a = 5.23\n",
    "b = 5.79  \n",
    "c = 6.63 \n",
    "N1 = np.array([ 0.1834, -0.1669, -0.0015 ]) \n",
    "C  = np.array([ 0.2546,  0.0153,  0.1380 ]) \n",
    "N2 = np.array([ 0.0849,  0.1795,  0.1486 ])\n",
    "N3 = np.array([-0.0849, -0.1795, -0.1486 ]) \n",
    "               \n",
    "alpha = np.pi/2 \n",
    "beta  = 115.5*np.pi/180 \n",
    "gama  = np.pi/2 \n",
    "\n",
    "n2 = ( np.cos(alpha)- np.cos(gama)*np.cos(beta) )/ np.sin(gama)\n",
    "\n",
    "M = np.array([[a,0,0],[b*np.cos(gama),b*np.sin(gama),0],\n",
    "              [c*np.cos(beta),c*n2,c*np.sqrt(np.sin(beta)**2-n2**2)]])"
   ]
  },
  {
   "cell_type": "code",
   "execution_count": 10,
   "metadata": {},
   "outputs": [
    {
     "data": {
      "image/png": "[encoded data removed]",
      "text/latex": [
       "$\\displaystyle 1.34552220489393$"
      ],
      "text/plain": [
       "1.345522204893934"
      ]
     },
     "execution_count": 10,
     "metadata": {},
     "output_type": "execute_result"
    }
   ],
   "source": [
    "dcm1 = (C - N1).T @ M  #  @ performs matrix multiplication, the .T is the transpose.\n",
    "bondCN1 = np.sqrt(np.dot(dcm1,dcm1))\n",
    "bondCN1"
   ]
  },
  {
   "cell_type": "code",
   "execution_count": 11,
   "metadata": {},
   "outputs": [
    {
     "data": {
      "image/png": "[encoded data removed]",
      "text/latex": [
       "$\\displaystyle 1.32295892002987$"
      ],
      "text/plain": [
       "1.32295892002987"
      ]
     },
     "execution_count": 11,
     "metadata": {},
     "output_type": "execute_result"
    }
   ],
   "source": [
    "dcm2 = (C-N2).T @ M\n",
    "bondCN2 = np.sqrt(np.dot(dcm2,dcm2))\n",
    "bondCN2"
   ]
  },
  {
   "cell_type": "code",
   "execution_count": 12,
   "metadata": {},
   "outputs": [
    {
     "data": {
      "image/png": "[encoded data removed]",
      "text/latex": [
       "$\\displaystyle 127.335410919382$"
      ],
      "text/plain": [
       "127.33541091938204"
      ]
     },
     "execution_count": 12,
     "metadata": {},
     "output_type": "execute_result"
    }
   ],
   "source": [
    "np.arccos( np.dot(dcm1,dcm2)/(bondCN1*bondCN2))*180/np.pi"
   ]
  }
 ],
 "metadata": {
  "kernelspec": {
   "display_name": "Python 3 (ipykernel)",
   "language": "python",
   "name": "python3"
  },
  "language_info": {
   "codemirror_mode": {
    "name": "ipython",
    "version": 3
   },
   "file_extension": ".py",
   "mimetype": "text/x-python",
   "name": "python",
   "nbconvert_exporter": "python",
   "pygments_lexer": "ipython3",
   "version": "3.8.9"
  }
 },
 "nbformat": 4,
 "nbformat_minor": 2
}
