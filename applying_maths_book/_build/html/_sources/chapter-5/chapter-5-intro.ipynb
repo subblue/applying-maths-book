{
 "cells": [
  {
   "cell_type": "markdown",
   "id": "81f5625a",
   "metadata": {},
   "source": [
    "# 5. Summations, Series and expansion of Functions."
   ]
  },
  {
   "cell_type": "markdown",
   "id": "c5b33232",
   "metadata": {},
   "source": [
    "When calculating a partition function, working out the dissociation energy of a molecule by counting energy levels, or calculating a Madelung constant, a series of terms must be summed. A different situation occurs when it is necessary to simplify an expression so as to be able to effect a solution, for example, if $\\displaystyle \\sin(x)$ appears in a formula, for small $x$ this can be approximated as $x$ in other words the change $\\displaystyle\\sin(x) \\rightarrow x$. This can lead to considerable simplification such as in the motion of a pendulum. In other cases the assumption is made that it is possible to expand an expression as a Taylor or Maclaurin series and thereby learn something about regions in which we have no information. This assumption is based on the understanding that any function used varies in a slow and predictable way and that the extrapolation is not taken too far. In this chapter, both approaches are described."
   ]
  }
 ],
 "metadata": {
  "kernelspec": {
   "display_name": "Python 3 (ipykernel)",
   "language": "python",
   "name": "python3"
  },
  "language_info": {
   "codemirror_mode": {
    "name": "ipython",
    "version": 3
   },
   "file_extension": ".py",
   "mimetype": "text/x-python",
   "name": "python",
   "nbconvert_exporter": "python",
   "pygments_lexer": "ipython3",
   "version": "3.8.9"
  }
 },
 "nbformat": 4,
 "nbformat_minor": 5
}
