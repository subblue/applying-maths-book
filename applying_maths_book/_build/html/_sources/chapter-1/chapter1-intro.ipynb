{
 "cells": [
  {
   "cell_type": "markdown",
   "id": "3a089e16",
   "metadata": {},
   "source": [
    "# 1. Numbers, Equations, Operators, and Algorithms."
   ]
  },
  {
   "cell_type": "markdown",
   "id": "c893b4ba",
   "metadata": {},
   "source": [
    "In this chapter, some of the language of mathematics is introduced. Many of the calculations in this book are done using a computer program called Python which has various add-ons such as numpy/Scipy for fast calculation, matplotlib for graphing and SymPy for symbolic algebraic calculations. The syntax used and many of the instructions are described in Appendix 1 but some of the basic operations are also described here and the different usage compared to the way you would normally write mathematics. Mathematical symbols are listed in the Glossary."
   ]
  },
  {
   "cell_type": "code",
   "execution_count": null,
   "id": "0dde99f8",
   "metadata": {},
   "outputs": [],
   "source": []
  }
 ],
 "metadata": {
  "kernelspec": {
   "display_name": "Python 3 (ipykernel)",
   "language": "python",
   "name": "python3"
  },
  "language_info": {
   "codemirror_mode": {
    "name": "ipython",
    "version": 3
   },
   "file_extension": ".py",
   "mimetype": "text/x-python",
   "name": "python",
   "nbconvert_exporter": "python",
   "pygments_lexer": "ipython3",
   "version": "3.9.6"
  }
 },
 "nbformat": 4,
 "nbformat_minor": 5
}
