{
 "cells": [
  {
   "cell_type": "markdown",
   "metadata": {},
   "source": [
    "# Solutions Q31 - 34"
   ]
  },
  {
   "cell_type": "code",
   "execution_count": 1,
   "metadata": {},
   "outputs": [],
   "source": [
    "# import all python add-ons etc that will be needed later on\n",
    "%matplotlib inline\n",
    "import numpy as np\n",
    "import matplotlib.pyplot as plt\n",
    "import matplotlib.patches as patches\n",
    "from sympy import *\n",
    "init_printing()                      # allows printing of SymPy results in typeset maths format\n",
    "plt.rcParams.update({'font.size': 14})  # set font size for plots"
   ]
  },
  {
   "cell_type": "markdown",
   "metadata": {},
   "source": [
    "## Q31 answer\n",
    "The coordinates of vector $V_1$ are $x_1 = r\\cos(\\alpha)$ and $y_1 = r\\sin(\\alpha)$ and the second vector is rotated by $\\theta$ from the first, so that $V_2$ has x-coordinate \n",
    "\n",
    "$$\\displaystyle x_2 = r\\cos(\\alpha-\\theta) = r \\cos(\\alpha)\\cos(\\theta) + r \\sin(\\alpha)\\sin(\\theta)$$\n",
    "\n",
    "and by substitution $x_2 = x_1\\cos(\\theta) + y_1 \\sin(\\theta)$. The y-coordinate is\n",
    "\n",
    "$$\\displaystyle y_2 = r\\sin(\\alpha-\\theta) = -r \\cos(\\alpha)\\sin(\\theta) + r \\sin(\\alpha)\\cos(\\theta)$$\n",
    "\n",
    "and $y_2 = -x_1\\sin(\\theta) + y_1\\cos(\\theta)$. Combining the two formulae produces the rotation matrix, equation 11.\n",
    "\n",
    "$$\\displaystyle \\begin{bmatrix} x_2 \\\\ y_2 \\end{bmatrix} = \\begin{bmatrix} \\cos(\\theta) & \\sin(\\theta)\\\\ -\\sin(\\theta) & \\cos (\\theta) \\end{bmatrix} \\begin{bmatrix} x_1 \\\\ y_1 \\end{bmatrix}$$\n",
    "\n",
    "## Q32 answer\n",
    "The rotation matrix is $\\displaystyle \\pmb{R}_\\theta = \\begin{bmatrix} \\cos(\\theta) & \\sin(\\theta)\\\\ -\\sin(\\theta) & \\cos (\\theta) \\end{bmatrix} $ and its square is \n",
    "\n",
    "$$\\displaystyle \\pmb{R}_\\theta = \\begin{bmatrix} \\cos(\\theta) & \\sin(\\theta) \\\\ -\\sin(\\theta) & \\cos(\\theta) \\end{bmatrix} \\begin{bmatrix} \\cos(\\theta) & \\sin(\\theta)\\\\ -\\sin(\\theta) & \\cos (\\theta) \\end{bmatrix}= \\begin{bmatrix} \\cos^2(\\theta)-\\sin^2(\\theta) & 2\\sin(\\theta)\\cos(\\theta)\\\\ -2\\sin(\\theta)\\cos(\\theta) & \\cos^2 (\\theta)-\\sin^2(\\theta) \\end{bmatrix}$$\n",
    "\n",
    "Substituting the double angle relationships into the last matrix shows that $R(2\\theta) = R(\\theta)^2$.\n",
    "\n",
    "## Q33 answer\n",
    "\n",
    "There is no set answer to this question.\n",
    "\n",
    "## Q34 answer\n",
    "As rotation only occurs about the z-axis and by $90^\\text{o}$,the product of the three rotation matrices becomes\n",
    "\n",
    "$$\\displaystyle  \\begin{bmatrix} \\cos(\\theta) & \\sin(\\theta) & 0\\\\ -\\sin(\\theta) & \\cos (\\theta) & 0 \\\\ 0 & 0 & 1 \\end{bmatrix} =\\begin{bmatrix} 0 & 1 & 0\\\\ -1 & 0 & 0 \\\\ 0& 0 & 1\\end{bmatrix}$$\n",
    "\n",
    "An inversion is the matrix $\\displaystyle \\begin{bmatrix} -1 & 0 & 0\\\\ 0 & -1 & 0 \\\\ 0& 0 & -1\\end{bmatrix}$ and the rotation-inversion operation is\n",
    "\n",
    "$$\\displaystyle \\begin{bmatrix} -1 & 0 & 0\\\\ 0 & -1 & 0 \\\\ 0& 0 & -1\\end{bmatrix}\\begin{bmatrix} 0 & 1 & 0\\\\ -1 & 0 & 0 \\\\ 0& 0 & 1\\end{bmatrix}=\\begin{bmatrix} 0 & -1 & 0\\\\ 1 & 0 & 0 \\\\ 0& 0 & -1\\end{bmatrix}$$ \n",
    "\n",
    "(b) Performing the matrix multiplication the other way round produces the same result, therefore $Rot \\times Inv = Inv \\times  Rot$ and the matrices commute.\n",
    "\n",
    "\n"
   ]
  },
  {
   "cell_type": "code",
   "execution_count": null,
   "metadata": {},
   "outputs": [],
   "source": []
  },
  {
   "cell_type": "code",
   "execution_count": null,
   "metadata": {},
   "outputs": [],
   "source": []
  }
 ],
 "metadata": {
  "kernelspec": {
   "display_name": "Python 3 (ipykernel)",
   "language": "python",
   "name": "python3"
  },
  "language_info": {
   "codemirror_mode": {
    "name": "ipython",
    "version": 3
   },
   "file_extension": ".py",
   "mimetype": "text/x-python",
   "name": "python",
   "nbconvert_exporter": "python",
   "pygments_lexer": "ipython3",
   "version": "3.9.6"
  }
 },
 "nbformat": 4,
 "nbformat_minor": 2
}
