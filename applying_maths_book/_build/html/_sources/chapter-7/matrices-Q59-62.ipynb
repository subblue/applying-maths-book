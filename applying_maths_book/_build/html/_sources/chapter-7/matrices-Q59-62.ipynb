{
 "cells": [
  {
   "cell_type": "markdown",
   "metadata": {},
   "source": [
    "## Questions 59 - 62"
   ]
  },
  {
   "cell_type": "markdown",
   "metadata": {},
   "source": [
    "### Q59 XeF$_4$ moments of inertia.\n",
    "Calculate the moments of inertia of the planar molecule XeF$_4$ \n",
    "\n",
    "(a) about the C$_4$ symmetry axis and \n",
    "\n",
    "(b) about a diagonal and also about an edge. \n",
    "\n",
    "Assume each bond length is $2 \\unicode{x212B}$ .\n",
    "\n",
    "![Drawing](matrices-fig67.png)\n",
    "\n",
    "Figure 67 XeF$_4$ and two rotation axes.\n",
    "______\n",
    "\n",
    "## Q60 Loop of wire\n",
    "A circular loop of wire is formed by n rigidly connected masses with radius $R$ of total mass $M$. Explain the different values obtained for the moment of inertia,\n",
    "\n",
    "(a) About an axis z, through the centre of the loop, \n",
    "\n",
    "(b) about a diameter,\n",
    "\n",
    "(c)  About an edge and parallel to $z$.\n",
    "\n",
    "The difference in moments of inertia, is illustrated in Figure 68, and in the right-hand diagram where the loop rotates about an edge.\n",
    "\n",
    "**Strategy:** For a planar body to simplify the calculation, use the perpendicular axes theorem $I_z = I_x + I_y$ and by symmetry $I_x = I_y$.\n",
    "\n",
    "![Drawing](matrices-fig68.png)\n",
    "\n",
    "Figure 68 Rotation of a loop about different axes.\n",
    "\n",
    "### Q61 Moments of inertia of HCN\n",
    "\n",
    "(a) Calculate the moment of inertia of the linear molecule HCN, using masses $m_N, m_H$ and $m_C$ for the most common isotopes of the atoms and bond lengths $r_{CH}$ and $r_{CN}$ given in the text. Explain why isotopic substitution is necessary to obtain the bond lengths. The parameters needed are defined in Figure 70.\n",
    "\n",
    "(b) Calculate the numerical value of the com displacement δ, Fig. 7.70, then the moment of inertia I using the values of the bond length given in the text for the isotope containing 1H, 14N and 12C atoms.\n",
    "\n",
    "(c) Assuming rigid-rotor behaviour, calculate by how much a rotational transition will shift if $^{14}$N and then $^{13}$C isotopes are used.\n",
    "\n",
    "**Strategy:** On the diagram of the molecule choose a point to represent the centre of mass (com) and find its $x$ coordinate. Write down the equation for the moment of inertia based on this point, and the equation for the centre of mass and assume that this is at $x = 0$.\n",
    "\n",
    "![Drawing](matrices-fig70.png)\n",
    "\n",
    "Figure 70. A linear triatomic molecule.\n",
    "_______\n",
    "\n",
    "### Q62 Moments of inertia of molecules\n",
    "Use an X-ray database to find coordinates for CH$_3$F, CH$_2$Cl$_2$, chlororethylene (CH$_2$CHCl), and any other molecules you want. Calculate the moments of inertia and plot the inertia axes on top of the molecular structure. The values you obtain should be approximately as given in the table, which are in units of $10^{-47}\\,\\mathrm{ kg\\,m^2}$:\n",
    "\n",
    "$$ \\begin{array}{c|ccc}\n",
    "\\hline\n",
    "   & I_a & I_b & I_c\\\\ \n",
    "\\hline\n",
    "\\mathrm{CH_3F}    & 5.3 &     & 33\\\\\n",
    "\\mathrm{CH_2Cl_2}  & 26  & 255 & 276\\\\\n",
    "\\mathrm{CH_2CHCl} & 15  & 139 & 154\\\\ \n",
    "\\hline \n",
    "\\end{array}$$"
   ]
  }
 ],
 "metadata": {
  "kernelspec": {
   "display_name": "Python 3 (ipykernel)",
   "language": "python",
   "name": "python3"
  },
  "language_info": {
   "codemirror_mode": {
    "name": "ipython",
    "version": 3
   },
   "file_extension": ".py",
   "mimetype": "text/x-python",
   "name": "python",
   "nbconvert_exporter": "python",
   "pygments_lexer": "ipython3",
   "version": "3.8.9"
  }
 },
 "nbformat": 4,
 "nbformat_minor": 2
}
