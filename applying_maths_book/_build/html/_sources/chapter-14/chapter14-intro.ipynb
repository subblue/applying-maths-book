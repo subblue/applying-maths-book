{
 "cells": [
  {
   "cell_type": "markdown",
   "id": "ff44bf2c",
   "metadata": {},
   "source": [
    "# 14 SI Units, Scientific Constants, unit conversion, Glossary, Python"
   ]
  },
  {
   "cell_type": "markdown",
   "id": "38741000",
   "metadata": {},
   "source": [
    "A table of SI units is listed and now to convert from one unit to an equivalent one is described. The syntax used and many of the instructions for using Python, Numpy, Sympy and Matplotlib are described in Appendix 1. Mathematical symbols are listed in the Glossary."
   ]
  }
 ],
 "metadata": {
  "kernelspec": {
   "display_name": "Python 3 (ipykernel)",
   "language": "python",
   "name": "python3"
  },
  "language_info": {
   "codemirror_mode": {
    "name": "ipython",
    "version": 3
   },
   "file_extension": ".py",
   "mimetype": "text/x-python",
   "name": "python",
   "nbconvert_exporter": "python",
   "pygments_lexer": "ipython3",
   "version": "3.9.6"
  }
 },
 "nbformat": 4,
 "nbformat_minor": 5
}
