{
 "cells": [
  {
   "cell_type": "markdown",
   "id": "96920525",
   "metadata": {},
   "source": [
    "# 10. Differential Equations."
   ]
  },
  {
   "cell_type": "markdown",
   "id": "f8f5f0db",
   "metadata": {},
   "source": [
    "To understand many aspects of chemistry, physics, and biology it is necessary to construct mathematical models that enable us to take a dynamic view of phenomena. It is usually possible to write down the rate of change of some quantity, but impossible to write down how the quantity itself changes, and so these models involve differential equations. In chemistry, differential equations are used in chemical kinetics, quantum mechanics, and transport phenomena such as diffusion. In biology, the diffusion equation is also important and, as in chemistry, rate equations are used to describe enzyme as well as oscillating reactions, for example, glucose oxidation. Differential equations also describe nerve impulses (the Fitzhugh - Nagumo equations) and the spread of diseases in a population or of animals across a continent. Often these equations are complicated and need numerical solutions, some of which are described in Chapter 11. In physics, there are additionally the equations of dynamics, the harmonic oscillator describing molecular vibrations, the motion of pendulums or the orbits of planets, and the equations of magnetic and electric fields, as well as a host of non-linear phenomena that describe, for example, how the laser works, or the stop-start nature of heavy traffic flow on a motorway."
   ]
  }
 ],
 "metadata": {
  "kernelspec": {
   "display_name": "Python 3 (ipykernel)",
   "language": "python",
   "name": "python3"
  },
  "language_info": {
   "codemirror_mode": {
    "name": "ipython",
    "version": 3
   },
   "file_extension": ".py",
   "mimetype": "text/x-python",
   "name": "python",
   "nbconvert_exporter": "python",
   "pygments_lexer": "ipython3",
   "version": "3.9.6"
  }
 },
 "nbformat": 4,
 "nbformat_minor": 5
}
