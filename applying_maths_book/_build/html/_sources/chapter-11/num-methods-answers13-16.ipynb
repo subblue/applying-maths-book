{
 "cells": [
  {
   "cell_type": "markdown",
   "metadata": {},
   "source": [
    "## Solutions Q13 - 16"
   ]
  },
  {
   "cell_type": "code",
   "execution_count": 2,
   "metadata": {},
   "outputs": [],
   "source": [
    "# import all python add-ons etc that will be needed later on\n",
    "%matplotlib inline\n",
    "import numpy as np\n",
    "import matplotlib.pyplot as plt\n",
    "from sympy import *\n",
    "init_printing()                      # allows printing of SymPy results in typeset maths format\n",
    "plt.rcParams.update({'font.size': 16})  # set font size for plots"
   ]
  },
  {
   "cell_type": "markdown",
   "metadata": {},
   "source": [
    "### Q13 answer\n",
    "Using the algorithms in the text the following figure can be produced from which it is clear that both the Euler methods fail badly in this instance and even the Runge - Kutta fails when $t$ is large. If the number of integration points is increased to $1000$, the Euler methods improve slightly but still fail, however, the Runge - Kutta is essentially identical to the exact solution but only up to about $t=15$ when it starts to fail badly. This illustrates how difficult, and time consuming numerical calculations can be. Time consuming since very small steps may be needed to ensure accuracy.\n",
    "\n",
    "![Drawing](num-methods-fig33.png)\n",
    "\n",
    "Figure 33. Comparison of the Euler methods with the Runge - Kutta and the exact solution, red line.\n",
    "____\n",
    "\n",
    "### Q14 answer\n",
    "(i) The code in the 'for' loop has to be changed to use the modified Euler equation (33). The derivatives are defined as"
   ]
  },
  {
   "cell_type": "code",
   "execution_count": 3,
   "metadata": {},
   "outputs": [],
   "source": [
    "dydt = lambda t,x,y : -(kf+k2)*y+k1*x\n",
    "dxdt = lambda t,x,y : -(k1+ke)*x+k2*y"
   ]
  },
  {
   "cell_type": "markdown",
   "metadata": {},
   "source": [
    "and using the values given in the question the plot produced is \n",
    "\n",
    "![Drawing](num-methods-fig34.png)\n",
    "\n",
    "Figure 34. Plots of solution. \n",
    "_________\n",
    "\n",
    "The plot shows that initially $x$ increases from zeros, because it is produced from $y$, then decays away with rate constant $k_e$. Equilibrium is beginning to be is set up between $x$ and $y$ but this does not last as both species decay with rate constants $k_f$ and $k_e$.\n",
    "\n",
    "(ii) The rate equations are\n",
    "\n",
    "$$\\displaystyle \\frac{dA}{dt}=-\\frac{1}{2}\\frac{dB}{dt}=-k_1A+k_2B^2$$\n",
    "\n",
    "the algorithm is shown below."
   ]
  },
  {
   "cell_type": "code",
   "execution_count": 10,
   "metadata": {},
   "outputs": [],
   "source": [
    "#--------------------------------\n",
    "def EulerN(f0, f1, t0, y0, z0, maxt, N):         # Euler method, function two rate equations f \n",
    "    \n",
    "    Eulery = np.zeros(N,dtype=float)   # define arrays to hold results  y is molecule type A\n",
    "    Eulerz = np.zeros(N,dtype=float)   # z is moleculae type B \n",
    "    dtime  = np.zeros(N,dtype=float)\n",
    "    h = (maxt - t0)/N\n",
    "    y = y0                             # initial values\n",
    "    z = z0\n",
    "    t = t0\n",
    "    Eulery[0]= y0\n",
    "    Eulerz[0]= z0\n",
    "    dtime[0] = t0\n",
    "    for  i in range(1,N):              # loop starts\n",
    "        y = y + h*f0(y,z)              # increment y\n",
    "        z = z + h*f1(y,z)\n",
    "        t = t + h                      # time \n",
    "        Eulery[i] = y                  # save values\n",
    "        Eulerz[i] = z\n",
    "        dtime[i]  = t\n",
    "        #if i == N // 2:               # modification to add more B\n",
    "        #    z = z + 1*z/5\n",
    "        pass                           # end of loop\n",
    "    return Eulery,Eulerz,dtime\n",
    "#---------------------------------\n",
    "\n",
    "dAdt = lambda A,B : -k1*A + k2*B**2    # equation to integrate\n",
    "dBdt = lambda A,B :  k1*A - k2*B**2    # equation to integrate\n",
    "\n",
    "A_0 = 2.0    # initial pressure\n",
    "B_0 = 0.0\n",
    "k1  = 0.17    # values in units microseconds\n",
    "k2  = 1.0\n",
    "maxt= 15.0\n",
    "N   = 400    # number of points\n",
    "t0  = 0.0\n",
    "\n",
    "Avals, Bvals, atime = EulerN(dAdt,dBdt,t0,A_0,B_0,maxt,N)   # Call procedure, return values \n",
    "\n",
    "#fig = plt.figure(figsize=[5,4])        # remove # to plot \n",
    "#plt.plot(atime,Avals,color='blue')\n",
    "#plt.plot(atime,2*Bvals,color='red')\n",
    "#\n",
    "#Ke = k1/k2\n",
    "#Ae = ( 2*A_0+Ke  - np.sqrt( (2*A_0+Ke)**2 -4*A_0**2))/2  #  equilibrium amount \n",
    "#\n",
    "#plt.axhline(Ae,color='blue',linestyle='dashed',linewidth=1)\n",
    "#plt.axhline(2*(A_0-Ae),color='red',linestyle='dashed',linewidth=1 )\n",
    "#\n",
    "#plt.xlim([0,maxt])\n",
    "#plt.ylim([0,1.5])\n",
    "#plt.ylabel('concentration')\n",
    "#plt.xlabel('time')\n",
    "#plt.text( maxt-2,1.1*Ae,'[A]')\n",
    "#plt.text( maxt-2,0.85*2*(A_0-Ae),'[B]')\n",
    "#plt.tight_layout()\n",
    "#plt.show()"
   ]
  },
  {
   "cell_type": "markdown",
   "metadata": {},
   "source": [
    "![Drawing](num-methods-fig34a.png)\n",
    "\n",
    "Figure 34a. Left. Plot of concentration of species A and B vs. time showing how equilibrium is reached. The dashed lines show the algebraically calculated equilibrium. Right. Detail shows the effect of adding an amount amount of B when equilibrium has already been reached and its return to a new equilibrium position.  Time is in units of microseconds.\n",
    "_________\n",
    "\n",
    "(ii) The equilibrium amounts can be found by starting with $dA/dt$ and as $A\\to A_e$  at equilibrium,\n",
    "\n",
    "$$\\displaystyle \\frac{dA}{dt}= -k_1A_e+k_2(A_0-A_e)^2=0$$\n",
    "\n",
    "solving for $A_e$, with $K_e=k_1/k_2$ as the equilibrium constant,  gives $\\displaystyle A_e=\\left(2A_0+K_e+\\sqrt{(2A_0+K_e)^2-4A_0^2}\\right)/2$, which is shown in the plot, and $B_e=2(A_0-A_e)$.\n",
    "\n",
    "(iii) If the amount of B is instantaneously increased then there are more molecules overall and both the amounts of B and A will have to increase compared to that before the change.  However, just after the change there is too little A for the amount of B now present (because the system was at equilibrium and is transiently not anymore) meaning more A will form from B and so B will decrease until equilibrium is re-established. This is shown in figure 34a. The transient approach to equilibrium has a lifetime of $\\tau =1/(k_1+k_2[B_e])$ or $0.86\\;\\mathrm{\\mu\\,s}$\n",
    "\n",
    "\n",
    "### Q15 answer\n",
    "\n",
    "Four rate equations are needed and are,\n",
    "\n",
    "$$\\begin{array}{ll}\n",
    "\\displaystyle \\frac{d[S]}{dt}=-k_1[E][S] +k_{-1}[ES] & \\displaystyle\\frac{d[E]}{dt}=-k_1[E][S] +(k_{-1}+k_2)[ES] \\\\\n",
    "\\displaystyle\\frac{d[ES]}{dt}=k_1[E][S] -(k_{-1}+k_2)[ES] & \\displaystyle\\frac{d[P]}{dt}=k_2[ES] \n",
    "\\end{array}$$\n",
    "\n",
    "The functions in the algorithm can be written as "
   ]
  },
  {
   "cell_type": "code",
   "execution_count": 11,
   "metadata": {},
   "outputs": [],
   "source": [
    "dSdt=  lambda S,E,ES : -k1*S*E + km1*ES\n",
    "dEdt=  lambda S,E,ES : -k1*S*E + (km1+k2)*ES\n",
    "dESdt= lambda S,E,ES :  k1*S*E - (km1+k2)*ES\n",
    "dpdt=  lambda S,E,ES :  k2*ES"
   ]
  },
  {
   "cell_type": "markdown",
   "metadata": {},
   "source": [
    "and in the 'for' loop as "
   ]
  },
  {
   "cell_type": "code",
   "execution_count": 47,
   "metadata": {},
   "outputs": [],
   "source": [
    "#for i in range(1,n):                # commented out here only to prevent error as this is a stub.\n",
    "#    S =  S  + h*dSdt( S,E,ES)\n",
    "#    E =  E  + h*dEdt( S,E,ES)\n",
    "#    ES = ES + h*dESdt(S,E,ES)\n",
    "#    p =  p  + h*dpdt( S,E,ES)\n",
    "#    t = t + h\n",
    "#    # etc"
   ]
  },
  {
   "cell_type": "markdown",
   "metadata": {},
   "source": [
    "The results are shown in Fig 35.\n",
    "\n",
    "![Drawing](num-methods-fig35.png)\n",
    "\n",
    "Figure 35 Michaelis - Menten concentration profiles. The intermediate complex ES is represented by the red line.\n",
    "_______\n",
    "In the figure we see that the product concentration $[P]$ rises to reach the same concentration as the substrate concentration $[S_0]$ and that the enzyme E after initially reacting returns to its initial concentration $ [E_0]$. The substrate concentration falls rapidly to begin with, then more slowly. This is due to establishing the equilibrium between S + E and ES and therefore ES initially rises rapidly and reached a maximum and falls because it is slowly lost to product. The steady state condition is  $d[ES]/dt = 0$ is only approximately satisfied with these rate constants after ES has reached its maximum and extends only to about two seconds. The calculation clearly shows the approximate nature of the steady state approximation, we assume that the gradient is zero but have to be satisfied that it is small. Notice also that the steady state conditions mean that the concentration of the species ES need not be small, just that its gradient with time is small. This is a common misconception in the steady state approach.\n",
    "\n",
    "### Q16 answer\n",
    "Using the substitution $z = dy/dx$, the equation becomes $dy/dx=z$ and $d^2z/dx^2=-xz-y-x$ which has to be split further using $w = dz/dx$ to give\n",
    "\n",
    "$$\\displaystyle  \\frac{dy}{dx}=z,\\quad \\frac{dz}{dx}=w,\\quad \\frac{dw}{dx}=-xz-y+x=1 $$\n",
    "\n",
    "The equations are added into the calculation as shown in other answers\n",
    "\n",
    "![Drawing](num-methods-fig36.png)"
   ]
  },
  {
   "cell_type": "code",
   "execution_count": null,
   "metadata": {},
   "outputs": [],
   "source": []
  }
 ],
 "metadata": {
  "kernelspec": {
   "display_name": "Python 3 (ipykernel)",
   "language": "python",
   "name": "python3"
  },
  "language_info": {
   "codemirror_mode": {
    "name": "ipython",
    "version": 3
   },
   "file_extension": ".py",
   "mimetype": "text/x-python",
   "name": "python",
   "nbconvert_exporter": "python",
   "pygments_lexer": "ipython3",
   "version": "3.8.9"
  }
 },
 "nbformat": 4,
 "nbformat_minor": 2
}
