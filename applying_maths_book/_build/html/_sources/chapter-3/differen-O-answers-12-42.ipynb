{
 "cells": [
  {
   "cell_type": "markdown",
   "metadata": {},
   "source": [
    "## Solutions Q 12-42"
   ]
  },
  {
   "cell_type": "code",
   "execution_count": 1,
   "metadata": {},
   "outputs": [],
   "source": [
    "# import all python add-ons etc that will be needed later on\n",
    "%matplotlib inline\n",
    "import numpy as np\n",
    "import matplotlib.pyplot as plt\n",
    "from sympy import *\n",
    "from scipy.optimize import fsolve\n",
    "init_printing()               # allows printing of SymPy results in typeset maths format\n",
    "plt.rcParams.update({'font.size': 14})  # set font size for plots"
   ]
  },
  {
   "cell_type": "markdown",
   "metadata": {},
   "source": [
    "### Q12 answer\n",
    "Results are mainly calculated as function of function and/or as products.\n",
    "\n",
    "$\\displaystyle \\begin{array}{lll}\\\\\n",
    "(a)&\\displaystyle \\frac{d}{dx}\\sin(ax)e^{-bx} = a\\cos(ax)e^{-bx}-b\\sin(ax)e^{-bx}\\\\\n",
    "(b)& \\displaystyle\\frac{d}{dx}\\tanh(x)e^{-bx}=\\frac{d}{dx}\\frac{\\sinh(x)e^{-bx}}{\\cosh(x)}=\\frac{\\cosh(x)e^{-bx}-b\\sinh(x)e^{-bx}}{\\cosh(x)}-\\frac{\\sinh^2(x)e^{-bx}}{\\cosh^2(x)}\\\\\n",
    "(c)&\\displaystyle\\frac{d}{dx}e^{-2b\\sin(x^2)}=-4bx\\cos(x^2)e^{-2b\\sin(x^2)}\\\\\n",
    "(d)& \\displaystyle\\frac{d}{dx}\\ln(a+bx)\\cos(ax)=\\frac{b}{a+bx}\\cos(ax)-a\\ln(a+bx)\\sin(ax)\\\\\n",
    "(e)& \\displaystyle\\frac{d}{dx}\\ln(a+\\cos(bx))=-\\frac{b\\sin(bx)}{a+\\cos(bx)}\\\\\n",
    "(f)& \\displaystyle\\frac{d}{dx}\\ln(a+b\\sin(x))^2=2b\\ln(a+b\\sin(x))\\frac{\\cos(x)}{a+b\\sin(x)}\\\\\n",
    "(g)& \\displaystyle\\frac{d}{dx}\\sqrt{ \\cos(e^{x^2}-1) }=-\\frac{1}{2\\sqrt{\\cos(e^{x^2}-1) } }\\sin(e^{x^2}-1)2xe^{x^2}\\\\\n",
    "\\end{array}$\n",
    "\n",
    "(h) $\\cosh(y)=x$ is an example of implicit differentiation. The result is $\\displaystyle \\sinh(y)\\frac{dy}{dx}=1 $ which still contains $y$ and substituting for $x$ gives a most unsatisfactory result \n",
    "\n",
    "$$\\displaystyle \\sinh(\\cosh^{-1}(x))\\frac{dy}{dx}=1$$\n",
    "\n",
    "The initial result can be simplified using $\\cosh^2(y)-\\sinh^2(y)=1$ and gives after substitution and rearrangement\n",
    "\n",
    "$$\\displaystyle \\frac{dy}{dx}=\\frac{1}{\\sqrt{x^2-1}}$$\n",
    "\n",
    "(i) $\\sin^{-1}$ is called the inverse sine or arcsine, a similar notation applies to cosines and tangents. The equation $y = \\sin^{-1}(x/a)$ means $y$ is the angle such that $\\sin(y) = x/a$. This equation is _not_ the same as $\\displaystyle y=(\\sin(x/a))^{-1}=\\frac{1}{\\sin(x/a)}$ which may be seen from the next part of this question. \n",
    "\n",
    "Rearranging to $\\sin(y) = x/a$ and (implicitly) differentiating gives $\\displaystyle \\cos(y)\\frac{dy}{dx}=\\frac{1}{a}$. Substituting for $y$ into this result will produce a very complicated equation. Instead,  if $y$ is thought of as an angle(see Fig.38) it follows that \n",
    "\n",
    "$$\\displaystyle \\begin{align}\\sin(y) &= x/a &\\equiv\\qquad \\text{ opposite/hypotenuse}\\\\\n",
    " \\cos(y) &=\\sqrt{a^2-x^2}/a &\\equiv\\qquad \\text{ adjacent/hypotenuse}\\end{align}$$\n",
    "\n",
    "and consequently \n",
    "\n",
    "$$\\displaystyle \\frac{dy}{dx}=\\frac{1}{\\sqrt{a^2-x^2}}$$\n",
    "\n",
    "![Drawing](differen-fig38.png)\n",
    "\n",
    "Figure 38. Defining angles\n",
    "_____\n",
    "\n",
    "(j) $\\displaystyle y=\\frac{1}{\\sin(x/a)}$ hence $\\displaystyle \\frac{dy}{dx}=-\\frac{\\cos(x/a)}{a\\sin^2(x/a)}$\n",
    "\n",
    "(k) $\\displaystyle \\frac{d}{dq}(\\sin^2(q)+q^2\\cos(q))=2\\sin(q)\\cos(q)+2q\\cos(q)-q^2\\sin(q)$\n",
    "\n",
    "### Q13 answer\n",
    "(a) Taking logs gives $\\ln(y)=y\\ln(x)$ and differentiating \n",
    "\n",
    "$$\\displaystyle \\frac{1}{y}\\frac{dy}{dx}=\\frac{dy}{dx}\\ln(x)+\\frac{y}{x} \\to \\frac{dy}{dx}=\\frac{y^2}{x(1-y\\ln(x))}$$\n",
    "\n",
    "(b) again taking logs gives $\\ln(x)=y\\ln(y)$ hence $\\displaystyle \\frac{1}{x}=\\frac{dy}{dx}\\ln(y)+\\frac{dy}{dx}$\n",
    "\n",
    "(c) $\\ln(y)=x\\ln(x)$ therefore $\\displaystyle \\frac{1}{y}\\frac{dy}{dx}=\\ln(x)+1$\n",
    "\n",
    "### Q14 answer\n",
    "Differentiating once by $a$ gives $\\displaystyle \\frac{d}{da}\\int e^{ax}dx=\\int\\frac{\\partial}{\\partial a}e^{ax} dx=\\int xe^{ax}dx$\n",
    "\n",
    "and again $\\displaystyle \\frac{d}{da}\\int xe^{ax}dx=\\int\\frac{\\partial}{\\partial a}xe^{ax} dx=\\int x^2e^{ax}dx$\n",
    "\n",
    "By induction it follows that \n",
    "\n",
    "$$\\displaystyle \\frac{d^n}{da^n}\\int e^{ax}dx=\\int\\frac{\\partial^n}{\\partial a^n}e^{ax} dx=\\int x^ne^{ax}dx$$ \n",
    "\n",
    "Because $\\displaystyle \\int e^{ax}dx=\\frac{e^{ax}}{a}$ (see table in chapter on integration) then the differential can be rearranged to \n",
    "\n",
    "$$\\displaystyle \\int x^ne^{ax}dx=\\frac{d^n}{da^n}\\left( \\frac{e^{ax}}{a} \\right)$$\n",
    "\n",
    "(b) The similar process as in (a) produces \n",
    "\n",
    "$$\\displaystyle \\frac{d^n}{da^n}\\left( \\frac{\\sin(ax)}{a}\\right)=\\int x^n\\sin(ax)dx$$\n",
    "\n",
    "when $n$ is odd and when even \n",
    "\n",
    "$$\\displaystyle \\frac{d^n}{da^n}\\left( \\frac{\\sin(ax)}{a}\\right)=\\int x^n\\cos(ax)dx$$\n",
    "\n",
    "### Q15 answer\n",
    "(a) Although it is not too difficult to do the differentiation by hand, Python/SymPy is used not only for this but also to plot the equation. It is easier to make $x$ and $y$ functions of $t$ so that $t$ can be passed as a parameter; "
   ]
  },
  {
   "cell_type": "code",
   "execution_count": 21,
   "metadata": {},
   "outputs": [
    {
     "data": {
      "image/png": "[encoded data removed]",
      "text/latex": [
       "$\\displaystyle \\left[ \\right]$"
      ],
      "text/plain": [
       "[]"
      ]
     },
     "execution_count": 21,
     "metadata": {},
     "output_type": "execute_result"
    },
    {
     "data": {
      "image/png": "[encoded data removed]",
      "text/plain": [
       "<Figure size 864x360 with 2 Axes>"
      ]
     },
     "metadata": {
      "needs_background": "light"
     },
     "output_type": "display_data"
    }
   ],
   "source": [
    "fig = plt.figure(figsize=(12,5))           # plot using matplotlib \n",
    "plt.rcParams.update({'font.size': 16})     # set font size for plots\n",
    "ax0 = fig.add_subplot(1,2,1)\n",
    "ax1 = fig.add_subplot(1,2,2)\n",
    "ax0.set_aspect(1)                          # set aspect ratio = 1\n",
    "\n",
    "t = np.linspace(-np.pi,np.pi,200)          # set range for t\n",
    "x = lambda t: np.sin(t) - np.sin(2*t)**3   # numpy invoked by using np, see top of page\n",
    "y = lambda t: np.cos(t) - np.cos(2*t)**3\n",
    "\n",
    "ax0.plot(x(t),y(t),color='blue')\n",
    "ax0.axhline(0,linewidth=1,color='grey')\n",
    "ax0.axvline(0,linewidth=1,color='grey')\n",
    "ax0.set_xlabel('x')\n",
    "ax0.set_ylabel('y')\n",
    "\n",
    "dxdt= lambda t: np.cos(t) - 6*np.sin(2*t)**2*np.cos(2*t)\n",
    "ax1.plot(t,dxdt(t),color='red')\n",
    "ax1.set_xlabel('t')\n",
    "ax1.set_ylabel('x')\n",
    "ax1.axhline(0,linewidth=1,color='grey')\n",
    "ax1.grid(True)\n",
    "ax1.set_title(r'$dx/dt$')\n",
    "plt.tight_layout()\n",
    "plt.plot()"
   ]
  },
  {
   "cell_type": "markdown",
   "metadata": {},
   "source": [
    "Figure 39. Left: Parametric curve $x = \\sin(t) - \\sin^3(2t),\\; y = \\cos(t) - \\cos^3(2t)$. Right: $\\displaystyle \\frac{d}{dt} x(t)$ vs $t$. The  zeros in this function are where the vertical tangent is found.\n",
    "\n",
    "_____"
   ]
  },
  {
   "cell_type": "code",
   "execution_count": 22,
   "metadata": {},
   "outputs": [
    {
     "name": "stdout",
     "output_type": "stream",
     "text": [
      "dx/dt =  -6*sin(2*t)**2*cos(2*t) + cos(t)\n",
      "dy/dt =  -sin(t) + 6*sin(2*t)*cos(2*t)**2\n"
     ]
    },
    {
     "data": {
      "image/png": "[encoded data removed]",
      "text/latex": [
       "$\\displaystyle \\frac{\\sin{\\left(t \\right)} - 6 \\sin{\\left(2 t \\right)} \\cos^{2}{\\left(2 t \\right)}}{6 \\sin^{2}{\\left(2 t \\right)} \\cos{\\left(2 t \\right)} - \\cos{\\left(t \\right)}}$"
      ],
      "text/plain": [
       "                       2     \n",
       "sin(t) - 6⋅sin(2⋅t)⋅cos (2⋅t)\n",
       "─────────────────────────────\n",
       "     2                       \n",
       "6⋅sin (2⋅t)⋅cos(2⋅t) - cos(t)"
      ]
     },
     "execution_count": 22,
     "metadata": {},
     "output_type": "execute_result"
    }
   ],
   "source": [
    "# do differentiation symbolically\n",
    "\n",
    "t, xx, yy = symbols(' t, xx, yy')  # used SymPy \n",
    "\n",
    "xx = sin(t) - sin(2*t)**3\n",
    "yy = cos(t) - cos(2*t)**3\n",
    "\n",
    "dxdt = diff(xx,t)\n",
    "dydt = diff(yy,t)\n",
    "print('dx/dt = ',dxdt)\n",
    "print('dy/dt = ',dydt)\n",
    "\n",
    "#calculate dy/dx as the ratio\n",
    "simplify(dydt/dxdt)"
   ]
  },
  {
   "cell_type": "markdown",
   "metadata": {},
   "source": [
    "The vertical tangents are found when \n",
    "\n",
    "$$\\displaystyle dx/dt = \\cos(t)- 6 \\sin^2(2t)\\cos(2t) = 0$$\n",
    "\n",
    "One root (or  solution) occurs when $t = \\pm \\pi /2$ and then $x = y = \\pm 1$. Other solutions cannot so easily be obtained algebraically: from the figure there are four solutions with $x \\gt 0$ and four with $x \\lt 0$. The remaining calculation has to be done numerically and the Newton - Raphson method, described in Section 10 of this chapter, allows the solutions to be found. These other solutions occur at approximately  ($\\pm 0.14096, 0.23310), \\,(\\pm 0.31522, 0.74867), \\,(\\pm 1.72690, -0.66474 )$. The code segment below shows how to use the built-in numerical equation solver. Initial guesses close to the solution are needed and convergence need to be checked. \n",
    "\n",
    "**Exercise:** Using the Newton - Raphson method find the roots of $dx/dt$; Use the plot this derivative first to help you find the starting points for the numerical method. Find the horizontal tangents."
   ]
  },
  {
   "cell_type": "code",
   "execution_count": 23,
   "metadata": {},
   "outputs": [
    {
     "name": "stdout",
     "output_type": "stream",
     "text": [
      "[0.2188284] The solution converged.\n",
      "coordinates [0.14095905] [0.23309729]\n"
     ]
    }
   ],
   "source": [
    "# from scipy.optimize import fsolve     # should be included at top of script.\n",
    "\n",
    "dx = lambda t: np.cos(t) - 6*np.sin(2*t)**2*np.cos(2*t) # function to use\n",
    "\n",
    "ans = fsolve(dx,0.1,full_output=True)   # 0.1 is initial guess; full_output is used to check convergence.\n",
    "\n",
    "print(ans[0],ans[-1])\n",
    "print('coordinates',  x(ans[0]),y(ans[0]) )"
   ]
  },
  {
   "cell_type": "markdown",
   "metadata": {},
   "source": [
    "### Q16 answer\n",
    "(a) The gradient is, by equation(23), $\\displaystyle \\frac{dy}{dx}=-\\frac{\\cos(t)+\\cos(2t)}{\\sin(t)+\\sin(2t)}$.\n",
    "\n",
    "(b) The gradient (tangent) is zero when $\\displaystyle \\frac{dy}{dt}= 2\\cos(t)+2\\cos(2t)=0$.\n",
    "\n",
    "Solving produces several answers which when evaluated are all real within the limits of numerical evaluation and are $\\pm \\pi,\\; \\pm \\pi/3$ the latter are $\\pm 1.047$. The larger values are repeated solutions as the function is periodic.\n",
    "\n",
    "When \n",
    "\n",
    "$$\\displaystyle t = \\pi/3,\\; y = 2 \\sin(\\pi /3) + \\sin(2\\pi /3)=(3\\sqrt{3})/2$$\n",
    "\n",
    "and \n",
    "\n",
    "$$\\displaystyle x = 2 \\cos(\\pi /3) + \\cos(2\\pi /3) + 1 = 3/2$$\n",
    "\n",
    "The equation of the tangent is a straight line $y = mx + c$, through point $(3/2, (3\\sqrt{3}3)/2)$ if the slope is zero $y = \\pm3 $ and these tangents are shown on fig 40.\n",
    "\n",
    "When $t = \\pi$, the gradient is $0/0$ and is undefined but tends to $-\\infty$ as $t \\to \\pi$.\n",
    "\n",
    "The horizontal tangent is found when $dy/dt = 0$ which is given in (b) above. The vertical tangent is \n",
    "\n",
    "$$\\displaystyle dx/dt = -2 \\sin(t) - 2 \\sin(2t) = 0$$\n",
    "\n",
    "which has four solutions where $t = 0,\\; \\pi,\\; \\pm 2\\pi /3$ which occur at points $(4, 0),\\; (0, 0),\\; (-1/2,   \\sqrt{3}/2)$ and $(-1/2, -\\sqrt{3}/2)$ respectively.\n",
    "\n",
    "![Drawing](differen-fig40.png)\n",
    "\n",
    "Figure 40. Cardiod with horizontal tangents.\n",
    "_____"
   ]
  },
  {
   "cell_type": "code",
   "execution_count": 24,
   "metadata": {},
   "outputs": [
    {
     "data": {
      "image/png": "[encoded data removed]",
      "text/latex": [
       "$\\displaystyle \\left[ \\tilde{\\infty}, \\  - \\frac{5 \\pi}{3}, \\  - \\pi, \\  - \\frac{\\pi}{3}, \\  \\frac{\\pi}{3}, \\  \\pi, \\  \\frac{5 \\pi}{3}\\right]$"
      ],
      "text/plain": [
       "⎡     -5⋅π       -π   π     5⋅π⎤\n",
       "⎢zoo, ─────, -π, ───, ─, π, ───⎥\n",
       "⎣       3         3   3      3 ⎦"
      ]
     },
     "execution_count": 24,
     "metadata": {},
     "output_type": "execute_result"
    }
   ],
   "source": [
    "# the calculations are shown below\n",
    "t = symbols(' t', positive = True)      # use SymPy\n",
    "dydx = cos(t) + cos(2*t)\n",
    "ans = solve(dydx, t, check = False)     # use check = False so as not to miss root\n",
    "ans"
   ]
  },
  {
   "cell_type": "code",
   "execution_count": 25,
   "metadata": {},
   "outputs": [
    {
     "name": "stdout",
     "output_type": "stream",
     "text": [
      "zoo\n",
      "-5.23598775598299\n",
      "-3.14159265358979\n",
      "-1.04719755119660\n",
      "1.04719755119660\n",
      "3.14159265358979\n",
      "5.23598775598299\n"
     ]
    }
   ],
   "source": [
    "for j,i in enumerate(ans):\n",
    "    print((ans[j].evalf()))   # imag part is so small that numbers are real."
   ]
  },
  {
   "cell_type": "markdown",
   "metadata": {
    "collapsed": true
   },
   "source": [
    "### Q17 answer\n",
    "The differentiation variable is the same as for integration because the integrand has only one variable and $s$ is a dummy parameter. Using equation (15) gives\n",
    "\n",
    "$$\\displaystyle \\frac{d}{dx}\\int_{\\ln(x)}^{x^2} e^{-s^2}ds = \\left( \\frac{d}{dx}x^2\\right)e^{-x^4}-\\left( \\frac{d}{dx}\\ln(x) \\right)e^{-\\ln(x)^2}=2xe^{-x^4}-\\frac{e^{-\\ln(x)^2}}{x}$$\n",
    "\n",
    "### Q18 answer\n",
    "\n",
    "$$\\displaystyle \\frac{dy}{du}=\\frac{dy}{dx}\\frac{dx}{dw}\\frac{dw}{du}=2x\\frac{(-\\sin(u))}{2\\sqrt{u}}=-\\sin(u)$$\n",
    "\n",
    "Substituting gives $y = \\cos(u) + 2$ gives the result directly.\n",
    "\n",
    "### Q19 answer\n",
    "(a) As the function is raised to the power $x$, the best strategy is to first take logs of both sides of the equation then differentiate; for instance $\\ln(y) = x \\ln(\\ln(x))$ and next, using the log differentiation formula and remembering that $\\ln(\\ln(x))$ is a function-of-function differentiation, obtain\n",
    "\n",
    "$$\\displaystyle \\frac{1}{y}\\frac{dy}{dx}=\\ln(\\ln(x))+x\\frac{1}{x\\ln(x)}$$\n",
    "\n",
    "Rearranging gives $\\displaystyle \\frac{dy}{dx}=y\\left(\\ln(\\ln(x))+\\frac{1}{\\ln(x)} \\right)$\n",
    "\n",
    "![Drawing](differen-fig41.png)\n",
    "\n",
    "Figure 41: Plot of $(\\ln(x))^x$ and its first derivative.\n",
    "_____\n",
    "\n",
    "(b) The lower curve is the function $y = (\\ln(x))^x$ and when $x = 1, \\,y = 0$ because $\\ln(1) = 0$. When $x \\lt 1,\\, \\ln(x)$ is negative and raising a negative number to fractional power produces a complex number and which cannot be plotted on these axes; for example $\\ln(-1/2) = i\\pi - \\ln(2)$.\n",
    "\n",
    "The derivative is the function $y$ itself, times a term in $\\ln(\\ln(x))$ and $1/\\ln(x)$. When $x \\lt 1$ the derivative is a complex number because it is multiplied by $y$ which here is the log of a negative number. At $x$ values just larger than $1$, the $1/\\ln(x)$ term is large and the derivative is almost 1, but as $x$ increases that term becomes smaller, but only slowly. The other term $\\ln(\\ln(x))$ also increases only slowly with $x$ and now when combined these two terms are almost constant with a value slightly greater than 1, which is best seen by separately plotting these values. Therefore, the derivative closely follows the value of $y$ when $x$ is large.\n",
    "\n",
    "### Q20 answer\n",
    "It is easier to rewrite the function as $f = y(s)h(s)$ and then write the product rule, equation (19), as \n",
    "\n",
    "$$\\displaystyle \\frac{df}{ds}=y\\frac{dh}{ds}+h\\frac{dy}{ds}$$\n",
    "\n",
    "remembering that $h$ and y are function of $s$. The derivative $dh/ds$ is needed and as $\\displaystyle h(s)=e^{ax(s)}$ therefore \n",
    "\n",
    "$$\\displaystyle \\frac{dh(s)}{ds}=-a\\frac{dx}{ds}e^{-ax(s)}$$\n",
    "\n",
    "The full derivative is \n",
    "\n",
    "$$\\displaystyle \\frac{df}{ds}=-ay(s)e^{-ax(s)}\\frac{dx(s)}{ds}+e^{-ax(s)}\\frac{dy(s)}{ds}$$\n",
    "\n",
    "The same result is obtained by SymPy as shown next."
   ]
  },
  {
   "cell_type": "code",
   "execution_count": 26,
   "metadata": {},
   "outputs": [
    {
     "data": {
      "image/png": "[encoded data removed]",
      "text/latex": [
       "$\\displaystyle \\left(- a y{\\left(s \\right)} \\frac{d}{d s} x{\\left(s \\right)} + \\frac{d}{d s} y{\\left(s \\right)}\\right) e^{- a x{\\left(s \\right)}}$"
      ],
      "text/plain": [
       "⎛         d          d       ⎞  -a⋅x(s)\n",
       "⎜- a⋅y(s)⋅──(x(s)) + ──(y(s))⎟⋅ℯ       \n",
       "⎝         ds         ds      ⎠         "
      ]
     },
     "execution_count": 26,
     "metadata": {},
     "output_type": "execute_result"
    }
   ],
   "source": [
    "a, s, x, y, f = symbols('a, s, x, y, f')\n",
    "y = Function('y')\n",
    "x = Function('x')\n",
    "f = y(s)*exp(-a*x(s))\n",
    "ans = diff(f,s)\n",
    "simplify(ans)"
   ]
  },
  {
   "cell_type": "markdown",
   "metadata": {},
   "source": [
    "### Q21 answer\n",
    "(a) Differentiating using the product rule produces, \n",
    "\n",
    "$$\\displaystyle y'\\equiv \\frac{dy}{dx}=nx^{n-1}\\ln(x)+x^{n-1}$$\n",
    "\n",
    "Next, multiply both sides by $x$ then substitute $y = x^n\\ln(x)$ to obtain $xy′ = ny + x^n$.\n",
    "\n",
    "(b) There are two ways of calculating $y''$; either differentiate the last answer or do the calculation directly. Differentiating the last result produces \n",
    "\n",
    "$$\\displaystyle xy''+y'=ny'+nx^{n-1}$$\n",
    "and rearranged this is $\\displaystyle xy''=(n-1)y'+nx^{n-1}$.\n",
    "\n",
    "Differentiating directly is a little more difficult \n",
    "\n",
    "$$\\displaystyle \\frac{d^2y}{dx^2}=\\frac{d}{dx}\\left( nx^{n-1}\\ln(x)+x^{n-1}\\right)=n(n-1)x^{n-2}\\ln(x)+nx^{n-2}+(n-1)x^{n-2}$$ \n",
    "\n",
    "Multiplying by $x$ and simplifying gives \n",
    "\n",
    "$$\\displaystyle xy'' = (n - 1)nx^{n-1} \\ln(x) + nx^{n-1} + (n - 1)x^{n-1}$$\n",
    "\n",
    "Next, substituting \n",
    "\n",
    "$$\\displaystyle nx^{n-1}\\ln(x) = y′ - x^{n-1}$$\n",
    "\n",
    "and simplifying produces \n",
    "\n",
    "$$\\displaystyle xy′′ = (n - 1)y′ + nx^{n-1}$$\n",
    "\n",
    "If you do this calculation with SymPy the derivatives can easily be simplified as shown below."
   ]
  },
  {
   "cell_type": "code",
   "execution_count": 27,
   "metadata": {},
   "outputs": [
    {
     "data": {
      "image/png": "[encoded data removed]",
      "text/latex": [
       "$\\displaystyle x^{n - 1} \\left(n \\log{\\left(x \\right)} + 1\\right)$"
      ],
      "text/plain": [
       " n - 1               \n",
       "x     ⋅(n⋅log(x) + 1)"
      ]
     },
     "execution_count": 27,
     "metadata": {},
     "output_type": "execute_result"
    }
   ],
   "source": [
    "x,y,n = symbols('x, y, n')\n",
    "ans = simplify(diff(x**n*ln(x),x)  )   # 1st derivative\n",
    "ans"
   ]
  },
  {
   "cell_type": "code",
   "execution_count": 28,
   "metadata": {},
   "outputs": [
    {
     "data": {
      "image/png": "[encoded data removed]",
      "text/latex": [
       "$\\displaystyle x^{n - 2} \\left(n + \\left(n - 1\\right) \\left(n \\log{\\left(x \\right)} + 1\\right)\\right)$"
      ],
      "text/plain": [
       " n - 2                             \n",
       "x     ⋅(n + (n - 1)⋅(n⋅log(x) + 1))"
      ]
     },
     "execution_count": 28,
     "metadata": {},
     "output_type": "execute_result"
    }
   ],
   "source": [
    "simplify(diff(ans,x) )               # second derivative"
   ]
  },
  {
   "cell_type": "markdown",
   "metadata": {
    "collapsed": true
   },
   "source": [
    "### Q22 answer\n",
    "Velocity is distance per unit time and is defined as $\\displaystyle \\frac{dx}{dt}= v$ , and therefore $\\displaystyle \\frac{d^2x}{dt^2}=\\frac{dv}{dt}$. \n",
    "\n",
    "To change the differentiation variable from $t$ to $x$ use the function of function method, equation, (22) written as $\\displaystyle \\frac{dv}{dt}=\\frac{dv}{dx}\\frac{dx}{dt}$.\n",
    "\n",
    "The result is \n",
    "\n",
    "$$\\displaystyle \\frac{d^2x}{dt^2}=\\frac{dv}{dt}=\\frac{dv}{dx}\\frac{dx}{dt}=\\frac{dv}{dx}v$$\n",
    "\n",
    "Because \n",
    "\n",
    "$$\\displaystyle \\frac{d}{dx}\\left(\\frac{v^2}{2} \\right) =v\\frac{dv}{dx}$$\n",
    "\n",
    "by comparing the last two results it follows that \n",
    "\n",
    "$$\\displaystyle \\frac{d}{dx}\\left(\\frac{v^2}{2} \\right)=\\frac{d^2x}{dt^2}$$\n",
    "\n",
    "an equation that is important in dynamics.\n",
    "\n",
    "### Q23 answer\n",
    "Differentiating both sides of the equation with respect to $x$ gives, \n",
    "\n",
    "$$\\displaystyle 2(x^2+y^2)\\left(2x+2y\\frac{dy}{dx} \\right)=a^2\\left(2y\\frac{dy}{dx}-2x  \\right)$$\n",
    "\n",
    "and simplifying gives \n",
    "\n",
    "$$\\displaystyle \\frac{dy}{dx}=-\\frac{x}{y}\\frac{\\left(2(x^2+y^2)+a^2\\right)}{\\left(2(x^2+y^2)-a^2\\right)}$$\n",
    "\n",
    "By solving this last equation when $dy/dx=0$ the coordinates where the gradient is zero can be found. One obvious condition is when $x = 0$ then $y = \\pm a$. Next, setting the top square bracket to zero, produces $y=\\sqrt{-a^2/2-x^2}$ which has to be a complex number and does\n",
    "not appear to lie on our curve.\n",
    "\n",
    "(c) A change in coordinates from Cartesian to plane polar coordinates means using $(r,\\, \\theta)$ instead of $(x,\\, y)$ to define the curve as shown in Fig. 7. The new coordinate $r$ is the straight line distance from the origin to the curve and by Pythagoras' theorem, $r^2 = x^2 + y^2$. The polar angle is $\\theta$ and is conventionally chosen to be the angle anti-clockwise away from the horizontal axis. This angle is calculated using either $\\cos(\\theta) = x/r$, or $\\sin(\\theta) = y/r$. Changing the lemniscate into polar coordinates can be done in two steps, the first of which uses the trigonometric identity \n",
    "\n",
    "$$\\displaystyle \\cos^2(\\theta) - \\sin^2(\\theta) = \\cos(2\\theta)$$\n",
    "\n",
    "First, calculate $y^2 - x^2$ using the definitions of sine and cosine \n",
    "\n",
    "$$\\displaystyle y^2-x^2=r^2\\left(\\cos^2(\\theta)-\\sin^2(\\theta)\\right)=-r^2\\cos(2\\theta)$$ \n",
    "\n",
    "Second, substituting into $(x^2 + y^2)^2 = a^2(y^2 - x^2)$ produces \n",
    "\n",
    "$$\\displaystyle r^2 = -a^2\\cos(2\\theta) = +a^2\\cos(2\\theta)$$\n",
    "\n",
    "which is the lemniscate equation in polar coordinates. The gradient is $dr/d\\theta$, therefore \n",
    "\n",
    "$$\\displaystyle r\\frac{dr}{d\\theta}=-2a^2\\sin(2\\theta)\\qquad \\text{or}\\qquad \\frac{dr}{d\\theta}=\\frac{2a\\sin(2\\theta)}{\\sqrt{\\cos(\\pi-2\\theta)}}$$\n",
    "\n",
    "The maximum and minimum occur when the derivative is zero, which occurs at $\\theta = 0^\\text{o}$ or $180^\\text{o}$ respectively. When $\\theta$ is zero then $r = \\pm a$, but $r$ is always positive, and so this gives the maximum, see Fig. 7. When $\\theta = 45^\\text{o}$, the curve has its minimum at the origin because $r = 0$. The maximum gradient of infinity, occurs when $dx/dy = 0$ which it does when $\\theta = \\pm \\pi/3$ and $\\theta = \\pm 2\\pi /3$.\n",
    "\n",
    "### Q24 answer\n",
    "(a) Differentiating once gives $\\displaystyle \\frac{d}{dx}e^{ax^2+x}=e^{ax^2+x}(2ax+1)$ \n",
    "\n",
    "and again produces \n",
    "\n",
    "$$\\displaystyle \\frac{d^2}{dx^2}e^{ax^2+x}=\\frac{d}{dx}e^{ax^2+x}(2ax+1)=e^{ax^2+x}\\left((2ax+1)^2+2a \\right)$$\n",
    "\n",
    "(b) Differentiating gives $\\displaystyle \\frac{d}{dx}\\ln(ax+b)^2=2a\\frac{\\ln(ax+b}{ax+b}$ \n",
    "\n",
    "and again produces\n",
    "\n",
    "$$\\displaystyle 2a\\frac{d}{dx}\\frac{\\ln(ax+b}{ax+b}=\\frac{2a^2}{(ax+b)^2}-\\frac{2a^2\\ln(ax+b)}{(ax+b)^2}$$\n",
    "\n",
    "which can clearly be simplified.\n",
    "\n",
    "### Q25 answer\n",
    "As $y=\\sqrt{a^2-x^2}$, differentiating once and twice gives $\\displaystyle \\frac{dy}{dx}=-x(a^2-x^2)^{-1/2}$ and $\\displaystyle \\frac{d^2y}{dx^2}=-(a^2-x^2)^{-1/2}-x^2(a^2-x^2)^{-3/2}$.\n",
    "\n",
    "By substituting and rearranging \n",
    "\n",
    "$$\\displaystyle \\frac{d^2y}{dx^2}=\\frac{dy}{dx}\\left(\\frac{1}{x}+\\frac{x}{y^2}  \\right)$$\n",
    "\n",
    "therefore \n",
    "\n",
    "$$\\displaystyle \\frac{d^2y}{dx^2}=\\frac{a^2}{xy^2}\\frac{dy}{dx}$$\n",
    "\n",
    "which is \n",
    "\n",
    "$$\\displaystyle y''=\\frac{a^2}{xy^2}y'$$\n",
    "\n",
    "because $y^2+x^2 = a^2$.\n",
    "\n",
    "Alternatively, starting with the first equation as given in the question, the derivatives are \n",
    "\n",
    "$$\\displaystyle y\\frac{dy}{dx}=-x\\quad \\text{ and }\\quad \\displaystyle \\left(\\frac{dy}{dx}  \\right)^2+y\\frac{dy}{dx}=-1$$\n",
    "\n",
    "because the derivative of $y$ is $dy/dx$. Substituting for $y$ and rearranging produces the same answer.\n",
    "\n",
    "### Q26 answer\n",
    "Differentiating twice gives $\\displaystyle \\frac{d^2}{dx^2}f(x)=\\frac{d}{dx}f(x)=f(x)$ and by induction therefore $\\displaystyle \\frac{d^n}{dx^n}f(x)=f(x)$. \n",
    "\n",
    "From the information given in the question it follows that $\\displaystyle \\frac{d^n}{dx^n}f(0)=f(0)=1$. As the Maclaurin expansion of $f$ is \n",
    "\n",
    "$$\\displaystyle f(x)=f(0)+f'(0)x+f''(0)\\frac{x^2}{2!}+ f'''(0)\\frac{x^3}{3!}+\\cdots$$\n",
    "\n",
    "because each derivative is unity the series is \n",
    "\n",
    "$$\\displaystyle f(x)=1+x+\\frac{x^2}{2!}+\\frac{x^3}{3!}+\\cdots+ =e^x$$\n",
    "\n",
    "and the function is the exponential as you may have guessed from the question.\n",
    "\n",
    "### Q27 answer\n",
    "If $u=dx/dt$,differentiation with respect to $t$ gives $\\displaystyle \\frac{du}{dt}=\\frac{d}{dt}\\left( \\frac{dx}{dt}\\right) =\\frac{d^2x}{dt^2}$.\n",
    "\n",
    "On the left of the equation \n",
    "\n",
    "$$\\displaystyle u\\frac{du}{dx}=\\frac{dx}{dt}\\frac{d}{dx}\\left( \\frac{dx}{dt} \\right)=\\frac{dx}{dt}\\frac{d^2x}{dxdt}=\\frac{d^2x}{dt^2}$$\n",
    "\n",
    "which is the same result, and the relationship is verified. Notice that in this last calculation $d/dx$ operates on$ dx/dt$ before the $dx$ are cancelled.\n",
    "\n",
    "### Q28 answer\n",
    "(a) Differentiating with respect to $q$, gives $\\displaystyle (1-q^2)N\\frac{d}{dq}f(qN)-2qf(qN)+N\\ln(q)+N=0$\n",
    "\n",
    "(b) and with respect to $N$ gives, $\\displaystyle (1-q^2)N\\frac{d}{dN}f(qN)+q\\ln(q)=0$\n",
    "\n",
    "\n",
    "### Q29 answer\n",
    "(a) By direct differentiation $\\displaystyle nx^{n-1} + ny^{n-1} \\frac{dy}{dx} = 0$. Rearranging gives $\\displaystyle \\frac{dy}{dx}=-\\frac{x^{n-1}}{y^{n-1}}$ which is the answer sought.\n",
    "\n",
    "(b) If you cannot remember the differential of tan, convert it into $\\sin()/\\cos()$ then the equation becomes $\\displaystyle \\frac{\\sin(y)}{\\cos(y)} = \\sinh(x)$.\n",
    "\n",
    "Differentiating both sides gives\n",
    "\n",
    "$$\\displaystyle \\frac{\\cos(y)}{\\cos(y)}\\frac{dy}{dx}+\\frac{\\sin^2(y)}{\\cos^2(y)}\\frac{dy}{dx}=\\cosh(x); \\qquad \\frac{dy}{dx}=\\cosh(x)\\cos^2(y)$$\n",
    "\n",
    "The second derivative is $\\displaystyle \\frac{d^2y}{dx^2}=\\sinh(x)\\cos^2(y)-2\\cosh(x)\\cos(y)\\sin(y)\\frac{dy}{dx}$ which can be simplified a little further.\n",
    "\n",
    "### Q30 answer\n",
    "Both $V$ and $\\psi$ are functions of $x$. Operating once with $D$ is formally \n",
    "\n",
    "$$-D(D^2\\psi) + D(V\\psi) = ED\\psi$$\n",
    "\n",
    "and using the product rule gives\n",
    "\n",
    "$$-D^3\\psi+\\psi DV+VD\\psi =ED\\psi$$\n",
    "\n",
    "and differentiating again by left-multiplying with $D$\n",
    "\n",
    "$$\\displaystyle -D^4\\psi + D(\\psi DV + VD\\psi) = ED^2\\psi$$\n",
    "\n",
    "$$\\displaystyle -D^4\\psi + (D\\psi)(DV) + \\psi D^2V + (DV)(D\\psi) + VD^2\\psi = ED^2\\psi $$\n",
    "\n",
    "then left multiplying by $\\psi$ and rearranging\n",
    "\n",
    "$$\\displaystyle \\psi D^4\\psi=2\\psi (D\\psi)(DV)+\\psi^2 D^2V+(V-E) D^2\\psi^2$$\n",
    "\n",
    "which looks somewhat like the answer needed but the first and second terms are different. As the answer required is given we can see if this is correct by expanding $D(\\psi^2DV)$ which gives \n",
    "\n",
    "$$D(\\psi^2DV) = 2\\psi(D\\psi)(DV) + \\psi^2D^2V$$\n",
    "\n",
    "therefore the relationship is verified. \n",
    "\n",
    "In common notation this last equation is $\\displaystyle \\frac{d}{dx}\\left(  \\psi^2\\frac{dV}{dx}\\right)=2\\psi\\frac{d\\psi}{dx}\\frac{dV}{dx}+\\psi^2\\frac{d^2V}{dx^2}$.\n",
    "\n",
    "### Q31 answer\n",
    "(a) The slope at point $T$ is $\\displaystyle \\frac{dy}{dx}=\\frac{1}{t}$. The equation of the tangent line at any point is $y - 2at = (x - at^2)/t$.\n",
    "\n",
    "(b) The point $P$ is at $y=0$ therefore is at $(at^2,0)$. Point F is at $(a,0)$ therefore the length PF is $a+at^2$. Point T has coordinates $(at^2 , 2at)$ and by Pythagoras' theorem the distance FT is \n",
    "\n",
    "$$\\displaystyle \\sqrt{(at^2-a)^2+(2at)^2} =a^2(t^4+2t^2+1)=a+at^2$$\n",
    "\n",
    "The distances FP and FT are equal, therefore the triangle FPT is isosceles, and because the ray into the parabolic mirror is parallel to the x-axis, the angle PTF = FPT.\n",
    "\n",
    "This construction proves that all rays travelling parallel to the parabola's axis pass through the focus, because T could be any point on the parabola and FP and FT are always equal to one another. Because all rays originating at infinity are parallel to one another and parallel to the axis of the parabola, on entering the parabola they will each pass through the focus. If a mirror with a spherical surface is used, then not all rays pass through the same point and an aberrated focus will be formed.\n",
    "\n",
    "### Q32 answer\n",
    "(a) The units are number/mole $\\cdot$ J s $\\cdot\\,\\mathrm{ s^{-1}}$ which is energy/mole. The first term is the zero point energy because it is a constant and does not depend on the vibrational frequency.\n",
    "\n",
    "(b, c) Differentiating $U$ with respect to $T$ is done inside the integral, because the integrand depends on $T$, and\n",
    "gives,\n",
    "\n",
    "$$\\displaystyle \\begin{align}C_v&=\\frac{dU}{dT}=\\frac{9Nh}{\\nu_D^3}\\int_0^{\\nu_D}\\nu^3\\frac{d}{dT}\\left( \\frac{1}{e^{h\\nu/k_BT} -1} \\right) d\\nu\\\\&= \\frac{9Nh^2}{\\nu_D^3k_BT^2}\\int_0^{\\nu_D}\\nu^4\\frac{e^{h\\nu/k_BT}}{(e^{h\\nu/k_BT}-1)^2} d\\nu \\end{align}$$\n",
    "\n",
    "Substituting $x = h\\nu/k_BT$, which is dimensionless, and $\\theta = h\\nu_D/k_B$, which has units of K and is called the Debye temperature, and rearranging with $dx = (h/k_BT)d\\nu$, gives\n",
    "\n",
    "$$\\displaystyle \\begin{align}C_V&=\\frac{9Nh^2}{k_BT^2}\\left(\\frac{h}{\\theta k_B}  \\right)^3\\left(\\frac{k_BT}{h}  \\right)^5\\int_0^{\\theta/T}x^4\\frac{e^{x}}{(e^{x}-1)^2} dx \\\\&=9Nk_B\\left(\\frac{T}{\\theta }  \\right)^3 \\int_0^{\\theta/T}\\frac{x^4e^{x}}{(e^{x}-1)^2} dx\\end{align}$$\n",
    "\n",
    "The limits are converted into dimensionless units also. The heat capacity has units of J/ K determined by $Nk_B$ because $x$ is dimensionless.\n",
    "\n",
    "(d) At low temperatures the upper limit $\\theta/T \\to \\infty$ can be safely assumed and the integral is\n",
    "\n",
    "$$\\displaystyle C_{V,T\\to \\infty}=9Nk_B\\left(\\frac{T}{\\theta }  \\right)^3 \\int_0^{\\infty} \\frac{ x^4e^{x} }{(e^{x}-1)^2} dx$$\n",
    "\n",
    "It does not matter whether or not if the integral can be solved analytically or numerically as the result is a constant, thus $\\displaystyle C_{V,T\\to \\infty} \\approx \\left( \\frac{T}{\\theta} \\right)^3$ and zero at zero temperature. At low temperatures, the $T^3$ law is observed experimentally.\n",
    "\n",
    "At high temperatures, making the upper limit of the integral zero because $T$ is large and $\\theta/T \\to 0$, will yield $C_V = 0$, because both limits to the integration are then the same. However this does not make sense physically; the crystal must have considerable internal energy which increases with increase in temperature. A more cautious approach to the limit will allow us to expand each exponential because $x$ is small. The expansion is $\\displaystyle e^x=1+x+\\frac{x^2}{2!}+\\cdots$ and because $x^2 \\ll x$ the integral need only be expanded to single powers in $x$; \n",
    "\n",
    "$$\\displaystyle \\begin{align}C_{V,T\\to \\infty}&\\approx 9Nk_B\\left(\\frac{T}{\\theta }  \\right)^3 \\int_0^{\\infty} \\frac{ x^4(1+x+\\cdots) }{x^2} dx\\\\&=9Nk_B\\left(\\frac{T}{\\theta }  \\right)^3 \\int_0^{\\infty} x^2 dx\\\\&= 3Nk_B\\end{align}$$\n",
    "\n",
    "The heat capacity at high temperature is the same as predicted and close to the $3R$/mole that is observed experimentally, $R$ being the ideal gas constant.\n",
    "\n",
    "![Drawing](differen-fig41a.png)\n",
    "\n",
    "Figure 41a. Heat capacity vs temperature with a Debye temperature $\\theta$ for potassium of $41.5$ K . Also shown is the high and low temperature behaviour.\n",
    "________"
   ]
  },
  {
   "cell_type": "markdown",
   "metadata": {},
   "source": [
    "### Q33 answer\n",
    "Differentiating [B] by changing the proton concentration to pH via $\\text{pH} = -\\log_{10}(\\text{[H}^+])$ is one approach but it is easier to use the product rule and write \n",
    "\n",
    "$$\\displaystyle \\beta=\\frac{d[\\text{B}]}{d[\\text{H}^+]}\\frac{d[\\text{H}^+]}{d\\text{pH}}$$\n",
    "\n",
    "Differentiating the pH equation (effectively $x = -\\log_{10}(y)$) gives\n",
    "\n",
    "$$\\displaystyle -\\frac{1}{[\\text{H}^+]\\ln(10)}\\frac{d[\\text{H}^+]}{d\\text{pH}}=1$$\n",
    "\n",
    "and \n",
    "\n",
    "$$\\displaystyle \\frac{d[B]}{d[\\text{H}^+]}=-\\frac{K_w}{[\\text{H}^+]^2}-1-\\frac{C_BK_a}{ ([\\text{H}^+]+K_a)^2 }$$\n",
    "\n",
    "giving \n",
    "\n",
    "$$\\displaystyle \\beta=2.303\\left(\\frac{K_w}{[\\text{H}^+]}+[\\text{H}^+]+\\frac{C_BK_a[\\text{H}^+]}{ ([\\text{H}^+]+K_a)^2 }  \\right)$$\n",
    "\n",
    "The calculation is also easy using SymPy."
   ]
  },
  {
   "cell_type": "code",
   "execution_count": 29,
   "metadata": {},
   "outputs": [
    {
     "data": {
      "image/png": "[encoded data removed]",
      "text/latex": [
       "$\\displaystyle \\frac{CB H Ka}{\\left(H + Ka\\right)^{2}} + H + \\frac{Kw}{H}$"
      ],
      "text/plain": [
       " CB⋅H⋅Ka        Kw\n",
       "───────── + H + ──\n",
       "        2       H \n",
       "(H + Ka)          "
      ]
     },
     "execution_count": 29,
     "metadata": {},
     "output_type": "execute_result"
    }
   ],
   "source": [
    "CB, Kw,Ka,H,pH = symbols('CB, Kw, Ka, H, pH')\n",
    "\n",
    "B =  Kw/H-H+CB*Ka/(Ka+H)\n",
    "pH= -log(H)\n",
    "ans= diff(B,H)/diff(pH,H)\n",
    "simplify(ans)\n"
   ]
  },
  {
   "cell_type": "markdown",
   "metadata": {},
   "source": [
    "(b) Plotting $\\beta$ produces the graph below where the buffer capacity is a maximum just above pH = 4 which is close to the value of the p$K_a$. The width of the peak demonstrates the ability of the buffer to resist changes in pH. The total base concentration is $0.02$ M.\n",
    "\n",
    "![Drawing](differen-fig42.png)\n",
    "\n",
    "Figure 42. Buffer capacity vs pH where $K_a=10^{-4.2}$ shown as a dashed line.\n",
    "____\n",
    "\n",
    "(c) The maximum or minimum $\\beta$ occurs at \n",
    "\n",
    "$$\\displaystyle \\frac{d\\beta}{d[\\text{H}^+]}=2.303\\left(-\\frac{K_w}{[\\text{H}^+]^2}+1+\\frac{C_BK_a}{ ([\\text{H}^+]+K_a)^2 }  -2\\frac{C_BK_a[\\text{H}^+]}{ ([\\text{H}^+]+K_a)^3 } \\right)=0$$\n",
    "\n",
    "which simplifies to \n",
    "\n",
    "$$\\displaystyle ([\\text{H}^+]+K_a)^3\\left( 1-\\frac{k_w}{[\\text{H}^+]^2} \\right) +C_BK_a(K_a-[\\text{H}^+])=0$$\n",
    "\n",
    "The minimum occurs when $K_w \\approx [\\text{H}^+]^2$ or at pH $\\approx 8$, as here the first term is zero and the second term is also small $\\approx C_BK_a^2$ or $\\approx 10^{-10}$ and will not change the minimum by much.\n",
    "\n",
    "In acid solution, $K_w /[\\text{H}^+]^2 \\ll 1$ and can be ignored compared to unity, hence \n",
    "\n",
    "$$\\displaystyle (\\;[\\text{H}^+]+K_A)^3 + C_BK_a(K_a-[\\text{H}^+]\\;)=0$$ \n",
    "\n",
    "which is still hard to solve, but it can be done by the Newton-Raphson method, Section 10. Only the term in $C_B$ can contribute to the buffering (as the cubic term is small and can be ignored) and give rise to the maximum. . The result shows that, to a good approximation, $K_a = [\\text{H}^+]$. The calculation using a built-in function is as follows, with buffer concentration as $0.01$ molar."
   ]
  },
  {
   "cell_type": "code",
   "execution_count": 30,
   "metadata": {},
   "outputs": [
    {
     "name": "stdout",
     "output_type": "stream",
     "text": [
      "Ka = 6.31e-05  H+ = 6.65e-05\n"
     ]
    }
   ],
   "source": [
    "Ka = 10**(-4.2)\n",
    "CB = 0.01\n",
    "Kw = 1e-14\n",
    "f01= lambda H: (H+Ka)**3*(1-Kw/H**2)+CB*Ka*(Ka-H)\n",
    "ans= fsolve(f01, 1.0e-7)\n",
    "print('{:s} {:6.3g} {:s} {:6.3g}'.format( 'Ka =', Ka,' H+ =', float(ans) ))  "
   ]
  },
  {
   "cell_type": "markdown",
   "metadata": {
    "collapsed": true
   },
   "source": [
    "### Q34 answer\n",
    "(a) As velocity $v$ is distance/time, velocity $v(t)=dy/dt$ and as $y$ is expressed a a log it is convenient to use the general form \n",
    "\n",
    "$$\\displaystyle \\frac{d\\ln(f(x))}{dt}\\equiv\\frac{1}{f(x)}\\frac{df(x)}{dt}$$\n",
    "\n",
    "which gives\n",
    "\n",
    "$$\\displaystyle v(t)=\\frac{dy}{dt}=ab\\frac{e^{2bt}-1}{e^{2bt}+1}$$ \n",
    "\n",
    "(This may also be expressed as $ab/\\tanh(bt)$). When enough time has elapsed $2bt$ is large and the exponential terms become far greater than either $+1$ or $-1$ making these unimportant. The exponential terms can now be cancelled leaving the terminal velocity as $ab$ or $\\displaystyle 2\\sqrt{\\frac{gm}{\\rho CA}}$. \n",
    "\n",
    "(b,c) Using the values given in the question,the terminal velocity of the skydiver is $\\approx 53$  m/s ($118.5$ mph) compared to $28$ m/s for a hailstone. No wonder they hurt so much when they strike you! The speed of the hailstone is surprisingly fast for its small mass, but its area is also very small and therefore so is its air resistance. If there were no air resistance, both bodies would fall at the same speed at all times and this would reach $gt$ at time $t$ if they were both initially at rest.\n",
    "\n",
    "The energy a hailstone contains is $0.77$ J; the skydiver $98.3$ kJ. The kinetic energy at terminal velocity is $\\displaystyle \\frac{mv^2}{2}=\\frac{gm^2}{\\rho CA}$ and inversely proportional to area. The skydiver has an area 1.5 m$^2$ the hailstone $3.14 \\cdot 10^{-4} \\,\\mathrm{m^2}$. Incidentally, you can see that if the skydiver doubles their surface area then the speed is reduced only as $\\sqrt{2}$ and hence you can understand why a parachute has to be so large.\n",
    "\n",
    "To find the $95$% time for the skydiver $\\displaystyle \\frac{e^{2bt}-1}{e^{2bt}+1}=0.95$ has to be solved for $t$ with $\\displaystyle b=\\sqrt{\\frac{g\\rho C A}{m}} = 0.368$. SymPy could be used but it is just as easy to rearrange the equation into $\\displaystyle e^{2bt}=39$ and taking logs. The time taken to reach $95$% of terminal velocity is $\\approx 5$ s and the distance travelled is $169$ m.\n",
    "\n",
    "(d) Using the formula for the terminal velocity the cat is supposedly able to produce a surface area of $3\\,\\mathrm{ m^2}$ by spreading out its legs. This is such a large area compared to the skydiver ($1.5\\,\\mathrm{ m^2}$), one has to presume that the fur also adds considerably to the air resistance, and so it is the area times $C$, the air-drag coefficient, that is larger, not just the area itself. Therefore $AC \\approx 1.5$ for the cat and $0.75$ for the skydiver.\n",
    "\n",
    "![Drawing](differen-fig43.png)\n",
    "\n",
    "Figure 43. Velocity (m/s) vs time in seconds for the skydiver. The acceleration to terminal velocity is rather rapid and is reached in as little as $\\approx 7$ seconds. The dashed line shows the terminal velocity.\n",
    "_____\n",
    "\n",
    "### Q35 answer\n",
    "Differentiating $e^{\\alpha x}$ once produces $\\displaystyle \\frac{d}{dx}e^{\\alpha x}=\\alpha e^{\\alpha x}$ and so $n$ times over $\\displaystyle \\frac{d^n}{dx^n}e^{\\alpha x}=\\alpha ^ne^{\\alpha x}$. Notice that the result has the characteristic form $H\\psi = E\\psi$, if the eigenvalue is $E = \\alpha^n$ and the wavefunction $\\psi=e^{\\alpha x}$.\n",
    "\n",
    "(b) Repeating the calculation with $\\sin(\\alpha x)$ produces \n",
    "\n",
    "$$\\displaystyle \\frac{d^n}{dx^n}=\\sin(\\alpha x)=\\alpha^n\\sin(\\alpha x)$$\n",
    "\n",
    "but this is an eigenvalue - eigenvector equation only when $n$ is even. When $n$ is odd, \n",
    "\n",
    "$$\\displaystyle \\frac{d}{dx}=\\sin(\\alpha x)=\\alpha\\cos(\\alpha x)$$\n",
    "\n",
    "which is not an eigenvalue - eigenvector equation. However, the function $\\sin(\\alpha x)$ is a solution to the particle in a box problem because, in the Schroedinger equation, the operator representing kinetic energy is always present with $n$ = 2 as kinetic energy is present as the second derivative.\n",
    "\n",
    "In quantum mechanics the momentum operator  \n",
    "\n",
    "$$p=\\displaystyle -i\\hbar\\frac{d}{dx}$$\n",
    "\n",
    "and as kinetic energy is $\\displaystyle \\frac{p^2}{2m}$ therefore \n",
    "\n",
    "$$\\displaystyle \\frac{1}{2m}\\left(-i\\hbar\\frac{d}{dx}  \\right)^2=-\\frac{\\hbar^2}{2m}\\frac{d^2}{dx^2}$$\n",
    "\n",
    "### Q36 answer\n",
    "Substituting for $E$ and after rearranging \n",
    "\n",
    "$$\\displaystyle -\\frac{\\hbar^2}{2m}\\psi^{''}+\\left(\\frac{kx^2}{2}-\\frac{3}{2}\\hbar\\left( \\frac{k}{\\mu} \\right)^{1/2} \\right)\\psi=0$$\n",
    "\n",
    "Next differentiate $\\psi$ once and twice, remembering that $ \\alpha $ is a constant produces\n",
    "\n",
    "$$\\displaystyle \\frac{d\\psi}{dx}=\\left( \\frac{4\\alpha^3}{\\pi} \\right)^{1/4} \\left( e^{-(\\alpha /2)x^2} -\\alpha x^2 e^{-(\\alpha/2)x^2}  \\right) $$\n",
    "\n",
    "$$\\displaystyle \\frac{d^2\\psi}{dx^2}=\\left( \\frac{4\\alpha^3}{\\pi} \\right)^{1/4} \\left(-3+\\alpha x^2 \\right)\\alpha x e^{-(\\alpha/2)x^2}  $$\n",
    "\n",
    "Next, multiply by $\\displaystyle -\\frac{\\hbar^2}{2m}$ and add $\\displaystyle\\left(\\frac{kx^2}{2}-\\frac{3}{2}\\hbar\\sqrt{\\frac{k}{\\mu}}  \\right)\\psi$ to complete the equation. This produces\n",
    "\n",
    "$$\\displaystyle -\\frac{\\hbar^2}{2\\mu}\\left( \\frac{4\\alpha^3}{\\pi} \\right)^{1/4} \\left(-3+\\alpha x^2 \\right)\\alpha x e^{-(\\alpha/2)x^2}+\\left( \\frac{kx^2}{2} -\\frac{3\\hbar}{2}\\sqrt{\\frac{k}{\\mu}}\\right)\\left(\\frac{4\\alpha^3}{\\pi} \\right)^{1/4}xe^{-(\\alpha /2)x^2}=0  $$\n",
    "\n",
    "If the left-hand side of this horrid equation can be simplified to make zero, this will show that $\\psi$ is a solution of the equation.\n",
    "\n",
    "Assuming that this equation is zero and that $\\psi$ is a solution,then most of the constants and the exponential terms can now be divided away to leave,\n",
    "\n",
    "$$\\displaystyle -\\frac{\\hbar^2}{2\\mu} \\left(-3+\\alpha x^2 \\right)\\alpha +\\left( \\frac{kx^2}{2} -\\frac{3\\hbar}{2}\\sqrt{\\frac{k}{\\mu}}\\right)=0  $$\n",
    "\n",
    "Only the constant $\\alpha$ remains and must be replaced with the expression given in the question; substituting $\\displaystyle \\alpha=\\sqrt{\\frac{\\mu k}{\\hbar^2}}$ produces\n",
    "\n",
    "$$\\displaystyle -\\frac{\\hbar^2}{2\\mu} \\left(-3+\\sqrt{\\frac{\\mu k}{\\hbar^2}} x^2 \\right)\\sqrt{\\frac{\\mu k}{\\hbar^2}} +\\left( \\frac{kx^2}{2} -\\frac{3\\hbar}{2}\\sqrt{\\frac{k}{\\mu}}\\right)=0  $$\n",
    "\n",
    "After expanding and cancelling terms this expression does become zero and therefore \n",
    "\n",
    "$$\\displaystyle \\psi = 2\\sqrt{2}\\left(\\frac{\\alpha ^3}{\\pi}  \\right)^{1/4}xe^{-(\\alpha /2)x^2}$$\n",
    "\n",
    "is the harmonic oscillator wavefunction  for $\\nu$=1 and its energy is \n",
    "\n",
    "$$\\displaystyle E= \\frac{3}{2}\\hbar\\sqrt{\\frac{k}{\\mu}}$$\n",
    "\n",
    "Using Sympy a result of zero is produced after some more simplification that the programme fails to do unless the instruction $\\mathtt{,positive =True}$ is added to the first line as an argument to $\\mathtt{symbols}$."
   ]
  },
  {
   "cell_type": "code",
   "execution_count": 31,
   "metadata": {},
   "outputs": [
    {
     "data": {
      "image/png": "[encoded data removed]",
      "text/latex": [
       "$\\displaystyle \\frac{1.5 \\sqrt{2} \\hbar x \\left(\\hbar \\sqrt{\\frac{k \\mu}{\\hbar^{2}}} - \\mu \\sqrt{\\frac{k}{\\mu}}\\right) \\sqrt[4]{\\left(\\frac{k \\mu}{\\hbar^{2}}\\right)^{\\frac{3}{2}}} e^{- \\frac{x^{2} \\sqrt{\\frac{k \\mu}{\\hbar^{2}}}}{2}}}{\\sqrt[4]{\\pi} \\mu}$"
      ],
      "text/plain": [
       "                                                                 _____ \n",
       "                                                          2     ╱ k⋅μ  \n",
       "                                                        -x ⋅   ╱  ───  \n",
       "                                                              ╱     2  \n",
       "                                            __________      ╲╱    h̅   \n",
       "           ⎛       _____         ___⎞      ╱      3/2   ───────────────\n",
       "           ⎜      ╱ k⋅μ         ╱ k ⎟     ╱  ⎛k⋅μ⎞             2       \n",
       "1.5⋅√2⋅h̅⋅x⋅⎜h̅⋅   ╱  ───  - μ⋅  ╱  ─ ⎟⋅   ╱   ⎜───⎟    ⋅ℯ               \n",
       "           ⎜    ╱     2      ╲╱   μ ⎟ 4 ╱    ⎜  2⎟                     \n",
       "           ⎝  ╲╱    h̅              ⎠ ╲╱     ⎝h̅ ⎠                     \n",
       "───────────────────────────────────────────────────────────────────────\n",
       "                                4 ___                                  \n",
       "                                ╲╱ π ⋅μ                                "
      ]
     },
     "execution_count": 31,
     "metadata": {},
     "output_type": "execute_result"
    }
   ],
   "source": [
    "psi,x,hbar,E,k,alpha,mu = symbols('psi, x, hbar, E, k, alpha, mu ') # to get zero add ..' ,positive=True)\n",
    "\n",
    "alpha = sqrt(mu*k/hbar**2)\n",
    "\n",
    "E = (3/2)*hbar*sqrt(k/mu)\n",
    "\n",
    "psi = lambda x: sqrt(sqrt(4*alpha**3/pi))*x*exp(-(alpha/2)*x**2)\n",
    "\n",
    "eqn = ( (-hbar**2/(2*mu))*diff(psi(x),x,x) +((1/2)*k*x**2-E)*psi(x)) \n",
    " \n",
    "simplify((eqn) )"
   ]
  },
  {
   "cell_type": "markdown",
   "metadata": {
    "collapsed": true
   },
   "source": [
    "### Q37 answer\n",
    "Differentiation gives \n",
    "\n",
    "$$\\displaystyle \\frac{dE}{dn}=\\hbar\\omega_e -2\\hbar x_e\\omega_e(n+\\frac{1}{2})$$\n",
    "\n",
    "and therefore \n",
    "\n",
    "$$\\omega = \\omega_e-2 x_e\\omega_e(n+1/2)$$\n",
    "\n",
    "Rearranging to find $n+1/2$ and then substituting into the energy $E$, which will eliminate $n$, produces \n",
    "\n",
    "$$\\displaystyle E=\\frac{\\hbar}{2x_e}(\\omega_e-\\omega)-\\frac{\\hbar}{4\\omega_e}(\\omega_e-\\omega)^2$$\n",
    "\n",
    "Rearranging gives \n",
    "\n",
    "$$\\displaystyle \\omega^2 =\\omega_e^2=4x_e\\omega_e \\frac{E}{\\hbar}$$\n",
    "\n",
    "where $E$ is the energy in the potential well. In an optical experiment this is the energy of the photon $E_{h\\nu} \\equiv E_{\\hbar\\omega}$ less the zero point energy $E_0$ of the transition, therefore, $\\omega^2 =\\omega_e^2=4x_e\\omega_e (E_{\\hbar\\omega}-E_0)$.\n",
    "\n",
    "### Q38 answer\n",
    "(a) $\\displaystyle \\frac{dV}{dx}=\\pi x^2\\tan^2(\\alpha)$ where 0$\\le x\\le h$ and this is the surface area of the cone as it is proportional to $x^2$. When a volume is differentiated, an area is produced because the dimension is reduced. This function represents how the volume in the cone changes with height and would usually be described as the rate of change of volume with height.\n",
    "\n",
    "(b) The rate of liquid loss is given as $5\\,\\mathrm{ cm^3\\, min^{-1}}$ and this is $dV/dt$ where $V$ is the volume; however, only $dV/dx$ has been calculated. These two derivatives are connected with the 'function of a function' equation\n",
    "\n",
    "$$\\displaystyle \\frac{dV}{dt}=\\frac{dV}{dx}\\frac{dx}{dt}$$\n",
    "\n",
    "where $dV/dt$ is the rate of decrease of the liquid's volume. Rearranging to $\\displaystyle \\frac{dx}{dt}=\\frac{dV}{dt}/\\frac{dV}{dx}$ and from the values given $\\displaystyle \\frac{dx}{dt}=\\frac{5}{\\pi x^2}\\tan^2(\\alpha)$ and when $x = 2$ and as $b$ = 3 and $h = 9$ cm, $\\tan(\\alpha) = 1/3$, and the rate of liquid level decrease is $3.6\\,\\mathrm{ cm \\,min^{-1}}$ which clearly increases as $x$ decreases because the volume flow rate is a constant.\n",
    "\n",
    "### Q39 answer\n",
    "(a) Starting with the harmonic potential, the first derivative is $\\displaystyle \\frac{dV_{HO}}{dr}=2k(r-r_e)$ and the second derivative $\\displaystyle \\frac{d^2V_{HO}}{dr^2}=2k$. The radius of curvature is \n",
    "\n",
    "$$\\displaystyle \\rho=\\frac{\\left( 1+4k^2(r-r_e )\\right)^{3/2}}{2k}$$\n",
    "\n",
    "and when $r=r_e$ the curvature is $\\rho_{r_e}=1/2k$.\n",
    "\n",
    "(b) The Morse potential calculation is effectively the same but more involved and is done using Sympy as follows,"
   ]
  },
  {
   "cell_type": "code",
   "execution_count": 32,
   "metadata": {},
   "outputs": [
    {
     "data": {
      "image/png": "[encoded data removed]",
      "text/latex": [
       "$\\displaystyle - \\frac{\\left(\\left(4 De^{2} \\beta^{2} \\left(e^{\\beta \\left(r - re\\right)} - 1\\right)^{2} + e^{4 \\beta \\left(r - re\\right)}\\right) e^{- 4 \\beta \\left(r - re\\right)}\\right)^{1.5} e^{2 \\beta \\left(r - re\\right)}}{2 De \\beta^{2} \\left(e^{\\beta \\left(r - re\\right)} - 2\\right)}$"
      ],
      "text/plain": [
       "                                                               1.5            \n",
       " ⎛⎛                          2                ⎞               ⎞               \n",
       " ⎜⎜    2  2 ⎛ β⋅(r - re)    ⎞     4⋅β⋅(r - re)⎟  -4⋅β⋅(r - re)⎟     2⋅β⋅(r - r\n",
       "-⎝⎝4⋅De ⋅β ⋅⎝ℯ           - 1⎠  + ℯ            ⎠⋅ℯ             ⎠   ⋅ℯ          \n",
       "──────────────────────────────────────────────────────────────────────────────\n",
       "                                  2 ⎛ β⋅(r - re)    ⎞                         \n",
       "                            2⋅De⋅β ⋅⎝ℯ           - 2⎠                         \n",
       "\n",
       "   \n",
       "   \n",
       "e) \n",
       "   \n",
       "───\n",
       "   \n",
       "   "
      ]
     },
     "execution_count": 32,
     "metadata": {},
     "output_type": "execute_result"
    }
   ],
   "source": [
    "Vm,De,r,re,beta,V,k=symbols('Vm, De, r, re, beta, V, k')\n",
    "\n",
    "Vm = De*(1 - exp(-(r-re)*beta))**2             # Morse potential\n",
    "\n",
    "ans= ( 1 + (diff(Vm,r))**2)**(3/2)/( diff(Vm,r,r) )\n",
    "simplify(ans)"
   ]
  },
  {
   "cell_type": "markdown",
   "metadata": {},
   "source": [
    "Substituting $r = r_e$  (and using $e^0=1$) into this complex result produces considerable simplification making radius of curvature $\\displaystyle \\rho=\\frac{1}{2D_e\\beta^2}$. Sympy also finds this result."
   ]
  },
  {
   "cell_type": "code",
   "execution_count": 33,
   "metadata": {},
   "outputs": [
    {
     "data": {
      "image/png": "[encoded data removed]",
      "text/latex": [
       "$\\displaystyle \\frac{1}{2 De \\beta^{2}}$"
      ],
      "text/plain": [
       "   1   \n",
       "───────\n",
       "      2\n",
       "2⋅De⋅β "
      ]
     },
     "execution_count": 33,
     "metadata": {},
     "output_type": "execute_result"
    }
   ],
   "source": [
    "ans.subs(r,re)"
   ]
  },
  {
   "cell_type": "markdown",
   "metadata": {},
   "source": [
    "(c) Comparing this last result with that from the harmonic oscillator the force constant $k = D_e \\beta^2$.\n",
    "\n",
    "(d) The radius of curvature at the minimum has units of metres/ Newton not just metres because the potential energy is plotted on axes of N m $\\equiv$ J vs. m. The constant $\\beta$ has units of m$^{-1}$ and $D_e$ units of J so the units of the radius are also m/N  for the Morse potential.\n",
    "\n",
    "The units of the force constant are N/m, the dissociation energy must be in J and $\\beta$ is in $m^{-1}$ as the exponential in which it appears must be dimensionless. Therefore $k(N/m) = D_e (\\text{J}) \\beta^2 (\\mathrm{m^{-2}}) \\equiv \\mathrm{J\\,m^{-2}} = \\mathrm{N\\, m\\, m^{-2}} =\\mathrm{ N\\, m^{-1}}$, which is dimensionally correct. A joule is a newton $\\cdot$ metre because energy is force times distance.\n",
    "\n",
    "### Q40 answer\n",
    "As force is the derivative of the potential with extension and is also defined by Hooke's law as force constant $\\cdot$ extension. Therefore, the force constant is the second derivative of potential with extension.\n",
    "\n",
    "If the potential $V = ks^2/2$ with $s$ the extension then $\\displaystyle \\frac{d^2V}{ds^2}=k$. Differentiating the Morse potential with respect to $s$ produces the force, \n",
    "\n",
    "$$\\displaystyle \\frac{dV_m}{ds}=2\\beta e^{-\\beta s}D_e\\left( 1-e^{-\\beta s}\\right)$$\n",
    "\n",
    "and again \n",
    "\n",
    "$$\\displaystyle \\frac{d^2V_m}{ds^2}=2\\beta^2 D_e(2e^{-\\beta s}-1)e^{-\\beta s}$$\n",
    "\n",
    "and at the minimum $s=0$ giving $\\displaystyle \\frac{d^2V_m}{ds^2}=2\\beta^2 D_e$.  This is therefore the Hooke's Law force constant if the two second derivatives of $V_m$ and $V$ are assumed equal. This answer is slightly different to that of the previous question as different assumptions were made in these two calculations. In that question, it was assumed, without justification, that the curvature was the same for the harmonic and Morse potential at the minimum; in this question, it is argued dimensionally that the force constant is the second derivative of the potential. \n",
    "\n",
    "### Q41 answer\n",
    "(a) The internal energy is found by substituting for $Z$ and differentiating $\\ln(Z)$ with $T$. The three lines below only involve simplification with no calculation;\n",
    "\n",
    "$$\\displaystyle \\begin{align}\n",
    "U&=Nk_BT^2\\frac{d}{dT}\\ln\\left( e^{-\\theta /2T} \\left( 1-e^{-\\theta /T }\\right)^{-1} \\right) \\\\\n",
    "&=Nk_BT^2\\left[\\frac{d}{dT}\\ln\\left( e^{-\\theta /2T}\\right) - \\frac{d}{dT}\\ln \\left( 1-e^{-\\theta /T }\\right) \\right] \\\\\n",
    "&=Nk_BT^2\\left[-\\frac{d}{dT}\\ln\\left(\\frac{\\theta }{2T}\\right) - \\frac{d}{dT}\\ln \\left( 1-e^{-\\theta /T }\\right) \\right]\n",
    "\\end{align}$$\n",
    "\n",
    "Now differentiate with $T$ and simplify the result by multiplying both top and bottom of the expression by $e^{\\theta/T}$,\n",
    "\n",
    "$$\\displaystyle U=Nk_BT^2\\left(\\frac{\\theta}{2T^2}-\\frac{-\\theta e^{-\\theta /T}}{T^2\\left(1-e^{-\\theta/T}  \\right)}  \\right)=Nk_B\\theta \\left(\\frac{1}{2}+\\frac{1}{e^{\\theta /T} -1}  \\right)$$\n",
    "\n",
    "The heat capacity is \n",
    "\n",
    "$$\\displaystyle C_V=\\frac{dU}{dT}=Nk_B\\frac{\\theta^2}{T^2}\\frac{e^{\\theta/T}}{\\left( e^{\\theta/T}-1\\right)^2}$$\n",
    "\n",
    "(b) First, calculate the limits to the internal energy. At high temperatures, the exponential terms are small and can be approximated as the series $e^x = 1 + x + \\cdots$; therefore $\\displaystyle U\\approx Nk_B\\theta \\left(\\frac{1}{2}+\\frac{T}{\\theta}  \\right)$ and, at even higher temperatures, where $T/\\theta \\gg 1$, the internal energy increases in direct proportion to the temperature and $U = Nk_BT$.\n",
    "\n",
    "This is exactly what would be expected from a molecule with two degrees of freedom; one degree of kinetic energy and one of potential energy from each molecule with each term contributing $k_BT/2$.\n",
    "\n",
    "At high temperatures, expanding the exponentials in the equation for heat capacity as $\\theta/T$ is small produces $\\displaystyle C_v \\to Nk_B\\frac{\\theta^2}{T^2}\\frac{T^2}{\\theta^2}=Nk_B$ and $Nk_B=R$ the gas constant.\n",
    "\n",
    "When the temperature is low and tends to zero, $T/\\theta \\ll 1$ then $e^{\\theta/T} \\to \\infty$ and in the expression for the internal energy $\\displaystyle \\frac{1}{e^{\\theta/t}-1} \\to \\frac{1}{e^{\\theta/T}} \\to 0$ producing the limit $U=N\\hbar\\omega /2$ which is the zero point energy.\n",
    "\n",
    "\n",
    "Consider now the heat capacity at low temperatures. Because the exponentials are again large; $\\displaystyle \\frac{e^{\\theta/T}}{\\left(e^{\\theta/T}-1  \\right)^2}\\to \\frac{e^{\\theta/T}}{e^{2\\theta/T}}=\\frac{1}{e^{\\theta/T}}$ and therefore $\\displaystyle C_V=Nk_B\\frac{\\theta^2}{T^2}\\frac{1}{e^{\\theta/T}}$ and hence $C_V \\to 0$ at $T \\to 0$ because the exponential approaches zero faster than $1/T^2$ approaches infinity.\n",
    "\n",
    "(c) Plots of the internal energy and heat capacity are shown in Fig. 44 in reduced units of $T/\\theta$ and ordinates of $U$ divided by $Nk_B\\theta$ and $C_V$ by $Nk_B$. These plots are universal and therefore true for any parameter values because they are in reduced or dimensionless units. The value of $\\theta =\\hbar\\omega/k_B \\equiv h\\nu/k_B$ is a few hundred degrees Kelvin; for iodine molecules this is $127/0.63= 201.6$ K where the vibrational frequency is $127\\,\\mathrm{ cm^{-1}}$.\n",
    "\n",
    "![Drawing](differen-fig44.png)\n",
    "\n",
    "Figure 44. Plots of internal energy and heat capacity in 'dimensionless' units. Internal energy is divided by $Nk_B\\theta$ vs $T/\\theta$ and the heat capacity is divided by $Nk_B$.\n",
    "____\n",
    "\n",
    "### Q42 answer\n",
    "The partition function is the sum of the Boltzmann factors for each energy level and is \n",
    "\n",
    "$$\\displaystyle Z=e^{-\\gamma \\hbar B_0/k_B T} + 1+ e^{+\\gamma \\hbar B_0/k_B T}$$\n",
    "\n",
    "where the middle term is unit because $e^0=1$. Because the derivative used to calculate $U$ is with respect to $\\beta = 1/k_BT$, this should be substituted for first then replaced after the calculation if necessary; viz; \n",
    "$$\\displaystyle Z = e^{-\\gamma \\hbar B_0\\beta} + 1 + e^{+\\gamma \\hbar B_0\\beta}$$\n",
    "\n",
    "(a) Average energy:by direct differentiation with $\\beta$ using the rules for log differentiation,$ \\displaystyle \\frac{d}{dx}\\ln(f(x))=\\frac{f'(x)}{f(x)}$ produces \n",
    "\n",
    "$$\\displaystyle U=-N\\frac{d}{d\\beta}\\ln\\left(e^{-\\gamma \\hbar B_0\\beta} + 1 + e^{+\\gamma \\hbar B_0\\beta}  \\right)=-\\gamma\\hbar B_0N \\frac{-e^{-\\gamma \\hbar B_0\\beta}  + e^{+\\gamma \\hbar B_0\\beta}}{e^{-\\gamma \\hbar B_0\\beta} + 1 + e^{+\\gamma \\hbar B_0\\beta}}$$\n",
    "\n",
    "(b) Next,this equation is examined at high and low temperatures to see what form it takes. When $\\beta$ is small (high temperature) by letting $\\beta \\to 0$ each exponential can be expanded term by term, since $\\displaystyle e^{\\pm x} = 1 \\pm x \\cdots$, to give\n",
    "\n",
    "$$\\displaystyle U_{high \\; T}=-\\gamma \\hbar B_0 N\\frac{-1+\\gamma \\hbar B_0\\beta+1+\\gamma \\hbar B_0\\beta}{1-\\gamma \\hbar B_0\\beta+1+1+\\gamma \\hbar B_0\\beta} =-\\gamma \\hbar B_0\\frac{2\\gamma \\hbar B_0\\beta}{3} \\to 0$$\n",
    "\n",
    "\n",
    "When $\\beta$ is large which occurs at low temperatures, ($\\beta \\to \\infty$), $U_{low\\;T} \\to -\\gamma\\hbar B_0N $ because $e^{-\\gamma \\hbar B_0\\beta} \\to 0$ and the remaining exponential terms are very large $\\gg 1$ and cancel out.\n",
    "\n",
    "In conclusion, the average energy is predicted to be negative at low temperature, since most spins are in the lowest energy level and tend toward zero as the temperature increases, because spins are more equally distributed amongst all levels.\n",
    "\n",
    "(b) The heat capacity is most easily calculated by changing to temperature rather than using $\\beta$ as our variable. As $\\beta = 1/k_BT$, using the function-of-function equation $\\displaystyle \\frac{dU}{d\\beta}=\\frac{dU}{dT}\\frac{dT}{d\\beta}$  the heat capacity is $\\displaystyle C_B=\\frac{dU}{dT}=-\\frac{1}{k_BT^2}\\frac{dU}{d\\beta}$.\n",
    "\n",
    "$$\\displaystyle -\\frac{1}{k_BT^2}\\frac{dU}{d\\beta}=N\\frac{(\\gamma\\hbar B_0)^2}{k_BT^2}\\left(  \\frac{e^{-\\gamma\\hbar B_0\\beta}+e^{\\gamma\\hbar B_0\\beta}}{e^{-\\gamma\\hbar B_0\\beta}+1+e^{\\gamma\\hbar B_0\\beta}}-\\frac{(-e^{-\\gamma\\hbar B_0\\beta}+e^{\\gamma\\hbar B_0\\beta})^2}{(e^{-\\gamma\\hbar B_0\\beta}+1+e^{\\gamma\\hbar B_0\\beta})^2}  \\right)$$\n",
    "\n",
    "This complicated equation can be simplified somewhat; it helps to temporarily substitute $\\gamma\\hbar B_0\\beta = x$ and note that there is a common term in the denominator; the result remains complicated, however,\n",
    "\n",
    "$$\\displaystyle C_B=N\\frac{(\\gamma\\hbar B_0)^2}{k_BT^2}\\frac{e^{-\\gamma\\hbar B_0/k_BT}+4+e^{\\gamma\\hbar B_0/k_BT}}{(e^{-\\gamma\\hbar B_0/k_BT}+1+e^{\\gamma\\hbar B_0/k_BT})^2}$$\n",
    "\n",
    "Some authors convert the exponentials to cosh functions which will obviously appear to be a different result.\n",
    "\n",
    "(c) At high and at low temperatures $C_B$ has different limits. When $T$ is small, $T \\to$ 0, the exponential $e^{a/T} \\to \\infty$ and $e^{-a/T} \\to 0$ where $\\gamma\\hbar B_0/k_B = a$.\n",
    "\n",
    "The two $e^{a/T}$ terms are far greater than any constants or $e^{-a/T}$ and then cancel one another; the result is $\\displaystyle C_B \\to \\frac{1}{T^2e^{a/T}}\\to 0$ and so tends to zero, because the exponential increases more rapidly than the $T^{-2}$ term as $T$ approaches zero. \n",
    "\n",
    "When $T$ is large, each exponential term tends to unity, $e^0 = 1$, and so $C_B \\to 0$ because of the $T^{-2}$ term which remains.\n",
    "\n",
    "The graph of $C_B$ vs $T$ is shown below and confirms the limiting values just estimated. The peak in the heat capacity is called the _Schottky anomaly_ and is useful in determining energy level splitting in rare earth ions and transition metals.\n",
    "\n",
    "The average energy tends to zero as the temperature rises because almost equal populations of spins occupy levels with energies $E = -\\gamma\\hbar B_0,\\; E = 0$, and $E = +\\gamma\\hbar B_0$. That this occurs at such a low temperature is because the energy gaps between nuclear spin levels in a magnetic field, even one as large as $14$ T, are tiny. The heat capacity $C_B$ is the rate of change of internal energy $U$ with temperature. At low temperatures the slope of $U$ vs $T$ is constant, because all the spins are in the lowest level and $C_B = 0$, and at high temperature, the three levels are almost equally populated, therefore, there is no change with temperature. At intermediate temperatures, the rate of increase of energy is large and thus $C_B$ is also large because nuclei are excited by thermal energy from the lowest spin state into the two others. The figure show the heat capacity and internal energy.\n",
    "\n",
    "![Drawing](differen-fig45.png)\n",
    "\n",
    "Figure 45 The calculated average energy $U$ and heat capacity per mole $C_B$, for the spin 1 nucleus, $^{14}$N, in a 14 T magnetic field. The magnetogyric constant $\\gamma $ = 1.47 $\\cdot$ 10<sup>7</sup> rad /T/s.\n",
    "_____\n",
    "\n",
    "(d) The entropy is $\\displaystyle S = \\frac{U}{T} + Nk_B\\ln(Z)$ and using the results\n",
    "already derived,\n",
    "\n",
    "$$\\displaystyle S=-\\frac{\\gamma\\hbar B_0 N}{T}\\frac{-e^{-\\gamma\\hbar B_0/k_BT}+e^{+\\gamma\\hbar B_0/k_BT}   }{e^{-\\gamma\\hbar B_0/k_BT}+1+ e^{+\\gamma\\hbar B_0/k_BT}}+Nk_B\\ln\\left(e^{-\\gamma\\hbar B_0/k_BT}+1+ e^{+\\gamma\\hbar B_0/k_BT}  \\right)  \\tag{A}$$\n",
    "\n",
    "This is a rather unforgiving equation and it does not obviously help us to understand the entropy. However, the entropy at high temperature can also be calculated from the equation\n",
    "$S = k_B\\ln(\\Omega)$ where $\\Omega$ is the number of microstates. Because there are three states and $N$ spins that can be in any of these states, then $\\Omega = 3N$, and $S = Nk_B\\ln(3) = 9.13\\,\\mathrm{ J\\, mol^{-1}\\, K^{-1}}$.\n",
    "\n",
    "Evaluating $S$ using equation A  when $T$ is large, the first term tends to zero, as does the average energy $U$, and the second term produces $Nk_B\\ln(3)$. The $\\ln(3)$ is produced because at high temperatures the nuclei have an equal chance of taking any of the three orientations to the magnetic field. At low temperatures, only the lowest level is populated so that $S = Nk_B\\ln(1) = 0$ and the nuclear-spin angular momentum points in a direction parallel to the applied field $B_0$.\n",
    "\n",
    "![Drawing](differen-fig46.png)\n",
    "\n",
    "Figure 46. Entropy vs temperature for the three levels spins. The dashed line shows $S = Nk_B \\ln(3)$.\n"
   ]
  },
  {
   "cell_type": "code",
   "execution_count": null,
   "metadata": {},
   "outputs": [],
   "source": []
  }
 ],
 "metadata": {
  "kernelspec": {
   "display_name": "Python 3 (ipykernel)",
   "language": "python",
   "name": "python3"
  },
  "language_info": {
   "codemirror_mode": {
    "name": "ipython",
    "version": 3
   },
   "file_extension": ".py",
   "mimetype": "text/x-python",
   "name": "python",
   "nbconvert_exporter": "python",
   "pygments_lexer": "ipython3",
   "version": "3.8.9"
  }
 },
 "nbformat": 4,
 "nbformat_minor": 2
}
