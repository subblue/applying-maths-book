{
 "cells": [
  {
   "cell_type": "markdown",
   "id": "1126af56",
   "metadata": {},
   "source": [
    "# 11. Numerical Methods\n",
    "\n",
    "This chapter outlines several numerical techniques and associated algorithms which are needed to perform integrations and solve differential equations. These are written generically and with Python. Accurate and efficient ways of calculating results from theory is an essential tool for any scientist. Using (free) computer mathematics programs such as Python, Numpy, Scipy and Sympy among other commercial packages is a great boon because calculations can be done to great numerical precision and accuracy. However, in line with our objective of understanding the principles of how to solve problems, several techniques, which contain the essence of the method to be used, are outlined.\n",
    "\n",
    "Once these are understood, you will have the knowledge to understand the more complex 'black-box' methods that Numpy, Scipy, SymPy or other software use."
   ]
  }
 ],
 "metadata": {
  "kernelspec": {
   "display_name": "Python 3 (ipykernel)",
   "language": "python",
   "name": "python3"
  },
  "language_info": {
   "codemirror_mode": {
    "name": "ipython",
    "version": 3
   },
   "file_extension": ".py",
   "mimetype": "text/x-python",
   "name": "python",
   "nbconvert_exporter": "python",
   "pygments_lexer": "ipython3",
   "version": "3.8.9"
  }
 },
 "nbformat": 4,
 "nbformat_minor": 5
}