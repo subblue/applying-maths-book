{
 "cells": [
  {
   "cell_type": "markdown",
   "metadata": {},
   "source": [
    "## Questions 31 - 34 "
   ]
  },
  {
   "cell_type": "markdown",
   "metadata": {},
   "source": [
    "### Q31\n",
    "Derive the equations 10 and matrix 11 for rotating the tip of a vector clockwise using the definitions in Fig. 34. The two vectors defined in terms of their polar coordinates, are $(r, \\cos(90 -\\alpha)$ and $(r, \\cos(90 -\\alpha + \\theta))$ and their Cartesian equivalents, $V_1$ and $V_2$.\n",
    "\n",
    "![Drawing](matrices-fig34.png) \n",
    "\n",
    "Figure 34. Rotating vectors\n",
    "______\n",
    "\n",
    "**Strategy:** Define the $x$ and $y$ coordinates of both vectors in terms of sines and cosines. Expand the\n",
    "double-angle sine and cosine produced using the trig formulas.\n",
    "\n",
    "### Q32 Rotation\n",
    "Show that by rotating a molecule by $\\theta$ using the rotation matrix $R(\\theta)$, equation 11, and then again by $\\theta$, the result is the same as the operation $R(\\theta)^2$.\n",
    "\n",
    "**Strategy:** The total angle moved is $2\\theta$, so we need to show that the rotation matrix $\\pmb{R}$ with angle $2\\theta$ is the same as $\\pmb{R}^2$ with angle $\\theta$ so we are likely to need the double-angle trig formulas which are $\\sin(2\\theta) = 2 \\sin(\\theta)\\cos(\\theta)$ and $\\cos(2\\theta) = \\cos^2(\\theta) - \\sin^2(\\theta)$.\n",
    "\n",
    "### Q33 Rotate a molecule\n",
    "Draw and rotate part of a protein structure you choose; this could be based on algorithm 4. Use part of the peptide chain from a .pdb file taken from the Brookhaven database. The size is not so important and will be limited by how easily you can make a connectivity list. Alternatively, you could try to generate this list by measuring the distance between atoms using known bond lengths. These can also be obtained from the coordinates in the .pdb file.\n",
    "\n",
    "### Q34 CCl$_4$\n",
    "The molecule CCl$_4$ has tetrahedral symmetry where the bond angles are each $109.7^\\text{o}$. The atoms labelled 3 and 4 are in the $z-y$ plane and the other two in the $z-x$ plane.\n",
    "\n",
    "(a) Using a matrix representation for each symmetry operation, show that a rotation by $90^\\text{o}$ about the z-axis, then inversion followed by an $S_4$ rotation-reflection operation, leaves the molecule in an indistinguishable state.\n",
    "\n",
    "(b) Does operating in the reverse order produce the same result?\n",
    "\n",
    "![Drawing](matrices-fig35.png)\n",
    "\n",
    "Figure 35. Carbon tetrachloride\n",
    "______\n",
    "\n",
    "**Strategy:** If the angle rotated about the z-axis is $\\theta$ the rotation matrix when $\\theta = 90^\\text{o}$ contains elements of zero and $\\pm 1$ only if the other rotation angles are zero. Inversion inverts all the atoms coordinates."
   ]
  }
 ],
 "metadata": {
  "kernelspec": {
   "display_name": "Python 3 (ipykernel)",
   "language": "python",
   "name": "python3"
  },
  "language_info": {
   "codemirror_mode": {
    "name": "ipython",
    "version": 3
   },
   "file_extension": ".py",
   "mimetype": "text/x-python",
   "name": "python",
   "nbconvert_exporter": "python",
   "pygments_lexer": "ipython3",
   "version": "3.8.9"
  }
 },
 "nbformat": 4,
 "nbformat_minor": 2
}