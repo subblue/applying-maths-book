{
 "cells": [
  {
   "cell_type": "markdown",
   "id": "3a04c607",
   "metadata": {},
   "source": [
    "# 3. Differentiation."
   ]
  },
  {
   "cell_type": "markdown",
   "id": "b83e099f",
   "metadata": {},
   "source": [
    "Being able to use differentiation and integration are essential skills to any scientist. In the chemical sciences, chemical kinetics, thermodynamics, quantum mechanics and spectroscopy cannot be understood without knowing the basics. This chapter and the next one focus on the basics with many examples and queastion to help gain confidence in tackling problems. Some questions and examples are purely mathematical but a good number are related to chemistry."
   ]
  }
 ],
 "metadata": {
  "kernelspec": {
   "display_name": "Python 3",
   "language": "python",
   "name": "python3"
  },
  "language_info": {
   "codemirror_mode": {
    "name": "ipython",
    "version": 3
   },
   "file_extension": ".py",
   "mimetype": "text/x-python",
   "name": "python",
   "nbconvert_exporter": "python",
   "pygments_lexer": "ipython3",
   "version": "3.8.9"
  }
 },
 "nbformat": 4,
 "nbformat_minor": 5
}