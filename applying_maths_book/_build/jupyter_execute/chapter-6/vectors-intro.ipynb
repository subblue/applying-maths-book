{
 "cells": [
  {
   "cell_type": "markdown",
   "id": "39f3c7a7",
   "metadata": {},
   "source": [
    "# 6. Vectors."
   ]
  },
  {
   "cell_type": "markdown",
   "id": "48936a8a",
   "metadata": {},
   "source": [
    "Mass, temperature, energy, entropy, pressure, volume, and speed among many other quantities can be represented by a scalar, which is a simple number expressing the size or amount of something. Velocity, force, electric and magnetic fields, and acceleration each have _magnitude_ and _direction_ and therefore require two quantities to describe them, and they are called vectors. At school, you will probably have met a vector as an arrow drawn on a graph and which, therefore, has magnitude (length) and direction (angle). In biology, the idea is a related one, a vector being 'something that carries' and an infection is described as having a vector that causes its transmission from one creature to another."
   ]
  }
 ],
 "metadata": {
  "kernelspec": {
   "display_name": "Python 3 (ipykernel)",
   "language": "python",
   "name": "python3"
  },
  "language_info": {
   "codemirror_mode": {
    "name": "ipython",
    "version": 3
   },
   "file_extension": ".py",
   "mimetype": "text/x-python",
   "name": "python",
   "nbconvert_exporter": "python",
   "pygments_lexer": "ipython3",
   "version": "3.9.9"
  }
 },
 "nbformat": 4,
 "nbformat_minor": 5
}