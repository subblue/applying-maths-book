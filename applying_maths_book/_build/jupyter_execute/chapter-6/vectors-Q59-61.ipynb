{
 "cells": [
  {
   "cell_type": "markdown",
   "id": "a89f0bd6",
   "metadata": {},
   "source": [
    "# Questions 59 - 61"
   ]
  },
  {
   "cell_type": "markdown",
   "id": "39921dd1",
   "metadata": {},
   "source": [
    "## Q59 Cross product\n",
    "The differential of a cross product is $\\displaystyle \\frac{d}{dt}(\\vec A \\times \\vec B)=\\vec A \\times \\frac{d\\vec B}{dt}+\\frac{d\\vec A}{dt}\\times \\vec B$. Calculate $d\\vec L/dt$ if $\\displaystyle \\vec L=m\\vec v \\times \\frac{d\\vec r}{dt}$.\n",
    "\n",
    "## Q60 Centripetal acceleration \n",
    "A particle with orbital motion has a centripetal acceleration of $\\vec a = \\vec \\omega\\times (\\vec \\omega \\times \\vec r)$, where $\\vec \\omega$ is angular velocity and $\\vec r$ a positional vector. Find $|\\vec a|$ if the motion is in a circle where $\\vec r$ and $\\vec \\omega$ are perpendicular.\n",
    "\n",
    "## Q61 Rotating disc\n",
    "Derive the equation for the linear velocity of a disc, and by inference any rigid body, using the $(i, j, k)$ basis set of vectors. Although these are fixed in space they may be used by allowing the amplitude of the vector's components to change with rate $\\alpha$ which is also the magnitude of the angular velocity $\\vec \\omega$,\n",
    "\n",
    "$$\\displaystyle \\vec r(t) = \\vec r\\cos(\\alpha t)\\;\\boldsymbol i + \\vec r\\sin(\\alpha t)\\;\\boldsymbol j$$\n",
    "\n",
    "Calculate the cross product $\\vec \\omega \\times\\vec r$ and the position vector $\\vec r$. Next, differentiate $\\vec r$ to obtain the linear velocity $\\vec \\upsilon$ and equate the two equations. Figure 55 shows the definition of vectors. Let $r$ be the magnitude of vector $\\vec r$.\n",
    "\n",
    "![Drawing](vectors-fig55.png)\n",
    "\n",
    "Figure 55 Angular velocity $\\vec \\omega$, linear velocity $\\vec \\upsilon$ of a disc of radius $r$ with radius vector $\\vec r$."
   ]
  },
  {
   "cell_type": "code",
   "execution_count": null,
   "id": "2562b4c8",
   "metadata": {},
   "outputs": [],
   "source": []
  }
 ],
 "metadata": {
  "kernelspec": {
   "display_name": "Python 3 (ipykernel)",
   "language": "python",
   "name": "python3"
  },
  "language_info": {
   "codemirror_mode": {
    "name": "ipython",
    "version": 3
   },
   "file_extension": ".py",
   "mimetype": "text/x-python",
   "name": "python",
   "nbconvert_exporter": "python",
   "pygments_lexer": "ipython3",
   "version": "3.9.6"
  }
 },
 "nbformat": 4,
 "nbformat_minor": 5
}