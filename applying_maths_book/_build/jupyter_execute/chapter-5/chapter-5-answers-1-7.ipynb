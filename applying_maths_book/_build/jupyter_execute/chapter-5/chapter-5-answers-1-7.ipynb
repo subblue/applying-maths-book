{
 "cells": [
  {
   "cell_type": "markdown",
   "metadata": {},
   "source": [
    "## Solutions Q 1 - 7"
   ]
  },
  {
   "cell_type": "code",
   "execution_count": 1,
   "metadata": {},
   "outputs": [],
   "source": [
    "# import all python add-ons etc that will be needed later on\n",
    "%matplotlib inline\n",
    "import numpy as np\n",
    "import matplotlib.pyplot as plt\n",
    "from sympy import *\n",
    "init_printing()                         # allows printing of SymPy results in typeset maths format\n",
    "plt.rcParams.update({'font.size': 14})  # set font size for plots"
   ]
  },
  {
   "cell_type": "markdown",
   "metadata": {},
   "source": [
    "### Q1 answer\n",
    "The ratio test gives $\\displaystyle r=\\left|\\frac{x^{n+1}n!}{(n+1)!x^n}\\right|= \\frac{|x|}{n} $ and in the limit when $n \\rightarrow \\infty$ then $r \\rightarrow 0$ so the series is convergent for any value of $x$.\n",
    "\n",
    "### Q2 answer\n",
    "Starting with $1/(1+x)$, differentiating once produces $-1/(1 + x)^2$ and twice $2/(1 + x)^3$. Therefore, the expansion required can be found by differentiating the series expansion of $1/(1 + x)^2$. This was calculated in, equation (5.5), and produces the answer with the substitution $x \\rightarrow ax$.\n",
    "\n",
    "The expansion of $1/(1 + ax)^2$ is\n",
    "\n",
    "$$\\displaystyle 1 - 2ax + 3a^2x^2 - 4a^3x^3 + \\cdots + (-1)^{n-1}na^{n-1}x^{n-1} + \\cdots $$\n",
    "\n",
    "and differentiating produces\n",
    "\n",
    "$$\\displaystyle -2a/(1+ax)^3 =-2a+6a^2x-12a^3x^2 +\\cdots  +(-1)^n\\frac{n(n-1)}{2}a^{n-1}x^{n-2} + \\cdots $$\n",
    "\n",
    "the series is then\n",
    "\n",
    "$$\\displaystyle  \\frac{1}{(1+ax)^3} = 1-3ax+6a^2x^2-10a^3x^3 \\cdots + (-1)^n\\frac{n(n-1)}{2}a^{n-2}x^{n-2}+ \\cdots$$\n",
    "\n",
    "Using symbolic algebra, as shown below we can confirm the calculation. The 'big O' notation means that the series was terminated before the $x^6$ term."
   ]
  },
  {
   "cell_type": "code",
   "execution_count": 2,
   "metadata": {},
   "outputs": [
    {
     "data": {
      "image/png": "[encoded data removed]",
      "text/latex": [
       "$\\displaystyle 1 - 3 a x + 6 a^{2} x^{2} - 10 a^{3} x^{3} + 15 a^{4} x^{4} - 21 a^{5} x^{5} + O\\left(x^{6}\\right)$"
      ],
      "text/plain": [
       "               2  2       3  3       4  4       5  5    ⎛ 6⎞\n",
       "1 - 3⋅a⋅x + 6⋅a ⋅x  - 10⋅a ⋅x  + 15⋅a ⋅x  - 21⋅a ⋅x  + O⎝x ⎠"
      ]
     },
     "execution_count": 2,
     "metadata": {
      "filenames": {
       "image/png": "/Users/godfreybeddard/Dropbox/Dad-Tom/applying-maths-book/applying_maths_book/_build/jupyter_execute/chapter-5/chapter-5-answers-1-7_3_0.png"
      }
     },
     "output_type": "execute_result"
    }
   ],
   "source": [
    "#  using symbolic algebra SymPy to find the series, infinity is oo (two lc letter o together)\n",
    "x, a = symbols('x, a')         \n",
    "f01 = (1/(1 + a*x)**3 )\n",
    "series(f01,x)"
   ]
  },
  {
   "cell_type": "markdown",
   "metadata": {},
   "source": [
    "### Q3 answer\n",
    "The average is found by using eqn. 6,  $\\displaystyle \\langle x \\rangle= \\sum xp(x)/\\sum p(x)$ the quantity $x$ is the mass and $p$ the fraction of the isotope present. Because the _fractions_ add to unity, only the numerator need be evaluated.  The final number is rounded to 6 decimal places, the same as each value. "
   ]
  },
  {
   "cell_type": "code",
   "execution_count": 3,
   "metadata": {},
   "outputs": [
    {
     "name": "stdout",
     "output_type": "stream",
     "text": [
      "average =   207.216883, std dev = 0.913584\n"
     ]
    }
   ],
   "source": [
    "# the simple sum could be made, instead a general way of summing data is illustrated\n",
    "\n",
    "x = [203.973020,  205.974440 , 206.975872 , 207.976627]  # \n",
    "f = [0.0140,  0.241 , 0.221,  0.524]\n",
    "n = len(f)\n",
    "av = sum([x[i]*f[i] for i in range(n)])\n",
    "av2= sum([x[i]**2*f[i] for i in range(n)])\n",
    "\n",
    "print('{:s}{:12.6f}{:s}{:1.6f}'.format('average = ',av,', std dev = ',np.sqrt(av2-av**2)))"
   ]
  },
  {
   "cell_type": "markdown",
   "metadata": {},
   "source": [
    "The std deviation, $\\sqrt{\\langle x \\rangle-\\langle x^2\\rangle}$, is large because the wide range of masses and their fractions. The data is not the result measuring the same thing many times, which is necessary in a statistical measurement, but the average of disparate things, in this case the different isotopes. The precision of the individual masses reflects the effect of many measurements. The std deviation should be rounded to $0.9$ making the average $207.2 \\pm 0.9$. However, it would be acceptable to give the answer as $207 \\pm 1$ to err on the cautious side and considering that the percentage abundance is only known to three figures.\n",
    "\n",
    "### Q4 answer \n",
    "A die has six sides and the chance of it falling on any side is equal, if it is a fair die. The average of the numbers produced is then the sum,\n",
    "\n",
    "$$\\displaystyle \\langle x \\rangle = 1/6 + 2/6 + 3/6 + 4/6 + 5/6 + 6/6 = 21/6 = 3.5$$\n",
    "\n",
    "The sum $\\sum p(x) = \\sum_1^6 1/6 = 1$ and clearly need not be included in the denominator. The average squared is $1/6 + 4/6 + 9/6 + 16/6 + 25/6 + 36/6 = 91/6 = 15.16$ and the dispersion or variance in the average value is $\\sigma^2 \\approx$ 2.92. The standard deviation $\\sigma \\approx$ 1.7. The average value is therefore $3.5 \\pm 1.7$.\n",
    "\n",
    "If there are two dice there are $6^2 = 36$ possible outcomes, but some are the same as others; $1 + 2$ is the same as $2 + 1$ and so forth. Therefore, there are six values when the numbers are the same and fifteen values each to be doubled. This can be visualized in this case as a matrix of numbers whose entries are the sum of the row or column index, $1 \\to 6$; The matrix of numbers is shown below."
   ]
  },
  {
   "cell_type": "code",
   "execution_count": 4,
   "metadata": {},
   "outputs": [
    {
     "name": "stdout",
     "output_type": "stream",
     "text": [
      "0 [2, 3, 4, 5, 6, 7]\n",
      "1 [3, 4, 5, 6, 7, 8]\n",
      "2 [4, 5, 6, 7, 8, 9]\n",
      "3 [5, 6, 7, 8, 9, 10]\n",
      "4 [6, 7, 8, 9, 10, 11]\n",
      "5 [7, 8, 9, 10, 11, 12]\n"
     ]
    }
   ],
   "source": [
    "n = 6\n",
    "p = [ [i+j for i in range(1,n+1)] for j in range(1,n+1)]\n",
    "\n",
    "for j in range(n):\n",
    "    print(j,p[j][:])"
   ]
  },
  {
   "cell_type": "markdown",
   "metadata": {},
   "source": [
    "The average value of many throws is made by adding up the entries in the matrix and dividing by $n^2$. If $i$ and $j$ are row and index then the formula is\n",
    "\n",
    "$$\\displaystyle \\langle x\\rangle = \\frac{1}{n^2}\\sum_{i=1}^n\\sum_{j=1}^n(i+j) =\\frac{2}{n^2}\\sum_{i=1}^n i+\\frac{2}{n^2}\\sum_{i=2}^n\\sum_{j=1}^{i-1}(i+j)$$\n",
    "\n",
    "The first term is the 'brute force' method; just add up all the terms, 1 + 1, 1 + 2, etc. The double summation has indices, $i = 1,\\,j = 1,\\, 2\\cdots 6$ then $i = 2,\\, j = 1, 2 \\cdots 6$, and so forth. The second equation adds just the six terms when equal values occur on each die, the diagonal terms in the matrix, and the last term all the remaining ones."
   ]
  },
  {
   "cell_type": "code",
   "execution_count": 5,
   "metadata": {},
   "outputs": [
    {
     "name": "stdout",
     "output_type": "stream",
     "text": [
      "average =      7.000, std dev =      2.415\n"
     ]
    }
   ],
   "source": [
    "n = 6\n",
    "p = [[i+j for i in range(1,n+1)] for j in range(1,n+1)]   # range 1 to 6, make 2D array of numbers i+j.\n",
    "av_x =  np.sum( np.sum(p,axis=0))/n**2                    # <x> sum array rows , cols in turn   \n",
    "\n",
    "p2 =[[(i+j)**2 for i in range(1,n+1)] for j in range(1,n+1)]\n",
    "av_x2 = np.sum( np.sum(p2,axis=0))/n**2                   # <x^2> \n",
    "\n",
    "print('{:s}{:10.3f}{:s}{:10.3f}'.format('average = ',av_x,', std dev = ',np.sqrt(abs(av_x2 - av_x**2))))"
   ]
  },
  {
   "cell_type": "markdown",
   "metadata": {},
   "source": [
    "as expected the average is twice that for a single die, but the standard deviation is only $ \\sqrt{2}$ bigger not double.\n",
    "\n",
    "### Q5 answer\n",
    "Using the formula from the previous answer, with $n = 10$ and modified to count from $0 \\to 9$, ( not $1 \\to 6$ ) the values for one die are $\\langle x \\rangle = 4.5,\\,\\langle x^2 \\rangle = 57/2$, and $\\sigma= 2.87$, and for two $\\langle x \\rangle = 9, \\,\\langle x^2 \\rangle = 97.5$  and $\\sigma = 4.06$.\n",
    "\n",
    "### Q6 answer \n",
    "(a) Writing down the partition function directly, equation (11), produces $\\displaystyle Z = \\sum_{n=0}^\\infty e^{-E_n/k_BT} = \\sum_{n=0}^\\infty e^{-nh\\nu/k_BT}$\n",
    "\n",
    "Next substitute $e^{-h\\nu/k_BT} = x $ and recognize the expression as being the same as the series $\\sum_{n=0}^\\infty x^n = (1-x)^{-1}$. Substituting back produces \n",
    "\n",
    "$$\\displaystyle  Z=\\frac{1}{1-e^{-h\\nu/k_BT}}$$\n",
    "\n",
    "(b) In the harmonic oscillator, separate out the constant term ($\\displaystyle e^{-h\\nu/2k_BT}$ ) in the summation as follows\n",
    "\n",
    "$$\\displaystyle Z = \\sum_{n=0}^\\infty e^{-(n+1/2)h\\nu/k_BT} = e^{-h\\nu/2k_BT} \\sum_{n=0}^\\infty e^{-nh\\nu/k_BT}$$\n",
    "\n",
    "The result is then similar to that of part (a) and the result is by inspection\n",
    "\n",
    "$$\\displaystyle  Z=\\frac{e^{-h\\nu/2k_BT}}{1-e^{-h\\nu/k_BT}}$$\n",
    "\n",
    "The term $h\\nu/k_B$ has units of temperature, is often called the _vibrational temperature_ and given the symbol $\\theta$. Its values range from $3551$ K for $\\mathrm {N_2}$ to $308$ K for $\\mathrm{I_2}$ molecules.\n",
    "\n",
    "(c) If the _vibrational temperature_ is much greater than room temperature, $\\approx$ 300 K, only the lowest energy level is populated to a significant extent. Therefore for $\\mathrm {N_2}$, which has large vibrational quanta because it has a large bond force constant, the lowest level is almost exclusively populated, but in $\\mathrm {I_2}$ several levels are populated as here the energy gaps between vibrational levels are far smaller relative to the temperature $T$.\n",
    "\n",
    "The direct calculation of the relative population starts from equation (12), which is modified so as to use $\\theta$. Notice that to obtain the frequency in wavenumbers ($\\mathrm{cm^{-1}}$), $h$ is multiplied by $c$."
   ]
  },
  {
   "cell_type": "code",
   "execution_count": 6,
   "metadata": {},
   "outputs": [
    {
     "name": "stdout",
     "output_type": "stream",
     "text": [
      " Nitrogen frequency 2359.35 cm^(-1)\n",
      " Iodine frequency   214.56 cm^(-1)\n",
      "\n",
      " Relative populations for the first few energy levels\n",
      "\n",
      "   n        Nitrogen         Iodine\n",
      "   0         0.99999         0.64264\n",
      "   1      1.2185e-05         0.22966\n",
      "   2      1.4846e-10         0.08207\n",
      "   3       1.809e-15         0.02933\n",
      "   4      2.2042e-20         0.01048\n",
      "   5      2.6857e-25         0.00375\n",
      "   6      3.2725e-30         0.00134\n",
      "\n",
      "total population N2 =  1.000000 and I2 = 0.999256\n"
     ]
    }
   ],
   "source": [
    "# calculation part (c) \n",
    "# Z = lambda nu:np.exp(-h*c*nu/(2*kB*T))/(1.0-np.exp(-h*c*nu/(kB*T)))   # normal equation \n",
    "Z = lambda theta:np.exp(-theta/(2*T))/(1.0 - np.exp(-theta/T))          # in terms of theta\n",
    "                       \n",
    "kB= 1.38054e-23          # J /K\n",
    "h = 6.62559e-34          # SI units  Js\n",
    "c = 2.997925e10          # cm/s\n",
    "T = 300.0                # K\n",
    "thetaN = 3394.6          # K nitrogen\n",
    "\n",
    "nmax = 7\n",
    "pN = [ np.exp(-(n+0.5)*thetaN/T)/Z(thetaN) for n in range(0,nmax) ]     # relative population\n",
    "\n",
    "thetaI = 308.7           # K Iodine\n",
    "pI = [ np.exp(-(n+0.5)*thetaI/T)/Z(thetaI) for n in range(0,nmax) ]\n",
    "\n",
    "print('{:s}{:6.2f}{:s}'.format(' Nitrogen frequency ',thetaN*kB/(h*c), ' cm^(-1)'))\n",
    "print('{:s}{:6.2f}{:s}'.format(' Iodine frequency   ',thetaI*kB/(h*c), ' cm^(-1)'))\n",
    "print('\\n Relative populations for the first few energy levels\\n')\n",
    "print('{:s}'.format('   n        Nitrogen         Iodine'))\n",
    "for i in range(nmax):\n",
    "    print('{:4d} {:15.5g} {:15.5f}'.format(i, pN[i],pI[i]))\n",
    "    \n",
    "print('\\n{:s}{:f}{:s}{:f}'.format('total population N2 =  ', sum(pN), ' and I2 = ',sum(pI)))"
   ]
  },
  {
   "cell_type": "markdown",
   "metadata": {},
   "source": [
    "### Q7 answer \n",
    "(a) The probability distribution for energy $E_n$ is that of Boltzmann’s distribution $\\displaystyle e^{-E_n/k_BT}$. The average number of photons $n$ with total energy $nh\\nu$ is therefore\n",
    "\n",
    "$$\\displaystyle \\langle n\\rangle =\\frac{\\sum\\limits_{n=0}^\\infty ne^{-nh\\nu/k_BT}}{ \\sum\\limits_{n=0}^\\infty e^{-nh\\nu/k_BT}}$$\n",
    "\n",
    "The summation in the denominator is just the partition function worked out in equation (12), which is $\\displaystyle Z = (1 - e^{-h\\nu/k_BT})^{-1}$ and the numerator is \n",
    "\n",
    "$$\\displaystyle \\sum_{n=0}^\\infty ne^{-nh\\nu/k_BT} = \\sum_{n=0}^\\infty n(e^{-h\\nu/k_BT} )^n$$\n",
    "\n",
    "This does not look very encouraging at first, but with a bit of cunning this can be rewritten in another form by removing a constant term $e^{h\\nu/k_BT}$ from the summation. The result is\n",
    "\n",
    "$$\\displaystyle  \\sum_{n=0}^\\infty n(e^{-h\\nu/k_BT})^n =e^{+h\\nu/k_BT} \\sum_{n=0}^\\infty n(e^{-h\\nu/k_BT})^{n-1} $$\n",
    "\n",
    "Now by substituting $\\displaystyle e^{-h\\nu/k_BT} = x$, the summation becomes $\\displaystyle x\\sum nx^{n-1}$ which is the derivative of the sum of $x^n$ multiplied by $x$. This means that the summation is calculable from the derivative of $1/(1 - x)$ which is $1/(1 - x)^2$. The result of the summation is therefore,\n",
    "\n",
    "$$\\displaystyle  \\sum_{n=0}^\\infty ne^{-nh\\nu/k_BT}= \\frac{e^{-h\\nu/k_BT} }{(1-e^{-h\\nu/k_BT})^2 }  $$\n",
    "\n",
    "making \n",
    "\n",
    "$$\\displaystyle  \\langle n \\rangle =\\frac{e^{-h\\nu/k_BT}(1-e^{-h\\nu/k_BT})}{(1-e^{-h\\nu/k_BT})^2} = \\frac{1}{e^{+h\\nu/k_BT}-1} $$\n",
    "\n",
    "where the last part involves a little re-arranging. Notice that $\\langle n \\rangle$ is zero when $T \\to 0$  as expected and tends to infinity when $T$ is large and this is because there is no limit to the number of quanta.\n",
    "\n",
    "(b) The average for the harmonic oscillator is calculated using summations evaluated in previous questions and is\n",
    "\n",
    "$$\\displaystyle \\langle n \\rangle =\\frac{\\sum\\limits_{n=0}^\\infty ne^{-(n+1/2)h\\nu/k_BT}}{\\sum\\limits_{n=0}^\\infty e^{-(n+1/2)h\\nu/k_BT}} = \\frac{\\sum\\limits_{n=0}^\\infty ne^{-nh\\nu/k_BT}}{\\sum\\limits_{n=0}^\\infty e^{-nh\\nu/k_BT}} = \\frac{1}{e^{+h\\nu/k_BT}-1}$$\n",
    "\n",
    "This is the same calculation and hence the same result as in part (a). The displacement in energy due to the zero-point vibrations makes no difference to the average number of quanta, but would make a difference to the average energy. \n",
    "\n",
    "(c) Using the formula, the average number of quanta at room temperature for $\\mathrm{N_2}$ is approximately $1.22\\cdot 10^{-5}$, and for $\\mathrm{I_2}$ is approximately $0.56$.\n",
    "\n",
    "Do these numbers make sense? Remember that in $\\mathrm{N_2}$ only one level is significantly populated, see the previous question, and the harmonic oscillator has an infinite number of levels, therefore the average is almost zero. In $\\mathrm{I_2}$, many more levels are populated and although the average is much larger, it is still not very large.\n",
    "\n",
    "Repeating the calculation with an anharmonic oscillator, you might expect that the average will be larger as there are now only a finite number of energy levels before dissociation occurs, and they become closer together as the energy increases. However, at room temperature so few levels are populated, even in $\\mathrm{I_2}$, and the anharmonicity has only a small effect on the lower energy levels that this makes effectively no difference to $\\langle n \\rangle$. Typically, temperatures $\\gt 2000$ K are needed to make more than about a $5$% change compared to a harmonic potential. The calculation below shows how $\\langle n \\rangle$ varies with temperature for $\\mathrm{I_2}$. Notice how close to zero the average is at room temperature. If the plot were for nitrogen the line would be practically indistinguishable from zero."
   ]
  },
  {
   "cell_type": "code",
   "execution_count": 7,
   "metadata": {},
   "outputs": [
    {
     "data": {
      "image/png": "[encoded data removed]",
      "text/plain": [
       "<Figure size 432x432 with 1 Axes>"
      ]
     },
     "metadata": {
      "filenames": {
       "image/png": "/Users/godfreybeddard/Dropbox/Dad-Tom/applying-maths-book/applying_maths_book/_build/jupyter_execute/chapter-5/chapter-5-answers-1-7_13_0.png"
      },
      "needs_background": "light"
     },
     "output_type": "display_data"
    }
   ],
   "source": [
    "fig = plt.figure(figsize=(6,6))\n",
    "plt.rcParams.update({'font.size': 16})  # set font size for plots\n",
    "\n",
    "kB   = 1.38054e-23          # J /K\n",
    "h    = 6.62559e-34          # SI units  Js\n",
    "c    = 2.997925e10          # cm/s\n",
    "nu_I2 = 214.56              # iodine quantum cm^(-1)\n",
    "nu_N2 = 2359.35             # nitrogen\n",
    "\n",
    "maxT = 500\n",
    "T = np.linspace(5,maxT,500)\n",
    "av_n = lambda T,nu : 1.0/( np.exp( h*c*nu/(kB*T) ) - 1)\n",
    "\n",
    "plt.plot(T,av_n(T,nu_I2),color='blue')\n",
    "plt.plot(T,av_n(T,nu_N2),color='red')\n",
    "\n",
    "plt.title(r'$1/(e^{+h\\nu/k_BT}-1)$'+' for iodine molecules',fontsize=14)\n",
    "plt.xlabel('T/K')\n",
    "plt.ylabel(r'$\\langle n \\rangle$')\n",
    "plt.axis([0,maxT,0,1])\n",
    "plt.show()"
   ]
  },
  {
   "cell_type": "markdown",
   "metadata": {
    "collapsed": true
   },
   "source": [
    "Figure 18. Plot of the average number of vibrational quanta $\\langle n \\rangle$ populated vs temperature for I$_2$. Notice how small a number this is at room temperature. The similar curve for N$_2$ (red) is so close to zero that it is barely visible on this temperature scale.\n"
   ]
  }
 ],
 "metadata": {
  "kernelspec": {
   "display_name": "Python 3 (ipykernel)",
   "language": "python",
   "name": "python3"
  },
  "language_info": {
   "codemirror_mode": {
    "name": "ipython",
    "version": 3
   },
   "file_extension": ".py",
   "mimetype": "text/x-python",
   "name": "python",
   "nbconvert_exporter": "python",
   "pygments_lexer": "ipython3",
   "version": "3.8.9"
  }
 },
 "nbformat": 4,
 "nbformat_minor": 2
}