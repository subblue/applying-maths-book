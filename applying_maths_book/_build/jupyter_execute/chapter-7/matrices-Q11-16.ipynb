{
 "cells": [
  {
   "cell_type": "markdown",
   "metadata": {},
   "source": [
    "# Questions  11 - 16"
   ]
  },
  {
   "cell_type": "markdown",
   "metadata": {},
   "source": [
    "## Q11\n",
    "Find $\\pmb{AB}$ and $\\pmb{BA}$ if $\\displaystyle \\pmb{A} =\\begin{bmatrix} 1 & 2\\\\ 3& 4\\end{bmatrix}$  and $\\displaystyle \\pmb{B} =\\begin{bmatrix} 5 & 6\\\\ 7& 8\\end{bmatrix}$ . Do these matrices commute and if not what is $[\\pmb{AB}]$?\n",
    "\n",
    "## Q12\n",
    "(a) Find $\\pmb{A}^2,\\pmb{B}^2,\\pmb{AB},\\pmb{BA},\\pmb{A}^2\\pmb{B}$,and $\\pmb{B}^2\\pmb{A}$  if $\\displaystyle \\pmb{A} =\\begin{bmatrix} 1 & 1\\\\ 0& 1\\end{bmatrix}$ and $\\displaystyle \\pmb{B} =\\begin{bmatrix} 1 & 0\\\\ 1& 1\\end{bmatrix}$.\n",
    "\n",
    "(b) Do $\\pmb{A}^2\\pmb{B}$ and $\\pmb{B}^2\\pmb{A}$ commute ?\n",
    "\n",
    "## Q13\n",
    "If $\\pmb{x}=[x_1, x_2 ],\\pmb{y}=[y_1,y_2]^T$ ,and $\\displaystyle \\pmb{Q}=\\begin{bmatrix} 1 &-4\\\\ -9& 6\\end{bmatrix}$, find $\\pmb{xQy}$ and $\\pmb{yQx}$.\n",
    "\n",
    "## Q14\n",
    "(a) Explain why if $j$ is a constant factor that $|j\\pmb{M}| = j^n|\\pmb{M}|$ for an $n \\times n$ matrix.\n",
    "\n",
    "(b)  Confirm equation 4 if $\\displaystyle \\pmb{A} =\\begin{bmatrix} a & b\\\\ c& d\\end{bmatrix}$  by calculating $\\pmb{A}^{-1}$ and $| \\pmb{A}^{-1} |$.\n",
    "\n",
    "(c) Using Sympy (or by hand ) find $\\pmb{A}^{-1}$ and $|\\pmb{A}^{-1} |$ for the $3\\times 3$ matrix $\\displaystyle \\pmb{A} =\\begin{bmatrix} 0 & b & c\\\\ b& 0 & d\\\\ c & d & 0\\end{bmatrix}$.\n",
    "\n",
    "**Strategy:** See Section 4.14, but now the problem is algebraic not numerical.\n",
    "\n",
    "## Q15 Commuting operators\n",
    "(a) Show that if $\\pmb{P}$ and $\\pmb{Q}$ are linear operators, not necessarily matrices, $[\\pmb{P},\\pmb{Q}]=- [\\pmb{Q},\\pmb{P}]$.\n",
    "\n",
    "(b) (i) find $[ d/dx, x]\\sin(x)$ , (ii) $[d/dx, x]f(x)$, and (iii) $[d/dx, x]$ and\n",
    "\n",
    "(c) Show that operators $d/dx$ and $x$ do not commute.\n",
    "\n",
    "(d) Write a Python/Sympy commutator function and test your results.\n",
    "\n",
    "(e) Do $\\displaystyle \\frac{df(x)}{dx}$ and $\\displaystyle \\int_a^bf(x)dx$ commute?\n",
    "\n",
    "(f) Does the operator $df/dx$ and a displacement operator $\\Delta f = f (x + c)$ commute?\n",
    "\n",
    "(g) Does the operator $xx$ which means multiply twice by $x$, commute with the inversion operator, $Inv( f(x)) = f (-x)$?\n",
    "\n",
    "## Q16 Commuting matrices\n",
    "$\\pmb{B}$ and $\\pmb{C}$ are commuting square matrices and the matrix $\\pmb{A}$ is defined as $\\pmb{A} \\equiv e^{\\pmb{B}} =\\pmb{1}+\\pmb{B}+\\pmb{B}^2/2! +\\cdots $ show that:\n",
    "\n",
    "(a) $e^{\\pmb{B}}e^{\\pmb{C}} = e^{\\pmb{B+C}}$,\n",
    "\n",
    "(b) $\\pmb{A}^{-1} = e^{-\\pmb{B}}$,\n",
    "\n",
    "(c) $e^{\\pmb{CBC}^{-1}} = \\pmb{CAC}^{-1}$.\n",
    "\n",
    "**Strategy:** (a) Expand out the exponentials as shown in Section 5.5 and collect terms and try to reform an exponential series in $\\pmb{B + C}$. (b) Use the fact that for an inverse matrix $\\pmb{AA}^{-1} = \\pmb{1}$. (c) The expression $\\pmb{CAC}^{-1}$ is a similarity transform and is itself a square matrix. To prove this result, expand the exponential on both sides of the equation"
   ]
  },
  {
   "cell_type": "code",
   "execution_count": null,
   "metadata": {},
   "outputs": [],
   "source": []
  }
 ],
 "metadata": {
  "kernelspec": {
   "display_name": "Python 3 (ipykernel)",
   "language": "python",
   "name": "python3"
  },
  "language_info": {
   "codemirror_mode": {
    "name": "ipython",
    "version": 3
   },
   "file_extension": ".py",
   "mimetype": "text/x-python",
   "name": "python",
   "nbconvert_exporter": "python",
   "pygments_lexer": "ipython3",
   "version": "3.9.6"
  }
 },
 "nbformat": 4,
 "nbformat_minor": 2
}