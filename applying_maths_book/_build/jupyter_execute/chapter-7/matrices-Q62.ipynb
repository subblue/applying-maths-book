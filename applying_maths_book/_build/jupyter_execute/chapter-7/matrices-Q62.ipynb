{
 "cells": [
  {
   "cell_type": "markdown",
   "id": "6893ad8b",
   "metadata": {},
   "source": [
    "## Question 62"
   ]
  },
  {
   "cell_type": "markdown",
   "id": "fd1e29a1",
   "metadata": {},
   "source": [
    "### Q62 Moments of inertia of molecules\n",
    "Use an X-ray database to find coordinates for CH$_3$F, CH$_2$Cl$_2$, chlororethylene (CH$_2$CHCl), and any other molecules you want. Calculate the moments of inertia and plot the inertia axes on top of the molecular structure. The values you obtain should be approximately as given in the table, which are in units of $10^{-47}\\,\\mathrm{ kg\\,m^2}$:\n",
    "\n",
    "$$ \\begin{array}{c|ccc}\n",
    "\\hline\n",
    "   & I_a & I_b & I_c\\\\ \n",
    "\\hline\n",
    "\\mathrm{CH_3F}    & 5.3 &     & 33\\\\\n",
    "\\mathrm{CH_2Cl_2}  & 26  & 255 & 276\\\\\n",
    "\\mathrm{CH_2CHCl} & 15  & 139 & 154\\\\ \n",
    "\\hline \n",
    "\\end{array}$$"
   ]
  }
 ],
 "metadata": {
  "kernelspec": {
   "display_name": "Python 3 (ipykernel)",
   "language": "python",
   "name": "python3"
  },
  "language_info": {
   "codemirror_mode": {
    "name": "ipython",
    "version": 3
   },
   "file_extension": ".py",
   "mimetype": "text/x-python",
   "name": "python",
   "nbconvert_exporter": "python",
   "pygments_lexer": "ipython3",
   "version": "3.9.6"
  }
 },
 "nbformat": 4,
 "nbformat_minor": 5
}