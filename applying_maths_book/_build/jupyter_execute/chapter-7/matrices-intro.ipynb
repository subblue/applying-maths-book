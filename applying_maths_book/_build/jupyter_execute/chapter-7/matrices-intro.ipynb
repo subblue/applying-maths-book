{
 "cells": [
  {
   "cell_type": "markdown",
   "id": "3cd4663f",
   "metadata": {},
   "source": [
    "# 7. Matrices"
   ]
  },
  {
   "cell_type": "markdown",
   "id": "048be8f3",
   "metadata": {},
   "source": [
    "A matrix is a two-dimensional, rectangular or square array of numbers or functions. A determinant is always a square block of numbers or functions and is used in solving systems of simultaneous equations and is really an alternative way of representing a number (a scalar) or a polynomial and is evaluated following a single rule.\n",
    "A matrix, which may not necessarily be square, is a way of representing and handling linear transformations, which means, for example, if we want to rotate a picture of a protein or other molecule, a rotation matrix is used to take us from one orientation to another. The transformation is linear as each atom is moved (we could also say mapped) to a new position, but the molecular structure remains the same because the distance and angle between any two atoms is unchanged.\n",
    "     \n",
    "Matrices and determinants are used when calculating electronic energies, such as by the Huckel method, and in quantum mechanics generally. Expectation values, e.g. average energies, positions, momenta, etc., which are the quantities measured in an experiment, are, in quantum mechanics, also called matrix elements. When group theory is used to calculate the normal vibrational modes of a molecule or even the symmetry of a molecular orbital, matrices are involved."
   ]
  }
 ],
 "metadata": {
  "kernelspec": {
   "display_name": "Python 3 (ipykernel)",
   "language": "python",
   "name": "python3"
  },
  "language_info": {
   "codemirror_mode": {
    "name": "ipython",
    "version": 3
   },
   "file_extension": ".py",
   "mimetype": "text/x-python",
   "name": "python",
   "nbconvert_exporter": "python",
   "pygments_lexer": "ipython3",
   "version": "3.9.6"
  }
 },
 "nbformat": 4,
 "nbformat_minor": 5
}