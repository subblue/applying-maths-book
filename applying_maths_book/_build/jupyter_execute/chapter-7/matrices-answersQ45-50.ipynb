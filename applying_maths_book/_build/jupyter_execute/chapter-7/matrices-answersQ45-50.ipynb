{
 "cells": [
  {
   "cell_type": "markdown",
   "metadata": {},
   "source": [
    "# Solutions Q45 - 50"
   ]
  },
  {
   "cell_type": "code",
   "execution_count": 1,
   "metadata": {},
   "outputs": [],
   "source": [
    "# import all python add-ons etc that will be needed later on\n",
    "%matplotlib inline\n",
    "import numpy as np\n",
    "from numpy import linalg as LA\n",
    "import matplotlib.pyplot as plt\n",
    "from sympy import *\n",
    "init_printing()                      # allows printing of SymPy results in typeset maths format\n",
    "plt.rcParams.update({'font.size': 14})  # set font size for plots"
   ]
  },
  {
   "cell_type": "markdown",
   "metadata": {},
   "source": [
    "## Q45 answer\n",
    "(a) $\\displaystyle \\begin{vmatrix} 4-\\lambda & -i\\\\i & 2-\\lambda  \\end{vmatrix}=\\lambda^2-6\\lambda+7=0 $\n",
    "\n",
    "is the characteristic equation from which $\\lambda_1=3-\\sqrt{2}; \\;\\lambda_2=3+\\sqrt{2}$.  \n",
    "\n",
    "The normalised vectors are $\\displaystyle x_1=\\begin{bmatrix}0.3827i\\\\0.9239 \\end{bmatrix},\\; x_2=\\begin{bmatrix}0.9239\\\\0.3827i \\end{bmatrix} $. \n",
    "\n",
    "To check on the normalization, form the dot product, and make sure that the left-hand vector is the complex conjugate of the transpose of the right-hand one, $x^{*}\\cdot x$.\n",
    "\n",
    "$$\\displaystyle  \\begin{bmatrix} -0.3827i & 0.9239 \\end{bmatrix} \\begin{bmatrix} 0.3827i \\\\ 0.9239\\end{bmatrix} =1 $$\n",
    "\n",
    "therefore, they are normalized. If the eigenvectors are orthogonal then $x_1^*\\cdot x_2 = 0$ ; the calculation gives\n",
    "\n",
    "$$\\displaystyle  \\begin{bmatrix} -0.3827i & 0.9239 \\end{bmatrix} \\begin{bmatrix}0.9239\\\\ 0.3827i \\end{bmatrix} =0 $$\n",
    "\n",
    "which is to be expected for a hermitian matrix.\n",
    "\n",
    "To calculate the eigenvectors by hand we use eqn. 34 and can choose $k=1, i=1$ the cofactor for the $ki^{th}$ entry in the matrix is $2-\\lambda$. Setting up the calculation as a table using $k=1$ gives\n",
    "\n",
    "$$\\displaystyle \\begin{array}{ll|lll}\n",
    "& & j=1& j=2\\\\\n",
    "\\hline\n",
    "k=1, i=1& x_{1j}=(-1)^{k+i}(2-\\lambda_j) & x_{11}=2-3+\\sqrt{2} & x_{12}=2-3-\\sqrt{2}\\\\\n",
    "k=1,i=2&x_{2j}=(-1)^3(i)& x_{21}=-i& x_{22}=-i\\\\\n",
    "\\hline\n",
    "\\end{array}$$\n",
    "\n",
    "the first eigenvalue is $\\lambda_1=3-\\sqrt{2}$ and eigenvector  $\\begin{bmatrix} x_{11} \\\\ x_{21} \\end{bmatrix}=\\begin{bmatrix} -1+\\sqrt{2} \\\\ -i \\end{bmatrix}$ which becomes \n",
    "\n",
    "$$\\displaystyle x_1=\\frac{1}{\\sqrt{(\\sqrt{2}-1)^2+i(-i))} }\\begin{bmatrix} \\sqrt{2}-1 \\\\ -i\\end{bmatrix}=\\begin{bmatrix} 0.3827 \\\\ -0.9239i \\end{bmatrix}=\\begin{bmatrix} 0.3827i \\\\ 0.9239 \\end{bmatrix}$$ \n",
    "\n",
    "when normalised. We have multiplied by a constant, in this case $i$, and for no other reason than to make the two solutions symmetric. \n",
    "\n",
    "$$\\displaystyle x_2=\\frac{1}{\\sqrt{(-\\sqrt{2}-1)^2+i(-i))} }\\begin{bmatrix} -\\sqrt{2}-1 \\\\ -i\\end{bmatrix}=\\begin{bmatrix} 0.9239 \\\\ 0.3827i \\end{bmatrix}$$ \n",
    "\n",
    "and where the eigenvector was multiplied by $(-1)$.\n",
    "\n",
    "(b) $\\displaystyle \\begin{vmatrix} 1-\\lambda & -i\\\\-i & 1-\\lambda  \\end{vmatrix}=(1-\\lambda)^2+1=0 $, \n",
    "\n",
    "solving produces $\\lambda_1=1+i,\\; \\lambda_2=1-i$. The normalised eivenvectors are \n",
    "\n",
    "$$\\displaystyle  x_1=\\frac{1}{\\sqrt{2}}\\begin{bmatrix} -1 \\\\ 1 \\end{bmatrix},\\; x_2= \\frac{1}{\\sqrt{2}}\\begin{bmatrix}1 \\\\ 1\\end{bmatrix}  $$ "
   ]
  },
  {
   "cell_type": "markdown",
   "metadata": {},
   "source": [
    "## Q46 answer\n",
    "The large matrix contains two $1 \\times 1$ matrices and two $2\\times 2$ matrices. Two eigenvalues can be found immediately, and are one and two. The other two matrices can be separated out and secular equations written, one of which is\n",
    "\n",
    "$$\\displaystyle \\begin{bmatrix} 2-\\lambda & 4 \\\\ 3 & 3-\\lambda \\end{bmatrix}=0$$\n",
    "\n",
    "which has the characteristic equation $\\lambda^2 - 5\\lambda - 14 = 0$. The eigenvalues are $\\lambda = -2$ and $7$. The other $2 \\times 2$ matrix has two eigenvalues $\\lambda= = 3 \\pm 10$.\n",
    "\n",
    "## Q47 answer\n",
    "The characteristic equation is calculated from the determinant\n",
    "\n",
    "$$\\displaystyle \\begin{vmatrix} -\\lambda & -u & v\\\\u & -\\lambda & 0 \\\\-v & 0 &-\\lambda \\end{vmatrix}=-\\lambda^3-u^2\\lambda+v^2\\lambda=0 $$\n",
    "\n",
    "and solving this will produce the eigenvalues, but as it is a cubic we use Sympy. The $\\mathtt{M.eigenvects()}$  instruction produces both the paired up eigenvalues and the eigenvectors."
   ]
  },
  {
   "cell_type": "code",
   "execution_count": 2,
   "metadata": {},
   "outputs": [
    {
     "data": {
      "image/png": "[encoded data removed]",
      "text/latex": [
       "$\\displaystyle \\left\\{ 0 : 1, \\  - \\sqrt{- u^{2} - v^{2}} : 1, \\  \\sqrt{- u^{2} - v^{2}} : 1\\right\\}$"
      ],
      "text/plain": [
       "⎧          ___________        ___________   ⎫\n",
       "⎨         ╱    2    2        ╱    2    2    ⎬\n",
       "⎩0: 1, -╲╱  - u  - v  : 1, ╲╱  - u  - v  : 1⎭"
      ]
     },
     "execution_count": 2,
     "metadata": {
      "filenames": {
       "image/png": "/Users/godfreybeddard/Library/CloudStorage/Dropbox/Dad-Tom/applying-maths-book/applying_maths_book/_build/jupyter_execute/chapter-7/matrices-answersQ45-50_4_0.png"
      }
     },
     "output_type": "execute_result"
    }
   ],
   "source": [
    "u, v = symbols('u, v') \n",
    "\n",
    "M = Matrix([[0,-u,v],[u,0,0],[-v,0,0]  ] )\n",
    "M.eigenvals()"
   ]
  },
  {
   "cell_type": "code",
   "execution_count": 3,
   "metadata": {},
   "outputs": [
    {
     "data": {
      "text/latex": [
       "$\\displaystyle \\left[ \\left( 0, \\  1, \\  \\left[ \\left[\\begin{matrix}0\\\\\\frac{v}{u}\\\\1\\end{matrix}\\right]\\right]\\right), \\  \\left( - \\sqrt{- u^{2} - v^{2}}, \\  1, \\  \\left[ \\left[\\begin{matrix}\\frac{\\sqrt{- u^{2} - v^{2}}}{v}\\\\- \\frac{u}{v}\\\\1\\end{matrix}\\right]\\right]\\right), \\  \\left( \\sqrt{- u^{2} - v^{2}}, \\  1, \\  \\left[ \\left[\\begin{matrix}- \\frac{\\sqrt{- u^{2} - v^{2}}}{v}\\\\- \\frac{u}{v}\\\\1\\end{matrix}\\right]\\right]\\right)\\right]$"
      ],
      "text/plain": [
       "⎡               ⎛                    ⎡⎡   ___________⎤⎤⎞  ⎛                   ⎡⎡    ___\n",
       "⎢               ⎜                    ⎢⎢  ╱    2    2 ⎥⎥⎟  ⎜                   ⎢⎢   ╱   \n",
       "⎢⎛      ⎡⎡0⎤⎤⎞  ⎜                    ⎢⎢╲╱  - u  - v  ⎥⎥⎟  ⎜                   ⎢⎢-╲╱  - \n",
       "⎢⎜      ⎢⎢ ⎥⎥⎟  ⎜    ___________     ⎢⎢──────────────⎥⎥⎟  ⎜   ___________     ⎢⎢───────\n",
       "⎢⎜      ⎢⎢v⎥⎥⎟  ⎜   ╱    2    2      ⎢⎢      v       ⎥⎥⎟  ⎜  ╱    2    2      ⎢⎢       \n",
       "⎢⎜0, 1, ⎢⎢─⎥⎥⎟, ⎜-╲╱  - u  - v  , 1, ⎢⎢              ⎥⎥⎟, ⎜╲╱  - u  - v  , 1, ⎢⎢       \n",
       "⎢⎜      ⎢⎢u⎥⎥⎟  ⎜                    ⎢⎢     -u       ⎥⎥⎟  ⎜                   ⎢⎢      -\n",
       "⎢⎜      ⎢⎢ ⎥⎥⎟  ⎜                    ⎢⎢     ───      ⎥⎥⎟  ⎜                   ⎢⎢      ─\n",
       "⎢⎝      ⎣⎣1⎦⎦⎠  ⎜                    ⎢⎢      v       ⎥⎥⎟  ⎜                   ⎢⎢       \n",
       "⎢               ⎜                    ⎢⎢              ⎥⎥⎟  ⎜                   ⎢⎢       \n",
       "⎣               ⎝                    ⎣⎣      1       ⎦⎦⎠  ⎝                   ⎣⎣       \n",
       "\n",
       "________ ⎤⎤⎞⎤\n",
       " 2    2  ⎥⎥⎟⎥\n",
       "u  - v   ⎥⎥⎟⎥\n",
       "─────────⎥⎥⎟⎥\n",
       "v        ⎥⎥⎟⎥\n",
       "         ⎥⎥⎟⎥\n",
       "u        ⎥⎥⎟⎥\n",
       "──       ⎥⎥⎟⎥\n",
       "v        ⎥⎥⎟⎥\n",
       "         ⎥⎥⎟⎥\n",
       "1        ⎦⎦⎠⎦"
      ]
     },
     "execution_count": 3,
     "metadata": {},
     "output_type": "execute_result"
    }
   ],
   "source": [
    "ans  = M.eigenvects()\n",
    "ans"
   ]
  },
  {
   "cell_type": "code",
   "execution_count": 4,
   "metadata": {},
   "outputs": [
    {
     "data": {
      "text/latex": [
       "$\\displaystyle \\left[\\begin{matrix}\\frac{\\sqrt{- u^{2} - v^{2}}}{v}\\\\- \\frac{u}{v}\\\\1\\end{matrix}\\right]$"
      ],
      "text/plain": [
       "⎡   ___________⎤\n",
       "⎢  ╱    2    2 ⎥\n",
       "⎢╲╱  - u  - v  ⎥\n",
       "⎢──────────────⎥\n",
       "⎢      v       ⎥\n",
       "⎢              ⎥\n",
       "⎢     -u       ⎥\n",
       "⎢     ───      ⎥\n",
       "⎢      v       ⎥\n",
       "⎢              ⎥\n",
       "⎣      1       ⎦"
      ]
     },
     "execution_count": 4,
     "metadata": {},
     "output_type": "execute_result"
    }
   ],
   "source": [
    "simplify(ans[1][2][0] )  # 2nd set of values, 3rd entry. [0] gets indside vector"
   ]
  },
  {
   "cell_type": "code",
   "execution_count": 5,
   "metadata": {},
   "outputs": [
    {
     "data": {
      "text/latex": [
       "$\\displaystyle \\left[\\begin{matrix}- \\frac{\\sqrt{- u^{2} - v^{2}}}{v}\\\\- \\frac{u}{v}\\\\1\\end{matrix}\\right]$"
      ],
      "text/plain": [
       "⎡    ___________ ⎤\n",
       "⎢   ╱    2    2  ⎥\n",
       "⎢-╲╱  - u  - v   ⎥\n",
       "⎢────────────────⎥\n",
       "⎢       v        ⎥\n",
       "⎢                ⎥\n",
       "⎢      -u        ⎥\n",
       "⎢      ───       ⎥\n",
       "⎢       v        ⎥\n",
       "⎢                ⎥\n",
       "⎣       1        ⎦"
      ]
     },
     "execution_count": 5,
     "metadata": {},
     "output_type": "execute_result"
    }
   ],
   "source": [
    "simplify(ans[2][2][0] )"
   ]
  },
  {
   "cell_type": "markdown",
   "metadata": {},
   "source": [
    "The eigenvalues are simplified by substituting for $z$ to be $\\lambda =(iz, -iz,0)$ and the eigenvector matrix \n",
    "\n",
    "$$ \\displaystyle x=\\begin{bmatrix} -iz/v & iz/v & 0 \\\\ -u/v & -u/v & u/v\\\\ 1&1&1 \\end{bmatrix}$$\n",
    "\n",
    "## Q48 answers\n",
    "The Hückel matrix $M$ is formed as in Section 2.5(iii) and using python/Sympy, the eigenvalues and eigenvectors are calculated as in the previous few examples. The eigenvectors are normalized by extracting a column vector from the matrix of eigenvectors and dividing by the square root of the dot product. If the vector is $x$, then the dot product $x^*\\cdot x = |x|^2$, because $\\cos(0) = 1$, therefore, the normalized vector is $x/\\sqrt{x^*\\cdot x}$. The coefficients are the individual values of the eigenvector matrix.  The algebraic solutions for the eigenvectors are complex, and for numerical answer at least one value in the matrix should be  made into a floating point (1.0)."
   ]
  },
  {
   "cell_type": "code",
   "execution_count": 6,
   "metadata": {},
   "outputs": [
    {
     "data": {
      "image/png": "[encoded data removed]",
      "text/latex": [
       "$\\displaystyle \\left\\{ x - \\frac{1}{2} + \\frac{\\sqrt{5}}{2} : 1, \\  x + \\frac{1}{2} + \\frac{\\sqrt{5}}{2} : 1, \\  x - \\frac{\\sqrt{5}}{2} - \\frac{1}{2} : 1, \\  x - \\frac{\\sqrt{5}}{2} + \\frac{1}{2} : 1\\right\\}$"
      ],
      "text/plain": [
       "⎧    1   √5         1   √5         √5   1         √5   1   ⎫\n",
       "⎨x - ─ + ──: 1, x + ─ + ──: 1, x - ── - ─: 1, x - ── + ─: 1⎬\n",
       "⎩    2   2          2   2          2    2         2    2   ⎭"
      ]
     },
     "execution_count": 6,
     "metadata": {
      "filenames": {
       "image/png": "/Users/godfreybeddard/Library/CloudStorage/Dropbox/Dad-Tom/applying-maths-book/applying_maths_book/_build/jupyter_execute/chapter-7/matrices-answersQ45-50_9_0.png"
      }
     },
     "output_type": "execute_result"
    }
   ],
   "source": [
    "# Algorithm  Eigenvalues and Eigenvector of Butadiene\n",
    "# using Sympy for algebraic solutions\n",
    "n = 4      # n = number of atoms \n",
    "x = symbols('x')\n",
    "M = Matrix([ [x,1,0,0],[1,x,1,0] , [0,1,x,1], [0,0,1,x ] ])  # Huckel matrix \n",
    "M.eigenvals()"
   ]
  },
  {
   "cell_type": "markdown",
   "metadata": {},
   "source": [
    "It is simpler for numerical calculations to use numpy and solve the eigenvalue/eigenvector matrix.  The eigenvalues are also normalised"
   ]
  },
  {
   "cell_type": "code",
   "execution_count": 7,
   "metadata": {},
   "outputs": [
    {
     "data": {
      "text/plain": [
       "array([-1.61803399, -0.61803399,  0.61803399,  1.61803399])"
      ]
     },
     "execution_count": 7,
     "metadata": {},
     "output_type": "execute_result"
    }
   ],
   "source": [
    "M = np.array([ [0,1.0,0,0], [1,0,1,0], [0,1,0,1], [0,0,1,0 ]])  # Huckel matrix \n",
    "evals,evects = LA.eigh(M)\n",
    "evals  # "
   ]
  },
  {
   "cell_type": "code",
   "execution_count": 8,
   "metadata": {},
   "outputs": [
    {
     "data": {
      "text/plain": [
       "array([[ 0.37174803, -0.60150096, -0.60150096,  0.37174803],\n",
       "       [-0.60150096,  0.37174803, -0.37174803,  0.60150096],\n",
       "       [ 0.60150096,  0.37174803,  0.37174803,  0.60150096],\n",
       "       [-0.37174803, -0.60150096,  0.60150096,  0.37174803]])"
      ]
     },
     "execution_count": 8,
     "metadata": {},
     "output_type": "execute_result"
    }
   ],
   "source": [
    "evects"
   ]
  },
  {
   "cell_type": "markdown",
   "metadata": {},
   "source": [
    "The order in which the eigenvalues and so eigenvectors are displayed is always the same as one another, however, which eigenvalue is first and which second and so forth, is arbitrary, and may not be the same in your calculation as is shown here.\n",
    "\n",
    "As the value $\\alpha$ is the same in all eigenvalues, being the self energy of a carbon $\\pi$ electron this value can arbitrarily be set to zero then the energy is relative to this value. The lowest energy eigenvalue is \n",
    "\n",
    "$$\\displaystyle x+(1+\\sqrt{5})/2\\quad\\text{ where }\\quad x=(\\alpha-E)/\\beta$$\n",
    "\n",
    "thus the lowest energy is \n",
    "\n",
    "$$\\displaystyle E_1=\\alpha +\\frac{1+\\sqrt{5}}{2}\\beta=\\alpha +1.618\\beta$$\n",
    "\n",
    "and this is because $\\beta$ has a negative value.  This eigenvalue corresponds to the wavefunction with coefficients (the eigenvector's values) all having the same sign and is column 2 in the eigenvector (modal) matrix and in the same relative position as its eigenvalue. The next to lowest energy is eigenvalue 1 (column 1) as it contains one node and these two lowest orbitals contain 2 electrons each.\n",
    "\n",
    "The highest energy orbital has the most nodes, that is the most changes of sign in the pattern of eigenvectors, and this is entry 3 with eigenvalue $x-(1+\\sqrt{5})/2$, and therefore $\\displaystyle E_4=\\alpha -\\frac{1+\\sqrt{5}}{2}\\beta$. \n",
    "\n",
    "The pattern of orbital coefficients is shown in Figure 88; the negative coefficients are filled in. The electron density is the square of these numbers. In fact we could reverse the sign of all the coefficients and the result would be the same. This is generally true for eigenvectors as they are determined only to within an arbitrary constant, which is usually taken to be $1$, but it could just as easily be $-1$; hence the possibility of reversed sign on each value.\n",
    "\n",
    "![Drawing](matrices-fig88.png)\n",
    "\n",
    "Figure 88. The pattern of butadiene MOs. The size is proportional to the element in the eigenvector (approx $0.37$ and $0.6$); coloured circles are negative and discs positive phase.\n",
    "________\n",
    "\n",
    "The $\\pi$ bond order is \n",
    "\n",
    "$$\\displaystyle \\rho_{ab} =\\sum-i^n m_ic_{ai}c_{bi}$$\n",
    "\n",
    "which must be transformed into python code. The individual eigenvector values are needed, because these are the $c$ coefficients, and $a$ and $b$ label the molecules 1 to 4, and $i$ labels the eigenvector columns corresponding to orbitals 1 to 4. The bond order calculated when label $a = b$, does not make sense, as a bond has to be between different atoms. Similarly, because butadiene is a linear molecule a bond between atoms 1 and 3 or 2 and 4 etc. does not occur and therefore all of these terms have to be ignored. The bond order 1 to 2 is the same as 2 to 1 and so on, therefore only one of each of these pairs needs to be calculated. This is done by calculating only between one atom and its nearest neighbour. If the molecule is more complex, such as fulvalene, it is safer to calculate the whole matrix of bond orders, then eliminate by hand the ones that are not physically possible."
   ]
  },
  {
   "cell_type": "code",
   "execution_count": 9,
   "metadata": {},
   "outputs": [
    {
     "name": "stdout",
     "output_type": "stream",
     "text": [
      "pi bond orders\n",
      " 1 - 2  0.894\n",
      " 2 - 3  0.447\n",
      " 3 - 4  0.894\n"
     ]
    }
   ],
   "source": [
    "print('pi bond orders')\n",
    "\n",
    "ne = [2,2,0,0]   # number of electrons in orbitals in same order as eigvalues\n",
    "rho = np.zeros((n,n),dtype=float)  # 2D array\n",
    "for a in range(n):\n",
    "    for b in range(n):\n",
    "        s = 0.0\n",
    "        for i in range(n):\n",
    "            if b == a + 1:\n",
    "                s = s + ne[i]*evects[b,i]*evects[a,i]\n",
    "                pass\n",
    "        rho[a,b] = np.abs(s)\n",
    "        if rho[a,b] > 0:\n",
    "            print(' {:d} - {:d} {:6.3f}'.format( a+1, b+1, rho[a,b]) )"
   ]
  },
  {
   "cell_type": "code",
   "execution_count": 10,
   "metadata": {},
   "outputs": [
    {
     "name": "stdout",
     "output_type": "stream",
     "text": [
      "atom number and charge density\n",
      "1  1.0000\n",
      "2  1.0000\n",
      "3  1.0000\n",
      "4  1.0000\n"
     ]
    }
   ],
   "source": [
    "print('atom number and charge density')\n",
    "for a in range(n):\n",
    "    s = 0\n",
    "    for i in range(n):\n",
    "        s = s + ne[i]*np.abs(evects[a,i])**2\n",
    "    \n",
    "    print('{:d}{:8.4f}'.format( a+1,s) )  # charge densities atoms 1 to 4 "
   ]
  },
  {
   "cell_type": "markdown",
   "metadata": {},
   "source": [
    "Because the electron charge densities are all the same, the molecule cannot have a dipole.\n",
    "\n",
    "## Q49 answer\n",
    "The Huckel matrix for fulvalene is \n",
    "\n",
    "$$ \\displaystyle x=\\begin{bmatrix}\n",
    "x & 1 & 0 & 0 & 0 & 0   \\\\\n",
    "1 & x & 1 & 0 & 0 & 1  \\\\\n",
    "0 & 1 & x & 1 & 0 & 0  \\\\ \n",
    "0 & 0 & 1 & x & 1 & 0  \\\\\n",
    "0 & 0 & 0 & 1 & x & 1  \\\\\n",
    "0 & 1 & 0 & 0 & 1 & x  \\\\ \\end{bmatrix}$$ \n",
    "\n",
    "Using the algebraic calculation above produces very complicated solutions whose exact form is not of any interest to us. This is generally the case for largish Huckel matrices. To find the eigenvectors and eigenvalues it is necessary to make $x=0$ first and it is easiest then to use python/numpy to obtain numerical values. "
   ]
  },
  {
   "cell_type": "code",
   "execution_count": 11,
   "metadata": {},
   "outputs": [
    {
     "name": "stdout",
     "output_type": "stream",
     "text": [
      "0  -1.8608\n",
      "1  -1.6180\n",
      "2  -0.2541\n",
      "3   0.6180\n",
      "4   1.0000\n",
      "5   2.1149\n"
     ]
    }
   ],
   "source": [
    "n = 6\n",
    "M0 = np.array([ [0,1,0,0,0,0 ], [1,0,1,0,0,1], [0,1,0,1,0,0],\\\n",
    "                [0,0,1,0,1,0 ], [0,0,0,1,0,1], [0,1,0,0,1,0]])  # Huckel matrix x=0\n",
    "\n",
    "ans = LA.eigh(M0)        # using numpy linear algebra for numerical values\n",
    "for i in range(n):\n",
    "    print('{:d} {:8.4f}'.format( i, ans[0][i])  )                 # list of eigenvalues "
   ]
  },
  {
   "cell_type": "code",
   "execution_count": 12,
   "metadata": {},
   "outputs": [
    {
     "name": "stdout",
     "output_type": "stream",
     "text": [
      "normalised eigenvectors columnwise\n",
      "  0.3566  -0.0000   0.7495   0.0000  -0.5000  -0.2473\n",
      " -0.6635   0.0000  -0.1904   0.0000  -0.5000  -0.5230\n",
      "  0.4390  -0.3717  -0.3505  -0.6015  -0.0000  -0.4294\n",
      " -0.1535   0.6015   0.2795  -0.3717   0.5000  -0.3851\n",
      " -0.1535  -0.6015   0.2795   0.3717   0.5000  -0.3851\n",
      "  0.4390   0.3717  -0.3505   0.6015  -0.0000  -0.4294\n"
     ]
    }
   ],
   "source": [
    "print('normalised eigenvectors columnwise')\n",
    "evects = ans[1]\n",
    "for i in range(n):\n",
    "    print(' '.join( '{:8.4f}'.format( evects[i,j] ) for j in range(n) ) )"
   ]
  },
  {
   "cell_type": "code",
   "execution_count": 13,
   "metadata": {},
   "outputs": [
    {
     "name": "stdout",
     "output_type": "stream",
     "text": [
      "Bond order\n",
      " 1 - 2  0.759\n",
      " 2 - 3  0.449\n",
      " 3 - 4  0.778\n",
      " 4 - 5  0.520\n",
      " 5 - 6  0.778\n"
     ]
    }
   ],
   "source": [
    "print('Bond order')\n",
    "ne = [0,0,0,2,2,2]   # number of electrons in orbitals in same order as eigvalues\n",
    "rho = np.zeros((n,n),dtype=float)  # 2D array\n",
    "for a in range(n):\n",
    "    for b in range(n):\n",
    "        s = 0.0\n",
    "        for i in range(n):\n",
    "            if b == a + 1:\n",
    "                s = s + ne[i]*evects[b,i]*evects[a,i]\n",
    "                pass\n",
    "        rho[a,b] = np.abs(s)\n",
    "        if rho[a,b] > 0:\n",
    "            print(' {:d} - {:d} {:6.3f}'.format( a+1, b+1, rho[a,b]) )"
   ]
  },
  {
   "cell_type": "code",
   "execution_count": 14,
   "metadata": {},
   "outputs": [
    {
     "name": "stdout",
     "output_type": "stream",
     "text": [
      "atom number and charge density\n",
      "1  0.6223\n",
      "2  1.0470\n",
      "3  1.0923\n",
      "4  1.0730\n",
      "5  1.0730\n",
      "6  1.0923\n"
     ]
    }
   ],
   "source": [
    "print('atom number and charge density')\n",
    "for a in range(n):\n",
    "    s = 0\n",
    "    for i in range(n):\n",
    "        s = s + ne[i]*(evects[a,i])**2\n",
    "    print('{:d}{:8.4f}'.format( a+1,s) )  # charge densities atoms 1 to 4 "
   ]
  },
  {
   "cell_type": "markdown",
   "metadata": {},
   "source": [
    "THe dipole is calculated with \n",
    "\n",
    "$$\\displaystyle d_\\pi=\\sum_i(1-q_i)r_i$$\n",
    "\n",
    "Using the geometry of the molecule (internal angle $180-72$ degrees ) to calculate the atom positions along the $C_2$ axis produces the dipole along that direction in units of $eL$; "
   ]
  },
  {
   "cell_type": "code",
   "execution_count": 15,
   "metadata": {},
   "outputs": [
    {
     "name": "stdout",
     "output_type": "stream",
     "text": [
      " dipole =  -0.711\n"
     ]
    }
   ],
   "source": [
    "d_pi = (-(1-0.622) + 0*(1-1.047) + 2*(1-1.0923)*np.sin(36*np.pi/180) \\\n",
    "      + 2*(1-1.0730)*(np.sin(36*np.pi/180)+np.cos(18*np.pi/180)) )\n",
    "print('{:s} {:6.3f}'.format(' dipole = ',d_pi) )"
   ]
  },
  {
   "cell_type": "markdown",
   "metadata": {},
   "source": [
    "## Q50 answer\n",
    "The eigenvalues and un-normalized eigenvectors are found using the calculation below;"
   ]
  },
  {
   "cell_type": "code",
   "execution_count": 16,
   "metadata": {},
   "outputs": [
    {
     "data": {
      "text/latex": [
       "$\\displaystyle \\left[\\begin{matrix}x & 1 & 0 & 0 & 0 & 1\\\\1 & x & 1 & 0 & 0 & 0\\\\0 & 1 & x & 1 & 0 & 0\\\\0 & 0 & 1 & x & 1 & 0\\\\0 & 0 & 0 & 1 & x & 1\\\\1 & 0 & 0 & 0 & 1 & x\\end{matrix}\\right]$"
      ],
      "text/plain": [
       "⎡x  1  0  0  0  1⎤\n",
       "⎢                ⎥\n",
       "⎢1  x  1  0  0  0⎥\n",
       "⎢                ⎥\n",
       "⎢0  1  x  1  0  0⎥\n",
       "⎢                ⎥\n",
       "⎢0  0  1  x  1  0⎥\n",
       "⎢                ⎥\n",
       "⎢0  0  0  1  x  1⎥\n",
       "⎢                ⎥\n",
       "⎣1  0  0  0  1  x⎦"
      ]
     },
     "execution_count": 16,
     "metadata": {},
     "output_type": "execute_result"
    }
   ],
   "source": [
    "# Huckel determinant for benzene  using Sympy/python\n",
    "n, M, x = symbols('n, M, x')  # benzene \n",
    "n = 6\n",
    "M = zeros(n,n)    # define nxn array as zeros\n",
    "for i in range(n):\n",
    "    M[i,i] = x\n",
    "    if (i > -1) and (i < n-1 ):  # +1,-1 off diagonals\n",
    "        M[i,i+1] = 1\n",
    "        M[i+1,i] = 1\n",
    "    pass\n",
    "M[n-1,0] = 1\n",
    "M[0,n-1] = 1\n",
    "M"
   ]
  },
  {
   "cell_type": "code",
   "execution_count": 17,
   "metadata": {
    "scrolled": true
   },
   "outputs": [
    {
     "data": {
      "text/latex": [
       "$\\displaystyle \\left[ \\left( x - 2, \\  1, \\  \\left[ \\left[\\begin{matrix}-1\\\\1\\\\-1\\\\1\\\\-1\\\\1\\end{matrix}\\right]\\right]\\right), \\  \\left( x - 1, \\  2, \\  \\left[ \\left[\\begin{matrix}-1\\\\1\\\\0\\\\-1\\\\1\\\\0\\end{matrix}\\right], \\  \\left[\\begin{matrix}-1\\\\0\\\\1\\\\-1\\\\0\\\\1\\end{matrix}\\right]\\right]\\right), \\  \\left( x + 1, \\  2, \\  \\left[ \\left[\\begin{matrix}-1\\\\-1\\\\0\\\\1\\\\1\\\\0\\end{matrix}\\right], \\  \\left[\\begin{matrix}1\\\\0\\\\-1\\\\-1\\\\0\\\\1\\end{matrix}\\right]\\right]\\right), \\  \\left( x + 2, \\  1, \\  \\left[ \\left[\\begin{matrix}1\\\\1\\\\1\\\\1\\\\1\\\\1\\end{matrix}\\right]\\right]\\right)\\right]$"
      ],
      "text/plain": [
       "⎡⎛          ⎡⎡-1⎤⎤⎞  ⎛          ⎡⎡-1⎤  ⎡-1⎤⎤⎞  ⎛          ⎡⎡-1⎤  ⎡1 ⎤⎤⎞  ⎛          ⎡⎡1\n",
       "⎢⎜          ⎢⎢  ⎥⎥⎟  ⎜          ⎢⎢  ⎥  ⎢  ⎥⎥⎟  ⎜          ⎢⎢  ⎥  ⎢  ⎥⎥⎟  ⎜          ⎢⎢ \n",
       "⎢⎜          ⎢⎢1 ⎥⎥⎟  ⎜          ⎢⎢1 ⎥  ⎢0 ⎥⎥⎟  ⎜          ⎢⎢-1⎥  ⎢0 ⎥⎥⎟  ⎜          ⎢⎢1\n",
       "⎢⎜          ⎢⎢  ⎥⎥⎟  ⎜          ⎢⎢  ⎥  ⎢  ⎥⎥⎟  ⎜          ⎢⎢  ⎥  ⎢  ⎥⎥⎟  ⎜          ⎢⎢ \n",
       "⎢⎜          ⎢⎢-1⎥⎥⎟  ⎜          ⎢⎢0 ⎥  ⎢1 ⎥⎥⎟  ⎜          ⎢⎢0 ⎥  ⎢-1⎥⎥⎟  ⎜          ⎢⎢1\n",
       "⎢⎜x - 2, 1, ⎢⎢  ⎥⎥⎟, ⎜x - 1, 2, ⎢⎢  ⎥, ⎢  ⎥⎥⎟, ⎜x + 1, 2, ⎢⎢  ⎥, ⎢  ⎥⎥⎟, ⎜x + 2, 1, ⎢⎢ \n",
       "⎢⎜          ⎢⎢1 ⎥⎥⎟  ⎜          ⎢⎢-1⎥  ⎢-1⎥⎥⎟  ⎜          ⎢⎢1 ⎥  ⎢-1⎥⎥⎟  ⎜          ⎢⎢1\n",
       "⎢⎜          ⎢⎢  ⎥⎥⎟  ⎜          ⎢⎢  ⎥  ⎢  ⎥⎥⎟  ⎜          ⎢⎢  ⎥  ⎢  ⎥⎥⎟  ⎜          ⎢⎢ \n",
       "⎢⎜          ⎢⎢-1⎥⎥⎟  ⎜          ⎢⎢1 ⎥  ⎢0 ⎥⎥⎟  ⎜          ⎢⎢1 ⎥  ⎢0 ⎥⎥⎟  ⎜          ⎢⎢1\n",
       "⎢⎜          ⎢⎢  ⎥⎥⎟  ⎜          ⎢⎢  ⎥  ⎢  ⎥⎥⎟  ⎜          ⎢⎢  ⎥  ⎢  ⎥⎥⎟  ⎜          ⎢⎢ \n",
       "⎣⎝          ⎣⎣1 ⎦⎦⎠  ⎝          ⎣⎣0 ⎦  ⎣1 ⎦⎦⎠  ⎝          ⎣⎣0 ⎦  ⎣1 ⎦⎦⎠  ⎝          ⎣⎣1\n",
       "\n",
       "⎤⎤⎞⎤\n",
       "⎥⎥⎟⎥\n",
       "⎥⎥⎟⎥\n",
       "⎥⎥⎟⎥\n",
       "⎥⎥⎟⎥\n",
       "⎥⎥⎟⎥\n",
       "⎥⎥⎟⎥\n",
       "⎥⎥⎟⎥\n",
       "⎥⎥⎟⎥\n",
       "⎥⎥⎟⎥\n",
       "⎦⎦⎠⎦"
      ]
     },
     "execution_count": 17,
     "metadata": {},
     "output_type": "execute_result"
    }
   ],
   "source": [
    "M.eigenvects()  # order is:  eigenval, degeneracy, eigevector. labelled 1 to 6 in text"
   ]
  },
  {
   "cell_type": "code",
   "execution_count": 18,
   "metadata": {},
   "outputs": [
    {
     "data": {
      "text/latex": [
       "$\\displaystyle \\left( \\left[\\begin{matrix}-1 & -1 & -1 & -1 & 1 & 1\\\\1 & 1 & 0 & -1 & 0 & 1\\\\-1 & 0 & 1 & 0 & -1 & 1\\\\1 & -1 & -1 & 1 & -1 & 1\\\\-1 & 1 & 0 & 1 & 0 & 1\\\\1 & 0 & 1 & 0 & 1 & 1\\end{matrix}\\right], \\  \\left[\\begin{matrix}x - 2 & 0 & 0 & 0 & 0 & 0\\\\0 & x - 1 & 0 & 0 & 0 & 0\\\\0 & 0 & x - 1 & 0 & 0 & 0\\\\0 & 0 & 0 & x + 1 & 0 & 0\\\\0 & 0 & 0 & 0 & x + 1 & 0\\\\0 & 0 & 0 & 0 & 0 & x + 2\\end{matrix}\\right]\\right)$"
      ],
      "text/plain": [
       "⎛⎡-1  -1  -1  -1  1   1⎤  ⎡x - 2    0      0      0      0      0  ⎤⎞\n",
       "⎜⎢                     ⎥  ⎢                                        ⎥⎟\n",
       "⎜⎢1   1   0   -1  0   1⎥  ⎢  0    x - 1    0      0      0      0  ⎥⎟\n",
       "⎜⎢                     ⎥  ⎢                                        ⎥⎟\n",
       "⎜⎢-1  0   1   0   -1  1⎥  ⎢  0      0    x - 1    0      0      0  ⎥⎟\n",
       "⎜⎢                     ⎥, ⎢                                        ⎥⎟\n",
       "⎜⎢1   -1  -1  1   -1  1⎥  ⎢  0      0      0    x + 1    0      0  ⎥⎟\n",
       "⎜⎢                     ⎥  ⎢                                        ⎥⎟\n",
       "⎜⎢-1  1   0   1   0   1⎥  ⎢  0      0      0      0    x + 1    0  ⎥⎟\n",
       "⎜⎢                     ⎥  ⎢                                        ⎥⎟\n",
       "⎝⎣1   0   1   0   1   1⎦  ⎣  0      0      0      0      0    x + 2⎦⎠"
      ]
     },
     "execution_count": 18,
     "metadata": {},
     "output_type": "execute_result"
    }
   ],
   "source": [
    "# alternnative calculkation\n",
    "\n",
    "M.diagonalize()     # gives eigenvectors then eigenvalue matrix"
   ]
  },
  {
   "cell_type": "markdown",
   "metadata": {},
   "source": [
    "The order of the energies is that $2 + x$ is the lowest; then a degenerate pair at energy $x + 1$, and at $x - 1$, and the highest at $x - 2$; recall that $\\displaystyle x=\\frac{\\alpha-E}{\\beta }$ and that $\\beta$ is negative. The of nodes in the eigenvectors determines the energy, with the lowest being the eigenvector where each element has the same sign; in this example this is number 6. The highest energy orbital has the most changes in sign and is number 1.\n",
    "\n",
    "Plotting out orbital coefficients using the eigenvector columns, gives the orbital patterns with the filled in circle as the negative phase of the $\\pi$ orbital and the open circle as the positive one; no circle indicates zero coefficient and no electron density. The first pattern corresponds to eigenvector with energy $x + 2$, and so on, in descending order of eigenvalue and eigenvector column index and in ascending order of energy.\n",
    "\n",
    "![Drawing](matrices-fig89.png)\n",
    "\n",
    "Figure 89. Benzene Huckel MO's.\n",
    "___________\n",
    "\n",
    "The second and third eigenvectors are related by a $180^\\mathrm{o}$ rotation about the principal axis, which is perpendicular to the plane of the molecule. The same is true of the patterns of the fourth and fifth, but by a mirror plane, and they are also degenerate in energy. Making a plus and minus linear combination of  orbitals five and four produces two new MOs still with the same energy but which in physical terms make more sense. Each new MO still has two nodes. The first pair make the two symmetry adapted linear combinations or SALCs, and one of the pair has the same pattern as one of the original MOs (number 5) the other is clearly different. Only the degenerate orbitals can interact in this way to form new combinations. The second pair, 2 and 3, also form two SALC MOs and each has two nodes.\n",
    "\n",
    "![Drawing](matrices-fig90.png)\n",
    "\n",
    "Figure 90. Linear combinations of benzene MO's."
   ]
  }
 ],
 "metadata": {
  "kernelspec": {
   "display_name": "Python 3 (ipykernel)",
   "language": "python",
   "name": "python3"
  },
  "language_info": {
   "codemirror_mode": {
    "name": "ipython",
    "version": 3
   },
   "file_extension": ".py",
   "mimetype": "text/x-python",
   "name": "python",
   "nbconvert_exporter": "python",
   "pygments_lexer": "ipython3",
   "version": "3.9.6"
  }
 },
 "nbformat": 4,
 "nbformat_minor": 2
}