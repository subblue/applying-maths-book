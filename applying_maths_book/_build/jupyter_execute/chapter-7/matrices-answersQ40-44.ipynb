{
 "cells": [
  {
   "cell_type": "markdown",
   "metadata": {},
   "source": [
    "# Solutions Q40 - 44"
   ]
  },
  {
   "cell_type": "code",
   "execution_count": 1,
   "metadata": {},
   "outputs": [],
   "source": [
    "# import all python add-ons etc that will be needed later on\n",
    "%matplotlib inline\n",
    "import numpy as np\n",
    "import matplotlib.pyplot as plt\n",
    "from sympy import *\n",
    "init_printing()                      # allows printing of SymPy results in typeset maths format\n",
    "plt.rcParams.update({'font.size': 14})  # set font size for plots"
   ]
  },
  {
   "cell_type": "markdown",
   "metadata": {},
   "source": [
    "## Q40 answer\n",
    "(a) From the table of polarizer matrices, that for a polarizer at zero degrees is \n",
    "\n",
    "$$\\displaystyle \\begin{bmatrix} 1 & 0 \\\\ 0 & 0 \\end{bmatrix}$$\n",
    "\n",
    "The multiplication to produce the output beam is \n",
    "\n",
    "$$\\displaystyle \\begin{bmatrix} 1 & 0 \\\\ 0 & 0 \\end{bmatrix}\\begin{bmatrix} V \\\\ H \\end{bmatrix}=\\begin{bmatrix} V \\\\ 0 &\\end{bmatrix}$$\n",
    "\n",
    "which shows that the polariser selects just the vertical polarized light. The intensity is \n",
    "\n",
    "$$\\displaystyle \\begin{bmatrix} V & 0 &\\end{bmatrix}\\begin{bmatrix} V \\\\ 0 &\\end{bmatrix}=V^2$$\n",
    "\n",
    "so that the reflected light is the total less that transmitted, i.e. \n",
    "\n",
    "$$\\displaystyle \\begin{bmatrix} V & H &\\end{bmatrix}\\begin{bmatrix} V \\\\ H &\\end{bmatrix}-H^2=V^2$$\n",
    "\n",
    "which is not too surprising, and conforms to our own intuition.\n",
    "\n",
    "(b) At $45^\\text{o}$ or $\\pi$/4 radians, the matrix is \n",
    "\n",
    "$$\\displaystyle \\begin{bmatrix} \\cos^2(\\pi/4) & \\sin(\\pi/4)\\cos(\\pi/4)\\\\ \\sin(\\pi/4)\\cos(\\pi/4) & \\sin^2(\\pi/4)\\end{bmatrix}=\\begin{bmatrix}1/2 & 1/2 \\\\1/2 & 1/2  \\end{bmatrix}$$\n",
    "\n",
    "therefore \n",
    "\n",
    "$$\\displaystyle \\begin{bmatrix}1/2 & 1/2 \\\\1/2 & 1/2  \\end{bmatrix}\\begin{bmatrix}V \\\\H  \\end{bmatrix}=\\begin{bmatrix}(V+H)/2 \\\\(V+H)/2  \\end{bmatrix}$$\n",
    "\n",
    "and because the componets are equal equal amounts of light are transmitted and reflected.\n",
    "\n",
    "## Q41 answer\n",
    "With the wave-plate fast axis at some arbitrary angle $\\varphi$ and using the matrix from the table, the matrix equation is\n",
    "\n",
    "$$\\displaystyle \\begin{bmatrix} 2\\cos^2(\\theta)-1 & 2\\sin(\\theta)\\cos(\\theta)\\\\ 2\\sin(\\theta)\\cos(\\theta) & 1-2\\cos^2(\\theta) \\end{bmatrix}\\begin{bmatrix} V \\\\0\\end{bmatrix} =V\\begin{bmatrix} 2\\cos^2(\\theta)-1 \\\\2\\sin(\\theta)\\cos(\\theta)\\end{bmatrix}$$\n",
    "\n",
    "and the intensity\n",
    "\n",
    "$$\\displaystyle V^2\\begin{bmatrix} 2\\cos^2(\\theta)-1 & 2\\sin(\\theta)\\cos(\\theta)\\end{bmatrix}\\begin{bmatrix} 2\\cos^2(\\theta)-1 \\\\2\\sin(\\theta)\\cos(\\theta)\\end{bmatrix}$$\n",
    "\n",
    "expanding and simplifying produces an intensity of $V^2$ as shown in the following Sympy calculation"
   ]
  },
  {
   "cell_type": "code",
   "execution_count": 2,
   "metadata": {},
   "outputs": [
    {
     "data": {
      "text/latex": [
       "$\\displaystyle \\left[\\begin{matrix}V^{2} \\left(2 \\cos^{2}{\\left(\\theta \\right)} - 1\\right)^{2} + 4 V^{2} \\sin^{2}{\\left(\\theta \\right)} \\cos^{2}{\\left(\\theta \\right)}\\end{matrix}\\right]$"
      ],
      "text/plain": [
       "⎡                  2                       ⎤\n",
       "⎢ 2 ⎛     2       ⎞       2    2       2   ⎥\n",
       "⎣V ⋅⎝2⋅cos (θ) - 1⎠  + 4⋅V ⋅sin (θ)⋅cos (θ)⎦"
      ]
     },
     "execution_count": 2,
     "metadata": {},
     "output_type": "execute_result"
    }
   ],
   "source": [
    "theta, V = symbols('theta, V')   # notice way of writing a row and a column matrix\n",
    "Int = V**2 * Matrix([ [ 2*cos(theta)**2 -1, 2*sin(theta)*cos(theta)]  ] )\\\n",
    "           * Matrix([ [2*cos(theta)**2-1], [2*sin(theta)*cos(theta)]  ] )\n",
    "Int"
   ]
  },
  {
   "cell_type": "code",
   "execution_count": 3,
   "metadata": {},
   "outputs": [
    {
     "data": {
      "text/latex": [
       "$\\displaystyle \\left[\\begin{matrix}V^{2}\\end{matrix}\\right]$"
      ],
      "text/plain": [
       "⎡ 2⎤\n",
       "⎣V ⎦"
      ]
     },
     "execution_count": 3,
     "metadata": {},
     "output_type": "execute_result"
    }
   ],
   "source": [
    "simplify(Int)"
   ]
  },
  {
   "cell_type": "markdown",
   "metadata": {},
   "source": [
    "The tangent of the rotation angle $\\psi$ produced by the wave-plate is the horizontal divided by the vertical component of the vector;  \n",
    "\n",
    "$$\\displaystyle \\tan(\\psi)=\\frac{2\\sin(\\theta)\\cos(\\theta)}{2\\cos^2(\\theta)-1}$$\n",
    "\n",
    "Using Sympy to simplify gives "
   ]
  },
  {
   "cell_type": "code",
   "execution_count": 4,
   "metadata": {},
   "outputs": [
    {
     "data": {
      "image/png": "[encoded data removed]",
      "text/latex": [
       "$\\displaystyle \\tan{\\left(2 \\theta \\right)}$"
      ],
      "text/plain": [
       "tan(2⋅θ)"
      ]
     },
     "execution_count": 4,
     "metadata": {
      "filenames": {
       "image/png": "/Users/godfreybeddard/Dropbox/Dad-Tom/applying-maths-book/applying_maths_book/_build/jupyter_execute/chapter-7/matrices-answersQ40-44_6_0.png"
      }
     },
     "output_type": "execute_result"
    }
   ],
   "source": [
    "simplify(2*sin(theta)*cos(theta)/(2*cos(theta)**2-1) )"
   ]
  },
  {
   "cell_type": "markdown",
   "metadata": {},
   "source": [
    "or $\\displaystyle \\tan(\\psi)=\\tan(2\\theta)$ or $ \\psi=2\\theta$ thus the rotation angle is then twice that rotated by the fast axis of the wave plate.\n",
    "\n",
    "## Q42 answer\n",
    "(a) The matrix equation for the quarter-wave plate with its fast axis at $0^\\text{o}$ is $\\displaystyle \\begin{bmatrix} 1 & 0\\\\0 & -i\\end{bmatrix} \\begin{bmatrix} V\\\\0\\end{bmatrix}=\\begin{bmatrix} V\\\\0\\end{bmatrix}$ an has no effect on the beam. The transmitted intensity remains at $V^2$.\n",
    "\n",
    "(b) At $ \\theta= 45^\\text{o}\\, \\Delta=\\pi/2$ and $e^{-i\\Delta}=-i$ the related equation is \n",
    "\n",
    "$$\\displaystyle \\begin{bmatrix} \\cos^2(\\theta)-i\\sin^2(\\theta) & \\sin(\\theta)\\cos(\\theta)(1+i)\\\\ \\sin(\\theta)\\cos(\\theta)(1+i) & -i\\cos^2(\\theta)+\\sin^2(\\theta) \\end{bmatrix} =\\frac{1}{2} \\begin{bmatrix} 1-i & 1+i\\\\1+i & 1-i\\end{bmatrix}$$\n",
    "\n",
    "and the matrix equation \n",
    "\n",
    "$$\\displaystyle \\frac{1}{2}\\begin{bmatrix} 1-i & 1+i\\\\1+i & 1-i\\end{bmatrix}\\begin{bmatrix} V & \\\\ 0\\end{bmatrix}=\\frac{V}{2}\\begin{bmatrix} 1-i \\\\1+i \\end{bmatrix}$$\n",
    "\n",
    "therefore, the quarter wave plate at $45^\\text{o}$ produces elliptically polarized light, whose total intensity is calculated as the _Hermitian dot product_ which means transposing the column vector to make a row, then take the complex conjugate. The result is\n",
    "\n",
    "$$\\displaystyle \\frac{V^2}{4}\\begin{bmatrix} 1+i & 1-i \\end{bmatrix}\\begin{bmatrix} 1-i \\\\1+i \\end{bmatrix}=\\frac{V^2}{4}(2+2) =V^2$$\n",
    "\n",
    "and no intensity is lost. Notice again that we make the complex conjugate when forming the row vector.\n",
    "\n",
    "(c) In the general case the matrix equation is \n",
    "\n",
    "$$\\displaystyle \\begin{bmatrix} \\cos^2(\\theta)-i\\sin^2(\\theta) & \\sin(\\theta)\\cos(\\theta)(1+i)\\\\ \\sin(\\theta)\\cos(\\theta)(1+i) & -i\\cos^2(\\theta)+\\sin^2(\\theta) \\end{bmatrix}\\begin{bmatrix} V\\\\0\\end{bmatrix}=V\\begin{bmatrix}\\cos^2(\\theta)-i\\sin^2(\\theta)\\\\(1+i)\\cos(\\theta)\\sin(\\theta)\\end{bmatrix}$$\n",
    "\n",
    "and the intensity \n",
    "\n",
    "$$\\displaystyle V\\begin{bmatrix}\\cos^2(\\theta)+i\\sin^2(\\theta)&(1-i)\\cos(\\theta)\\sin(\\theta)\\end{bmatrix}V\\begin{bmatrix}\\cos^2(\\theta)-i\\sin^2(\\theta)\\\\(1+i)\\cos(\\theta)\\sin(\\theta)\\end{bmatrix}=V^2(\\cos^2(\\theta)+\\sin^2(\\theta))^2=V^2$$\n",
    "\n",
    "proving that any ideal wave-plate does not alter the intensity of a beam passing through it. This calculation clearly ignores any reflection at the surfaces, due to changes in the refractive index between the wave-plate and air.\n",
    "\n",
    "## Q43 answer\n",
    "The experimental scheme is\n",
    "\n",
    "![Drawing](matrices-fig86.png)\n",
    "\n",
    "Figure 86. Experimental set-up.\n",
    "________\n",
    "\n",
    "The matrices are\n",
    "\n",
    "$$\\displaystyle \\begin{bmatrix}E_V\\\\E_H \\end{bmatrix}=\\begin{bmatrix} \\cos^2(\\theta) & \\sin(\\theta)\\cos(\\theta)\\\\ \\sin(\\theta)\\cos(\\theta) & \\sin^2(\\theta) \\end{bmatrix}\\  \\begin{bmatrix}1\\\\0 \\end{bmatrix}  $$\n",
    "\n",
    "where the output electric field amplitudes are $E_V$ and $E_H$ after going through the polarizer. Multiplying produces\n",
    "\n",
    "$$\\displaystyle \\begin{bmatrix}E_V\\\\E_H \\end{bmatrix}=\\begin{bmatrix} \\cos^2(\\theta)\\\\ \\sin(\\theta)\\cos(\\theta) &  \\end{bmatrix}\\   $$\n",
    "\n",
    "The transmitted intensity is then the dot product of this column with itself \n",
    "\n",
    "$$\\displaystyle I=\\begin{bmatrix} \\cos^2(\\theta) & \\sin(\\theta)\\cos(\\theta) &  \\end{bmatrix}\\begin{bmatrix} \\cos^2(\\theta)\\\\ \\sin(\\theta)\\cos(\\theta) &  \\end{bmatrix}=\\cos^2(\\theta)$$\n",
    "\n",
    "which shows that the transmitted intensity varies as $\\cos^2(\\theta)$ and is a maximum when the polarizer is at $0^\\theta{o}$; that is when the polarization direction of the laser's electric field and that of the polarizer are aligned. The transmitted intensity is zero when the laser polarization and polarizer direction are perpendicular ($90^\\text{o}$) to one another. This is a very useful way of attenuating a laser's intensity.\n",
    "\n",
    "(b) The output Maxwell column \n",
    "\n",
    "$$\\displaystyle \\begin{bmatrix}E_V\\\\E_H \\end{bmatrix}=\\begin{bmatrix} \\cos^2(\\theta)\\\\ \\sin(\\theta)\\cos(\\theta) &  \\end{bmatrix}$$\n",
    "\n",
    "is always real, so the light is linearly polarized and the angular direction of the polarization $\\psi$ from the vertical, is given by the angle of the polarizer $\\theta$ and is calculated using $\\tan(\\psi) = \\sin(\\theta)/\\cos(\\theta)$ or $\\psi=\\theta$. As the initial light is vertically polarized, no light is to be observed when the polarizer is at $90^\\text{o}$, but some is still observed at $\\lt 90^\\text{o}$, according to the $\\cos^2(\\theta)$ distribution.\n",
    "\n",
    "\n",
    "## Q44 answer\n",
    "(a) We use particular matrices first and then use general ones in a second calculation."
   ]
  },
  {
   "cell_type": "code",
   "execution_count": 5,
   "metadata": {},
   "outputs": [
    {
     "data": {
      "text/latex": [
       "$\\displaystyle \\left[\\begin{matrix}2 \\cos^{2}{\\left(\\theta \\right)} - 1 & 2 \\sin{\\left(\\theta \\right)} \\cos{\\left(\\theta \\right)}\\\\2 \\sin{\\left(\\theta \\right)} \\cos{\\left(\\theta \\right)} & 1 - 2 \\cos^{2}{\\left(\\theta \\right)}\\end{matrix}\\right]$"
      ],
      "text/plain": [
       "⎡      2                         ⎤\n",
       "⎢ 2⋅cos (θ) - 1   2⋅sin(θ)⋅cos(θ)⎥\n",
       "⎢                                ⎥\n",
       "⎢                           2    ⎥\n",
       "⎣2⋅sin(θ)⋅cos(θ)   1 - 2⋅cos (θ) ⎦"
      ]
     },
     "execution_count": 5,
     "metadata": {},
     "output_type": "execute_result"
    }
   ],
   "source": [
    "theta = symbols('theta')\n",
    "# define half wave plate HWP\n",
    "HWP = Matrix([[2*cos(theta)**2-1,2*cos(theta)*sin(theta)],[2*cos(theta)*sin(theta),1-2*cos(theta)**2]])\n",
    "HWP"
   ]
  },
  {
   "cell_type": "code",
   "execution_count": 6,
   "metadata": {},
   "outputs": [],
   "source": [
    "pol0 = Matrix([[1,0],[0,0]])  # polariser zero deg\n",
    "pol90= Matrix([[0,0],[0,1]])  # polariser 90 deg\n",
    "M = Matrix([[1],[0]])  "
   ]
  },
  {
   "cell_type": "code",
   "execution_count": 7,
   "metadata": {},
   "outputs": [
    {
     "data": {
      "text/latex": [
       "$\\displaystyle \\left[\\begin{matrix}0\\\\2 \\sin{\\left(\\theta \\right)} \\cos{\\left(\\theta \\right)}\\end{matrix}\\right]$"
      ],
      "text/plain": [
       "⎡       0       ⎤\n",
       "⎢               ⎥\n",
       "⎣2⋅sin(θ)⋅cos(θ)⎦"
      ]
     },
     "execution_count": 7,
     "metadata": {},
     "output_type": "execute_result"
    }
   ],
   "source": [
    "ans = pol90 * HWP * pol0 *M\n",
    "ans"
   ]
  },
  {
   "cell_type": "code",
   "execution_count": 8,
   "metadata": {},
   "outputs": [
    {
     "data": {
      "text/latex": [
       "$\\displaystyle \\left[\\begin{matrix}4 \\sin^{2}{\\left(\\theta \\right)} \\cos^{2}{\\left(\\theta \\right)}\\end{matrix}\\right]$"
      ],
      "text/plain": [
       "⎡     2       2   ⎤\n",
       "⎣4⋅sin (θ)⋅cos (θ)⎦"
      ]
     },
     "execution_count": 8,
     "metadata": {},
     "output_type": "execute_result"
    }
   ],
   "source": [
    "Intensity=ans.transpose()*ans\n",
    "Intensity"
   ]
  },
  {
   "cell_type": "code",
   "execution_count": 9,
   "metadata": {},
   "outputs": [
    {
     "data": {
      "image/png": "[encoded data removed]",
      "text/latex": [
       "$\\displaystyle \\left[ \\left( 0,\\right), \\  \\left( - \\frac{3 \\pi}{4},\\right), \\  \\left( - \\frac{\\pi}{2},\\right), \\  \\left( - \\frac{\\pi}{4},\\right), \\  \\left( \\frac{\\pi}{4},\\right), \\  \\left( \\frac{\\pi}{2},\\right), \\  \\left( \\frac{3 \\pi}{4},\\right)\\right]$"
      ],
      "text/plain": [
       "⎡      ⎛-3⋅π  ⎞  ⎛-π  ⎞  ⎛-π  ⎞  ⎛π ⎞  ⎛π ⎞  ⎛3⋅π ⎞⎤\n",
       "⎢(0,), ⎜─────,⎟, ⎜───,⎟, ⎜───,⎟, ⎜─,⎟, ⎜─,⎟, ⎜───,⎟⎥\n",
       "⎣      ⎝  4   ⎠  ⎝ 2  ⎠  ⎝ 4  ⎠  ⎝4 ⎠  ⎝2 ⎠  ⎝ 4  ⎠⎦"
      ]
     },
     "execution_count": 9,
     "metadata": {
      "filenames": {
       "image/png": "/Users/godfreybeddard/Dropbox/Dad-Tom/applying-maths-book/applying_maths_book/_build/jupyter_execute/chapter-7/matrices-answersQ40-44_12_0.png"
      }
     },
     "output_type": "execute_result"
    }
   ],
   "source": [
    "solve(diff(Intensity,theta) ,theta )    # find maxima and minima."
   ]
  },
  {
   "cell_type": "markdown",
   "metadata": {},
   "source": [
    "The plot shows the maximum and minimum values clearly\n",
    "\n",
    "![Drawing](matrices-fig87.png)\n",
    "\n",
    "Figure 87. Variation of transmitted intensity with half-wave plate's angle in radians.  The gray line shows the limit at small angle, see part (c).\n",
    "______\n",
    "\n",
    "(b) The maximum is found at $\\pm 45^\\text{o}$ to the vertical; minima between these positions at zero and $90^\\text{o}$ etc.\n",
    "\n",
    "(c) At small angles where $\\theta <0.1$ radian, the intensity can be expanded as a series; (see Chapter 5)\n",
    "\n",
    "$$\\displaystyle I= 4\\cos^2(\\theta)\\sin^2(\\theta)\\approx 4\\left(1-\\frac{\\theta^2}{2!}+\\frac{\\theta^4}{4!}\\cdots\\right)^2 \\left(\\theta-\\frac{\\theta^3}{3!}+\\frac{\\theta^5}{5!}\\cdots\\right)^2$$\n",
    "\n",
    "Because $\\theta \\lt \\theta^2$ and also for higher powers, on multiplying out gives all squared and higher terms are unimportant thus, $I\\approx 4\\theta^2$ which may be confirmed by plotting this result. The transmitted intensity is proportional to the square of the angle when this is small.\n",
    "\n",
    "(d) Now make the calculation general for any polarizer and wave-plate angles using Sympy. "
   ]
  },
  {
   "cell_type": "code",
   "execution_count": 10,
   "metadata": {},
   "outputs": [
    {
     "data": {
      "text/latex": [
       "$\\displaystyle \\left[\\begin{matrix}e^{- 1.0 i \\pi} \\sin^{2}{\\left(\\theta \\right)} + \\cos^{2}{\\left(\\theta \\right)} & \\left(1 - e^{- 1.0 i \\pi}\\right) \\sin{\\left(\\theta \\right)} \\cos{\\left(\\theta \\right)}\\\\\\left(1 - e^{- 1.0 i \\pi}\\right) \\sin{\\left(\\theta \\right)} \\cos{\\left(\\theta \\right)} & \\sin^{2}{\\left(\\theta \\right)} + e^{- 1.0 i \\pi} \\cos^{2}{\\left(\\theta \\right)}\\end{matrix}\\right]$"
      ],
      "text/plain": [
       "⎡  -1.0⋅ⅈ⋅π    2         2      ⎛     -1.0⋅ⅈ⋅π⎞              ⎤\n",
       "⎢ ℯ        ⋅sin (θ) + cos (θ)   ⎝1 - ℯ        ⎠⋅sin(θ)⋅cos(θ)⎥\n",
       "⎢                                                            ⎥\n",
       "⎢⎛     -1.0⋅ⅈ⋅π⎞                    2       -1.0⋅ⅈ⋅π    2    ⎥\n",
       "⎣⎝1 - ℯ        ⎠⋅sin(θ)⋅cos(θ)   sin (θ) + ℯ        ⋅cos (θ) ⎦"
      ]
     },
     "execution_count": 10,
     "metadata": {},
     "output_type": "execute_result"
    }
   ],
   "source": [
    "theta, alpha, beta, delta = symbols('theta, alpha, beta, delta', real=True)\n",
    "\n",
    "# theta is wave plate angle, beta and alpha polariser angles, delta phase for waveplate \n",
    "\n",
    "beta  = pi/2 \n",
    "alpha = 0\n",
    "delta = pi\n",
    "\n",
    "Wave_plate = Matrix([[cos(theta)**2+sin(theta)**2*exp(-1J*delta), cos(theta)*sin(theta)*(1-exp(-1J*delta))]\\\n",
    "                   ,[cos(theta)*sin(theta)*(1-exp(-1J*delta)), sin(theta)**2+cos(theta)**2*exp(-1J*delta)]])\n",
    "Wave_plate"
   ]
  },
  {
   "cell_type": "code",
   "execution_count": 11,
   "metadata": {},
   "outputs": [],
   "source": [
    "pola = Matrix([[cos(alpha)**2,cos(alpha)*sin(alpha)],[cos(alpha)*sin(alpha),sin(alpha)**2]])\n",
    "\n",
    "polb = Matrix([[cos(beta)**2,  cos(beta)*sin(beta) ],[cos(beta)*sin(beta),   sin(beta)**2]])"
   ]
  },
  {
   "cell_type": "code",
   "execution_count": 12,
   "metadata": {},
   "outputs": [],
   "source": [
    "M = Matrix([[1],[0]])  # vert pol input beam"
   ]
  },
  {
   "cell_type": "code",
   "execution_count": 13,
   "metadata": {},
   "outputs": [
    {
     "data": {
      "text/latex": [
       "$\\displaystyle \\left[\\begin{matrix}0\\\\\\sin{\\left(2 \\theta \\right)}\\end{matrix}\\right]$"
      ],
      "text/plain": [
       "⎡   0    ⎤\n",
       "⎢        ⎥\n",
       "⎣sin(2⋅θ)⎦"
      ]
     },
     "execution_count": 13,
     "metadata": {},
     "output_type": "execute_result"
    }
   ],
   "source": [
    "out = polb*Wave_plate*pola*M   \n",
    "simplify(out)"
   ]
  },
  {
   "cell_type": "code",
   "execution_count": 14,
   "metadata": {},
   "outputs": [
    {
     "data": {
      "text/latex": [
       "$\\displaystyle \\left[\\begin{matrix}\\frac{1}{2} - \\frac{\\cos{\\left(4 \\theta \\right)}}{2}\\end{matrix}\\right]$"
      ],
      "text/plain": [
       "⎡1   cos(4⋅θ)⎤\n",
       "⎢─ - ────────⎥\n",
       "⎣2      2    ⎦"
      ]
     },
     "execution_count": 14,
     "metadata": {},
     "output_type": "execute_result"
    }
   ],
   "source": [
    "Intensity=simplify((out.conjugate() ).transpose()*out )\n",
    "Intensity "
   ]
  }
 ],
 "metadata": {
  "kernelspec": {
   "display_name": "Python 3 (ipykernel)",
   "language": "python",
   "name": "python3"
  },
  "language_info": {
   "codemirror_mode": {
    "name": "ipython",
    "version": 3
   },
   "file_extension": ".py",
   "mimetype": "text/x-python",
   "name": "python",
   "nbconvert_exporter": "python",
   "pygments_lexer": "ipython3",
   "version": "3.9.6"
  }
 },
 "nbformat": 4,
 "nbformat_minor": 2
}