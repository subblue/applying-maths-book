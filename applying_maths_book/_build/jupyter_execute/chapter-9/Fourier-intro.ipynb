{
 "cells": [
  {
   "cell_type": "markdown",
   "id": "1b236063",
   "metadata": {},
   "source": [
    "# 9. Fourier Series and Transforms."
   ]
  },
  {
   "cell_type": "markdown",
   "id": "390ddc5d",
   "metadata": {},
   "source": [
    "This chapter describes several related topics: the Fourier series and Fourier transforms, as well as autocorrelations, convolutions, and their numerical calculation. How the fast fourier transform (FFT) works is explained and used and examples of the Hilbert and Hadamard transforms are given. \n",
    "\n",
    "Fourier series are used in solving partial differential equations, as explained in Chapter 10.5, for example, the diffusion and Schroedinger equation. Fourier transforms are used to produce every NMR spectrum, MRI scan, X-ray structure, and IR spectrum recorded; a good grasp of this topic is therefore essential for the molecular scientist. \n",
    "\n",
    "In many experiments the measuring instrument distorts the data and, in this case, what is measured is convoluted with the response of the instrument. Here Fourier transforms can unravel the data to produce the true response. Towards the end of the chapter a different type of transform, the Hadamard transform is also described and some examples given of its use in time-resolved measurements, such as time-resolved kinetics and x-ray diffraction. \n",
    "\n",
    "The last part of the chapter is devoted to 2D fourier transforms, x-ray diffraction from crystals and computed tomography as used in CAT scans."
   ]
  }
 ],
 "metadata": {
  "kernelspec": {
   "display_name": "Python 3 (ipykernel)",
   "language": "python",
   "name": "python3"
  },
  "language_info": {
   "codemirror_mode": {
    "name": "ipython",
    "version": 3
   },
   "file_extension": ".py",
   "mimetype": "text/x-python",
   "name": "python",
   "nbconvert_exporter": "python",
   "pygments_lexer": "ipython3",
   "version": "3.9.6"
  }
 },
 "nbformat": 4,
 "nbformat_minor": 5
}