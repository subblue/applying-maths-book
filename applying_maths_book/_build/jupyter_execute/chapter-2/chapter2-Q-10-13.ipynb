{
 "cells": [
  {
   "cell_type": "markdown",
   "metadata": {},
   "source": [
    "## Questions 10 -13"
   ]
  },
  {
   "cell_type": "markdown",
   "metadata": {},
   "source": [
    "### Q10 Roots\n",
    "Find the four roots of $(-3)^{1/4}$.\n",
    "\n",
    "**Strategy:** This problem is the same as solving the equation $w^4 = -3$ and as there are four roots they must form a square on an Argand diagram whose corners lie on a circle of radius $3^{1/4}$. The roots of a negative number are sought so these must all be complex with a zero real part; i.e. with an imaginary part only.\n",
    "\n",
    "### Q11 Square roots\n",
    "Find the square roots of $i$, i.e. $w^2 = i$. Find their magnitude and plot them on an Argand diagram.\n",
    "\n",
    "### Q12 Solve eqn.\n",
    "Solve $w^4 = 16$.\n",
    "\n",
    "**Strategy:** Because the equation is fourth order, there are four solutions and not just the two real ones $w = \\pm 2$. Use the method of previous questions.\n",
    "\n",
    "### Q13 Modulus & argument\n",
    "Calculate the modulus and argument of $2 + 3i$ then calculate its square roots. What is the radius of the circle on which the roots lie and at what angles?\n",
    "\n",
    "**Strategy:** The complex number $2 + 3i$ is best converted into its trigonometric form to calculate the modulus and argument."
   ]
  },
  {
   "cell_type": "code",
   "execution_count": null,
   "metadata": {},
   "outputs": [],
   "source": []
  }
 ],
 "metadata": {
  "kernelspec": {
   "display_name": "Python 3 (ipykernel)",
   "language": "python",
   "name": "python3"
  },
  "language_info": {
   "codemirror_mode": {
    "name": "ipython",
    "version": 3
   },
   "file_extension": ".py",
   "mimetype": "text/x-python",
   "name": "python",
   "nbconvert_exporter": "python",
   "pygments_lexer": "ipython3",
   "version": "3.8.9"
  }
 },
 "nbformat": 4,
 "nbformat_minor": 2
}