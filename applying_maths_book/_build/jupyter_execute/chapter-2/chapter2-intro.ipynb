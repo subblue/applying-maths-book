{
 "cells": [
  {
   "cell_type": "markdown",
   "id": "8fdefb46",
   "metadata": {},
   "source": [
    "# 2. Complex numbers."
   ]
  },
  {
   "cell_type": "markdown",
   "id": "674a1436",
   "metadata": {},
   "source": [
    "Complex numbers are an integral part of mathematics and are therefore often met in physical chemistry. At a practical level they are needed to understand fourier transforms (Chapter 9) and are used in describing NMR and x-ray diffraction from crystals as well as practical things such as MRI and CT scanners. Complex numbers also appear naturally in Quantum mechanics. You can think of a complex number as a two dimensional number which follow special and simple rules. This chapter introduces them with examples of their use."
   ]
  }
 ],
 "metadata": {
  "kernelspec": {
   "display_name": "Python 3 (ipykernel)",
   "language": "python",
   "name": "python3"
  },
  "language_info": {
   "codemirror_mode": {
    "name": "ipython",
    "version": 3
   },
   "file_extension": ".py",
   "mimetype": "text/x-python",
   "name": "python",
   "nbconvert_exporter": "python",
   "pygments_lexer": "ipython3",
   "version": "3.9.6"
  }
 },
 "nbformat": 4,
 "nbformat_minor": 5
}