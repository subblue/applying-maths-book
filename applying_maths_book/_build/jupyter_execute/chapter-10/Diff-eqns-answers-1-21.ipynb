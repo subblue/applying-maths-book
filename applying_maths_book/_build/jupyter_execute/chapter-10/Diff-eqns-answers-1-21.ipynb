{
 "cells": [
  {
   "cell_type": "markdown",
   "metadata": {
    "collapsed": true
   },
   "source": [
    "# Solutions Q1 - 21"
   ]
  },
  {
   "cell_type": "code",
   "execution_count": 1,
   "metadata": {},
   "outputs": [],
   "source": [
    "# import all python add-ons etc that will be needed later on\n",
    "%matplotlib inline\n",
    "import numpy as np\n",
    "import matplotlib.pyplot as plt\n",
    "from scipy.optimize import fsolve\n",
    "from sympy import *\n",
    "init_printing()                      # allows printing of SymPy results in typeset maths format\n",
    "plt.rcParams.update({'font.size': 14})  # set font size for plots"
   ]
  },
  {
   "cell_type": "markdown",
   "metadata": {},
   "source": [
    "## Q1 answer\n",
    "Following the example of the harmonic oscillator, the equation becomes $v^2 - \\omega^2x^2 = c$. This is the equation of hyperbolae and has a saddle point at $\\omega\\cdot x$ = 0. The plot is of $v\\equiv dx/dt$ vs $\\omega x$ with arbitrary values of $\\omega$ and $c$ that we can choose. The figure shows the plot by choosing $\\omega = c = 1$. Different values alters the 'look' of the plot, extending in one direction or the other but it always has the same form.\n",
    "\n",
    "![Drawing](diffeqn-fig31.png)\n",
    "\n",
    "Fig. 31 Phase portrait for $d^2x/dt^2 - \\omega^2x = 0. \\quad \\omega = c = 1$.\n",
    "\n",
    "## Q2 answer\n",
    "(a) $\\displaystyle \\frac{dy}{dx}=\\frac{xy}{1-x^2}$ or $\\displaystyle \\int\\frac{dy}{y}=\\int\\frac{x}{1-x^2}dx$. \n",
    "\n",
    "Integrating produces $\\ln(y)=-\\ln(x^2-1)/2+c$. When $y_0=c,\\; x = x_0$ \n",
    "\n",
    "and then $\\displaystyle \\ln\\left(\\frac{y}{y_0}\\right)= \\ln\\left(\\frac{x_0^2-1}{x^2-1}\\right)/2$ \n",
    "\n",
    "which can be simplified further to $\\displaystyle \\frac{y}{y_0}=\\sqrt{\\frac{x_0^2-1}{x^2-1}}$.\n",
    "\n",
    "(b) $\\displaystyle \\frac{dy}{dx}=e^x\\tan(y)$ or $\\displaystyle \\int \\frac{dy}{\\tan(y)}=\\int e^xdx$. integrating produces $\\displaystyle \\ln(\\sin(y))=e^x+c$. \n",
    "\n",
    "When $y_0=c, \\; x=x_0$ then $\\displaystyle \\ln \\left( \\frac{\\sin(y)}{\\sin(y_0)}  \\right)=e^x-e^x_0$\n",
    "\n",
    "(c) Rearranging and integrating gives $\\displaystyle \\int_0^ye^ydy=\\int_0^x e^x\\sin(x)dx$, where the limits are included in the integral. The right-hand side can be integrated by parts; the final result is\n",
    "\n",
    "$$\\displaystyle e^y-1=\\left[\\sin(x)-\\cos(x)\\right]\\frac{e^x}{2}+\\frac{1}{2}$$\n",
    "\n",
    "## Q3 answer\n",
    "In a bimolecular reaction,when both species have the same initial concentration or the scheme is 2$A$ $\\to$ product, then the rate equation is \n",
    "\n",
    "$$\\displaystyle dA/dt = -k_2A^2$$\n",
    "\n",
    "where $A$ is the concentration at time $t$, and the initial conditions $A(0) = A_0$. Integrating produces \n",
    "\n",
    "$$\\displaystyle \\int\\frac{dA}{A^2}=-k_2t+c$$\n",
    "\n",
    "which produces \n",
    "\n",
    "$$\\displaystyle \\frac{1}{A}-\\frac{1}{A_0}=k_2t$$\n",
    "\n",
    "and a plot of reciprocal concentration vs. time is linear. The reaction can also be solved by considering that an amount $x$ reacts at time $t$ if $a$ is the initial concentration then \n",
    "\n",
    "$$\\displaystyle \\frac{d(a-x)}{dt}=-k_2(a-x)^2,\\quad\\text{or}\\quad \\displaystyle \\int\\frac{dx}{(a-x)^2}=k_2t+c$$\n",
    "\n",
    "producing $\\displaystyle \\qquad\\frac{1}{a-x}-\\frac{1}{a}=k_2t$.\n",
    "\n",
    "## Q4 answer\n",
    "(a) The integration produces \n",
    "\n",
    "$$\\displaystyle \\int\\frac{dx}{x(N-x)}=kt, \\quad \\ln\\left( \\frac{x}{x-N} \\right) =NkT+c$$\n",
    "\n",
    "and with the initial condition and some rearranging $\\displaystyle x=\\frac{N}{1+(N-1)e^{-Nkt}}$.\n",
    "\n",
    "As a check, at zero time $x = 1$ and at long times $x \\to N$. The reason that $x = 1$ at time zero is that at least one individual must be infected. At long time all are infected. The same calculation using SymPy is a little involved as the initial conditions have to be treated separately. "
   ]
  },
  {
   "cell_type": "code",
   "execution_count": 2,
   "metadata": {},
   "outputs": [
    {
     "data": {
      "image/png": "[encoded data removed]",
      "text/latex": [
       "$\\displaystyle x{\\left(t \\right)} = \\frac{N e^{N \\left(C_{1} + k t\\right)}}{e^{N \\left(C_{1} + k t\\right)} - 1}$"
      ],
      "text/plain": [
       "           N⋅(C₁ + k⋅t) \n",
       "        N⋅ℯ             \n",
       "x(t) = ─────────────────\n",
       "        N⋅(C₁ + k⋅t)    \n",
       "       ℯ             - 1"
      ]
     },
     "execution_count": 2,
     "metadata": {
      "filenames": {
       "image/png": "/Users/godfreybeddard/Library/CloudStorage/Dropbox/Dad-Tom/applying-maths-book/applying_maths_book/_build/jupyter_execute/chapter-10/Diff-eqns-answers-1-21_3_0.png"
      }
     },
     "output_type": "execute_result"
    }
   ],
   "source": [
    "x, t, k, N, C1 = symbols('x, t, k, N, C1' )       # use SymPy , define symbolic variables\n",
    "x = Function('x')\n",
    "f01 = Derivative( x(t),t) -k*x(t)*( N - x(t) )    # eqn 7 \n",
    "ans = dsolve(f01 )\n",
    "ans"
   ]
  },
  {
   "cell_type": "code",
   "execution_count": 3,
   "metadata": {},
   "outputs": [
    {
     "data": {
      "image/png": "[encoded data removed]",
      "text/latex": [
       "$\\displaystyle 1 = \\frac{N e^{C_{1} N}}{e^{C_{1} N} - 1}$"
      ],
      "text/plain": [
       "        C₁⋅N \n",
       "     N⋅ℯ     \n",
       "1 = ─────────\n",
       "     C₁⋅N    \n",
       "    ℯ     - 1"
      ]
     },
     "execution_count": 3,
     "metadata": {
      "filenames": {
       "image/png": "/Users/godfreybeddard/Library/CloudStorage/Dropbox/Dad-Tom/applying-maths-book/applying_maths_book/_build/jupyter_execute/chapter-10/Diff-eqns-answers-1-21_4_0.png"
      }
     },
     "output_type": "execute_result"
    }
   ],
   "source": [
    "ans1 = ans.subs(t,0).subs(x(0),1)   # substitute with initial conditions\n",
    "ans1"
   ]
  },
  {
   "cell_type": "code",
   "execution_count": 4,
   "metadata": {},
   "outputs": [
    {
     "data": {
      "image/png": "[encoded data removed]",
      "text/latex": [
       "$\\displaystyle \\left[ \\frac{\\log{\\left(- \\frac{1}{N - 1} \\right)}}{N}\\right]$"
      ],
      "text/plain": [
       "⎡   ⎛ -1  ⎞⎤\n",
       "⎢log⎜─────⎟⎥\n",
       "⎢   ⎝N - 1⎠⎥\n",
       "⎢──────────⎥\n",
       "⎣    N     ⎦"
      ]
     },
     "execution_count": 4,
     "metadata": {
      "filenames": {
       "image/png": "/Users/godfreybeddard/Library/CloudStorage/Dropbox/Dad-Tom/applying-maths-book/applying_maths_book/_build/jupyter_execute/chapter-10/Diff-eqns-answers-1-21_5_0.png"
      }
     },
     "output_type": "execute_result"
    }
   ],
   "source": [
    "c1_s = solve(ans1,C1)               # solve for constant\n",
    "c1_s"
   ]
  },
  {
   "cell_type": "code",
   "execution_count": 5,
   "metadata": {},
   "outputs": [
    {
     "data": {
      "image/png": "[encoded data removed]",
      "text/latex": [
       "$\\displaystyle \\frac{N e^{N k t}}{N + e^{N k t} - 1}$"
      ],
      "text/plain": [
       "      N⋅k⋅t   \n",
       "   N⋅ℯ        \n",
       "──────────────\n",
       "     N⋅k⋅t    \n",
       "N + ℯ      - 1"
      ]
     },
     "execution_count": 5,
     "metadata": {
      "filenames": {
       "image/png": "/Users/godfreybeddard/Library/CloudStorage/Dropbox/Dad-Tom/applying-maths-book/applying_maths_book/_build/jupyter_execute/chapter-10/Diff-eqns-answers-1-21_6_0.png"
      }
     },
     "output_type": "execute_result"
    }
   ],
   "source": [
    "simplify( ans.rhs.subs(C1, c1_s[0] ) )  # substitute and simplify"
   ]
  },
  {
   "cell_type": "markdown",
   "metadata": {},
   "source": [
    "(b) The time for half the population to be infected occurs when $x = N/2$ giving $t_{1/2} = \\ln(N − 1)/Nk$. This makes sense if $k$ is small then the spreading of the disease is slow and $t_{1/2}$ large, and if the population is large it also takes some time for half of them to become infected.\n",
    "\n",
    "![Drawing](diffeqn-fig31b.png)\n",
    "\n",
    "Fig 31-B Example plots of how the number of infected individuals increases with time for different rate constants, $k$.\n",
    "_____\n",
    "\n",
    "## Q5 answer\n",
    "Scattering takes the place of absorption in the case of X-rays. According to the text, Section 1.11, the scattering cross section for each of $n$ electrons is $\\sigma = 4\\pi e^2/mc^2$. Following reasoning in the text leading to the Beer-Lambert law, \n",
    "\n",
    "$$\\displaystyle I_s = I_0(1 - e^{-\\sigma nL})$$\n",
    "\n",
    "and when the scattering is small the exponential can be approximated giving $I_s/I_0 = \\sigma nL$. For one electron, the amount scattered is $nL$ times less giving the required answer.\n",
    "\n",
    "## Q6 answer\n",
    "The force downwards is $mg - kv^2$ and the equation of motion is \n",
    "\n",
    "$$\\displaystyle  m\\frac{dv}{dt} = mg - kv^2, \\quad v(t_0) = v_0, \\quad t_0 = 0 $$\n",
    "\n",
    "which using the abbreviation $b^2=k/mg$ gives $\\displaystyle m\\frac{dv}{dt} = g(1 - b^2v^2)$. The solution to this equation is given by \n",
    "\n",
    "$$\\displaystyle \\int \\frac{dv}{1-b^2v^2}=gt$$\n",
    "\n",
    "which produces $\\tanh^{-1}(bv)= b(t+c)$.\n",
    "\n",
    "The hyperbolic tan can be be converted to log form with the standard identity $\\displaystyle 2\\tanh^{-1}(ax)=\\ln\\left( \\frac{1+ax}{1-ax}\\right)$, hence the result is \n",
    "\n",
    "$$\\displaystyle \\ln \\left(\\frac{1+bv}{1-bv}  \\right) = 2b(t+c)$$ \n",
    "\n",
    "To evaluate the constant when the initial velocity $t_0$ is not zero produces a complicated expression, which only evaluates to a number and so it is left as $c$ for clarity. It is effectively a displacement in time. Rearranging to find the velocity gives\n",
    "\n",
    "$$\\displaystyle v=\\frac{1}{b}\\left(\\frac{e^{2b(t+c)}-1}{e^{2b(t+c)}+1} \\right) $$\n",
    "\n",
    "At long times, the limiting velocity is $v_{term} = 1/b = \\sqrt{gm/k}$. The larger $k$ is, the smaller the velocity on reaching the ground; a typical value would be $1000$ kg/m making a terminal velocity for a $70$ kg skydiver $\\approx $ 0.8 m/s.\n",
    "\n",
    "## Q7 answer\n",
    "Differentiating both sides with respect to $t$ gives, $\\displaystyle \\frac{dx}{dt}\\left(\\frac{1}{a-x}+\\frac{1}{(a-x)^2}  \\right)=ak$, \n",
    "\n",
    "which simplifies to $\\displaystyle \\frac{dx}{dt} = k(a - x)^2$. This means that the rate equation has the form of $da/dt=ka^2$ because a moles of A and B are present and $x$ moles react at time $t$. As a check, if the scheme is\n",
    "\n",
    "$$\\displaystyle \\begin{array}{ccc}\\\\\n",
    "  A & + & B &\\to &C\\\\\n",
    "(a-x)& & (a-x)&  &x\n",
    "\\end{array}$$\n",
    "\n",
    "the rate equation is $d(a - x)/dt = -k(a - x)^2$ which is the same equation as just obtained. The rate constant $k$ has second order units, $\\mathrm{dm^3\\, mol^{-1}\\, s^{-1}}$.\n",
    "\n",
    "## Q8 answer\n",
    "Newton's law of cooling is \n",
    "\n",
    "$$\\displaystyle \\frac{d\\theta }{dt}=k(\\theta_s-\\theta)$$\n",
    "\n",
    "if $\\theta$ is the temperature of the water and $\\theta_s$ the surroundings. Integrating with the initial condition that at $t = 0, \\,\\theta = \\theta_0$ gives \n",
    "\n",
    "$$\\displaystyle \\theta_T - \\theta_s = (\\theta_0 - \\theta_s )e^{-kt}$$ \n",
    "\n",
    "The initial temperature is $15^\\mathrm{o}$, the surroundings $-12^\\mathrm{o}$, and the fall is $5^\\mathrm{o}$ in $8$ minutes, then $\\theta_T = 10$. The rate constant $k$ is \n",
    "\n",
    "$$\\displaystyle k=\\frac{1}{t}\\ln\\left(\\frac{\\theta_0-\\theta_s}{\\theta_T-\\theta_s} \\right) = 0.0256\\,\\mathrm{ min^{-1}}$$\n",
    "\n",
    "To form ice the temperature must be zero ($\\theta_T = 0$) or lower, so that $\\displaystyle t=\\ln(27/12)/k = 31.7$  mins.\n",
    "\n",
    "## Q9 answer\n",
    "The process is solid $\\to$ vapour and is first order because it is proportional to the amount of solid remaining at any time. If $s$ is the amount of solid I$_2$ then the rate equation is $\\displaystyle \\frac{ds}{dt} = -ks$ which integrates to $\\displaystyle s = s_0e^{-kt}$ if $s_0$ is the initial amount of iodine. The rate equation for the amount of iodine vapour is \n",
    "\n",
    "$$\\displaystyle \\frac{ds_V}{dt}=+ks=ks_0e^{-kt}$$\n",
    "\n",
    "and integrating with $s_V=0$ initially produces $\\displaystyle s_V=s_0(1-e^{-kt})$.\n",
    "\n",
    "The pressure is related to the concentration and using the ideal gas law gives $s_V = pV/RT, \\; s_0 = p_\\infty V/RT$  and therefore the pressure increases as $\\displaystyle p = p_\\infty(1 - e^{-kt})$.\n",
    "\n",
    "## Q10 answer\n",
    "(a) The fluorescence yield is the rate of emission divided by the rate of absorption. This is $\\varphi = k_f /(k_f + k_S)$, equation (5). With quencher the scheme is, \n",
    "\n",
    "$$\\displaystyle \\begin{array}{ccc}\\\\\n",
    " G       & \\stackrel {k_a}\\longrightarrow S_1 &   & \\\\\n",
    " S_1     & \\stackrel {k_f}\\longrightarrow G   & + & h\\nu\\\\\n",
    " S_1     & \\stackrel {k_S}\\longrightarrow T   &   &\\\\\n",
    " S_1 + Q & \\stackrel {k_q}\\longrightarrow G   & + & Q \n",
    "\\end{array}$$\n",
    "\n",
    "Using $S_1$ to represent the concentration $[S_1]$ etc., at steady state,\n",
    "\n",
    "$$\\displaystyle \\frac{dS_1}{dt}=k_aG-(k_f+k_S+k_q)S_1=0$$\n",
    "\n",
    "therefore as the fluorescence yield $\\varphi$ is the rate of emission ($k_f S_1$) divided by rate of absorption ($k_aG$),\n",
    "\n",
    "$$\\displaystyle \\varphi_Q = \\frac{k_fS_1}{ (k_f+k_S+k_QQ)S_1 } =\\frac{k_f}{k_f + k_S + k_QQ} $$\n",
    "\n",
    "Forming the ratio $\\varphi /\\varphi_Q$ produces the Stern - Volmer equation with $k_{\\mathrm sv} = k_q /(k_f + k_S)$.\n",
    "\n",
    "**(b)** The fluorescence lifetime is by definition the reciprocal of the sum all rate processes destroying the excited state, therefore $\\tau_q=(k_f+k_S+k_qQ)^{-1}$ and in the absence of quencher, $\\tau=(k_f+k_S)^{-1}$. The ratio of these two lifetimes gives a second Stern - Volmer equation \n",
    "\n",
    "$$\\displaystyle  \\frac{\\tau}{\\tau_q}=\\frac{k_f+k_S+k_qQ}{k_f+k_S}=1+k_{\\mathrm{sv}}Q$$\n",
    "\n",
    "## Q11 answer\n",
    "The rate equations are \n",
    "\n",
    "$$\\displaystyle \\frac{dA}{dt}=-k_AA, \\; \\frac{dB}{dt}=+k_1A-k_0$$\n",
    "\n",
    "if $A\\equiv [A],\\; B\\equiv [B]$. The concentration of A is $\\displaystyle A=A_0e^{-k_1t}$ and putting this back into the second rate equation gives \n",
    "\n",
    "$$\\displaystyle \\frac{dB}{dt}=k_1A_0e^{-k_1t}-k_0$$\n",
    "\n",
    "Integrating produces $\\displaystyle B=-A_0e^{-k_1t}-k_0t+c$. \n",
    "\n",
    "The initial condition is that $[B]_0=0$ therefore,\n",
    "\n",
    "$$\\displaystyle  B=A_0(1-e^{-k_1t})-k_0t$$\n",
    "\n",
    "The maximum occurs when \n",
    "\n",
    "$$\\displaystyle \\frac{dB}{dt}=0= k_1A_0e^{-k_1t} -k_0 $$\n",
    "\n",
    "which gives $\\displaystyle t_{max}=\\frac{1}{k_1} \\ln \\left(\\frac{k_1A_0}{k_0} \\right)$. \n",
    "\n",
    "The maximum B concentration is at $\\displaystyle B_{max}=A_0-\\frac{k_0}{k_1}-k_0t_{max}$.\n",
    "\n",
    "(b) Using the values in the question, $t_{max} = 0.68$ hour and $B_{max} = 0.99\\,\\mathrm{ g\\, dm^{-3}}$. The time to reach a blood alcohol level of $B_c = 0.8\\,\\mathrm{ g\\, dm^{-3}}$ is found from $\\displaystyle B_c = A_0(1 - e^{-k_1t}) - k_0t$, which is transcendental and has to be solved numerically. However, the time can be obtained approximately, when $k_1t$ is large and is then $B_c \\approx A_0 - k_0t$, and is $\\approx 1.9$ hours. Using the Newton - Raphson method the more accurate result is $1.93$ hours.\n",
    "\n",
    "The calculation using Sympy is shown below and the generic figure shows the change with time."
   ]
  },
  {
   "cell_type": "code",
   "execution_count": 6,
   "metadata": {},
   "outputs": [
    {
     "name": "stdout",
     "output_type": "stream",
     "text": [
      "times at conc 0.800000 are  0.260492 1.929428 \n"
     ]
    }
   ],
   "source": [
    "# define function to solve numerically\n",
    "#---------------------\n",
    "def f(t):\n",
    "    return Bc - A0*(1.0 - np.exp( -k1*t)) + k0*t\n",
    "#----------------------\n",
    "\n",
    "Bc = 0.8              # parameters\n",
    "k1 = 5.0\n",
    "k0 = 0.19\n",
    "A0 = 70.0/60.0\n",
    "t0 = [0.1 ,2.5]             # initial guesses\n",
    "roots = fsolve(f, t0)\n",
    "print('{:s} {:f} {:s} {:f} {:f} '.format('times at conc', Bc, 'are ',roots[0],roots[1] ) )"
   ]
  },
  {
   "cell_type": "markdown",
   "metadata": {},
   "source": [
    "![Drawing](diffeqn-fig32.png)\n",
    "\n",
    "Fig32. The equation $\\displaystyle B=A_0(1-e^{-k_1t})-k_0t$ plotted with values given in the question. The concentration is in mg/dm$^3$ thus a line at $0.8$ is equivalent to $80$ mg/ml blood alcohol (dashed horizontal line). In Scotland the legal limit is lower than England and is $50$ mg/ml blood alcohol (dotted line) , meaning that one would be 'over the limit' by far more and for far longer than in England.\n",
    "____\n",
    "\n",
    "When no alcohol remains the residual level is zero, and this occurs $6$ hours $8$ minutes after starting to drink. The graph of the time profile of alcohol in the blood is shown in Fig. 32. Because the amount of alcohol decreases linearly with time, at least when the amount is moderate, this can easily be used to back calculate how much alcohol was present at an earlier time. You can see how the model fails when B is small; it predicts a negative B will occur. At very low alcohol levels the reaction is no longer zero order but bimolecular and the concentration does not become negative.\n",
    "\n",
    "## Q12 answer\n",
    "The total flux into the pellet is, $\\displaystyle J=+4\\pi r^2D\\frac{dc}{dr}$ \n",
    "\n",
    "and is positive as diffusion is into the pellet with a surface area of $4\\pi r^2$. Defined as total flux, $J$ has units of mole s<sup>-1</sup>. As the catalyst poisons to radius $r_p$, then its concentration is given by\n",
    "\n",
    "$$\\displaystyle \\int_{c_p}^{c_0}dc=\\frac{J}{4\\pi D}\\int_{r_p}^{r_0}\\frac{dr}{r^2},\\quad c_0-c_p=-\\frac{J}{4\\pi D}\\left(\\frac{1}{r_0}-\\frac{1}{r_p}  \\right) $$\n",
    "\n",
    "If the flux into the pellet is equal to the rate of reaction then $J = kc_p$, which after rearranging gives,\n",
    "\n",
    "$$\\displaystyle c_p=c_0\\left[1- \\frac{k}{4\\pi D}\\left(\\frac{1}{r_0}-\\frac{1}{r_p}\\right) \\right]^{-1} $$\n",
    "\n",
    "To see what this function looks like, it can be rearranged to \n",
    "\n",
    "$$\\displaystyle \\frac{c_p}{c_0}=\\left[ 1+\\frac{\\alpha x}{1-x}  \\right]^{-1}$$\n",
    "\n",
    "where $x$ is a fraction of the radius $r_p=(1-x)r_0$ and $\\alpha= k/(4\\pi Dr_0)$. Two curves are shown in Fig. 33 when $\\alpha \\gt 1$ and when $\\lt 1$. When $\\alpha \\lt  1$, this means that the diffusion coefficient is large or the rate constant $k$ small. The concentration of the poison in the pellet is more than 50% almost over the whole volume of the pellet. When diffusion is slow, or the rate constant is large, the concentration of the poison decreases rapidly away from the surface and more than $50$% poisoning only occurs within about 10% of the surface.\n",
    "\n",
    "![Drawing](diffeqn-fig33.png)\n",
    "\n",
    "Fig. 33 Relative or fractional concentration of the poison vs. the fraction of the pellet's radius at two different values of $\\alpha$. The value $x$ = 0 means that $r_p = r_0$ and $x$ = 1 means that $r_p$ = 0.\n",
    "_____ \n",
    "\n",
    "## Q13 answer\n",
    "As M and Q react, the rate is $\\displaystyle k_2MQ = JM = +4πr^2DM \\frac{dQ}{dr}$. \n",
    "\n",
    "To find $J$ the last two terms are integrated from $r = R$ to infinity,\n",
    "\n",
    "$$\\displaystyle  \\frac{J}{4\\pi D}\\int_R^\\infty\\frac{dr}{r^2}=\\int_0^QdQ$$\n",
    "\n",
    "which gives $J=4\\pi DRQ$. Equating this to the rate produces the diffusion controlled rate constant $k_2=4\\pi DR$."
   ]
  },
  {
   "cell_type": "markdown",
   "metadata": {},
   "source": [
    "## Q14 answer\n",
    "The rate equation is $\\displaystyle \\frac{dR}{dt} = k_IM + (\\alpha - 1)k_BR + k_pR - k_pR - k_TR$  \n",
    "\n",
    "and for clarity we use $R$ to represent $[R\\cdot]$. The propagation step cancels out because in this step one radical is produced for each one consumed. The branching step has the term $\\alpha$ - 1 because one radical is lost accounting for propagation itself. The integral equation when the radical concentration is zero initially is\n",
    "\n",
    "$$\\displaystyle \\int_0^R\\frac{1}{k_IM+\\gamma R}dR=\\int_0^tdt$$\n",
    "\n",
    "where $\\gamma = (\\alpha - 1)k_B - k_T$. Integrating produces $\\displaystyle \\ln\\left(k_IM+\\gamma R \\right)-\\ln(k_IM)=\\gamma t$ which is more conveniently written as \n",
    "\n",
    "$$\\displaystyle R = \\frac{k_IM}{\\gamma}(e^{\\gamma t} - 1)$$ \n",
    "\n",
    "When $\\gamma \\gt 0$, this means that the branching rate constant is larger than the termination one $(\\alpha - 1)k_B \\gt k_T$, and an explosion could occur because the term $\\gamma t$ in the exponential is positive. However, the rate is limited somewhat at early times, when $\\gamma t\\le 1$ and thus there is a short induction period, but after this time is over the radical concentration increases very rapidly and hence the rate of reaction increases rapidly also. \n",
    "\n",
    "The reaction is stable when $\\gamma \\lt 0$ and reaches a steady state at long times; $R_\\infty = k_I M/\\gamma$, and this limit is shown in the figure as the horizontal line. The time to reach steady state is the induction period. When $\\gamma \\to 0$ the reaction is on the border between stability and explosion and the radical concentration increases linearly with time and to show this we expand the exponential in $\\gamma$ or use L'Hopital's rule and find $R = k_IMt $. The condition $\\gamma =0 $ is called 'chain ignition'.\n",
    "\n",
    "![Drawing](diffeqn-fig33a.png)\n",
    "\n",
    "Fig. 33a. The radical $R\\cdot$ concentration under different conditions of chain branching determined by $\\gamma = (\\alpha - 1)k_B - k_T$. The steady state limit is shown by the horizontal line.\n",
    "_____________"
   ]
  },
  {
   "cell_type": "markdown",
   "metadata": {},
   "source": [
    "## Q15 answer\n",
    "(a) Equilibrium is rapidly established with the complex IM and its rate of change can be taken to be at steady state, hence \n",
    "\n",
    "$$\\displaystyle \\frac{d[IM]}{dt} = k_1[I][M] - k_{-1}[IM] - k_2[IM][I] = 0$$\n",
    "\n",
    "giving $\\displaystyle [IM]=\\frac{k_1[I][M]}{k_{-1}+k_2[I]}$. The appearance of I$_2$ molecules is \n",
    "\n",
    "$$\\displaystyle \\frac{d[I]}{dt}=-k_2[IM][M]=-\\frac{k_2k_{-1}}{k_1}[M][I]^2$$\n",
    "\n",
    "Integrating this expression with the initial condition that $[I] = [I]_0$ at zero time gives,\n",
    "\n",
    "$$\\displaystyle  \\frac{1}{[I]}-\\frac{1}{[I]_0}=k_2\\frac{k_{-1}}{k_1}[M]t$$\n",
    "\n",
    "which explains the linear dependence of $1/[I]$ with time.\n",
    "\n",
    "(b) If each of the rate constants follows an Arrhenius type expression $\\displaystyle k_a = k_0e^{-E_a/RT}$ with activation energy $E_a$, then, from the rate expression the term $k_2k_{-1}/k_1$ gives the overall reaction an activation energy $E_2 + E_{-1} - E_1$. If $E_1$ is greater than the other two, then the experimentally measured activation energy is negative even though each step has a positive or zero activation energy as must always be the case.\n",
    "\n",
    "## Q16 answer\n",
    "(a) The scheme is solvable if $x$ is the amount consumed at time $t$,\n",
    "\n",
    "$$\\displaystyle \\begin{array}{ccc}\n",
    "\\mathrm{A} &\\underset{k_{-1}}{\\stackrel {k_1}{\\leftrightharpoons}} & \\mathrm{B}\\\\\n",
    "a-x & & b+x\n",
    "\\end{array} \\qquad \\qquad  \n",
    "\\text{then} \\qquad \\qquad \\displaystyle \\frac{dx}{dt}=k_1(a-x)-k_{-1}(b-x) $$\n",
    "\n",
    "in which the variables are separable. The initial conditions are $x = 0$ when $t = 0$ producing the integration,\n",
    "\n",
    "$$\\displaystyle \\int_0^x\\frac{dx}{k_1a-k_{-1}b+(k_1+k_{-1})x}=t$$\n",
    "\n",
    "This is a standard integration (see Chapter 4) and evaluates, after rearranging, to \n",
    "\n",
    "$$\\displaystyle x=\\frac{k_1a-k_{-1}b}{k_1+k_{-1}}\\left(1-e^{-(k_1+k_{-1})t}\\right)$$\n",
    "\n",
    "which demonstrates how the amount of $x$ increases from zero to a constant value as equilibrium is approached.\n",
    "\n",
    "(b) The equilibrium amount $x_e$ is found when $t \\to \\infty$, or using the rate expression when the rate of change is zero, $k_1(a-x_e)-k_{-1}(b+x_e)=0$, from which \n",
    "\n",
    "$$\\displaystyle x_e =\\frac{k_1a-k_{-1}b}{k_1+k_{-1}}$$\n",
    "\n",
    "and hence \n",
    "\n",
    "$$\\displaystyle x=x_e\\left(1-e^{-(k_1+k_{-1})t}  \\right)$$\n",
    "\n",
    "(c) The amount $x=\\alpha_t -\\alpha_0$ and $x_e =\\alpha_\\infty -\\alpha_0$ then \n",
    "\n",
    "$$\\displaystyle \\frac{\\alpha_t -\\alpha_0}{\\alpha_\\infty -\\alpha_0}=\\left(1-e^{-(k_1+k_{-1})t}  \\right)$$ \n",
    "\n",
    "Because the change with time is proportional to the ratio of the measured quantity, the units of this do not matter because they cancel out. This is always the case for first-order reactions.\n",
    "\n",
    "(d) The same rate expression in (a) written in terms of the change $\\Delta x=x-x_e$ is \n",
    "\n",
    "$$\\displaystyle \\frac{d} {dt}(\\Delta x+x_e)=k_1(a-x_e-\\Delta x)-k_{-1}(b+x_e+\\Delta x)$$\n",
    "\n",
    "which simplifies to \n",
    "\n",
    "$$\\displaystyle \\frac{d} {dt}(\\Delta x)=-(k_1+k_{-1})\\Delta x$$\n",
    "\n",
    "When integrated, this produces \n",
    "\n",
    "$$\\Delta x = \\Delta x_0e^{-(k_1+_{k-1})t}$$\n",
    "\n",
    "showing that the relaxation is first-order.\n",
    "\n",
    "(e) Using the rate constant from the last parts of the calculation and the expression for the rate constant given in the question, produces\n",
    "\n",
    "$$\\displaystyle k=k_1+k_{-1}=k_0e^{-E_0/RT}\\left( e^{-V/2RT}+e^{+V/2RT}   \\right)=k_0e^{-E_0/RT}\\cosh\\left(\\frac{V}{2RT}  \\right)$$\n",
    "\n",
    "The $\\pm V/2$ arises because the potential is zero in the centre of the membrane and is therefore $-V/2$ on one side and $+V/2$ at the other. When $V = 0$, the rate constant $\\displaystyle k = 2k_0e^{-E_0 /RT}$ and this is its minimum value as $\\cosh(x)$ has an approximately parabolic shape. Using the value $V = 0.1$ eV given in the question, produces $\\cosh(9.6/(2RT)) \\approx 3.5$.\n",
    "\n",
    "\n",
    "## Q17 answer\n",
    "Let $x$ be the amount of H+ and OH- ions and $a$ the concentration of water, then the rate equation is \n",
    "\n",
    "$$\\displaystyle \\frac{dx}{dt} = -k_1(a - x) - k_2x^2$$\n",
    "\n",
    "This equation is separable and can be integrated with the initial conditions $x$ = 0 at $t$ = 0 but the result is complex. Changing $x$ to $\\Delta x + x_e$ makes the equation into\n",
    "\n",
    "$$\\displaystyle \\frac{d(\\Delta x+x_e)}{dt}=\\frac{d\\Delta x}{dt}=-k_1(a-x_e-\\Delta x)=k_2(x_e+\\Delta x)^2 $$\n",
    "\n",
    "As the perturbation $\\Delta x$ is small, then $\\Delta x^2$ is smaller and can be ignored as it is less than $2x_e\\Delta x$ and $x_e^2$ and this produces \n",
    "\n",
    "$$\\displaystyle \\frac{d\\Delta x}{dt} = -k_1(a - x_e - \\Delta x) - k_2x_e^2 - 2k_2x_e\\Delta x$$\n",
    "\n",
    "To eliminate $a$, use the rate equation at equilibrium $dx/dt = 0$ to obtain $k_1(a - x_e) = k_2x_e^2$. The final equation is \n",
    "\n",
    "$$\\displaystyle \\frac{d\\Delta x}{dt} = -(k_1 + 2k_2x_e)\\Delta x$$\n",
    "\n",
    "which is a first-order equation with solution \n",
    "\n",
    "$$\\displaystyle \\Delta x = \\Delta x_0e^{-kt}$$\n",
    "\n",
    "where $x_0$ is the initial change recorded in the experiment and $k = k_1 + k_2x_e$. It does not matter what units $\\Delta x$ is measured in, because it can always be written as the ratio $\\Delta x/\\Delta x_0$ when solving for the rate constant.\n",
    "\n",
    "## Q18 answer\n",
    "(a) If $x$ is the acetone concentration (species A), the rate equation is, \n",
    "\n",
    "$$\\displaystyle \\frac{dx}{dt}=-kxb=-kx(a_0+b_0-x)\\quad\\text{or}\\quad \\displaystyle \\int\\frac{dx}{(a_0+b_0-x)x}=-kt+c$$\n",
    "\n",
    "which can be integrated using partial fractions;\n",
    "\n",
    "$$\\displaystyle \\frac{1}{(a_0+b_0-x)x}=\\frac{1}{(a_0+b_0)}\\left[\\frac{1}{x}+\\frac{1}{a_0+b_0-x} \\right]$$\n",
    "\n",
    "which produces two log functions when integrated. The initial conditions are $x = a_0$ when $t = 0$ then the integration constant is $\\ln(a_0/b_0)$ and the rate equation,\n",
    "  \n",
    "$$\\displaystyle  \\ln \\left(\\left| \\frac{xb_0}{a_0(a_0+b_0-x)}     \\right|  \\right) =(a_0+b_0)kt$$\n",
    "  \n",
    "and the absolute value is added because the log cannot be negative. Rearranging produces \n",
    "\n",
    "$$\\displaystyle x = a_0\\frac{a_0+b_0}{a_0+b_0e^{(a_0+b_0)kt}} $$\n",
    "\n",
    "This and also the increase of $B$ are plotted in Fig. 34.\n",
    "\n",
    "(b) The phase portrait is an inverted parabola; see Fig.34, Right. The right-hand equilibrium point is unstable, so that from any starting value, $x$ will end up at zero which means complete reaction occurs. The stability is determined by $d^2x/dt^2$ and is positive at $x = a_0 + b_0$, so this point is unstable and negative at $x = 0$ which is a stable point.\n",
    "\n",
    "![Drawing](diffeqn-fig34.png)\n",
    "\n",
    "Fig. 34 Autocatalysis. Initially species A decreases slowly as the concentration of B is small. As the reaction proceeds, more B is produced and although A is reduced overall, the rate increases and A is consumed even more rapidly. At longer times, the concentration of A becomes so small that even though that of B is large the reaction rate is slow. The phase portrait is shown on the right.\n",
    "________\n",
    "\n",
    "## Q19 answer\n",
    "(a) Rearranging gives \n",
    "\n",
    "$$\\displaystyle \\int\\frac{dn}{n\\ln(n/a)}=-kt+c$$\n",
    "\n",
    "at first seems rather hard. Using the substitution $n/a = e^u$, produces $dn = ae^udu$ and \n",
    "\n",
    "$$\\displaystyle \\int\\frac{dn}{n\\ln(n/a)}=a\\int\\frac{e^udu}{aue^u}=\\int\\frac{du}{u}=\\ln(u)$$\n",
    "\n",
    "Substituting back and adding the limits gives\n",
    "\n",
    "$$\\displaystyle \\ln\\big(\\ln(n/a)\\big) = -kt + \\ln\\big(\\ln(n_0/a)\\big) \\qquad \\text{ or } \\qquad n = ae^{\\ln(n_0 /a)e^{-kt} }$$\n",
    "\n",
    "At long times $t \\to \\infty$, the inner exponential becomes very small and as $\\displaystyle e^{-\\infty} \\to 0$, then $n \\to a$ and the population becomes constant. Therefore, parameter $a$ must represent the maximum and limiting population. When $t = 0$, then the population is $n_0$. \n",
    "\n",
    "If the initial is less than the final population, this rises gradually to a constant value and the shape of the curve is approximately sigmoidal. If the initial population is greater than $a$, then the population falls approximately exponentially towards $a$. The parameter $k$ is the rate constant (unit = 1/time) controlling the rate at which the final population is reached.\n",
    "\n",
    "(b) The dimensionless equation is $\\eta = e^{\\large{e^{-\\tau}} \\ln(\\eta_0)}$\n",
    "\n",
    "where $\\eta = n/a,\\; \\eta_0 = n_0/a$ and $\\tau = kt$ and the equation is shown in Fig. 35\n",
    "\n",
    "![Drawing](diffeqn-fig35.png)\n",
    "\n",
    "Fig. 35 Population change according to the Gompertz equation.\n",
    "_____\n",
    "\n",
    "(c) The equation for $B$ is found directly and is $B=Be^{-k_1t}$. Substituting into the equation for $A$ gives \n",
    "\n",
    "$$\\displaystyle \\frac{dA}{dt} = k_2AB_0e^{-k_1t}$$\n",
    "\n",
    "which can be separated and integrated using the initial conditions;\n",
    "\n",
    "$$\\displaystyle \\int\\limits_{A_0}^A \\frac{dA}{A}= k_2B_0\\int\\limits_0^t e^{-k_1t}dt$$\n",
    "\n",
    "with the solution $\\displaystyle \\ln\\left(\\frac{A}{A_0}\\right)=\\frac{k_2B_0}{k_1}\\left( 1-e^{-k_1t} \\right) $. \n",
    "\n",
    "This has the form of the Gompertz equation, i.e., $\\displaystyle A = A_0e^{\\left((k_2B_0/k_1)(1-e^{-k_1t})\\right)}$.\n",
    "\n",
    "(d) In this model of a tumour, $k_2 = 1$, if $B_0$ is the initial rate of tumour growth, $k_1$ the regression constant and $A_0$ the number of cells initially present. At long times, $A \\to A_0e^{B_0 /k_1}$ and if the tumour is to shrink then, $B_0/k_1 \\lt 1$ making the exponential less than $1$.\n",
    "\n",
    "## Q20 answer\n",
    "(a) The rate of births is $k_1N$ and of deaths $(k_2 + k_3N)N$, thus the rate equation is \n",
    "\n",
    "$$\\displaystyle \\frac{dN}{dt}=k_1N-k_2N-k_3N^2 =[k_1-k_2-k_3N]N $$ \n",
    "\n",
    "The steady-state solution is found when the rate of change in population is zero and is either $N_{ss} = 0$ or $N_{ss} = (k_1 - k_2)/ k_3$. These are also called the fixed, stationary, or equilibrium points in the phase portrait. If $dN/dt$ is plotted vs. $N$, it is zero at the stationary points and in this case, positive in between. For simplicity, the non-zero steady state population is put into the equation and produces,\n",
    "\n",
    "$$\\displaystyle \\frac{dN}{dt}=k_3(N_{ss}-N)N$$\n",
    "\n",
    "from which we can see that if $N \\gt N_{ss}$, the population will initially decrease over time; otherwise, it will increase until the steady state is reached, and this is shown in the left-hand pane of Fig. 36.\n",
    "\n",
    "(b) The rate equation can be integrated by separating variables after first converting into partial fractions. The method is essentially the same as in the previous question. As an illustration SymPy is used here. The calculation is performed in stages as the initial conditions option does not currently work."
   ]
  },
  {
   "cell_type": "code",
   "execution_count": 7,
   "metadata": {},
   "outputs": [
    {
     "data": {
      "image/png": "[encoded data removed]",
      "text/latex": [
       "$\\displaystyle N{\\left(t \\right)} = \\frac{N_{ss} e^{N_{ss} \\left(C_{1} + k_{3} t\\right)}}{e^{N_{ss} \\left(C_{1} + k_{3} t\\right)} - 1}$"
      ],
      "text/plain": [
       "            Nₛₛ⋅(C₁ + k₃⋅t)\n",
       "       Nₛₛ⋅ℯ               \n",
       "N(t) = ────────────────────\n",
       "        Nₛₛ⋅(C₁ + k₃⋅t)    \n",
       "       ℯ                - 1"
      ]
     },
     "execution_count": 7,
     "metadata": {
      "filenames": {
       "image/png": "/Users/godfreybeddard/Library/CloudStorage/Dropbox/Dad-Tom/applying-maths-book/applying_maths_book/_build/jupyter_execute/chapter-10/Diff-eqns-answers-1-21_12_0.png"
      }
     },
     "output_type": "execute_result"
    }
   ],
   "source": [
    "k3, N_ss, t, N0, C1= symbols('k3, N_ss, t, N0, C1')   # SymPy define symbols to use\n",
    "N  = Function('N')\n",
    "f01= Derivative(N(t),t) - k3*(N_ss - N(t))*N(t)        # define and symbolically solve equation\n",
    "ans = dsolve(f01)\n",
    "ans"
   ]
  },
  {
   "cell_type": "code",
   "execution_count": 8,
   "metadata": {},
   "outputs": [
    {
     "data": {
      "image/png": "[encoded data removed]",
      "text/latex": [
       "$\\displaystyle \\frac{\\log{\\left(\\frac{N_{0}}{N_{0} - N_{ss}} \\right)}}{N_{ss}}$"
      ],
      "text/plain": [
       "   ⎛   N₀   ⎞\n",
       "log⎜────────⎟\n",
       "   ⎝N₀ - Nₛₛ⎠\n",
       "─────────────\n",
       "     Nₛₛ     "
      ]
     },
     "execution_count": 8,
     "metadata": {
      "filenames": {
       "image/png": "/Users/godfreybeddard/Library/CloudStorage/Dropbox/Dad-Tom/applying-maths-book/applying_maths_book/_build/jupyter_execute/chapter-10/Diff-eqns-answers-1-21_13_0.png"
      }
     },
     "output_type": "execute_result"
    }
   ],
   "source": [
    "const = solve( ans.subs(t,0).subs(N(0),N0) , {C1} )   # substitute initial conditions into answer to find C1\n",
    "const[0]"
   ]
  },
  {
   "cell_type": "code",
   "execution_count": 9,
   "metadata": {},
   "outputs": [
    {
     "data": {
      "image/png": "[encoded data removed]",
      "text/latex": [
       "$\\displaystyle \\frac{N_{0} N_{ss} e^{N_{ss} k_{3} t}}{N_{0} e^{N_{ss} k_{3} t} - N_{0} + N_{ss}}$"
      ],
      "text/plain": [
       "            Nₛₛ⋅k₃⋅t   \n",
       "    N₀⋅Nₛₛ⋅ℯ           \n",
       "───────────────────────\n",
       "    Nₛₛ⋅k₃⋅t           \n",
       "N₀⋅ℯ         - N₀ + Nₛₛ"
      ]
     },
     "execution_count": 9,
     "metadata": {
      "filenames": {
       "image/png": "/Users/godfreybeddard/Library/CloudStorage/Dropbox/Dad-Tom/applying-maths-book/applying_maths_book/_build/jupyter_execute/chapter-10/Diff-eqns-answers-1-21_14_0.png"
      }
     },
     "output_type": "execute_result"
    }
   ],
   "source": [
    "n_t = simplify(ans.rhs.subs(C1,const[0]))       # substitute into initial answer for C1 and simplify\n",
    "n_t"
   ]
  },
  {
   "cell_type": "markdown",
   "metadata": {},
   "source": [
    "which can be re-written as \n",
    "\n",
    "$$\\displaystyle n=\\frac{N_0N_{ss}}{(N_{ss}-N_0)e^{-N_{ss}k_3t}+N_0}$$\n",
    "\n",
    "which is more stable numerically as the exponential cannot become very large. With constants $k_1 = 2,\\, k_2 = 1,\\, k_3 = 0.001$, and $N_{ss} = 1000$, with $N_0$ varying from $200 \\to 2000$ the curves in the left-hand pane of Fig. 36 are produced. As predicted, initially the population rises or falls to the steady-state value. If the rate constant  due to over-crowding, $k_3$, is too large, the steady state population will approach zero.\n",
    "\n",
    "![Drawing](diffeqn-fig36.png)\n",
    "\n",
    "Fig. 36 Left: Population vs. time under 'normal' conditions for different initial numbers $N_0$ increasing by 200 for each curve. Right: Harvesting is introduced with  $k_h=200$ and $N_0$ values differing by 100 and starting at 100. Notice how the population can crash to zero if the initial number is below the lower of the two steady states, $N_{ss} \\approx 276$. The values of the parameters used are given in the text.\n",
    "______\n",
    "\n",
    "(c) The rate equation is \n",
    "\n",
    "$$\\displaystyle \\frac{dN}{dt} =(k_1 -k_2)N-k_3N^2 -k_h$$\n",
    "\n",
    "and the steady state is the solution of $k_3 N^2 - (k_2 - k_1 )N + k_h = 0$ which is \n",
    "\n",
    "$$\\displaystyle N_{ss}=\\frac{k_1-k_2\\pm\\sqrt{(k_1-k_2)^2-4k_3k_h}}{2k_3}$$\n",
    "\n",
    "In the question, $k_1 - k_2$ = 1 (unit: time$^{-1}$), $2\\sqrt{k_3k_h}$ = 0.89 making $N_{ss}$ = 723 and 276 if $k_h$ = 200 (unit: number . time$^{-1}$). (As $N_{ss}$ must be a real positive number $(k_1 - k_2)^2 \\ge 4k_3k_h$).\n",
    "\n",
    "However, solving the rate equation and plotting the values tells another story. At a low initial population as\n",
    "time passes, harvesting may destroy the population and then it becomes negative! The phase portrait allows this to be visualized, Fig. 37. If the initial population is less than the lower critical point, at $N = 276$ the population moves towards zero because this point is unstable. If the initial population is above this then the second stable point is reached at $N = 723$ as this point is stable. Thus, to determine whether the population will crash for a given set of parameters, the rate equation does not have to be solved but only the phase portrait examined. However, if you want to know how long it will take the population to crash or to recover, then the rate equation has to be solved.\n",
    "\n",
    "![Drawing](diffeqn-fig37.png)\n",
    "\n",
    "Fig. 37 Phase portraits for the two population models. The lower curve (blue) corresponds to the model with harvesting. The circles indicate the steady state values; the arrows indicate how the population changes with time depending on its initial value.\n",
    "_____\n",
    "\n",
    "## Q21 answer\n",
    "(a) The singlet states decay by fluorescence and crossing to the triplets and formed by triplet annihilation.\n",
    "\n",
    "$$\\displaystyle \\begin{align} \\frac{dS}{dt} &= -(k_f + k_s)S + \\frac{k_aT^2}{2} \\\\\n",
    "\\frac{dT}{dt} &=k_sS-k_aT^2 -k_TT \\end{align} $$\n",
    "\n",
    "In the rate equation for the singlet state, because two triplets are indistinguishable from one another their amount must be halved. Under the conditions of the experiment, the triplet state rate equation can be simplified to\n",
    "$\\displaystyle \\frac{dT}{dt} = -k_aT^2 - k_TT $ which can be solved by separating the variables as \n",
    "\n",
    "$$\\displaystyle \\int \\frac{dT}{(k_aT+k_T)T}=-t+c$$\n",
    "\n",
    "and is integrated by separating into partial fractions. The result is \n",
    "\n",
    "$$\\displaystyle \\ln\\left( \\frac{T}{k_T+k_aT}  \\right) = -k_Tt +c $$\n",
    "\n",
    "As the initial condition for the triplet population is $T(0)=T_0$ the constant can be determined producing\n",
    "\n",
    "$$\\displaystyle \\frac{1}{T}=\\left(\\frac{1}{T_0}+\\frac{k_a}{k_T}  \\right) e^{k_Tt}-\\frac{k_a}{k_T}$$\n",
    "\n",
    "The plot below shows that only at long times does the log plot become linear and gives the correct decay time for the triplet excited state. Rearranging the equation when $e^{k_Tt}>> 1$ i.e. large gives, \n",
    "\n",
    "$$\\displaystyle  T = \\frac{T_0}{1+k_aT_0/k_T}e^{-k_Tt} $$\n",
    "\n",
    "which shows that the decay becomes exponential at long times. \n",
    "\n",
    "At short times, expanding the exponential produces\n",
    "\n",
    "$$\\displaystyle \\frac{1}{T}=\\frac{1}{T_0}+\\left(\\frac{1}{T_0}+\\frac{k_a}{k_T}  \\right)k_Tt$$\n",
    "\n",
    "which is the equation of a second-order decay process because the reciprocal of the concentration $T$ is proportional to time. When the annihilation rate constant is small so that $k_a/k_T <<1$ the decay takes its normal exponential form.\n",
    "\n",
    "At long times any _delayed fluorescence_ will decay as $\\displaystyle \\approx e^{-2k_Tt}$, which is twice as fast as the triplets do, because of the $T^2$ term in its rate expression. The rate expression is \n",
    "\n",
    "$$\\displaystyle  \\frac{dS}{dt} = k_f S - k_ac^2e^{-2k_T t}  $$\n",
    "\n",
    "and letting $k_f\\to k_f+k_s$ for simplicity, and which can be solved using the integrating factor method to give\n",
    "\n",
    "$$ S=\\frac{c^2k_a}{k_f-2k_T}(e^{-2k_Tt}-e^{-k_ft})$$\n",
    "\n",
    "with the initial value $S=0$ at $t=0$. As $k_f\\gg k_T$ the exponential term in $k_f$ causes the rise in delayed fluorescence to be very rapid compared to its decay.  The constant $c=T_0/(1+k_aT_0/k_T)$. The dashed line in fig 38 shows the decay in the delayed fluorescence when $k_f+k_s=10^8\\, \\mathrm{s^{-1}}$ and $k_T=5000\\, \\mathrm{s^{-1}}$. The corresponding triplet decays as $\\sim e^{-k_Tt}$ and is shown in green.\n",
    "\n",
    "![Drawing](diffeqn-fig38.png)\n",
    "\n",
    "Fig. 38 The decay of the triplet population $T$ (in $\\mathrm{dm^3\\,mol^{-1}\\,s^{-1}}$) vs. time. The effect of T-T annihilation on the T population for different triplet rate constants, $k_T$ (s$^{-1}$) is shown with $k_a=10^9\\,\\mathrm{ dm^3\\,mol^{-1}\\,s^{-1}}$. The initial triplet population is $10^{-4} \\,\\mathrm{ dm^3\\,mol^{-1}\\,s^{-1}}$. The dashed line shows the decay delayed fluorescence at long times, the rise in this is not shown for clarity as it is almost on the vertical axis. The slope is $-2k_T$ where $k_T=5000$ and the maximum value has been scaled to fit on the plot."
   ]
  },
  {
   "cell_type": "code",
   "execution_count": null,
   "metadata": {},
   "outputs": [],
   "source": []
  }
 ],
 "metadata": {
  "kernelspec": {
   "display_name": "Python 3 (ipykernel)",
   "language": "python",
   "name": "python3"
  },
  "language_info": {
   "codemirror_mode": {
    "name": "ipython",
    "version": 3
   },
   "file_extension": ".py",
   "mimetype": "text/x-python",
   "name": "python",
   "nbconvert_exporter": "python",
   "pygments_lexer": "ipython3",
   "version": "3.9.6"
  }
 },
 "nbformat": 4,
 "nbformat_minor": 2
}