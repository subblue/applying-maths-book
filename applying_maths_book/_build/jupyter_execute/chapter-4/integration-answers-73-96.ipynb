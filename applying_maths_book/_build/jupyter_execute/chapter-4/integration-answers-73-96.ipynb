{
 "cells": [
  {
   "cell_type": "markdown",
   "metadata": {},
   "source": [
    "# Solutions Q73 - 96"
   ]
  },
  {
   "cell_type": "code",
   "execution_count": 1,
   "metadata": {},
   "outputs": [],
   "source": [
    "# import all python add-ons etc that will be needed later on\n",
    "%matplotlib inline\n",
    "import numpy as np\n",
    "import matplotlib.pyplot as plt\n",
    "from sympy import *\n",
    "init_printing()                # allows printing of SymPy results in typeset maths format\n",
    "plt.rcParams.update({'font.size': 16})  # set font size for plots"
   ]
  },
  {
   "cell_type": "markdown",
   "metadata": {},
   "source": [
    "## Q73 answer\n",
    "(a) Using $\\psi = x(L - x)$ the denominator integral is \n",
    "\n",
    "$$\\displaystyle \\int \\psi^*\\psi d\\tau=\\int_0^L x^2(L-x)^2dx= \\frac{L^5}{30}$$ \n",
    "\n",
    "and the numerator \n",
    "\n",
    "$$\\displaystyle \\int \\psi^*H\\psi d\\tau=-\\frac{\\hbar^2}{2m}\\int_0^L x(L-x)\\frac{d}{dx}x(L-x)dx=2\\frac{\\hbar^2}{2m}\\int_0^L x(L-x)dx=\\frac{\\hbar^2}{6m}L^3$$\n",
    "\n",
    "The variational energy is therefore $\\displaystyle E =5\\frac{\\hbar^2}{mL^2}$ which is only slightly larger than the true energy $\\displaystyle\\frac{\\pi^2}{2}\\frac{\\hbar^2}{mL^2}$ by about $1.4$ %.\n",
    "\n",
    "(b) The normalisation integral is  $\\displaystyle \\int \\psi^*\\psi d\\tau=\\int_{-L}^L e^{-2ax^2}dx=\\sqrt{\\frac{\\pi}{2a} }$. \n",
    "\n",
    "The expectation value of operator $H$ is $\\displaystyle \\int \\psi^*H\\psi d\\tau$.\n",
    "\n",
    "In the range $\\pm L$, $\\displaystyle H=-\\frac{\\hbar^2}{2m} \\frac{d^2}{dx^2}\\psi$ and elsewhere it is $\\displaystyle H=-\\frac{\\hbar^2}{2m} \\frac{d^2}{dx^2}\\psi + U\\psi$.\n",
    "\n",
    "Splitting the integral into three parts gives, gives as per eqn 47, \n",
    "\n",
    "$$\\displaystyle E_V=a \\frac{\\hbar^2}{2m}+ U\\left(1-\\mathrm{erf}(L\\sqrt{2a})\\right) $$"
   ]
  },
  {
   "cell_type": "code",
   "execution_count": 2,
   "metadata": {},
   "outputs": [
    {
     "data": {
      "image/png": "[encoded data removed]",
      "text/latex": [
       "$\\displaystyle - U \\operatorname{erf}{\\left(\\sqrt{2} L \\sqrt{a} \\right)} + U + \\frac{a \\hbar^{2}}{2 m}$"
      ],
      "text/plain": [
       "                         2\n",
       "                      a⋅h̅ \n",
       "-U⋅erf(√2⋅L⋅√a) + U + ────\n",
       "                      2⋅m "
      ]
     },
     "execution_count": 2,
     "metadata": {
      "filenames": {
       "image/png": "/Users/godfreybeddard/Library/CloudStorage/Dropbox/Dad-Tom/applying-maths-book/applying_maths_book/_build/jupyter_execute/chapter-4/integration-answers-73-96_3_0.png"
      }
     },
     "output_type": "execute_result"
    }
   ],
   "source": [
    "a, x, U, hbar, m, L = symbols('a, x, U, hbar, m, L', positive = True)\n",
    "psi = exp(-a*x**2)\n",
    "N = integrate(psi**2,(x,-oo,oo))  # normalisation\n",
    "eqa= psi*( -hbar**2/(2*m)*diff(psi,x,x) + U*psi)  # potential value U\n",
    "eqb= psi*( -hbar**2/(2*m)*diff(psi,x,x) )         # potential zero \n",
    "EV = integrate(eqa,(x,-oo,-L) ) + integrate(eqb,(x,-L,L) ) + integrate(eqa,(x,L,oo) ) \n",
    "simplify(EV/N)"
   ]
  },
  {
   "cell_type": "markdown",
   "metadata": {},
   "source": [
    "Taking the derivative of $E_V$ gives \n",
    "\n",
    "$$\\displaystyle \\frac{dE_V}{dx}=\\frac{\\hbar^2}{2m}-\\frac{LU}{\\sqrt{\\pi a/2}}e^{-2aL^2}=0$$\n",
    "\n",
    "and solving this for $a$ produces the LambertW function.  \n",
    "\n",
    "Going back a step and substituting $U=0.5,L=1, \\hbar=m=1$ produces $\\displaystyle \\frac{dE_V}{dx}=\\frac{1}{2}-\\frac{1}{\\sqrt{2\\pi a}}e^{-2a}=0$. Solving gives $a=0.2419$ and the variation energy as $0.2836$.\n",
    "\n",
    "![Drawing](integration-fig61a.png) \n",
    "\n",
    "Figure 61a. Particle in a finite well. The variational energy $E_V$ and true energy $E_0$ are shown for the only bound state in the well. The wavefunction shown is the variational one leading to $E_V$\n",
    "_____"
   ]
  },
  {
   "cell_type": "markdown",
   "metadata": {},
   "source": [
    "## Q74 answer\n",
    "Using the formula equation 47,  the denominator is $\\displaystyle \\int\\psi^*\\psi dx=\\int_{-\\infty}^\\infty \\frac{\\alpha}{\\sqrt{\\pi}} e^{-\\alpha x^2}dx$ \n",
    "\n",
    "and because of the $e^{-\\alpha x^2}$ term an error function is likely to be involved with the integral. To check this we can look up the integral or use Sympy;"
   ]
  },
  {
   "cell_type": "code",
   "execution_count": 3,
   "metadata": {},
   "outputs": [
    {
     "data": {
      "image/png": "[encoded data removed]",
      "text/latex": [
       "$\\displaystyle \\sqrt{\\alpha}$"
      ],
      "text/plain": [
       "√α"
      ]
     },
     "execution_count": 3,
     "metadata": {
      "filenames": {
       "image/png": "/Users/godfreybeddard/Library/CloudStorage/Dropbox/Dad-Tom/applying-maths-book/applying_maths_book/_build/jupyter_execute/chapter-4/integration-answers-73-96_6_0.png"
      }
     },
     "output_type": "execute_result"
    }
   ],
   "source": [
    "alpha, x, hbar, m, k = symbols('alpha, x, hbar, m, k', positive = True)\n",
    "\n",
    "psi = sqrt(alpha/sqrt(pi))*exp(-alpha*x**2/2)\n",
    "N   = simplify(integrate(psi**2,(x,-oo,oo) ) )      # normalisation integral psi x psi\n",
    "N"
   ]
  },
  {
   "cell_type": "code",
   "execution_count": 4,
   "metadata": {},
   "outputs": [
    {
     "data": {
      "image/png": "[encoded data removed]",
      "text/latex": [
       "$\\displaystyle \\frac{\\alpha \\hbar^{2}}{4 m} - \\frac{3 k}{4 \\alpha^{2}}$"
      ],
      "text/plain": [
       "   2       \n",
       "α⋅h̅    3⋅k \n",
       "──── - ────\n",
       "4⋅m       2\n",
       "       4⋅α "
      ]
     },
     "execution_count": 4,
     "metadata": {
      "filenames": {
       "image/png": "/Users/godfreybeddard/Library/CloudStorage/Dropbox/Dad-Tom/applying-maths-book/applying_maths_book/_build/jupyter_execute/chapter-4/integration-answers-73-96_7_0.png"
      }
     },
     "output_type": "execute_result"
    }
   ],
   "source": [
    "Hpsi = -hbar**2/(2*m)*diff(psi,x,x)- k*x**4*psi  # H x psi \n",
    "Enrg = integrate(psi*Hpsi,(x,-oo,oo) )/N           # E = integral psi x H x psi /normalisation\n",
    "simplify(Enrg)"
   ]
  },
  {
   "cell_type": "markdown",
   "metadata": {},
   "source": [
    "from which  energy is $\\displaystyle E= \\frac{\\alpha \\hbar^2}{4m}-\\frac{3k}{4\\alpha ^2} $.\n",
    "\n",
    "The next step is to differentiate this energy wrt $\\alpha$ to find the minimum variational energy. Differentiating gives $\\displaystyle \\alpha^3 = \\frac{6mk}{\\hbar^2}$ which produces \n",
    "\n",
    "$$\\displaystyle E=\\frac{(72k)^{1/3}}{8}\\left( \\frac{\\hbar^2}{2m} \\right)^{2/3}=1.0817 k^{1/3} \\left( \\frac{\\hbar^2}{2m} \\right)^{2/3}$$\n",
    "\n",
    "which is a good approximation to the true energy of $\\displaystyle 1.060 k^{1/3} \\left( \\frac{\\hbar^2}{2m} \\right)^{2/3}$.\n",
    "\n",
    "## Q75 answer\n",
    "(a, b) The H atom energy levels are $E_n = -RZ^2/n^2 \\mathrm{\\,cm^{-1}}$, where $R$ is the Rydberg and $n$ the principal quantum number. The energy is therefore $E_1(He) = -2RZ^2 = -8\\times 109737 = -877 896 \\mathrm{\\,cm^{-1}}$ or $-108.8$ eV.\n",
    "\n",
    "The energy to ionize He$^+$ is $E_1 = 4R$, or $54.4$ eV which is $4 \\times 13.6$ eV the ionization of the H atom. The total experimental energy is $-(54.4 + 24.5) = -79$ eV and the crude theoretical value $-108.8$, which is considerably larger. In (a) it was supposed that the He atom was twice an H atom with no electron-electron interaction or electron-nuclear interaction between opposite atoms; clearly this is wrong. The terms missing are of the form of $\\pm e^2/r_{12}$ where $r_{12}$ is the separation between the two electrons or electrons and nuclei.\n",
    "\n",
    "The equation given in the question allows for electron-electron interaction but not screening of the nuclear charge by the other electron; the variational approach is empirical but should have the effect of reducing the error by changing the effective screening between electrons.\n",
    "\n",
    "(c) The wavefunction is normalized so that $\\int \\varphi^*\\varphi d\\tau =1$ and the expectation value is given in the question for the ground state energy, therefore the only calculation remaining is to find the minimum energy in terms of $\\zeta$. This is done by solving\n",
    "\n",
    "$$\\displaystyle \\frac{d}{d\\zeta}\\int \\varphi^*H \\varphi d\\tau = \\frac{e^2}{4\\pi\\epsilon_0a_0}\\left( 2\\zeta-2Z+\\frac{5}{8} \\right)=0$$\n",
    "\n",
    "which gives $\\zeta=Z-5/16$. The energy given in the question is \n",
    "\n",
    "$$\\displaystyle E=\\frac{e^2}{4\\pi\\epsilon_0a_0}\\left( \\zeta^2-2Z\\zeta+\\frac{5}{8}\\zeta \\right)$$\n",
    "\n",
    "which on substituting for $\\zeta$ gives the variation result as \n",
    "\n",
    "$$\\displaystyle E_{var}= \\frac{e^2}{4\\pi\\epsilon_0a_0}\\left( Z-\\frac{5}{16} \\right)^2$$\n",
    "\n",
    "which with $Z=2$ is $\\displaystyle E_{var}= \\frac{e^2}{4\\pi\\epsilon_0a_0}\\left(\\frac{27}{16} \\right)^2=-77.5 $ eV.\n",
    "\n",
    "As a check, using $Z=\\zeta = 2$ instead of the variational value gives $\\displaystyle E_{var}= -\\frac{5}{4}\\frac{e^2}{4\\pi\\epsilon_0a_0} =-34.06$ eV. The improvement in ground state energy due to the variational treatment is therefore from $-34.06$ eV to $-77.5$ eV producing a result close to the experimental value of $-79$ eV and quite a considerable improvement.\n",
    "\n",
    "## Q76 answer\n",
    "The expression to be evaluated with $\\beta=1$ is \n",
    "\n",
    "$$\\displaystyle E_V=-\\frac{\\displaystyle \\int_{-\\infty}^\\infty \\frac{1}{2}e^{-\\alpha x^2/2}\\frac{d^2}{dx^2}e^{-\\alpha x^2/2} + (1-e^{- x^2})e^{-\\alpha x^2/2} dx}{\\displaystyle  \\int_{-\\infty}^\\infty e^{-\\alpha x^2}}dx$$ \n",
    "\n",
    "Using sympy to calculate the integrals"
   ]
  },
  {
   "cell_type": "code",
   "execution_count": 5,
   "metadata": {},
   "outputs": [
    {
     "data": {
      "image/png": "[encoded data removed]",
      "text/latex": [
       "$\\displaystyle - \\frac{\\sqrt{\\alpha}}{\\sqrt{\\alpha + \\beta}} + \\frac{\\alpha}{4} + 1$"
      ],
      "text/plain": [
       "      √α      α    \n",
       "- ───────── + ─ + 1\n",
       "    _______   4    \n",
       "  ╲╱ α + β         "
      ]
     },
     "execution_count": 5,
     "metadata": {
      "filenames": {
       "image/png": "/Users/godfreybeddard/Library/CloudStorage/Dropbox/Dad-Tom/applying-maths-book/applying_maths_book/_build/jupyter_execute/chapter-4/integration-answers-73-96_9_0.png"
      }
     },
     "output_type": "execute_result"
    }
   ],
   "source": [
    "alpha, beta, x = symbols('alpha, beta, x',positive=True)\n",
    "\n",
    "psi = exp(-alpha*x**2/2)            # wavefunction\n",
    "N   = integrate(psi**2,(x,-oo,oo))    #  normalisation\n",
    "\n",
    "Hpsi = (-diff(psi,x,x)/2 + (1-exp(-beta*x**2))*psi )\n",
    "EV   = simplify( integrate(psi*Hpsi,(x,-oo,oo) )/N )    # variational energy\n",
    "EV"
   ]
  },
  {
   "cell_type": "markdown",
   "metadata": {},
   "source": [
    "which with $\\beta=1$ gives the variational energy as $\\displaystyle E_V= 1+\\frac{\\alpha}{4}-\\sqrt{\\frac{\\alpha}{1+\\alpha}}$. \n",
    "\n",
    "The next step step is to find the minimum energy by differentiating by $\\alpha$ which gives $\\displaystyle \\frac{dE_V}{d\\alpha}=\\frac{(\\alpha^{3/2}+\\alpha^{1/2})(\\alpha+1)^{1/2}-2}{4\\sqrt{\\alpha}(\\alpha+1)^{1/2}} =0$. \n",
    "\n",
    "Solving this using the numerator gives a value of $0.748$"
   ]
  },
  {
   "cell_type": "code",
   "execution_count": 6,
   "metadata": {},
   "outputs": [
    {
     "data": {
      "image/png": "[encoded data removed]",
      "text/latex": [
       "$\\displaystyle \\left[ 0.748402881252294\\right]$"
      ],
      "text/plain": [
       "[0.748402881252294]"
      ]
     },
     "execution_count": 6,
     "metadata": {
      "filenames": {
       "image/png": "/Users/godfreybeddard/Library/CloudStorage/Dropbox/Dad-Tom/applying-maths-book/applying_maths_book/_build/jupyter_execute/chapter-4/integration-answers-73-96_11_0.png"
      }
     },
     "output_type": "execute_result"
    }
   ],
   "source": [
    "solve( (alpha**(3/2) + alpha**(1/2) )*( alpha +1 )**(1/2)-2,alpha )"
   ]
  },
  {
   "cell_type": "markdown",
   "metadata": {},
   "source": [
    "This result gives an energy of $E_V=0.53284$. This is close to but a little higher than the numerical solution, which is $0.5226$.  \n",
    "\n",
    "When $\\beta = 1/10$ the potential is wider and the levels lower; the variational value is $0.20522$, which is also a little higher than the numerical value of $0.20473$. Note that an analytical solution is not available, so we have estimated an unknown value but its accuracy is not known unless wavefunctions that are more complex are used and a lower energy obtained. When you look at how to calculate numerical solutions (Chapter 11) you will see how much simpler the variational method is. The numerical value is itself only approximate, but as it is lower than the variational value, we may surmise that it is more accurate. However, the numerical value could be below the true value, there is no guarantee that it is not, unlike the variational answer. Our calculated energies are close to one another, which suggest that both methods have produced reasonably accurate values.\n",
    "\n",
    "## Q77 answer\n",
    "Using equations 47 and 60, the denominator in $E_V$ is \n",
    "\n",
    "$$N=\\displaystyle \\int_0^\\infty R(r)^2 r^2dr\\int_0^\\pi \\sin(\\theta)d\\theta\\int_0^{2\\pi}d\\varphi=4\\pi\\int_0^\\infty r^2e^{-\\alpha r^2}dr$$ \n",
    "\n",
    "and the remaining integral has a standard form producing \n",
    "\n",
    "$$\\displaystyle N= 4\\pi\\frac{\\sqrt{\\pi}}{4\\alpha^{3/2}}=\\left(\\frac{\\pi}{\\alpha}\\right)^{3/2}$$\n",
    "\n",
    "Th expectation value is $\\int \\psi H\\psi d\\tau$ which is \n",
    "\n",
    "$$\\displaystyle 4\\pi\\int_0^\\infty R(r)\\left( -\\frac{1}{2r}\\frac{d^2}{dr^2}rR(r)-\\frac{R(r)}{r} \\right) r^2dr$$\n",
    "\n",
    "Evaluating using $R(r)=e^{-\\alpha r^2/2}$ using Sympy gives $\\displaystyle E_V = \\frac{3\\alpha}{4}-2\\sqrt{\\frac{\\alpha}{\\pi}}$."
   ]
  },
  {
   "cell_type": "code",
   "execution_count": 7,
   "metadata": {},
   "outputs": [
    {
     "data": {
      "image/png": "[encoded data removed]",
      "text/latex": [
       "$\\displaystyle - \\frac{2 \\sqrt{\\alpha}}{\\sqrt{\\pi}} + \\frac{3 \\alpha}{4}$"
      ],
      "text/plain": [
       "  2⋅√α   3⋅α\n",
       "- ──── + ───\n",
       "   √π     4 "
      ]
     },
     "execution_count": 7,
     "metadata": {
      "filenames": {
       "image/png": "/Users/godfreybeddard/Library/CloudStorage/Dropbox/Dad-Tom/applying-maths-book/applying_maths_book/_build/jupyter_execute/chapter-4/integration-answers-73-96_13_0.png"
      }
     },
     "output_type": "execute_result"
    }
   ],
   "source": [
    "r, alpha = symbols('r, alpha', positive = True)\n",
    "R  = exp(-alpha*r**2/2)                            # radial wavefunction\n",
    "eq = 4*pi* R*( -diff(r*R,r,r)/(2*r) - R/r )*r**2   # numerator integral psi H psi     \n",
    "EV = integrate(eq, (r,0,oo)) /sqrt((pi/alpha)**3) # divide by normalisation N\n",
    "simplify(EV)"
   ]
  },
  {
   "cell_type": "markdown",
   "metadata": {},
   "source": [
    "Differentiating wrt $\\alpha$ gives $\\displaystyle \\frac{dE_V}{d\\alpha}= \\frac{3}{4}-\\frac{1}{\\sqrt{\\alpha\\pi}}=0$ from which the minimum $\\displaystyle \\alpha = \\frac{16}{9\\pi}$ and the variational energy $\\displaystyle -\\frac{4}{3\\pi}$.\n",
    "\n",
    "## Q78 answer\n",
    "The area is $\\displaystyle A=\\int_0^1\\int_x^{2x} \\sin(x+y)dydx$ \n",
    "\n",
    "which evaluates to \n",
    "\n",
    "$$\\displaystyle A= -\\int_0^1 \\cos(x+y)\\bigg|_x^{2x}dx=\\to=-\\frac{\\sin(3)}{3}+\\frac{\\sin(2)}{2}=0.408$$\n",
    "\n",
    "and this should be multiplied by $\\sigma$ to obtain the total mass.  The centre of mass is the average weighted with the variation in mass and is \n",
    "\n",
    "$$\\displaystyle \\langle x\\rangle=\\frac{1}{A}\\int_0^1\\int_x^{2x} x\\sin(x+y)dydx  \\qquad  \\langle y\\rangle=\\frac{1}{A}\\int_0^1\\int_x^{2x} y\\sin(x+y)dydx$$\n",
    "\n",
    "where the $\\sigma$ cancels out. Treating $x$ as constant the integral in $y$ gives $\\displaystyle \\int x\\sin(x+y)dy= x\\cos(2x)-x\\cos(x)$. Integrating this and adding limits gives $\\langle x\\rangle = 0.275/0.408$. The similar integral $\\langle y \\rangle = 0.404/0.408$.\n",
    "\n",
    "The moments of inertia are \n",
    "\n",
    "$$\\displaystyle I_x=\\frac{1}{A}\\int_0^1\\int_x^{2x} y^2\\sin(x+y)dydx  \\qquad  I_y=\\frac{1}{A}\\int_0^1\\int_x^{2x} x^2\\sin(x+y)dydx$$\n",
    "\n",
    "and using Sympy gives $I_x= 0.4496; I_y= 0.2027$ and these should be multiplied by $\\sigma$."
   ]
  },
  {
   "cell_type": "code",
   "execution_count": 8,
   "metadata": {},
   "outputs": [
    {
     "name": "stdout",
     "output_type": "stream",
     "text": [
      "  0.4496  0.2027\n"
     ]
    }
   ],
   "source": [
    "x, y = symbols('x, y',positive =True)\n",
    "\n",
    "eq = x**2*sin(x+y)\n",
    "Iy = integrate(integrate( eq, (y,x,2*x) ), (x,0,1.0) )\n",
    "\n",
    "eq = y**2*sin(x+y)\n",
    "Ix = integrate(integrate( eq, (y,x,2*x) ), (x,0,1.0) )\n",
    "print('{:8.4f}{:8.4f}'.format( Ix,Iy ) )"
   ]
  },
  {
   "cell_type": "markdown",
   "metadata": {},
   "source": [
    "## Q79 answer\n",
    "The radial part can be separated from the angular part as there is no function with terms such as $r\\theta$ and the angular terms are independent of one another. The triple integral is therefore split into the product of three separate integrals. The angular integral between $\\psi_{311}$ and $\\psi_{310}$ is part \n",
    "\n",
    "$$\\displaystyle \\int_0^{2\\pi}e^{-i\\varphi}d\\varphi \\int_0^\\pi \\cos(\\theta)\\sin^2(\\theta) d\\theta$$\n",
    "\n",
    "This can be evaluated by inspection, because the cosine has a value of $1$ at $\\theta = 0$ and $-1$ at $\\theta = \\pi$ and is 'odd' over the region $0 \\to \\pi$ therefore the integral is zero. This can be confirmed by direct calculation.\n",
    "\n",
    "## Q80 answer\n",
    "The normalization is found using equation 56, and by substitution \n",
    "\n",
    "$$\\displaystyle N^2\\int_0^{2\\pi}d\\varphi\\int_0^\\pi\\sin^5(\\theta)d\\theta=1$$\n",
    "\n",
    "The exponential part becomes one because the complex conjugate is formed from $\\psi^*\\psi$ making the $\\varphi$ integral $2\\pi$. The integral in $\\theta$ can be converted to an exponential and expanded, $\\displaystyle \\int_0^\\pi\\sin^5(\\theta)d\\theta=\\frac{16}{15}$. The nromalisation is therefore $N=\\sqrt{15/(32\\pi)}$.\n",
    "\n",
    "(b) To test for orthogonality the two different wavefunctions are multiplied and integrated over all space as for normalization. Only the exponential part in $\\varphi$ is different so that only this integral need be considered. The result is \n",
    "\n",
    "$$\\displaystyle \\int_0^{2\\pi} e^{-2i\\varphi^*} e^{2i\\varphi} d\\varphi =\\int_0^{2\\pi} e^{4i\\varphi}d\\varphi=4ie^{4i\\varphi}\\bigg|_0^{2\\pi}=4i(e^{8i\\pi}-1)=0$$\n",
    "\n",
    "because for even $n,\\; e^{ni\\pi} = 1$, therefore the wavefunctions are orthogonal.\n",
    "\n",
    "## Q81 answer\n",
    "Rearranging the integral produces $\\displaystyle I^2 =\\int_0^\\infty\\int_0^\\infty e^{-y^2-x^2}dydx$. \n",
    "\n",
    "Changing the coordinates produces $\\displaystyle I^2 =\\int_0^{2\\pi}\\int_0^\\infty e^{-r^2}r drd\\theta$. \n",
    "\n",
    "This can now be split into two integrals as there is no term in both $r$ and $\\theta$ giving $\\displaystyle I^2=\\frac{\\pi}{2}\\int_0^\\infty e^{-r^2}r dr$.\n",
    "\n",
    "This integral has a standard form making $\\displaystyle I=\\sqrt{\\frac{\\pi}{4}}$.\n",
    "\n",
    "## Q82 answer\n",
    "(a) The integral will be $\\displaystyle Z = \\int_{n=1}^\\infty e^{-E_n/k_BT}dn\\equiv \\int_{n=1}^\\infty e^{-an^2}dn$ \n",
    "\n",
    "where the constant $a = h^2/(8mL^2k_BT)$. Using the method of the previous question, \n",
    "\n",
    "$$\\displaystyle Z^2= \\int_0^{\\pi/2}\\int_0^\\infty e^{-ar^2}rdrd\\theta$$\n",
    "\n",
    "which evaluates to $\\displaystyle Z=\\frac{L}{h}\\sqrt{2\\pi mk_BT}$,\n",
    "\n",
    "The total partition function is $\\displaystyle Z^3= \\left( \\frac{L}{h} \\right)^3(2\\pi mk_BT)^{3/2}$.\n",
    "\n",
    "The mass of a benzene molecule is $78 \\times 1.66 \\cdot 10^{-27}$ kg, the mean free path is $L = k_BT/(\\sqrt{2}\\sigma^2 p) \\approx 100$ nm (with $\\sigma = 0.3\\cdot10^{-9}$ m and area $\\pi\\sigma^2$) making the partition function $Z^3 \\approx 7 \\cdot 10^{11}$.\n",
    "\n",
    "(b) At the average thermal energy the quantum number is $\\approx 17560$, and the energy gap to the next value is $\\approx 6 \\cdot 10^{-21}$ J. This energy is far larger than expected. The reason is that we used the mean free path, which is small, rather than the size of the container to define $L$. If $L$ were $100$ cm instead of $100$ nm then the energies would be $10^{14}$ times smaller. Assuming that the size of the container determines $L$ seems to be too much of an approximation, as it assumes that the gas molecules do not interact, similarly assuming that $L$ is the mean free path is also not good enough, but for a different reason. The mean free path is an average value and if the exponential distribution of path lengths between collisions was used instead of a single value then small energy gaps are calculated. The distribution of collision distances produces a continuous range of $L$ values and consequently of energies. This range will in effect make the energy levels continuous.\n",
    "\n",
    "(c) The partition function can then be written as $Q=\\alpha T^{3N/2}$ where $\\alpha$ is the collection of parameters and constants, $\\displaystyle \\alpha = \\frac{V^N}{N!}\\left( \\frac{2\\pi mk_B}{h^2} \\right)^{3N/2}$. \n",
    "\n",
    "The entropy is \n",
    "\n",
    "$$\\displaystyle S=k_B\\left( \\frac{\\partial \\ln(Q)T}{\\partial T} \\right)_V=k_B\\ln(Q)+\\frac{k_BT}{Q}\\left( \\frac{\\partial Q}{\\partial T} \\right)_V=k_B\\ln(\\alpha)+\\frac{3Nk_B}{2}(\\ln(T)+1)$$\n",
    "\n",
    "Using Stirling's approximation $\\ln(N!) \\approx N\\ln(N) - N$ and as the gas is ideal the volume $V = L^3$ should be equal to $Nk_BT/p$ and substituted for $V$ in $\\alpha$. Substituting for the constants with the mass $m = 200.59 \\,u $ kg ($u$ is the atomic mass unit) and $k_B$ Boltzmann's constant, the translational entropy at $1\\,\\mathrm{ bar}= 10^5$ Pa and 300K is $S\\approx 175\\, \\mathrm{J\\,K^{-1}\\, mol^{-1}}$. The equation for $S$ is a version of the Sakur-Tetrode equation.\n"
   ]
  },
  {
   "cell_type": "markdown",
   "metadata": {},
   "source": [
    "## Q83 answer\n",
    "The Jacobian represents the same area or volume element in two different coordinate systems, in this case these are $(x, y)$ and $(u, t)$. A probability of a number being in a region in $(x, y)$ is found by transforming from the original linear coordinates, but because distributions are involved, the chance of being at a given place is changed because the areas enclosed are the same.\n",
    "\n",
    "(a) the Jacobian determinant is \n",
    "\n",
    "$$\\displaystyle \\frac{\\partial (u,v)}{\\partial(x,y)}=\n",
    "\\begin{vmatrix} \n",
    "\\displaystyle\\frac{\\partial u}{\\partial x} &\\displaystyle\\frac{\\partial u}{\\partial y} \\\\\n",
    "\\displaystyle\\frac{\\partial v}{\\partial x} &\\displaystyle\\frac{\\partial v}{\\partial y} \\\\\n",
    "\\end{vmatrix}$$\n",
    "\n",
    "which means that $u$ and $v$ are required in terms of $x$ and $y$. The ratio of the two equations produces $y=x\\tan(2\\pi v)$ therefore $2\\pi v=\\tan^{-1}(y/x)$. Squaring and adding the equations produces $x^2+y^2=-2\\ln(u)$ and $u=e^{-(x^2+y^2)/2}$. The differentiations can be performed quite easily as they are standard ones, for example $\\displaystyle \\frac{d\\tan^{-1}(ax)}{dx}=\\frac{a}{1+a^2x^2}$. The result is \n",
    "\n",
    "$$\\displaystyle \\frac{\\partial (u,v)}{\\partial(x,y)}=\n",
    "\\begin{vmatrix} \n",
    "\\displaystyle -xe^{(x^2+y^2)/2} &\\displaystyle -ye^{(x^2+y^2)/2} \\\\\n",
    "\\displaystyle -\\frac{y}{2\\pi(x^2+y^2)} &\\displaystyle  \\frac{x}{2\\pi(x^2+y^2)} \\\\\n",
    "\\end{vmatrix} =\\frac{1}{\\sqrt{2\\pi}}e^{-x^2/2}\\frac{1}{\\sqrt{2\\pi}}e^{-y^2/2} $$\n",
    "\n",
    "written to make the two distributions clear.\n",
    "\n",
    "(b) If $(x-\\mu)/\\sigma$ and $(y-\\mu)/\\sigma$ are substituted for  $x$ and $y$ respectively and the transform repeated the distribution has the form $\\displaystyle \\frac{1}{\\sqrt{2\\pi\\sigma} }e^{(x-\\mu)^2/2\\sigma^2}$ and similarly for $y$.\n",
    "\n",
    "## Q84 answer\n",
    "The Jacobian determinant is\n",
    "\n",
    "$$\\displaystyle \\frac{\\partial (u,v)}{\\partial(\\varphi,\\theta)}=\n",
    "\\begin{vmatrix} \n",
    "\\cos(\\varphi)\\cos(\\theta) &-\\sin(\\varphi)\\sin(\\theta) \\\\\n",
    "\\cos(\\varphi)\\sin(\\theta) & \\sin(\\varphi)\\cos(\\theta) \\\\\n",
    "\\end{vmatrix} = \\sin(\\varphi)\\cos(\\varphi)$$\n",
    "\n",
    "which in this case should be inverted when put into the integral giving,\n",
    "\n",
    "$$\\displaystyle \\int\\int \\sqrt{\\frac{\\sin(\\varphi)}{\\cos(\\theta)} }\\cdot\\frac{1}{\\sin(\\varphi)\\cos(\\varphi)}dudv=\\int\\int \\sqrt{\\frac{1}{\\cos(\\theta)\\sin(\\varphi)\\cos^2(\\varphi)} }dudv$$\n",
    "\n",
    "The substitutions now have to be made. From the definitions of $u$ and $v$, $u^2 + v^2 = \\sin^2(\\varphi)$ and therefore $\\cos^2(\\varphi)=1-u^2 -v^2$ and  \n",
    "\n",
    "$$\\displaystyle \\int\\int \\frac{1}{\\sqrt{u}\\sqrt{1-u^2-v^2}}dudv$$\n",
    "\n",
    "At this point it is necessary to include the limits and although they could have been added from the start only now are they used. Both lower limits are at zero and therefore also $u = v = 0$. From the definition of the new coordinates $\\tan(\\theta) = v/u$ and $u^2 + v^2 = \\sin^2(\\varphi)$. When $\\varphi = \\pi/2,\\, \\sin(\\varphi) = 1$ and $v$ therefore has values from $0 \\to v = 1 - u^2$ and $u$ ranges from $0 \\to 1$. The integral in $v$ has a standard form for $\\tan^{-1}$ (see Section 2.13) and has to be performed first as the limit contains $v$.\n",
    "\n",
    " $$\\begin{align}\\displaystyle I=&\\int_0^1\\int_0^{\\sqrt{1-u^2}} \\frac{1}{\\sqrt{u}\\sqrt{1-u^2-v^2}}dvdu \\\\\n",
    " =&\\int_0^1 \\frac{1}{\\sqrt{u}}\\tan^{-1}\\left(\\frac{v}{\\sqrt{1-u^2-v^2}}\\right)\\bigg|_0^{v=\\sqrt{1-u^2}}du \\\\\n",
    " =&\\int_0^1 \\frac{1}{\\sqrt{u}}du\\left(\\tan^{-1}(\\infty)-\\tan^{-1}(0)\\right)\\\\\n",
    " =&\\pi\\end{align}$$\n",
    "\n",
    "and where $\\tan^{-1}(\\infty) = \\pi/2$ was used.\n",
    "\n",
    "## Q85 answer\n",
    "One way of doing the calculation is to differentiate the functions directly in a $3\\times 3$ matrix then to calculate the determinant. The calculation is"
   ]
  },
  {
   "cell_type": "code",
   "execution_count": 9,
   "metadata": {},
   "outputs": [
    {
     "data": {
      "image/png": "[encoded data removed]",
      "text/latex": [
       "$\\displaystyle a^{3} \\left(- u^{2} + v^{2}\\right)$"
      ],
      "text/plain": [
       " 3 ⎛   2    2⎞\n",
       "a ⋅⎝- u  + v ⎠"
      ]
     },
     "execution_count": 9,
     "metadata": {
      "filenames": {
       "image/png": "/Users/godfreybeddard/Library/CloudStorage/Dropbox/Dad-Tom/applying-maths-book/applying_maths_book/_build/jupyter_execute/chapter-4/integration-answers-73-96_18_0.png"
      }
     },
     "output_type": "execute_result"
    }
   ],
   "source": [
    "a, theta, u, v = symbols('a, theta, u, v',positive = True)\n",
    "\n",
    "fx = a*sqrt((u**2 - 1)*(1 - v**2))*cos(theta)\n",
    "fy = a*sqrt((u**2 - 1)*(1 - v**2))*sin(theta)\n",
    "fz = a*u*v\n",
    "\n",
    "dxu = diff(fx,u)\n",
    "dxv = diff(fx,v)\n",
    "dxt = diff(fx,theta)\n",
    "dyu = diff(fy,u)\n",
    "dyv = diff(fy,v)\n",
    "dyt = diff(fy,theta)\n",
    "dzu = diff(fz,u)\n",
    "dzv = diff(fz,v)\n",
    "dzt = diff(fz,theta)\n",
    "\n",
    "Jac = Matrix([ [dxu, dxv,dxt ],  [dyu, dyv,dyt ], [dzu, dzv,dzt ]  ] )\n",
    "simplify(Jac.det())"
   ]
  },
  {
   "cell_type": "markdown",
   "metadata": {},
   "source": [
    "The volume element is therefore $dxdydz = a^3(v^2 - u^22)du dv d\\theta$.\n",
    "\n",
    "## Q86 answer\n",
    "(a) Because the wavefunctions $\\varphi$ are real there is no need to label them as complex conjugates. The calculation is\n",
    "\n",
    "$$\\displaystyle (a\\varphi_{2s}e^{iEt/\\hbar} +b\\varphi_{2p_z}e^{iEt/\\hbar} )(a\\varphi_{2s}e^{-iEt/\\hbar} +b\\varphi_{2p_z}e^{-iEt/\\hbar})= a^2\\varphi_{2s}^2+2ab \\varphi_{2s}\\varphi_{2p_z}+b^2\\varphi_{2p_z}^2$$\n",
    "\n",
    "and no integration is necessary. \n",
    "\n",
    "(b) The product is \n",
    "\n",
    "$$\\displaystyle \\begin{align}P&=\\left( \\frac{\\sqrt{3}}{2}\\varphi_{1s}e^{iE_{1s}t/\\hbar} + \\frac{1}{2}\\varphi_{2s}e^{iE_{2s}t/\\hbar}  \\right)\\left( \\frac{\\sqrt{3}}{2}\\varphi_{1s}e^{-iE_{1s}t/\\hbar} + \\frac{1}{2}\\varphi_{2s}e^{-iE_{2s}t/\\hbar}  \\right)\\\\& = \\frac{3}{4}\\varphi_{1s}^2 +\\frac{\\sqrt{3}}{2}\\varphi_{1s}\\varphi_{2s}e^{i(E_{1s}-E_{2s})t\\hbar} +\\frac{1}{4}\\varphi_{2s}^2\\end{align}$$\n",
    "\n",
    "A product $\\varphi^*\\varphi$ which can represent a probability has to be real and the exponential terms can be written as a cosine making the result \n",
    "\n",
    "$$\\displaystyle P=\\frac{3}{4}\\varphi_{1s}^2 +\\frac{\\sqrt{3}}{2}\\varphi_{1s}\\varphi_{2s}\\cos(\\Delta \\omega t) +\\frac{1}{4}\\varphi_{2s}^2$$\n",
    "\n",
    "which oscillates with a frequency of $\\Delta \\omega = (E_{2s} - E_{1s})/\\hbar$  radians/sec. Both the $\\varphi_{1s}$ and $\\varphi_{2s}$ wavefunctions are symmetrical about $\\pm z$ there can be no dipole formed because $r$, the radial distance is always positive, for example $\\varphi_{1s} \\sim e^{-r/a_0}$. To prove this only the integral from the cross term needs to be calculated, the normalization terms in front of the wavefunctions are ignored as they only multiply the result by a constant value. \n",
    "\n",
    "The change to cylindrical coordinates is also made $r=\\sqrt{R^2+z^2}$ where $R$ the radial distance in the $x-y$ plane \n",
    "\n",
    "$$\\displaystyle \\int_0^{2\\pi}\\int_1^\\theta e^{-\\sqrt{R^2+z^2}/a_0}\\left( 2-\\frac{\\sqrt{R^2+z^2}}{a_0} \\right)e^{-\\sqrt{R^2+z^2}/2a_0}R\\,dRd\\theta \\\\ = 2\\pi\\int_1^\\theta e^{-3\\sqrt{R^2+z^2}/2a_0}\\left( 2-\\frac{\\sqrt{R^2+z^2}}{a_0} \\right)R\\,dR$$\n",
    "\n",
    "This integral can be significantly simplified by the substitution $u^2 = R^2 + z^2$ and $du = RdR$. The limits become $0 \\to |z|$ (because of the square root) and the other limit remains at infinity. The integral is now \n",
    "\n",
    "$$I=\\displaystyle 2\\pi \\int_{|z|}^\\infty e^{-3u/2a_0} \\left(2-\\frac{u}{a_0} \\right)udu$$\n",
    "\n",
    "which can be completed by integrating by parts giving \n",
    "\n",
    "$$\\displaystyle I= \\frac{4\\pi}{27}(9 u^2-6a_0 u-4a_0^2)e^{-3u/2a_0}\\bigg|_{|z|}^\\infty=\\frac{4\\pi}{27}(9 |z|^2-6a_0 |z|-4a_0^2)e^{-3|z|/2a_0}$$\n",
    "\n",
    "This is an even function because $|z|$ is always positive. When this result is multiplied by $\\cos(\\Delta \\omega t)$ the function will oscillate up and down but the symmetry remains because cosine is an even function and therefore symmetrical about $z=0$ and can never produce an oscillating dipole.\n",
    "\n",
    "(c) In this case $\\displaystyle \\psi = \\frac{\\sqrt{3}}{2}\\varphi_{1s}e^{-E_{1s}t\\hbar}+\\frac{1}{2}\\varphi_{2p_z}e^{-iE_{2p_z}t\\hbar}$ and again the integral will only have one time-dependent term which is \n",
    "\n",
    "$$\\displaystyle \\int \\frac{\\sqrt{3}}{2}\\varphi_{1s}\\varphi_{2p_z}e^{i(E_{1s}-E{2p_z}t/\\hbar}d\\tau$$\n",
    "\n",
    "Defining $\\Delta\\omega = (E_{2p_z}- E_{1s})/\\hbar$ and taking the real part by changing the exponential to a cosine, adding wavefunctions and limits but ignoring the normalization terms as these are constants, integrating over $\\theta$ leaves the integral \n",
    "\n",
    "$$\\displaystyle 2\\pi z\\cos(\\Delta\\omega t)\\int_1^\\infty e^{-3\\sqrt{R^2+z^2}/2a_0}R\\,dR$$\n",
    "\n",
    "Using the substitution $u^2 = R^2 + z^2$ as before gives a standard integral \n",
    "\n",
    "$$\\displaystyle I=\\displaystyle 2\\pi z\\cos(\\Delta\\omega t)\\int_{|z|}^\\infty e^{-3u/2a_0}udu = z\\frac{4\\pi}{9}a_0\\cos(\\Delta\\omega t)(2a_0+3|z|)e^{-3|z|/2a_0}$$\n",
    "\n",
    "which is an odd function of $z$ and as time progresses, the cosine varies from $-1 \\to 1$, and a changing dipole along the z-axis is produced. This means that a radiative transition is possible.\n",
    "\n",
    "![Drawing](integration-fig62.png)\n",
    "\n",
    "Figure 62. The cross terms in the integral of a $1s + 2s$ and a $1s + 2p_{z}$ superposition calculated when the cosine term is $1$ and when $-1$. Only in the $1s + 2p_z$ transition is an oscillating dipole produced. ($a_0 = 0.529$ nm)\n",
    "_____"
   ]
  },
  {
   "cell_type": "markdown",
   "metadata": {},
   "source": [
    "## Q87 answer\n",
    "(a) This integral is an overlap integral because the wavefunctions are not functions of the internuclear separation $R$, \n",
    "\n",
    "$$\\displaystyle \\int \\varphi_1\\frac{q^2}{R}\\varphi_2 d\\tau =\\frac{q^2}{R} \\int \\varphi_1\\varphi_2 d\\tau=\\frac{q^2}{R}S$$\n",
    "\n",
    "(b) Substituting the prolate spherical coordinates and values for $\\rho_1$ etc. into the resonance integral, equation 73, rearranging and simplifying gives \n",
    "\n",
    "$$\\displaystyle \\begin{align} A &= \\int \\varphi_1\\frac{q^2}{r_1}\\varphi_2 d\\tau \n",
    "= \\frac{q^2}{\\pi a_0^4} \\int e^{-\\rho_1} \\frac{1}{\\rho_2}e^{-\\rho_2}d\\tau \\\\&\n",
    "= \\rho^3\\frac{q^2}{4\\pi a_0}\\int_0^{2\\pi}\\int_{-1}^1\\int_1^\\infty e^{-u\\rho}\\left( \\frac{u^2-v^2}{u+v} \\right) dudvd\\theta \\\\&= \\rho^3\\frac{q^2}{2 a_0}\\int_{-1}^1\\int_1^\\infty e^{-u\\rho}\\left(u-v \\right) dudv   \\\\&= \\frac{q^2}{a_0}\\rho(\\rho+1)e^{-rho}  \\end{align}$$"
   ]
  },
  {
   "cell_type": "code",
   "execution_count": 10,
   "metadata": {},
   "outputs": [
    {
     "data": {
      "image/png": "[encoded data removed]",
      "text/latex": [
       "$\\displaystyle \\frac{q^{2} \\rho \\left(\\rho + 1\\right) e^{- \\rho}}{a_{0}}$"
      ],
      "text/plain": [
       " 2            -ρ\n",
       "q ⋅ρ⋅(ρ + 1)⋅ℯ  \n",
       "────────────────\n",
       "       a₀       "
      ]
     },
     "execution_count": 10,
     "metadata": {
      "filenames": {
       "image/png": "/Users/godfreybeddard/Library/CloudStorage/Dropbox/Dad-Tom/applying-maths-book/applying_maths_book/_build/jupyter_execute/chapter-4/integration-answers-73-96_21_0.png"
      }
     },
     "output_type": "execute_result"
    }
   ],
   "source": [
    "rho, u, v, q, a0 = symbols('rho, u, v, q, a0', positive = True)\n",
    "\n",
    "eq = exp(-u*rho)*(u - v)\n",
    "simplify( integrate(  integrate ( q**2*rho**3/(2*a0)*eq, (u,1,oo) ) , (v,-1,1)  ) )"
   ]
  },
  {
   "cell_type": "markdown",
   "metadata": {},
   "source": [
    "(b) To plot the energies Matplotlib will be used using the results just obtained and those in the text."
   ]
  },
  {
   "cell_type": "code",
   "execution_count": 11,
   "metadata": {},
   "outputs": [
    {
     "data": {
      "image/png": "[encoded data removed]",
      "text/plain": [
       "<Figure size 600x600 with 1 Axes>"
      ]
     },
     "metadata": {
      "filenames": {
       "image/png": "/Users/godfreybeddard/Library/CloudStorage/Dropbox/Dad-Tom/applying-maths-book/applying_maths_book/_build/jupyter_execute/chapter-4/integration-answers-73-96_23_0.png"
      }
     },
     "output_type": "display_data"
    }
   ],
   "source": [
    "fig = plt.figure(figsize=(6,6))\n",
    "plt.rcParams.update({'font.size': 16})  # set font size for plots\n",
    "\n",
    "a0 = 1\n",
    "q  = 1\n",
    "EI = q*q/(2*a0)\n",
    "x  = np.linspace(0.1,10,200)           # values along x axis\n",
    "\n",
    "# define functions for plotting\n",
    "\n",
    "fA = lambda rho: (q**2*rho + q**2)*np.exp(-rho)/a0    # use f prefix to remind us that its a function\n",
    "fC = lambda rho: q**2*(-rho + np.exp(2*rho) - 1)*np.exp(-2*rho)/(a0*rho)\n",
    "fS = lambda rho: (rho**2/3 + rho + 1)*np.exp(-rho)\n",
    "\n",
    "H11 = lambda rho: -EI + q**2/(a0*rho) - fC(rho)\n",
    "H12 = lambda rho : fS(rho)*(-EI + q**2/(a0*rho) ) - fA(rho) \n",
    "\n",
    "fEplus  = lambda rho: (H11(rho) + H12(rho) )/( 1 + fS(rho) )\n",
    "fEminus = lambda rho: (H11(rho) - H12(rho) )/( 1 - fS(rho))\n",
    "\n",
    "plt.plot(x,fEplus(x),color='blue')\n",
    "plt.plot(x,fEminus(x),color='green',linestyle=(5,(5,5)))\n",
    "\n",
    "plt.ylim([-1,1])\n",
    "plt.xlim([0.25,6])\n",
    "\n",
    "plt.axhline(0,color='grey',linewidth=1)  # horizontal line at zero\n",
    "\n",
    "plt.yticks([-1,-0.5,0,0.5,1])\n",
    "plt.xlabel(r'$\\rho$')\n",
    "plt.ylabel(r'$Energy \\,/\\,2E_I$')\n",
    "plt.axhline(-EI,color='grey',linestyle=(5,(5,5)))\n",
    "\n",
    "plt.annotate(r'$E_-$',xy=(3,-0.3))\n",
    "plt.annotate(r'$E_+$',xy=(1.1,-0.3))\n",
    "plt.annotate(r'$E_I$',xy=(0.5,-0.6) )\n",
    "plt.tight_layout()\n",
    "\n",
    "plt.show()"
   ]
  },
  {
   "cell_type": "markdown",
   "metadata": {},
   "source": [
    "## Q88 answer\n",
    "(a) A circle of unit radius $R$, has the polar equation $r=R$ then \n",
    "\n",
    "$$\\displaystyle S=\\int_0^{2\\pi} Rd\\theta=2\\pi R$$\n",
    "\n",
    "which is the circumference as integration was around the whole circle.\n",
    "\n",
    "(b) As $r=e^{-\\theta/a}$ then $dr/d\\theta =-e^{-\\theta/a}/a$. The arc length becomes \n",
    "\n",
    "$$\\displaystyle S=\\int_0^{2\\pi} \\sqrt{ e^{-2\\theta/a}\\left(1+\\frac{1}{a^2}\\right) }d\\theta =\\sqrt{ a^2+1 }\\left(1-e^{-2\\pi/a} \\right) $$\n",
    "\n",
    "(c) Using equation 83 and $dy/dx=\\sinh(x)$ gives \n",
    "\n",
    "$$\\displaystyle S=\\int_0^{x_0}\\sqrt{1+\\sinh^2(x)}dx$$\n",
    "\n",
    "Using the hyperbolic trig identity $\\cosh^2(x)-\\sinh^2(x)=1$ gives \n",
    "\n",
    "$$\\displaystyle S=\\int_0^{x_0}\\cosh(x)dx=\\sinh(x_0)$$\n",
    "\n",
    "(d) $r=a\\theta$ and $dr/d\\theta=a$  giving \n",
    "\n",
    "$$\\displaystyle S=a\\int_0^{2\\pi}\\sqrt{1+\\theta^2}d\\theta =\\frac{a}{2}\\left(x\\sqrt{1+x^2}+\\sinh^{-1}(x)\\right)\\bigg|_0^{2\\pi}$$\n",
    "\n",
    "is a standard integral and evaluates to $21.26a$.\n",
    "\n",
    "## Q89 answer\n",
    "he ellipse has to be used to define the limits to the calculation. The maximum and minimum $y$ values are $\\pm b\\sqrt{1 - x^2/a^2}$ and the maximum and minimum $x$ are $\\pm a$. Draw out the ellipse if you are not sure of this. The are is \n",
    "\n",
    "$$\\displaystyle A=\\int_{-a}^a\\int_{-b\\sqrt{1-x^2/a^2}}^{b\\sqrt{1-x^2/a^2}}1dydx= 2b \\int_{-a}^a \\sqrt{1-\\frac{x^2}{a^2} }=\\pi ab$$\n",
    "\n",
    "The second integral is standard and is "
   ]
  },
  {
   "cell_type": "code",
   "execution_count": 12,
   "metadata": {},
   "outputs": [
    {
     "data": {
      "image/png": "[encoded data removed]",
      "text/latex": [
       "$\\displaystyle \\frac{a \\operatorname{asin}{\\left(\\frac{x}{a} \\right)}}{2} + \\frac{x \\sqrt{a^{2} - x^{2}}}{2 a}$"
      ],
      "text/plain": [
       "      ⎛x⎞        _________\n",
       "a⋅asin⎜─⎟       ╱  2    2 \n",
       "      ⎝a⎠   x⋅╲╱  a  - x  \n",
       "───────── + ──────────────\n",
       "    2            2⋅a      "
      ]
     },
     "execution_count": 12,
     "metadata": {
      "filenames": {
       "image/png": "/Users/godfreybeddard/Library/CloudStorage/Dropbox/Dad-Tom/applying-maths-book/applying_maths_book/_build/jupyter_execute/chapter-4/integration-answers-73-96_25_0.png"
      }
     },
     "output_type": "execute_result"
    }
   ],
   "source": [
    "a, b, x, y = symbols('a, b, x, y',positive =True)\n",
    "eq = sqrt(1 - x**2/a**2)\n",
    "expand( integrate( eq ,x ) )"
   ]
  },
  {
   "cell_type": "markdown",
   "metadata": {},
   "source": [
    "As a check on the integration, if the ellipse is made into a circle with $a = b$ then $\\pi a^2$ would be the area.\n",
    "\n",
    "The $x$ centroid is \n",
    "\n",
    "$$\\displaystyle M_x=\\frac{1}{A}\\int_{-a}^a\\int_{-b\\sqrt{1-x^2/a^2}}^{b\\sqrt{1-x^2/a^2}}x\\,dydx=\\frac{2b}{A}\\int_{-a}^a x\\sqrt{1-\\frac{x^2}{a^2}} dx=0$$\n",
    "\n",
    "and integration is unnecessary because it is an odd function integrated between symmetrical limits; see Section 1.3. The $y$ centroid is similarly zero, which means that the 'centre of gravity' of the ellipse is at its origin. much as physical reasoning would dictate.\n",
    "\n",
    "The $x$ moment of inertia is\n",
    "\n",
    "$$\\displaystyle I_x=\\int_{-a}^a\\int_{-b\\sqrt{1-x^2/a^2}}^{b\\sqrt{1-x^2/a^2}}x^2\\,dydx=2b\\int_{-a}^a x^2\\sqrt{1-\\frac{x^2}{a^2}} dx= \\frac{\\pi ba^3}{4}$$\n",
    "\n",
    "which is symmetric thus the integral and has to be evaluated. The $y$ moment of inertia is calculated by replacing  $x^2$ with $y^2$ giving $I_y = \\pi a b^3/4$. The $z$ component is always the sum of the other two."
   ]
  },
  {
   "cell_type": "code",
   "execution_count": 13,
   "metadata": {},
   "outputs": [
    {
     "data": {
      "image/png": "[encoded data removed]",
      "text/latex": [
       "$\\displaystyle \\frac{\\pi a^{3} b}{4}$"
      ],
      "text/plain": [
       "   3  \n",
       "π⋅a ⋅b\n",
       "──────\n",
       "  4   "
      ]
     },
     "execution_count": 13,
     "metadata": {
      "filenames": {
       "image/png": "/Users/godfreybeddard/Library/CloudStorage/Dropbox/Dad-Tom/applying-maths-book/applying_maths_book/_build/jupyter_execute/chapter-4/integration-answers-73-96_27_0.png"
      }
     },
     "output_type": "execute_result"
    }
   ],
   "source": [
    "a, b, x, y, u = symbols('a, b, x, y, u',positive=True)\n",
    "\n",
    "eq  = x**2*sqrt(1 - x**2/a**2)\n",
    "ans = simplify(2*b*integrate(eq,x ) )\n",
    "ans.subs(x,a)-ans.subs(x,-a)            # do limits manually "
   ]
  },
  {
   "cell_type": "markdown",
   "metadata": {},
   "source": [
    "## Q90 answer\n",
    "The limits to the integration are the same as in the previous question;the area $A$ can be taken from this calculation also. The integration is therefore \n",
    "\n",
    "$$\\displaystyle \\langle r^2 \\rangle=\\frac{1}{A}\\int_{-a}^a\\int_{-b\\sqrt{1-x^2/a^2}}^{-b\\sqrt{1-x^2/a^2}} (x^2+y^2)dydx = \\frac{a^2}{4}+\\frac{b^2}{4}$$ "
   ]
  },
  {
   "cell_type": "code",
   "execution_count": 14,
   "metadata": {},
   "outputs": [
    {
     "data": {
      "image/png": "[encoded data removed]",
      "text/latex": [
       "$\\displaystyle \\frac{a^{2}}{4} + \\frac{b^{2}}{4}$"
      ],
      "text/plain": [
       " 2    2\n",
       "a    b \n",
       "── + ──\n",
       "4    4 "
      ]
     },
     "execution_count": 14,
     "metadata": {
      "filenames": {
       "image/png": "/Users/godfreybeddard/Library/CloudStorage/Dropbox/Dad-Tom/applying-maths-book/applying_maths_book/_build/jupyter_execute/chapter-4/integration-answers-73-96_29_0.png"
      }
     },
     "output_type": "execute_result"
    }
   ],
   "source": [
    "a, b, x, y, u = symbols('a, b, x, y, u', positive = True)\n",
    "eq = (x**2 + y**2)/(pi*a*b)\n",
    "ans = integrate( integrate( eq, (y,-b*sqrt(1-x**2/a**2),b*sqrt(1-x**2/a**2)  ) )  ,x   ) \n",
    "ans0 = simplify(ans)\n",
    "simplify( ans0.subs(x,a)-ans0.subs(x,-a) )  # do limits manually "
   ]
  },
  {
   "cell_type": "markdown",
   "metadata": {},
   "source": [
    "The mean value could represent some physical property such as density or electric field that varies quadratically, as $x^2 + y^2$, over the surface of the ellipse. In principle, any normal surface with any normal functional dependence, could be used; even if the integrals cannot be performed algebraically they can be done so numerically.\n",
    "\n",
    "## Q91 answer\n",
    "The curve follows the line $y=xb/a$ and the integral is \n",
    "\n",
    "$$\\displaystyle \\begin{align} \\int_C e^x\\sin(y)dx+e^x\\cos(y)dy &=\\int_C e^x\\sin(y)dx+e^x\\cos(y)\\frac{dy}{dx}dx\\\\&=\\int_0^a a^x\\sin(bx/a)+\\frac{b}{a}e^x\\cos(bx/a)dx= e^a\\sin(b)\\end{align}$$\n",
    "\n",
    "Using Sympy gives "
   ]
  },
  {
   "cell_type": "code",
   "execution_count": 15,
   "metadata": {},
   "outputs": [
    {
     "data": {
      "image/png": "[encoded data removed]",
      "text/latex": [
       "$\\displaystyle e^{a} \\sin{\\left(b \\right)}$"
      ],
      "text/plain": [
       " a       \n",
       "ℯ ⋅sin(b)"
      ]
     },
     "execution_count": 15,
     "metadata": {
      "filenames": {
       "image/png": "/Users/godfreybeddard/Library/CloudStorage/Dropbox/Dad-Tom/applying-maths-book/applying_maths_book/_build/jupyter_execute/chapter-4/integration-answers-73-96_31_0.png"
      }
     },
     "output_type": "execute_result"
    }
   ],
   "source": [
    "a, b, x = symbols('a b, x', positive = True)\n",
    "\n",
    "eq=  exp(x)*(sin(b*x/a) + b*cos(b*x/a)/a )\n",
    "integrate(eq,(x,0,a)   )"
   ]
  },
  {
   "cell_type": "markdown",
   "metadata": {},
   "source": [
    "## Q92 answer\n",
    "(a) In the parametric form the area under a curve is given by equation 80 or \n",
    "\n",
    "$$\\displaystyle \\int y(t)dx = \\int y(t) \\frac{dx}{dt} dt$$ \n",
    "\n",
    "The arch occurs between points where the cycloid is zero or $y = 0$ then $t = 0$ and $y = 0$ again at $t = 2\\pi$, therefore the limits on $t$ are $0$ and $2\\pi$.\n",
    "\n",
    "The derivative $\\displaystyle \\frac{dx}{dt} = a(1 - \\cos(t))$ and the integration is \n",
    "\n",
    "$$\\displaystyle a^2\\int_0^{2\\pi} (1-\\cos(t))^2dt= a^2\\int_0^{2\\pi}1-2\\cos(t)+\\frac{1}{2}+\\frac{1}{2}\\cos(2t)dt =3\\pi a^2$$\n",
    "\n",
    "(b) The arc-length is the integral of a small element $ds$ of the line and is by equation 83; \n",
    "\n",
    "$$\\displaystyle \\int_0^{2\\pi}ds =\\int_0^{2\\pi} \\sqrt{\\left(\\frac{dx}{dt}\\right)^2+\\left(\\frac{dy}{dt}\\right)^2}dt$$\n",
    "\n",
    "Substituting gives \n",
    "\n",
    "$$\\displaystyle a\\int_0^{2\\pi} \\sqrt{(1-\\cos(t))^2+\\sin^2(t)}dt=a\\int_0^{2\\pi} \\sqrt{2-2\\cos(t)}dt$$\n",
    "\n",
    "which is clearly a complicated integral which, unfortunately, Sympy completely fails to solve but the result is $8a$. The surprising result is that the point on the circumference travels a distance $8a$ while the wheel travels only the distance $2\\pi a$ along the road.\n",
    "\n",
    "## Q93 answer\n",
    "(a) Using the equation $\\displaystyle S =\\int_{x_1}^{x_2}\\sqrt{r^2+\\left( \\frac{dr}{d\\theta}\\right)^2}d\\theta$ the length is $S=\\int_0^{2\\pi}d\\theta=2\\pi$, the circumference of a circle of unit radius. The equation $r=1$ defines a unit circle in polar coordinates.\n",
    "\n",
    "(b) The integral is $\\displaystyle S = \\sqrt{2}\\int_0^{2\\pi} e^{-\\theta}d\\theta=\\sqrt{2}(1-e^{-2\\theta})$.\n",
    "\n",
    "(c) $\\displaystyle S=\\int_{0}^{x_0}\\sqrt{1+\\sinh^2(x)}dx$. This is not an obvious integral until the relationship $\\cosh^2(x) - \\sinh^2(x) = 1$ is recalled, then $\\displaystyle S=\\int_{0}^{x_0}\\cosh(x)dx=\\sinh(x_0)$.\n",
    "\n",
    "## Q94 answer\n",
    "(a) The derivative is $\\displaystyle \\frac{df(x)}{dt}=\\frac{2x}{2\\sqrt{r^2-x^2}}$, substituting and simplifying gives $\\displaystyle A=2\\pi \\int_{-r}^r rdx=4\\pi r^2$\n",
    "\n",
    "(b) The limits are from $x=r\\cos(\\theta) \\to r$ where $\\theta$ is $90$ - latitude and is $34^\\mathrm{o}$ . The integral evaluates to  \n",
    "\n",
    "$$\\displaystyle 2\\pi rx\\big|_{r\\cos(\\theta}^r=2\\pi r^2(1-\\cos(\\theta))$$\n",
    "\n",
    "and the fraction of the Earth's surface to the north is therefore $(1 - \\cos(\\theta))/2$ or $22$% approximately.\n",
    "\n",
    "![Drawing](integration-fig63.png)\n",
    "\n",
    "figure 63. Defining latitude.\n",
    "_____\n",
    "\n",
    "## Q95 answer\n",
    "(a) Given the same set of conditions, a state variable has the same value and is independent of how those conditions were reached. A state variable is therefore a quantity whose value defines a thermodynamic state. Examples are temperature, pressure, potential energy, internal energy, and entropy.\n",
    "\n",
    "(b) The first path has a constant temperature, and then constant pressure, the second is a straight-line from the start to the end. The line along which integration is performed is $pV = RT$. Putting the equation in the form of equation 85 gives at constant temperature, $w_T$ and pressure $w_p$,\n",
    "\n",
    "$$\\displaystyle w_T=\\int  p\\left(  \\frac{\\partial V}{\\partial T}\\right)_p\\frac{dT}{dp}+ p\\left(  \\frac{\\partial V}{\\partial p}\\right)_T dp$$\n",
    "\n",
    "$$\\displaystyle w_p=\\int  p\\left(  \\frac{\\partial V}{\\partial T}\\right)_p+ p\\left(  \\frac{\\partial V}{\\partial p}\\right)_T\\frac{dT}{dT} dT$$\n",
    "\n",
    "The first equation is \n",
    "\n",
    "$$\\displaystyle w_T=\\int  R\\frac{dT}{dp}- p\\frac{RT}{p^2} dp$$\n",
    "\n",
    "at constant $T$ the pressure change is $p_0$ to $p-1$ then at $T=T_0$ making $dT/dp=0$ and therefore \n",
    "\n",
    "$$\\displaystyle w_T=-RT_0\\int_{p_0}^{p_1} \\frac{dp}{p}=-RT_0\\ln\\left(\\frac{p_1}{p_0}\\right)$$ \n",
    "\n",
    "At constant pressure, substituting for the gas laws, gives \n",
    "\n",
    "$$\\displaystyle w_p=\\int R- \\frac{RT}{p}\\frac{dp}{dT}dT$$\n",
    "\n",
    "As the pressure is constant $dp/dT=0$ then $\\displaystyle w_T=R\\int_{T_0}^{T_1}dt = R(T_1-T_0)$. The total change is the sum of the two work terms; \n",
    "\n",
    "$$\\displaystyle w = R(T_1 - T_0) - RT_0\\ln\\left(\\frac{p_1}{p_0}\\right)$$"
   ]
  },
  {
   "cell_type": "markdown",
   "metadata": {},
   "source": [
    "## Q96 answer\n",
    "Starting with $\\displaystyle S=\\int \\frac{C_p}{T}dT-\\int\\left( \\frac{\\partial V}{\\partial T}\\right)_pdp $ \n",
    "\n",
    "the first step is to calculate $dV/dT$. The simplest way is to calculate the inverse at constant $p$, which is \n",
    "\n",
    "$$\\displaystyle R\\frac{dT}{dV}= (p+\\frac{a}{V^2})-2\\frac{a}{V^3}(V-b)$$\n",
    "\n",
    "and then invert the result. The integral is \n",
    "\n",
    "$$\\displaystyle S=\\int \\frac{C_p}{T}dT- \\frac{RV^3}{V^3p-aV-2ab}dp $$\n",
    "\n",
    "At constant $T$, \n",
    "\n",
    "$$\\displaystyle S_T=\\int_{T_0}^{T_1} \\frac{C_p}{T}\\frac{dT}{dp}-\\frac{RV^3}{V^3p-aV-2ab}dp$$\n",
    "\n",
    "and as $t$ is constant $dp/dT =0$ then \n",
    "\n",
    "$$\\displaystyle S_T=-\\int_{T_0}^{T_1} \\frac{RV^3}{V^3p-aV-2ab}dp = -R\\ln\\left( \\frac{V^3p_1-aV-2ab}{V^3p_0-aV-2ab} \\right)$$\n",
    "\n",
    "At constant pressure the integral is the same as in the text \n",
    "\n",
    "$$\\displaystyle  S_p=\\int_{T_0}^{T_1} \\frac{C_p}{T}dT =C_p\\ln\\left( \\frac{T_1}{T_0} \\right) $$\n",
    "\n",
    "and the total entropy is the sum of these terms. Notice that this result reverts to that for the ideal gas when $a=b=0$.\n",
    "\n",
    "The entropy is more negative than that for an ideal gas, making the overall entropy smaller consistent with the presence of intermolecular interactions in the van-der-Waals gas."
   ]
  },
  {
   "cell_type": "code",
   "execution_count": 16,
   "metadata": {},
   "outputs": [
    {
     "data": {
      "image/png": "[encoded data removed]",
      "text/latex": [
       "$\\displaystyle R \\log{\\left(V^{3} p - V a - 2 a b \\right)}$"
      ],
      "text/plain": [
       "     ⎛ 3                ⎞\n",
       "R⋅log⎝V ⋅p - V⋅a - 2⋅a⋅b⎠"
      ]
     },
     "execution_count": 16,
     "metadata": {
      "filenames": {
       "image/png": "/Users/godfreybeddard/Library/CloudStorage/Dropbox/Dad-Tom/applying-maths-book/applying_maths_book/_build/jupyter_execute/chapter-4/integration-answers-73-96_34_0.png"
      }
     },
     "output_type": "execute_result"
    }
   ],
   "source": [
    "a, b, p, V, T, R, p0, p1 = symbols('a, b, p, V, T, R, p0, p1',positive=True)\n",
    "\n",
    "eq= R*V**3/(p*V**3 - a*V-2*a*b)\n",
    "factor(integrate(eq, p ) )"
   ]
  },
  {
   "cell_type": "code",
   "execution_count": null,
   "metadata": {},
   "outputs": [],
   "source": []
  }
 ],
 "metadata": {
  "kernelspec": {
   "display_name": "Python 3 (ipykernel)",
   "language": "python",
   "name": "python3"
  },
  "language_info": {
   "codemirror_mode": {
    "name": "ipython",
    "version": 3
   },
   "file_extension": ".py",
   "mimetype": "text/x-python",
   "name": "python",
   "nbconvert_exporter": "python",
   "pygments_lexer": "ipython3",
   "version": "3.9.6"
  }
 },
 "nbformat": 4,
 "nbformat_minor": 2
}