{
 "cells": [
  {
   "cell_type": "markdown",
   "metadata": {},
   "source": [
    "## Questions 73 - 77"
   ]
  },
  {
   "cell_type": "markdown",
   "metadata": {},
   "source": [
    "### Q73 1D box  variational energy\n",
    "(a) For the particle in a one-dimensional box, calculate the variational energy if the trial wavefunction is $\\psi= x(L - x)$ where $L$ is the length of the box for which the potential energy $V = 0$. Compare your result with the true energy for the lowest level which is $\\displaystyle \\frac{h^2}{8mL^2}$. The Schroedinger equation is \n",
    "\n",
    "$$\\displaystyle -\\frac{\\hbar^2}{2m}\\frac{d^2}{dx^2}\\psi=E\\psi$$\n",
    "\n",
    "(b) Calculate the variational energy for a finite square well using the trial wavefunction $\\psi=e^{-a x^2}$. The potential extends to $\\pm \\infty$ with a height $U$ except in the range $\\pm L$ where it is zero. To obtain a numerical answer for the variational energy assume $\\hbar=m=1, U=0.5, L=1$. With this potential the exact value for the only bound level is 0.27312. \n",
    "\n",
    "**Strategy:** (a) Calculate the two integrals in equation 47 separately; remember that $H$ acts on the wavefunction to its right and the result is then multiplied by $\\psi$ before the integration is evaluated. (b) Calculate the integrals using Sympy, doing so in three parts, $-\\infty \\to -1; -1\\to 1; 1\\to \\infty$. When trying to find the optimal value of $\\alpha$ the LamberW function is encountered. At this point go back a step substitute the numerical value and recalculate. \n",
    "\n",
    "### Q74 Quartic oscillator\n",
    "Suppose that in the quartic oscillator $V(x) = kx^4$, the trial wavefunction is chosen to be $\\displaystyle  \\sqrt{\\frac{\\alpha}{\\sqrt{\\pi}} }e^{-\\alpha x^2/2}$ where $\\alpha$ is the variable parameter. Calculate the minimum variational energy and compare your result with the numerical solution \n",
    "\n",
    "$$\\displaystyle E_0=1.060k^{1/3}\\left( \\frac{\\hbar^2}{2m}  \\right)^{2/3}$$\n",
    "\n",
    "### Q75 He atom variational energy\n",
    "The variational treatment can be used to approximate the ground state energy of the He atom. The energy cannot be calculated exactly because there are three particles, the nucleus and two electrons. Try to find a solution using the normalized wavefunction \n",
    "\n",
    "$$\\displaystyle \\varphi=\\frac{1}{\\pi}\\left(\\frac{\\zeta}{a_0} \\right)^3 e^{-\\zeta(r_1-r_2)/a_0}$$\n",
    "\n",
    "with $\\zeta$ (zeta) as a variational parameter to replace the nuclear charge $Z;\\, a_0$ is the Bohr radius and $r_1$ and $r_2$ are the coordinates of the two electrons, which are independent of one another. The parameter $\\zeta$ should be smaller than $Z$ because one electron is shielded from the nucleus by the other and vice versa.\n",
    "\n",
    "The energy expectation value is a very complicated integral and evaluates to \n",
    "\n",
    "$$\\displaystyle E=\\int \\varphi H\\varphi du=\\frac{e^2}{4\\pi\\epsilon_0a_0}\\left(\\zeta^2-2Z\\zeta+\\frac{5}{8}\\zeta\\right)$$\n",
    "\n",
    "$H$ is the Hamiltonian operator and $du$ represents integration over all coordinates.\n",
    "\n",
    "(a) Look up the formula for the energy of an H atom. Calculate the (zeroth order) ground state energy of the He atom as twice the energy of an H atom with $Z = 2$. What interaction terms are missing in this crude model?\n",
    "\n",
    "(b) Calculate the ionization energy of He+ and add this to the experimentally measured first ionization energy of $24.5$ eV then call this the 'experimental' energy of the He atom. Compare this with the energy from (a).\n",
    "\n",
    "(c) Find the variational energy of the ground state of the He atom. Compare it with the energy calculated assuming that $\\zeta = Z$, and with your 'experimental' value.\n",
    "\n",
    "### Q76 Variational energy in Gaussian well \n",
    "Using the trial wavefunction $\\displaystyle \\psi = e^{-ax^2/2}$\n",
    "\n",
    "calculate the variational energy of the lowest bound state of an electron if the potential has the form of a Gaussian well \n",
    "\n",
    "$$\\displaystyle V = 1 - e^{-\\beta x^2}$$\n",
    "\n",
    "As the lowest level is required expand the potential. The Schroedinger equation in atomic units is \n",
    "\n",
    "$$\\displaystyle \\left( -\\frac{1}{2}\\frac{d^2}{dx^2}+V_x \\right)\\psi_x=E\\psi_x$$\n",
    "\n",
    "Compare the result with the numerical value of $0.5226$ when$\\beta=1$ and $0.20473$ when $\\beta=1/10$. See chapter 10 for details of numerical methods.\n",
    "\n",
    "Comment of the results obtained.\n",
    "\n",
    "**Strategy:** The potential is anharmonic with a value of $1$ at large values of $\\pm x$ and zero at the origin. The expansion of the potential at small $x$ is $1-e^{-\\beta x^2}\\approx \\beta x^2-\\beta^2x^4/2\\cdots$, and therefore the Gaussian wavefunction suggested as a trial wavefunction should be a good approximation as this is the form of the lowest wavefunction for a harmonic potential. \n",
    "\n",
    "\n",
    "### Q77 H atom energy with trial wavefunction\n",
    "Using atomic units (see Chapter 1.14.3), the Schroedinger equation for the hydrogen atom is \n",
    "\n",
    "$$\\displaystyle -\\frac{1}{2}\\nabla^2\\psi-\\frac{\\psi}{r}=E\\psi$$\n",
    "\n",
    "where the operator del or nabla squared is \n",
    "\n",
    "$$\\displaystyle \\nabla^2=\\frac{d^2}{dx^2}+\\frac{d^2}{dy^2}+\\frac{d^2}{dz^2}$$\n",
    "\n",
    "Using a trial radial wavefunction $R(r) = e^{\\alpha r^2/2}$ and the variational method, show that the ground state energy is $-4/(3\\pi) = -0.424$, which is slightly more than the exact energy which is $-1/2$. You will need to use the relationship \n",
    "\n",
    "$$\\displaystyle \\nabla^2f(r)=\\frac{1}{r}\\frac{d^2}{dr^2}rf(r)$$\n",
    "\n",
    "and the volume elements in spherical coordinates $dxdydz\\to r^2\\sin(\\theta)dr d\\theta d\\phi$.\n",
    "\n",
    "**Strategy:** The Schroedinger equation is given in mixed coordinates Cartesian and radial. This is not unusual because it is assumed that you know how to convert from one to the other; the relationship is given in the question. However, there are three coordinates, not just $r$ to deal with, but the wavefunction is only given in terms of $r$. The reason for this is that the lowest energy corresponds to an s orbital, which is spherically symmetrical. The integrations have the form \n",
    "\n",
    "$$\\displaystyle \\int\\int\\int R(r)^*R(r)dxdydz\\to \\int\\int\\int R(r)^*R(r)r^2\\sin(\\theta)dr d\\theta d\\phi$$\n",
    "\n",
    "and because the wavefunction does not depend on $\\theta $ and $\\phi$ these integrals can be separated out. You must decide what the limits are; the variational parameter is $\\alpha$."
   ]
  }
 ],
 "metadata": {
  "kernelspec": {
   "display_name": "Python 3 (ipykernel)",
   "language": "python",
   "name": "python3"
  },
  "language_info": {
   "codemirror_mode": {
    "name": "ipython",
    "version": 3
   },
   "file_extension": ".py",
   "mimetype": "text/x-python",
   "name": "python",
   "nbconvert_exporter": "python",
   "pygments_lexer": "ipython3",
   "version": "3.8.9"
  }
 },
 "nbformat": 4,
 "nbformat_minor": 2
}