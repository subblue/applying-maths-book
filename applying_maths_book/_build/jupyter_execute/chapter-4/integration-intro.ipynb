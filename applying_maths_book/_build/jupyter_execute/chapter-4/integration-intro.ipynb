{
 "cells": [
  {
   "cell_type": "markdown",
   "id": "08dd9e3c",
   "metadata": {},
   "source": [
    "# 4 Integration."
   ]
  },
  {
   "cell_type": "markdown",
   "id": "fd753681",
   "metadata": {},
   "source": [
    "Any book on chemistry, physics, mathematical biology, quantum mechanics, optics, astronomy, and material science is peppered with examples of integration and differential equations. It is essential to be familiar with the essence of integration and then to know when a problem is difficult enough to turn to a book or to computer algebra for help. Even when using programs such as python and sympy, some knowledge of integration is always necessary."
   ]
  }
 ],
 "metadata": {
  "kernelspec": {
   "display_name": "Python 3 (ipykernel)",
   "language": "python",
   "name": "python3"
  },
  "language_info": {
   "codemirror_mode": {
    "name": "ipython",
    "version": 3
   },
   "file_extension": ".py",
   "mimetype": "text/x-python",
   "name": "python",
   "nbconvert_exporter": "python",
   "pygments_lexer": "ipython3",
   "version": "3.9.6"
  }
 },
 "nbformat": 4,
 "nbformat_minor": 5
}