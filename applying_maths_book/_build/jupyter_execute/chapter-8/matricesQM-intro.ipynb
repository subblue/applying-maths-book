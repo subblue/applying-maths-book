{
 "cells": [
  {
   "cell_type": "markdown",
   "id": "c68a5a66",
   "metadata": {},
   "source": [
    "# 8. Matrices in Quantum Mechanics"
   ]
  },
  {
   "cell_type": "markdown",
   "id": "0b1aaefe",
   "metadata": {},
   "source": [
    "In the Huckel model of electronic energy levels, described in Chapter 7, the relative electronic energies of $\\pi$ orbitals are calculated on the assumption that each $\\pi$ orbital interacts only with it nearest neighbours. A matrix of interactions is constructed and the eigenvalues and eigenvectors found. In this chapter, problems that are more general are explored."
   ]
  }
 ],
 "metadata": {
  "kernelspec": {
   "display_name": "Python 3 (ipykernel)",
   "language": "python",
   "name": "python3"
  },
  "language_info": {
   "codemirror_mode": {
    "name": "ipython",
    "version": 3
   },
   "file_extension": ".py",
   "mimetype": "text/x-python",
   "name": "python",
   "nbconvert_exporter": "python",
   "pygments_lexer": "ipython3",
   "version": "3.9.9"
  }
 },
 "nbformat": 4,
 "nbformat_minor": 5
}