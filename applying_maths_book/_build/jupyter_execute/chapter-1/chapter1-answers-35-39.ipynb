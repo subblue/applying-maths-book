{
 "cells": [
  {
   "cell_type": "markdown",
   "metadata": {},
   "source": [
    "# Solutions Q35 - 39"
   ]
  },
  {
   "cell_type": "markdown",
   "metadata": {},
   "source": [
    "## Q35 answer\n",
    "The units are omitted unless necessary \n",
    "\n",
    "$5.6789 \\cdot 10^{-7} \\pm 4 \\cdot 10^{-9} =(5.6789\\pm 0.04)\\cdot 10^{-7} \\to (5.68 \\pm 0.04) \\cdot 10^{-7}$\n",
    "\n",
    "$\\displaystyle \\begin{array}{lll}\n",
    "30.01 \\text{ mm } \\pm 0.001 \\text{ cm } &\\to 30.01 \\pm 0.01\\text{ mm }\\\\\n",
    "9.36156 \\pm  0.312 &\\to  9.4 \\pm  0.3 \\text{ or } 9.3_6 \\pm  0.3 \\\\\n",
    "1.2345 \\cdot  10^4 \\pm  3 &\\to  12345 \\pm  3\\\\\n",
    "3.45 \\pm  0.6564 &\\to 3.5 \\pm  0.7 \\text{ or } 3.4_5 \\pm  0.7\\\\\n",
    "123.34 \\pm  20 &\\to  120 \\pm  20\\text{ or }(1.2_3 \\pm 0.2) \\cdot  10^2\\\\\n",
    "2312.128 \\pm  0.01 &\\to  2312.13 \\pm  0.01\\\\\n",
    "19.67346 \\pm  1.57 &\\to 20\\pm 2\\text{ or }(0.19_7 \\pm 0.2)\\cdot 10^2\\\\\n",
    "101352 \\pm  133.322 &\\to  101400 \\pm  100 \\text{ or } (0.1013_5 \\pm  0.0001) \\cdot  10^6\\end{array}$\n",
    "\n",
    "\n",
    "## Q36 answer\n",
    "\n",
    "$ 30 + 2.167 = 32;\\;  3.0004/12.2 = 0.246;\\; \\log(1.001) = 0.0004$\n",
    "\n",
    "## Q37 answer  \n",
    "\n",
    "Voltage has units of $\\mathrm{J \\;C^{-1}}$ and a coulomb $ \\mathrm{C = A\\; s}$, therefore $\\mathrm{V = kg\\; m^2\\, s^{-2}\\, A^{-1}\\, s^{-1} = kg\\; m^2\\, s^{-3}\\, A^{-1}}$. \n",
    "\n",
    "Resistance (ohm), $\\mathrm{\\Omega = V \\;A^{-1} = kg \\;m^2 \\,s^{-3} \\,A^{-2}}$.\n",
    "\n",
    "Capacitance (farad), $\\mathrm{ F = C\\; V^{-1} = A\\; s\\; kg^{-1}\\, m^{-2} \\,s^3 \\,A^1 = A^2\\, s^4\\, kg^{-1}\\, m^{-2}}$.\n",
    "\n",
    "## Q38 answer\n",
    "(a) Each time the paper is folded the width doubles, so it is $0.2$ mm after the first fold, $0.4$ after the second, $0.8$ after the third, and so on. The series formed is $0.1 \\times 2^{n-1}$ mm for $n$ folds. How far away is the moon? Typically $240000$ miles, which is $\\approx 4 \\cdot 10^{11}$ mm. Next try some values for $n$. When $n = 43$ a thickness greater than the distance to the moon is found. It does not seem impossible to be able to fold the same piece of paper $43$ times; try it. \n",
    "\n",
    "A piece of A4 paper can only be folded double $6$ or $7$ times,depending upon how determined you are, $8$ times is probably impossible. The area of the paper is reduced as $1/2^{n-1}$ so it has to be very big to start with.\n",
    "\n",
    "(b) The thickness of graphene is approximately that of the extent of the carbon's non-bonded p orbitals, which is about the length of a C-C bond or $0.16$ nm. The thickness of $43$ folds is therefore $\\approx 700$ m.\n",
    "\n",
    "## Q39 answer\n",
    "(a, b) We need to know the heat of evaporation/ condensation of water and the heat of combustion of petrol (as octane) both of which can be looked up. The heat of evaporation of water is $+45.1$ kJ/mol thus the number of moles of water has to be found. This is done via the volume of water and its molar volume. The volume of water is $ 1\\cdot 10^6 \\times 2.54/10^2 \\approx 2.54\\cdot 10^4\\text{ m}^3$ which contains\n",
    "\n",
    "$$ M = 2.5 \\cdot 10^4\\;\\mathrm{ (m^3)} \\times 1000 \\;\\mathrm{(kg m^{-3})}\\,/\\,0.018\\, \\text{ (kg/ mol) } =1.4\\cdot 10^9\\text{ moles}$$  \n",
    "\n",
    "since the density of water is $1000 \\;\\mathrm{kg\\; m^{-3}}$  and the molar mass is $18$ g/mole. \n",
    "\n",
    "The heat needed is $q = 45.1 \\times M =6.4\\cdot 10^{10}$ kJ.\n",
    "\n",
    "The heat of combustion of petrol considered to be pure octane ($\\mathrm{C_8H_{18}}$) is $-5500$ kJ/mol and suppose that a petrol tank takes $50$ litres (dm$^3$) = 0.05 m$^3$. The density of petrol is $0.7$ g cm$^{-3}$ or $700$ kg m$^{-3}$ and the molar mass $114$.\n",
    "\n",
    "Thus $6.4 \\times 10^{10}$ kJ energy is released by $6.4 \\times 10^{10}/5500 = 1.2 \\cdot 10^7$ moles of petrol, which corresponds to $(0.114/700) \\times 1.2 \\cdot 10^7 = 1884\\,\\mathrm{ m^3}$ or approx 37600 tanks of petrol.\n",
    "\n",
    "(c) Over an area of $1\\;\\mathrm{ km^2} = 10^6\\,\\mathrm{ m^2}$ the sun typically provides $1.3 \\cdot 10^6$ kJ/s, therefore it only takes $q/(1.3 \\cdot 10^6)\\, s \\approx 0.56$ days to evaporate an inch of water over this area.\n",
    "\n",
    "(d) The molar mass of water is less than that of $\\mathrm{O_2}$ or $\\mathrm{N_2}$ so its vapour would seem to have a lower density. However, with a vapour we cannot naturally assume ideal gas behaviour, because it can always be liquefied by compression. This means that the water molecules are associated with one another as dimers, trimers, and other small clusters, which also condense onto dust particles. We see clouds because micron sized particles scatter sunlight to a greater or lesser extent, and are kept buoyant by Brownian motion and convection currents their density being only slightly different from that of air."
   ]
  },
  {
   "cell_type": "code",
   "execution_count": null,
   "metadata": {},
   "outputs": [],
   "source": []
  }
 ],
 "metadata": {
  "kernelspec": {
   "display_name": "Python 3 (ipykernel)",
   "language": "python",
   "name": "python3"
  },
  "language_info": {
   "codemirror_mode": {
    "name": "ipython",
    "version": 3
   },
   "file_extension": ".py",
   "mimetype": "text/x-python",
   "name": "python",
   "nbconvert_exporter": "python",
   "pygments_lexer": "ipython3",
   "version": "3.9.6"
  }
 },
 "nbformat": 4,
 "nbformat_minor": 2
}