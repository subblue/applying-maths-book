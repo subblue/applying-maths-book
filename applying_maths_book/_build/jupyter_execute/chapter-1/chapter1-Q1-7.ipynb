{
 "cells": [
  {
   "cell_type": "markdown",
   "metadata": {},
   "source": [
    "# Questions 1 - 7"
   ]
  },
  {
   "cell_type": "markdown",
   "metadata": {},
   "source": [
    "## Q1   Populations in energy levels\n",
    "Calculate the relative populations of two energies separated by $1$ cm$^{-1}$ and then by $1500$ cm$^{-1}$, at both $30$ and $300$ K. If these energy levels are found in a molecule, what two different types of motion are implicated?\n",
    "\n",
    "## Q2  \n",
    "Calculate by hand,\n",
    "\n",
    "$$\\displaystyle\\begin{array}{lll}\\\\\n",
    "\\hline\n",
    "(a) & \\log_{10}(100), & (b) \\log_{10}(10), & (c) \\log_e(e)\\\\\n",
    "(d)& \\log_b(b), & (e) \\log_{b}(b^x), & (f)  \\log_2(1/8)\\\\\n",
    "(g)& \\text{find }n; \\log_{10}(n)=-4, & (h)\\text{ find }n;\\log_n(1/16)=-2, & (i) \\text{ find }n;\\log_5(125)=n\\\\\n",
    "\\hline\\\\ \\end{array}$$\n",
    "**Strategy:**  Use eqn. 13.\n",
    "\n",
    "## Q3  \n",
    "Simplify without using your calculator:\n",
    "\n",
    "$$\\displaystyle\\begin{array}{lll}\\\\\n",
    "\\hline\n",
    "(a) \\ln(3^x), & (b) \\ln(a^2/b), &(c)  \\ln\\left(\\sqrt{a}/b^3\\right)\\\\\n",
    "(d) \\ln(3^{1/(6+x)}), & (e)  \\displaystyle \\ln\\left(\\frac{\\sqrt{x}\\sin(x)}{\\ln(x^n)}  \\right)\\\\\n",
    "\\hline \\\\ \\end{array}$$\n",
    "\n",
    "**Strategy:**  Use eqn. 10 to 13.\n",
    "\n",
    "## Q4  \n",
    "Express $(1 + s/a)^r$ in exponential form.\n",
    "\n",
    "**Strategy:**  Take $\\log_e$ of the expression.\n",
    "\n",
    "## Q6  Drinking beer\n",
    "A man drinks $(1/n)^\\text{th}$ of a pint of beer and replaces this volume with lemonade. Supposing that he could do this an infinite number of times, is any beer left in the glass and if so how much?\n",
    "\n",
    "## Q7  Light absorption by leaves\n",
    "The chlorophyll in the leaves on a tree absorbs light but some will still reach the ground, even in a dense forest. The cross section for the absorption by one leaf at a certain wavelength, is $\\sigma  = \\alpha A$ where $\\alpha$ is the absorption per unit area and $A$ the area of a leaf. If $I_0$ is the incident light intensity, and $I_n$ that after n layers of leaves, what fraction of light $(I_n /I_0)$ reaches the ground and how much when $n \\to \\infty$ ? Assume that a sufficient number of leaves are present so that no light reaches the ground without passing through a leaf.\n",
    "\n",
    "**Strategy:**  The light absorbed plus transmitted, equals that incident."
   ]
  },
  {
   "cell_type": "code",
   "execution_count": null,
   "metadata": {},
   "outputs": [],
   "source": []
  }
 ],
 "metadata": {
  "kernelspec": {
   "display_name": "Python 3 (ipykernel)",
   "language": "python",
   "name": "python3"
  },
  "language_info": {
   "codemirror_mode": {
    "name": "ipython",
    "version": 3
   },
   "file_extension": ".py",
   "mimetype": "text/x-python",
   "name": "python",
   "nbconvert_exporter": "python",
   "pygments_lexer": "ipython3",
   "version": "3.9.6"
  }
 },
 "nbformat": 4,
 "nbformat_minor": 2
}