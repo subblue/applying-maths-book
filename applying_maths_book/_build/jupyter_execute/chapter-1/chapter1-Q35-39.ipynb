{
 "cells": [
  {
   "cell_type": "markdown",
   "metadata": {},
   "source": [
    "## Questions 35 - 39"
   ]
  },
  {
   "cell_type": "markdown",
   "metadata": {},
   "source": [
    "### Q35 Rounding and errors\n",
    "Rewrite and/or correct the following in the most appropriate form.\n",
    "\n",
    "$$\\begin{array}{l|l|l}\n",
    "5.6789 \\times 10^{-7} \\,\\pm 4 \\times 10^{-9}\\, \\mathrm{kg} & 1.2345 \\times 10^4 ± 3\\, \\mathrm{m/s} & 2312.128 \\pm 0.01 \\,\\mathrm{cm^{-1} }\\\\\n",
    "30.01\\, \\mathrm{mm} \\pm 0.001\\, \\mathrm{cm} & 3.45 \\pm 0.6564 \\,\\mathrm{Tesla} & 19.67346 \\pm 1.57\\, \\mathrm{kJ/mole} \\\\\n",
    "9.36156 \\pm 0.312 \\,\\mathrm{kJ/mole} & 123.34 \\pm 20 \\,\\mathrm{K} & 101352 \\pm 133.322 \\,\\mathrm{N\\,m^{-2}}\n",
    "\\end{array}$$\n",
    "\n",
    "### Q36 Significant figures\n",
    "Record the results of the following calculations to an appropriate number of significant figures.\n",
    "\n",
    "$$\\begin{align}\n",
    "30 + 2.167 &= \\\\\n",
    "3.0004/12.2 &= \\\\\n",
    "\\log(1.001) &=\\\\\n",
    "\\end{align}$$\n",
    "\n",
    "### Q37 SI units\n",
    "Convert voltage, resistance, and capacitance into base SI units.\n",
    "\n",
    "### Q38 Folding paper\n",
    "(a) If a piece of paper is 0.1 mm thick, how many times will it have to be folded to reach the moon?\n",
    "This is hardly realistic, nevertheless, suppose that it were possible.\n",
    "\n",
    "(b) Graphene is a one carbon thick layer of atoms with the structure of graphite having sp$^2$ hybridized C-C bonds forming six membered rings. If a sheet of graphene were folded for the same number of times as the paper, how thick would it be?\n",
    "\n",
    "### Q39 Heat of evaporation\n",
    "In natural history programmes, it is common to see pictures of dried up lakes due to intense heat and lack of rainfall.\n",
    "\n",
    "(a) Calculate how much energy is needed to evaporate the last one inch depth of each $1 \\mathrm{ km}^2$ of a lake.\n",
    "\n",
    "(b) How many full car petrol tanks contain this much energy?\n",
    "\n",
    "(c) If the solar irradiance is $1.3\\, \\mathrm{kw/m^2}$ how long will it take the sun to evaporate the same volume of water assuming all the incident energy is used to do this?\n",
    "\n",
    "(d) The water evaporating from the lake will rise, cool and condense into a cloud as it meets colder air. Why do clouds float when they contain so much water?"
   ]
  },
  {
   "cell_type": "code",
   "execution_count": null,
   "metadata": {},
   "outputs": [],
   "source": []
  }
 ],
 "metadata": {
  "kernelspec": {
   "display_name": "Python 3 (ipykernel)",
   "language": "python",
   "name": "python3"
  },
  "language_info": {
   "codemirror_mode": {
    "name": "ipython",
    "version": 3
   },
   "file_extension": ".py",
   "mimetype": "text/x-python",
   "name": "python",
   "nbconvert_exporter": "python",
   "pygments_lexer": "ipython3",
   "version": "3.8.9"
  }
 },
 "nbformat": 4,
 "nbformat_minor": 2
}