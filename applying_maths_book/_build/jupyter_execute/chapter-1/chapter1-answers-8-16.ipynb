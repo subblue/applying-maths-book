{
 "cells": [
  {
   "cell_type": "markdown",
   "metadata": {},
   "source": [
    "# Solutions Q8 - 16"
   ]
  },
  {
   "cell_type": "code",
   "execution_count": 1,
   "metadata": {},
   "outputs": [],
   "source": [
    "# import all python add-ons etc that will be needed later on\n",
    "%matplotlib inline\n",
    "import numpy as np\n",
    "import matplotlib.pyplot as plt\n",
    "from sympy import *\n",
    "init_printing()                      # allows printing of SymPy results in typeset maths format\n",
    "plt.rcParams.update({'font.size': 16})  # set font size for plots"
   ]
  },
  {
   "cell_type": "markdown",
   "metadata": {},
   "source": [
    "## Q8 answer\n",
    "(a) $A = 0.25$. \n",
    "\n",
    "(b) the angular frequency $\\omega$ is $125 \\,\\mathrm{radians\\,s^{-1}}$. Using $\\omega = 2\\pi\\nu$ gives the frequency $\\nu$ in $\\mathrm{s^{-1}}$ (or Hz) and is $19.89 \\mathrm{s^{-1}}$.\n",
    "\n",
    "(c) The wavevector is $+3$ and the wavelength is given using $k = 2\\pi/\\lambda$ therefore $\\lambda = 2.094$ m. Note that the wavelength is always positive.\n",
    "\n",
    "(d) The phase is $\\phi=0.6$ radian.\n",
    "\n",
    "(e) The velocity is $dy/dt$, which is $v = 125 \\cos(125t - 3k + 0.6)/4 \\mathrm{\\;m\\,s^{-1}}$ because the other terms are constant in time.\n",
    "\n",
    "## Q9 answer\n",
    "(a) The sum of the two waves is $\\sin(\\omega_1 t - kx)+ \\sin(\\omega_2t - kx)$ and we observe the frequency change in time. This means that the $-kx$ term represents a phase, and is fixed as we observe at a fixed point and it can be set to zero without changing the result as phase does not affect the frequency of a wave just where its amplitude is zero. As the waves' amplitudes are the same, we can choose them to be 1. The identity to start with from Section 5.1 is \n",
    "\n",
    "$$\\displaystyle \\sin(a - b) + \\sin(a + b) = 2 \\sin(a)\\cos(b)$$\n",
    "\n",
    "This is has to be rearranged into the form $\\sin(A) + \\sin(B)$ which can be done letting $A = a - b$ and $B = a + b$ then \n",
    "\n",
    "$$\\displaystyle \\sin(A) + \\sin(B)=2\\sin\\left( \\frac{A+B}{2} \\right)\\cos\\left( \\frac{A-B}{2} \\right)$$\n",
    "\n",
    "Substituting $A=\\omega_1t- kx$ and $B = \\omega_2t - kx$ gives\n",
    "\n",
    "$$\\sin(\\omega_1t)+\\sin(\\omega_2t)=2\\sin\\left( \\frac{(\\omega_1+\\omega_2)t}{2} \\right)\\cos\\left( \\frac{(\\omega_1-\\omega_2)t}{2} \\right)$$\n",
    "\n",
    "The beat frequency is $|\\omega_1 - \\omega_2|$ not half this value, because we observe two beats per period.\n",
    "\n",
    "(b) A wave period of $T$ has a frequency of $1/\\nu$. In the figure, the longest wavelength has a period of $4$ s making the observed frequency $0.25 \\,\\mathrm{s^{-1} }$. The beat frequency is, by definition, twice the wave frequency hence this is $0.5 \\,\\mathrm{^{-1} }$.\n",
    "\n",
    "## Q10 answer\n",
    "$5 \\times 51, 210, 1547/864$.\n",
    "\n",
    "## Q11 answer\n",
    "Because the factorials increase so rapidly, the answers can be obtained by direct multiplication using the recursion relationship $(n + 1)! = (n + 1)n!$\n",
    "\n",
    "$$\\displaystyle \\begin{array}{lll}\n",
    "0 &1\\\\\n",
    "1 &1\\\\\n",
    "2 &2\\\\\n",
    "3 &6\\\\\n",
    "4 &24\\\\\n",
    "5 &120 & \\text{ first above } 100\\\\\n",
    "6 &720\\\\\n",
    "7 &5040 & \\text{ first above }1000\\\\\n",
    "8 &40320\\\\\n",
    "9 &362880\\\\\n",
    "10& 3628800& \\text{ first above }10^6\\\\\n",
    "11& 39916800\\\\\n",
    "12& 479001600\\\\\n",
    "13& 6227020800 & \\text{first above } 10^9\\\\\n",
    "14& 87178291200\\\\\n",
    "15& 1307674368000 & \\text{first above } 10^{12}\n",
    "\\end{array}$$\n",
    "\n",
    "## Q12 answer\n",
    "When $n=0$ then $\\displaystyle \\frac{(x+0-1)!}{(x-1)!}=1$, and for other $n$\n",
    "\n",
    "$$\\displaystyle \\begin{align}\n",
    "n=1 \\qquad& \\frac{x!}{(x-1)!}=x\\\\\n",
    "n=2 \\qquad& \\frac{(x+1)!}{(x-1)!}=\\frac{(x+1)x(x-1)(x-2)\\cdots}{(x-1)(x-2)\\cdots }=x+x^2\\\\\n",
    "n=3 \\qquad& \\frac{(x+2)!}{(x-1)!}=\\frac{(x+2)(x+1)x(x-1)(x-2)\\cdots}{(x-1)(x-2)\\cdots }=2x+3x^2+x^3\\end{align}$$\n",
    "\n",
    "the general result ($n>0$) would seem to be $\\prod_{i=1}^n (x+i-1)$.\n",
    "\n",
    "## Q13 answer\n",
    "Using the same method as Algorithm 6 with appropriate changes produces the results"
   ]
  },
  {
   "cell_type": "code",
   "execution_count": 2,
   "metadata": {},
   "outputs": [
    {
     "name": "stdout",
     "output_type": "stream",
     "text": [
      "0 1\n",
      "1 x\n",
      "2 3*x**2/2 - 1/2\n",
      "3 5*x**3/2 - 3*x/2\n"
     ]
    },
    {
     "name": "stdout",
     "output_type": "stream",
     "text": [
      "4 35*x**4/8 - 15*x**2/4 + 3/8\n",
      "5 63*x**5/8 - 35*x**3/4 + 15*x/8\n"
     ]
    }
   ],
   "source": [
    "x, n = symbols('x,n')     #  Legendre  change  n-> n-1\n",
    "\n",
    "def Legen(n, x): \n",
    "    if n == 0:\n",
    "        return 1 \n",
    "    elif n == 1: \n",
    "        return x \n",
    "    else: \n",
    "        return ( (2*(n-1)+1)*x*Legen(n - 1, x) - (n-1)*Legen(n - 2, x))/(n)\n",
    "#---------------\n",
    "for i in range(6):\n",
    "    print(i,expand( Legen(i,x) ))"
   ]
  },
  {
   "cell_type": "code",
   "execution_count": 3,
   "metadata": {},
   "outputs": [
    {
     "name": "stdout",
     "output_type": "stream",
     "text": [
      "0 1\n",
      "1 x\n",
      "2 2*x**2 - 1\n",
      "3 4*x**3 - 3*x\n",
      "4 8*x**4 - 8*x**2 + 1\n",
      "5 16*x**5 - 20*x**3 + 5*x\n"
     ]
    }
   ],
   "source": [
    "x, n = symbols('x,n')  #  Chebychev\n",
    "\n",
    "def Cheb(n, x): \n",
    "    if n == 0:\n",
    "        return 1 \n",
    "    elif n == 1: \n",
    "        return x \n",
    "    else: \n",
    "        return  2*x*Cheb(n - 1, x) - Cheb(n - 2, x)\n",
    "#------------------\n",
    "for i in range(6):\n",
    "    print(i,expand( Cheb(i,x) ))"
   ]
  },
  {
   "cell_type": "markdown",
   "metadata": {},
   "source": [
    "The Chebychev series can also be obtained from the function $P_n(x) = \\cos\\left(n \\cos^{-1}(x)\\right)$ if $| x | \\le 1$ and as $P_n(x) = \\cosh\\left(n \\cosh^{-1}(x)\\right)$ if $| x | > 1$.\n",
    "\n",
    "## Q14 answer\n",
    "The recursion algorithm sets the initial values and iterates around a loop to find the result. How many times this must occur depends on whether a result has converged to a constant value or not. This can be guessed at to begin with, but to reach an answer to a set number of decimal places, this will have to be checked. This is not done in the following calculation, however, after about twelve iterations the result is constant to approximately ten decimal places."
   ]
  },
  {
   "cell_type": "code",
   "execution_count": 4,
   "metadata": {},
   "outputs": [
    {
     "name": "stdout",
     "output_type": "stream",
     "text": [
      "k = 4\n",
      "2 4.0\n",
      "4 4.788732394366198\n",
      "6 4.795773364911641\n",
      "8 4.795831047206844\n",
      "10 4.795831519415167\n",
      "12 4.795831523280812\n",
      "14 4.795831523312458\n",
      "16 4.795831523312717\n",
      "18 4.795831523312719\n"
     ]
    }
   ],
   "source": [
    "# Q14  recursive square root \n",
    "\n",
    "N = 23\n",
    "k = 0\n",
    "while k**2<= N:                # find largest value k^2< N\n",
    "    k = k+1\n",
    "k = k - 1\n",
    "print('k =', k)\n",
    "\n",
    "r = np.zeros(20,dtype=float)\n",
    "r[0]=0\n",
    "r[1]=1\n",
    "for i in range(2,20):          # recursion\n",
    "    r[i] = 2*k*r[i-1] + (N-k**2)*r[i-2] \n",
    "    if i % 2 ==0:              # print every even result  i % 2 is 1 mod 2\n",
    "        print(i,r[i]/r[i-1]-k)\n",
    "    pass"
   ]
  },
  {
   "cell_type": "markdown",
   "metadata": {},
   "source": [
    "## Q15 answer\n",
    "(a & b) From the definition in the question, the recursion equation is $f_n = f_{n-1} + f_{n-2}$ and is applied where $n \\ge 3$ and the first two terms are both 1. The algorithm can be written as shown below. The ratio is also printed as in part (b). The golden ratio is $1.618034$."
   ]
  },
  {
   "cell_type": "code",
   "execution_count": 5,
   "metadata": {},
   "outputs": [
    {
     "name": "stdout",
     "output_type": "stream",
     "text": [
      "1,1,2,3,5,8,13,21,34,55,"
     ]
    }
   ],
   "source": [
    "# Fibonacci series\n",
    "\n",
    "def fibo(n):\n",
    "    if n <= 1:\n",
    "        return 1\n",
    "    else:\n",
    "        return ( fibo(n-1)+ fibo(n-2) )\n",
    "#----------------------              \n",
    "for i in range(10):\n",
    "    print( fibo(i),end=',' )    "
   ]
  },
  {
   "cell_type": "code",
   "execution_count": 6,
   "metadata": {},
   "outputs": [
    {
     "name": "stdout",
     "output_type": "stream",
     "text": [
      "goldern ratio 1.6180340\n",
      "\n",
      "i     f_n   f_n/f_(n-1)\n",
      " 2      2   2.000000\n",
      " 4      5   1.666667\n",
      " 6     13   1.625000\n",
      " 8     34   1.619048\n",
      "10     89   1.618182\n",
      "12    233   1.618056\n",
      "14    610   1.618037\n",
      "16   1597   1.618034\n",
      "18   4181   1.618034\n"
     ]
    }
   ],
   "source": [
    "# ratio of series\n",
    "print('{:s}{:10.7f}\\n'.format('goldern ratio', ( 1+np.sqrt(5) )/2) )\n",
    "f = np.zeros(20,dtype=int)\n",
    "f[0] = 1\n",
    "f[1] = 1\n",
    "print('{:s}'.format('i     f_n   f_n/f_(n-1)')) \n",
    "for i in range(2,20):\n",
    "    f[i] = f[i-1] + f[i-2]\n",
    "    if i % 2 == 0:\n",
    "        print('{:2d} {:6d}   {:f}'.format( i, f[i], f[i]/f[i-1])  )\n",
    "    pass"
   ]
  },
  {
   "cell_type": "markdown",
   "metadata": {},
   "source": [
    "(d) The reverse series is $\\cdots, -8,5,-3,2,-1,1,0,1,1,2,\\cdots$\n",
    "\n",
    "## Q16 answer \n",
    "(a) The first few terms are\n",
    "\n",
    "$$\\displaystyle \\begin{array}{cccccccccc}\n",
    "& & & & & 1 & & & & \\\\\n",
    "& & & 1 & & 2 & &  1 \\\\\n",
    "& &1 && 3 & & 3 && 1\\\\\n",
    "&1 & &4& & 6 & &4& & 1\\\\\n",
    "1 &&5 &&10 &&10 &&5&& 1\\end{array}$$\n",
    "\n",
    "(b) expanding the left-hand side gives eqn 21; \n",
    "\n",
    "$$\\displaystyle \\binom{n}{q+1} = \\frac{n!}{(q+1)!(n-q-1)!}$$\n",
    "\n",
    "and the right \n",
    "\n",
    "$$\\displaystyle  \\frac{n-q}{q+1}\\binom{n}{q} = \\frac{n-q}{q+1}\\cdot\\frac{n!}{q!(n-q)!}=\\frac{1}{q+1}\\cdot\\frac{n!}{q!(n-q-1)!}$$\n",
    "\n",
    "where $(n-q)!=(n-q)(n-q-1)!$ is used in the second step. As the two results are the same, the recursion equation has been shown to be correct.\n",
    "\n",
    "To calculate values for $n=12$\n",
    "\n",
    "$$\\displaystyle \\binom{12}{q+1}=\\frac{12-q}{q+1}\\binom{12}{q}$$\n",
    "\n",
    "has to be calculated from $q = 0 \\to 12$. As the series is symmetrical, only the first seven terms are needed. The first term starts the process and is $\\displaystyle \\binom{12}{0}=1$; the second, with $q = 0$, is $\\displaystyle \\binom{12}{1}=12$; the next gives \n",
    "\n",
    "$$\\displaystyle \\binom{12}{2}=\\frac{11}{2}\\binom{12}{1}\\binom{12}{0}=\\frac{11}{2}12$$\n",
    "\n",
    "and then $\\displaystyle \\binom{12}{3}=\\frac{10}{3}\\frac{11}{2}12$ and so forth.\n",
    "\n",
    "This can be made into a recursive algorithm. The starting value is $1$ and this has to be multiplied by\n",
    "$(n - q)/(q + 1)$ each time round a loop in which $q$ starts at zero and ends at the value $n$."
   ]
  },
  {
   "cell_type": "code",
   "execution_count": 7,
   "metadata": {},
   "outputs": [
    {
     "name": "stdout",
     "output_type": "stream",
     "text": [
      "1 12 66 220 495 792 924 792 495 220 66 12 1 "
     ]
    }
   ],
   "source": [
    "# Q 16 Binomial coefficient recursion\n",
    "\n",
    "def binom(n):\n",
    "    b = 1\n",
    "    for q in range(n+1):\n",
    "        print(round(b),end=' ')\n",
    "        b = b*(n-q)/(q+1)\n",
    "        pass\n",
    "#------------\n",
    "binom(12)"
   ]
  },
  {
   "cell_type": "markdown",
   "metadata": {},
   "source": [
    " The coefficients are $1, 12, 66, 220, 495, 792, 924, 792, 495, 220, 66, 12, 1$.\n",
    " "
   ]
  }
 ],
 "metadata": {
  "kernelspec": {
   "display_name": "Python 3 (ipykernel)",
   "language": "python",
   "name": "python3"
  },
  "language_info": {
   "codemirror_mode": {
    "name": "ipython",
    "version": 3
   },
   "file_extension": ".py",
   "mimetype": "text/x-python",
   "name": "python",
   "nbconvert_exporter": "python",
   "pygments_lexer": "ipython3",
   "version": "3.9.6"
  }
 },
 "nbformat": 4,
 "nbformat_minor": 2
}