{
 "cells": [
  {
   "cell_type": "markdown",
   "id": "d016819b",
   "metadata": {},
   "source": [
    "## Solutions Q17 - 20"
   ]
  },
  {
   "cell_type": "code",
   "execution_count": 1,
   "id": "fba39a4a",
   "metadata": {},
   "outputs": [],
   "source": [
    "# import all python add-ons etc that will be needed later on\n",
    "%matplotlib inline\n",
    "import numpy as np\n",
    "import matplotlib.pyplot as plt\n",
    "from sympy import *\n",
    "from scipy.integrate import quad,odeint\n",
    "init_printing()                         # allows printing of SymPy results in typeset maths format\n",
    "plt.rcParams.update({'font.size': 16})  # set font size for plots"
   ]
  },
  {
   "cell_type": "markdown",
   "id": "b4f75f56",
   "metadata": {},
   "source": [
    "### Q17 answer\n",
    "The answer here is entirely up to you!\n",
    "\n",
    "### Q18 answer\n",
    "The grid search has the following form\n",
    "(1) Set initial values of rate constants and increments in $k_1, k_2$.\n",
    "(2) Outer loop 10 values. Inner loop 10 values.\n",
    "(i) Calculate equation, compare with data, print residual.\n",
    "(ii) Increment $k_1$.\n",
    "End inner loop.\n",
    "(iii) Set $k_1$ back to initial value. \n",
    "(iv) Increment $k_2$.\n",
    "End outer loop.\n",
    "(3) Plot results\n",
    "The important part here is to match the data points ($15$ in total) with the 1500 used to integrate the equations. A simple way is to find the minimum between the times used to calculate the equations and the day ( $0 \\to 15$) and to make an array of the integr values. This is array indx in the code below. \n",
    "\n",
    "Although this type of optimization is crude, it is simple to implement, and for a short calculation is not too time consuming. It is suitable in this instance, as both the calculated result and data are in numerical form and the derivatives with respect to the parameters $k_2$ and $k_1$ needed for more sophisticated search routines, such as Marquardt - Levenburg (Bevington 1969) are not available."
   ]
  },
  {
   "cell_type": "code",
   "execution_count": 2,
   "id": "51123b1e",
   "metadata": {},
   "outputs": [
    {
     "name": "stdout",
     "output_type": "stream",
     "text": [
      "k1 =  0.4508 , k2=    0.002194 , k2S0/k1 =  3.709595\n"
     ]
    }
   ],
   "source": [
    "# SIR grid search \n",
    "#------------------------------\n",
    "def EulerIntA(S0,In0,R0,Np,k1,k2):       \n",
    "    \n",
    "    h = (maxdays-t0)/Np\n",
    "    EulerS  = np.zeros(Np,dtype=float)\n",
    "    EulerIn = np.zeros(Np,dtype=float)\n",
    "    EulerR  = np.zeros(Np,dtype=float)\n",
    "    dtime   = np.zeros(Np,dtype=float)\n",
    "\n",
    "    EulerS[0]  = S0\n",
    "    EulerIn[0] = In0\n",
    "    EulerR[0]  = In0\n",
    "    dtime[0]   = t0\n",
    "    S  = S0\n",
    "    In = In0\n",
    "    R  = In0\n",
    "    D  = 0.0\n",
    "    t  = 0.0\n",
    "    for i in range(1,Np):                         # put derivatives in explicitely\n",
    "        S = S  + h*(-k2*S*In )                    # h*derivative as rate eqn\n",
    "        In= In + h*(k2*S*In-k1*In)\n",
    "        R = R  + h*k1*In \n",
    "        EulerS[i]  = S\n",
    "        EulerIn[i] = In\n",
    "        EulerR[i]  = R\n",
    "        dtime[i]   = t\n",
    "        t = t + h\n",
    "    pass\n",
    "    return dtime,EulerS,EulerIn,EulerR\n",
    "#------------------------------------\n",
    "\n",
    "data = [1,3,7,25,72,222,282,256,233,189,123,70,25,11,4]    # data  in text \n",
    "num  = 763                                                 # initial number\n",
    "k1   = 0.45\n",
    "k2   = 0.00215\n",
    "\n",
    "maxdays  = len(data)\n",
    "numtimes = 100*maxdays                                     # number of time points   \n",
    "\n",
    "S0 = num - 1\n",
    "In0= 1\n",
    "R0 = 0\n",
    "t0 = 0\n",
    "n  = 30\n",
    "\n",
    "def gridsearch(k10,k20,n,maxdays,numtimes):\n",
    "    \n",
    "    resid = np.zeros((n,n),dtype = float)             # residual at point i,j\n",
    "    xx = np.linspace(0.85*k20,1.125*k20, n  )      # k2 values 3k_2/(4n)\n",
    "    yy = np.linspace(0.85*k10,1.125*k10, n  )      # k1\n",
    "    \n",
    "    dtime = np.linspace(0, maxdays, numtimes)           # numtimes number of integration time points\n",
    "    indx = np.zeros( maxdays,dtype = int )\n",
    "    for i in range(maxdays):                          # maxt is number of days i.e. length of data\n",
    "        indx[i] = int(np.argmin( abs(dtime[:] - i) ) ) # indx is equivalent point; data and calc\n",
    "    \n",
    "    for k in range(n):\n",
    "        for j in range(n):\n",
    "            k1 = yy[k]\n",
    "            k2 = xx[j]\n",
    "            dtime,Sval,Inval,Rval = EulerIntA(S0,In0,R0,numtimes,k1,k2)\n",
    "            resid[k,j] = np.sum( [(Inval[indx[i]] - data[i] )**2 for i in range(maxdays) ]  )/100\n",
    "            pass\n",
    "\n",
    "    return resid,xx,yy\n",
    "#--------------------------------\n",
    "\n",
    "resid, xx, yy = gridsearch(k1,k2,n,maxdays,numtimes)\n",
    "\n",
    "minres = np.min(resid[:,:])      # minimum residual\n",
    "mindx  = np.argmin(resid[:,:])   # index of minimum\n",
    "ix = (mindx) % n \n",
    "iy = (mindx) // n\n",
    "k1 = yy[iy]\n",
    "k2 = xx[ix]\n",
    "print('{:s} {:6.4f} {:s} {:10.4g} {:s} {:f}'.format('k1 = ',k1,', k2= ', k2, ', k2S0/k1 = ', k2*S0/k1) )"
   ]
  },
  {
   "cell_type": "markdown",
   "id": "53e273d3",
   "metadata": {},
   "source": [
    "![Drawing](num-methods-fig37.png)\n",
    "\n",
    "Figure 37. The contours are formed from the gridded data which is the residual between the experimental data and that calculated by the SIR model. The circle shows the minimum value of all the contours.  The contour values are arbitrary.\n",
    "___________\n",
    "\n",
    "### Q19 answer \n",
    "Comparing with an accurate result produced by python's internal algorithms, the simple Euler method fails even with $5000$ points in the integration.\n",
    "\n",
    "The reason is not therefore of rounding errors but that the approximation to each step of the integral is not good enough. Using the modified Euler method significantly improves the calculation but even this fails if $v$ is larger than $10$. Using a more sophisticated Runge - Kutta algorithm even that than given in the text improves the accuracy of the calculation.\n",
    "\n",
    "### Q20 answer \n",
    "Following the example in the text, the first thing is to estimate the parameters. Notice that $k_2$ and $S$ are always a product so that as $S_0$ is so large $k_2 $ will be very small. Then the algorithm of Q18 could be used, \n",
    "\n",
    "Modify the SIR code to include another array $\\mathtt{EulerD}$ to hold the data for the number of deaths and modify the In data so that $\\mathtt{k_1In \\to (k_1+k_d)In}$ and add a term $\\mathtt{D=D+hk_dD}$ etc. \n",
    "\n",
    "The data is very sensitive to the value of $k_d$, not surprisingly as only one term $k_dI$ determines its value. The best fit is found with $k_1 \\approx 0.0415, k_2\\approx 2.72\\cdot 10^{-7}$. The data is shown in fig. 38. The rightmost figure shows the daily trend in Covid19 deaths, which is the numerical derivative $\\Delta \\text{data}/\\Delta t)$ of the cumulative data. The fits are also shown on both plots.  They are quite good but not excellent. This is often the case with experimental data, and indicates that our model is rather simplified. One possibility is that the death rate is not correct and that this should also be varied. In this case a non-linear least squares method, such as described in Chapter 13 will have to be used.\n",
    "\n",
    "![Drawing](num-methods-fig37a.png)\n",
    "\n",
    "Figure 37a. Grid search method fit to the data. Middle. The calculated fit, black, and the data points,red. Right. The daily number of deaths and the corresponding fit. As can be seen the fit is not that good. \n",
    "_________\n",
    "The code below shows one way of reading the data. As can be seen from the data it is clear when the second wave of the pandemic starts."
   ]
  },
  {
   "cell_type": "code",
   "execution_count": 3,
   "id": "e4fc875b",
   "metadata": {},
   "outputs": [
    {
     "data": {
      "image/png": "[encoded data removed]",
      "text/plain": [
       "<Figure size 432x288 with 1 Axes>"
      ]
     },
     "metadata": {
      "filenames": {
       "image/png": "/Users/godfreybeddard/Dropbox/Dad-Tom/applying-maths-book/applying_maths_book/_build/jupyter_execute/chapter-11/num-methods-answers17-20_5_0.png"
      },
      "needs_background": "light"
     },
     "output_type": "display_data"
    }
   ],
   "source": [
    "# data extracted from website uk.gov \n",
    "filename = 'UK-covid-deaths.txt'  # data is cumulative\n",
    "\n",
    "with open(filename) as ff:                \n",
    "    i=0\n",
    "    for line in ff:\n",
    "        temp = line.split(',')     # data is comma separated\n",
    "ff.close()\n",
    "alldata = [int(i) for i in temp]     # make list of integers\n",
    "\n",
    "Lh = len(alldata)\n",
    "day = np.linspace(0,Lh,Lh)\n",
    "plt.scatter(day[:],alldata[::-1],s=2,color='red')\n",
    "\n",
    "plt.show()"
   ]
  },
  {
   "cell_type": "code",
   "execution_count": null,
   "id": "629f3beb",
   "metadata": {},
   "outputs": [],
   "source": []
  }
 ],
 "metadata": {
  "kernelspec": {
   "display_name": "Python 3 (ipykernel)",
   "language": "python",
   "name": "python3"
  },
  "language_info": {
   "codemirror_mode": {
    "name": "ipython",
    "version": 3
   },
   "file_extension": ".py",
   "mimetype": "text/x-python",
   "name": "python",
   "nbconvert_exporter": "python",
   "pygments_lexer": "ipython3",
   "version": "3.8.9"
  }
 },
 "nbformat": 4,
 "nbformat_minor": 5
}